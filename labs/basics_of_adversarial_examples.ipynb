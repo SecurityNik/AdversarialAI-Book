{
 "cells": [
  {
   "cell_type": "markdown",
   "id": "a965c469",
   "metadata": {},
   "source": [
    "<img style=\"max-width:20em; height:auto;\" src=\"../graphics/A-Little-Book-on-Adversarial-AI-Cover.png\"/>"
   ]
  },
  {
   "cell_type": "markdown",
   "id": "5e07c11a",
   "metadata": {},
   "source": [
    "Author: Nik Alleyne   \n",
    "Author Blog: https://www.securitynik.com   \n",
    "Author GitHub: github.com/securitynik   \n",
    "\n",
    "Author Other Books: [   \n",
    "\n",
    "            \"https://www.amazon.ca/Learning-Practicing-Leveraging-Practical-Detection/dp/1731254458/\",   \n",
    "            \n",
    "            \"https://www.amazon.ca/Learning-Practicing-Mastering-Network-Forensics/dp/1775383024/\"   \n",
    "        ]   \n",
    "\n",
    "\n",
    "This notebook ***(basics_of_adversarial_examples.ipynb)*** is part of the series of notebooks From ***A Little Book on Adversarial AI***  A free ebook released by Nik Alleyne"
   ]
  },
  {
   "cell_type": "markdown",
   "id": "1e4063e9",
   "metadata": {},
   "source": [
    "### Basics of Adversarial Examples  "
   ]
  },
  {
   "cell_type": "markdown",
   "id": "1e7533ec",
   "metadata": {},
   "source": [
    "### Lab Objectives:   \n",
    "- Simplifying the problem of adversarial examples   \n",
    "- Work through a manual example of creating adversarial samples   \n",
    "- Create a manual sample **X_input** consisting of 10 features   \n",
    "- We then create a weight vector **weight_vector** parameter  \n",
    "- We create a final bias parameter  \n",
    "\n",
    "\n",
    "- Our linear formula for machine learning is X_input dot weight_vector (transpose) + bias\n",
    "- The output is then passed to an activation function.\n",
    "\n",
    "Our objective is to classify the output as 1 (malicious ... for example) if the output from the activation function (sigmoid) is greater than .5. If the output is lower than .5, we classify as 0 (benign ... for example)\n",
    "\n",
    "\n",
    "### Step 1:  \n"
   ]
  },
  {
   "cell_type": "code",
   "execution_count": 1,
   "id": "8388162a",
   "metadata": {},
   "outputs": [],
   "source": [
    "# import the library\n",
    "import numpy as np"
   ]
  },
  {
   "cell_type": "code",
   "execution_count": 2,
   "id": "4337f4bf",
   "metadata": {},
   "outputs": [
    {
     "name": "stdout",
     "output_type": "stream",
     "text": [
      "Numpy version used:  2.1.3\n"
     ]
    }
   ],
   "source": [
    "### Version of key libraries used  \n",
    "print(f'Numpy version used:  {np.__version__}')"
   ]
  },
  {
   "cell_type": "code",
   "execution_count": 3,
   "id": "c32db431",
   "metadata": {},
   "outputs": [
    {
     "data": {
      "text/plain": [
       "array([[ 1.,  0.,  1.,  1., -2.,  0., -1., -2.,  1.,  0.]], dtype=float32)"
      ]
     },
     "execution_count": 3,
     "metadata": {},
     "output_type": "execute_result"
    }
   ],
   "source": [
    "# Create a vector of random values\n",
    "np.random.seed(20)\n",
    "x_input = np.random.randint(low=-2, high=2, size=(1,10) ).astype(dtype=np.float32)\n",
    "x_input"
   ]
  },
  {
   "cell_type": "code",
   "execution_count": 4,
   "id": "034ae3c6",
   "metadata": {},
   "outputs": [
    {
     "data": {
      "text/plain": [
       "array([[-1., -1., -2.,  1., -2., -1.,  1., -2., -1., -1.]], dtype=float32)"
      ]
     },
     "execution_count": 4,
     "metadata": {},
     "output_type": "execute_result"
    }
   ],
   "source": [
    "# Create some random weights\n",
    "np.random.seed(10)\n",
    "weight_param = np.random.randint(low=-2, high=2, size=(1,10)).astype(dtype=np.float32)\n",
    "weight_param"
   ]
  },
  {
   "cell_type": "code",
   "execution_count": 5,
   "id": "65eded58",
   "metadata": {},
   "outputs": [
    {
     "data": {
      "text/plain": [
       "array(1., dtype=float32)"
      ]
     },
     "execution_count": 5,
     "metadata": {},
     "output_type": "execute_result"
    }
   ],
   "source": [
    "# Define a bias:\n",
    "bias = np.array(1, dtype=np.float32)\n",
    "bias"
   ]
  },
  {
   "cell_type": "code",
   "execution_count": 6,
   "id": "705b634a",
   "metadata": {},
   "outputs": [
    {
     "data": {
      "text/plain": [
       "array([[5.]], dtype=float32)"
      ]
     },
     "execution_count": 6,
     "metadata": {},
     "output_type": "execute_result"
    }
   ],
   "source": [
    "# Perform the linear operation\n",
    "z_output = x_input @ weight_param.transpose() + bias\n",
    "z_output"
   ]
  },
  {
   "cell_type": "code",
   "execution_count": 7,
   "id": "18d53e96",
   "metadata": {},
   "outputs": [],
   "source": [
    "# At this point, we introduce nonlinearity. \n",
    "# This is where our activation function kicks in.\n",
    "# Define a sigmoid activation function \n",
    "\n",
    "def sigmoid(z):\n",
    "    return 1./(1. + np.exp(-z)).astype(np.float32)"
   ]
  },
  {
   "cell_type": "code",
   "execution_count": 8,
   "id": "77c77e90",
   "metadata": {},
   "outputs": [
    {
     "data": {
      "text/plain": [
       "'SUSPICIOUS '"
      ]
     },
     "execution_count": 8,
     "metadata": {},
     "output_type": "execute_result"
    }
   ],
   "source": [
    "# Apply the activation function to our z_output to get the final prediction\n",
    "final_prediction = sigmoid(z_output)\n",
    "'SUSPICIOUS ' if final_prediction.item() > 0.5 else ' NORMAL'"
   ]
  },
  {
   "cell_type": "code",
   "execution_count": 9,
   "id": "6c130760",
   "metadata": {},
   "outputs": [
    {
     "data": {
      "text/plain": [
       "array([[0.9933072]], dtype=float32)"
      ]
     },
     "execution_count": 9,
     "metadata": {},
     "output_type": "execute_result"
    }
   ],
   "source": [
    "# Get the actual score\n",
    "final_prediction"
   ]
  },
  {
   "cell_type": "markdown",
   "id": "3a58499f",
   "metadata": {},
   "source": [
    "Above we can see our simple classifier is very confident that this sample is in class 1 at .99 probability or 99%.   \n",
    "How can we change the x_input, so that this sample is no longer classified as 1 but instead as 0?   \n",
    "\n",
    "Let's try a trick here, we know our weights above looks like:   \n",
    "x_input = [[1., 0., 1., 1., 0., 0., 1., 0., 1., 0.]]   \n",
    "\n",
    "and our input x_input looks like:   \n",
    "x_input = [[ 1.,  0.,  1.,  1., -2.,  0., -1., -2.,  1.,  0.]]   \n",
    "\n",
    "How about, wherever the weight is negative, we leave the original input (x_input) untouched. Wherever the weight is positive or 0, we add 1 to the existing values in x_input.\n",
    "\n",
    "x_adversarial_input = np.array([[ 2,  1.,  2,  2, -2.,  1., -1., -2.,  2,  1.]])   \n",
    "\n",
    "### Step 2:   \n",
    "Manually crafting our adversarial example  "
   ]
  },
  {
   "cell_type": "code",
   "execution_count": 10,
   "id": "ef650525",
   "metadata": {},
   "outputs": [
    {
     "data": {
      "text/plain": [
       "array([[ 2.,  1.,  2.,  2., -2.,  1., -1., -2.,  2.,  1.]], dtype=float32)"
      ]
     },
     "execution_count": 10,
     "metadata": {},
     "output_type": "execute_result"
    }
   ],
   "source": [
    "# Create the new adversarial example\n",
    "x_adversarial_input = np.where( x_input >= 0, x_input + 1, x_input )\n",
    "x_adversarial_input"
   ]
  },
  {
   "cell_type": "code",
   "execution_count": 11,
   "id": "85c3d08e",
   "metadata": {},
   "outputs": [
    {
     "data": {
      "text/plain": [
       "array([[-1.]], dtype=float32)"
      ]
     },
     "execution_count": 11,
     "metadata": {},
     "output_type": "execute_result"
    }
   ],
   "source": [
    "# Perform the forward pass to make the prediction\n",
    "adversarial_output = x_adversarial_input @ weight_param.transpose() + bias\n",
    "adversarial_output"
   ]
  },
  {
   "cell_type": "code",
   "execution_count": 12,
   "id": "2454aa78",
   "metadata": {},
   "outputs": [
    {
     "data": {
      "text/plain": [
       "' NORMAL'"
      ]
     },
     "execution_count": 12,
     "metadata": {},
     "output_type": "execute_result"
    }
   ],
   "source": [
    "# Get the adversarial prediction\n",
    "'SUSPICIOUS ' if sigmoid(adversarial_output).item() > 0.5 else ' NORMAL'"
   ]
  },
  {
   "cell_type": "code",
   "execution_count": 13,
   "id": "f558d4b7",
   "metadata": {},
   "outputs": [
    {
     "data": {
      "text/plain": [
       "array([[0.2689414]], dtype=float32)"
      ]
     },
     "execution_count": 13,
     "metadata": {},
     "output_type": "execute_result"
    }
   ],
   "source": [
    "# The probability returned is:\n",
    "sigmoid(adversarial_output)"
   ]
  },
  {
   "cell_type": "markdown",
   "id": "594fdf99",
   "metadata": {},
   "source": [
    "As we see above, by simply adding one to all the positive values including 0s, we shifted the prediction from suspicious to normal.  \n",
    "In this example, we used 10 features. From that 10, we only modified a subset. We could have made smaller changes to all of them and achieve the same effect. \n",
    "\n",
    "Now imagine a scenario, where your input has many more features. In this case, just slightly modifying a few of the features or all of them in a small way, should provide the same effect. "
   ]
  },
  {
   "cell_type": "markdown",
   "id": "f0c6741f",
   "metadata": {},
   "source": [
    "### Lab Takeaways:   \n",
    "- We created our adversarial example by modifying the input   \n",
    "- We kept the weights and bias, the parameters fixed   \n",
    "- We saw how the probability (confidence scores) dropped from high confidence of being suspicious to low confidence of it being suspicious.   \n",
    "\n",
    "\n",
    "\n",
    "Reference:   \n",
    "- https://karpathy.github.io/2015/03/30/breaking-convnets/   "
   ]
  }
 ],
 "metadata": {
  "kernelspec": {
   "display_name": "adversarial_ai",
   "language": "python",
   "name": "python3"
  },
  "language_info": {
   "codemirror_mode": {
    "name": "ipython",
    "version": 3
   },
   "file_extension": ".py",
   "mimetype": "text/x-python",
   "name": "python",
   "nbconvert_exporter": "python",
   "pygments_lexer": "ipython3",
   "version": "3.12.11"
  }
 },
 "nbformat": 4,
 "nbformat_minor": 5
}
