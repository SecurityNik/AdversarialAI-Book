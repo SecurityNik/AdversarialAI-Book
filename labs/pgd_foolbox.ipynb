{
 "cells": [
  {
   "cell_type": "markdown",
   "id": "e2702426",
   "metadata": {},
   "source": [
    "<img style=\"max-width:20em; height:auto;\" src=\"../graphics/A-Little-Book-on-Adversarial-AI-Cover.png\"/>"
   ]
  },
  {
   "cell_type": "markdown",
   "id": "405c9c8e",
   "metadata": {},
   "source": [
    "Author: Nik Alleyne   \n",
    "Author Blog: https://www.securitynik.com   \n",
    "Author GitHub: github.com/securitynik   \n",
    "\n",
    "Author Other Books: [   \n",
    "\n",
    "            \"https://www.amazon.ca/Learning-Practicing-Leveraging-Practical-Detection/dp/1731254458/\",   \n",
    "            \n",
    "            \"https://www.amazon.ca/Learning-Practicing-Mastering-Network-Forensics/dp/1775383024/\"   \n",
    "        ]   \n",
    "\n",
    "\n",
    "This notebook ***(pgd_foolbox.ipynb)*** is part of the series of notebooks From ***A Little Book on Adversarial AI***  A free ebook released by Nik Alleyne"
   ]
  },
  {
   "cell_type": "markdown",
   "id": "29fa70e0",
   "metadata": {},
   "source": [
    "### Projected Gradient Descent (PGD) Foolbox  "
   ]
  },
  {
   "cell_type": "markdown",
   "id": "a855d4aa",
   "metadata": {},
   "source": [
    "### Lab Objectives:   \n",
    "- Learn about Projected Gradient Descent (PGD)   \n",
    "- Do it the easy way, by using Foolbox    \n",
    "- Visualize the perturbations and the adversarial examples    \n",
    "\n",
    "\n",
    "### Step 1:  "
   ]
  },
  {
   "cell_type": "code",
   "execution_count": 1,
   "id": "d69a13e9",
   "metadata": {},
   "outputs": [],
   "source": [
    "# Import libraries\n",
    "import torch\n",
    "import torch.nn as nn\n",
    "import torch.nn.functional as F\n",
    "import numpy as np\n",
    "import matplotlib.pyplot as plt\n",
    "from datetime import datetime as dt\n",
    "\n",
    "import foolbox as fb\n",
    "from foolbox.attacks import LinfPGD"
   ]
  },
  {
   "cell_type": "code",
   "execution_count": 2,
   "id": "d8a2bac7",
   "metadata": {},
   "outputs": [
    {
     "name": "stdout",
     "output_type": "stream",
     "text": [
      "Torch version used:  2.7.1+cu128\n",
      "Numpy version used:  2.1.3\n",
      "Foolbox version used:  3.3.4\n"
     ]
    }
   ],
   "source": [
    "### Version of key libraries used  \n",
    "print(f'Torch version used:  {torch.__version__}')\n",
    "print(f'Numpy version used:  {np.__version__}')\n",
    "print(f'Foolbox version used:  {fb.__version__}')\n"
   ]
  },
  {
   "cell_type": "code",
   "execution_count": 3,
   "id": "b6bdb340",
   "metadata": {},
   "outputs": [
    {
     "name": "stdout",
     "output_type": "stream",
     "text": [
      "Setting the device to cuda\n"
     ]
    }
   ],
   "source": [
    "# Setup the device to work with\n",
    "# This should ensure if there are accelerators in place, such as Apple backend or CUDA, \n",
    "# we should be able to take advantage of it.\n",
    "\n",
    "if torch.cuda.is_available():\n",
    "    print('Setting the device to cuda')\n",
    "    device = 'cuda'\n",
    "elif torch.backends.mps.is_available():\n",
    "    print('Setting the device to Apple mps')\n",
    "    device = 'mps'\n",
    "else:\n",
    "    print('Setting the device to CPU')\n",
    "    device = torch.device('cpu')"
   ]
  },
  {
   "cell_type": "code",
   "execution_count": 4,
   "id": "affedb88",
   "metadata": {},
   "outputs": [],
   "source": [
    "# I am going to cheat here. \n",
    "# I seem to be running into a problem with my GPU and backpropagation. \n",
    "# So to address that, I am forcing this to use CPU.\n",
    "# You can test on your system by commenting out this line below and running the code\n",
    "# However, without the GPU this works just fine!\n",
    "device = 'cpu'"
   ]
  },
  {
   "cell_type": "code",
   "execution_count": 5,
   "id": "92138d53",
   "metadata": {},
   "outputs": [
    {
     "data": {
      "text/plain": [
       "((1000, 256), (1000,))"
      ]
     },
     "execution_count": 5,
     "metadata": {},
     "output_type": "execute_result"
    }
   ],
   "source": [
    "# Load the test set\n",
    "# This is from the Tiny Malware\n",
    "X_y = np.load(r'../data/tiny_mal_net_X_y_test.npz', allow_pickle=False)\n",
    "X = X_y['X']\n",
    "y = X_y['y']\n",
    "\n",
    "# Get the shape of the dataset\n",
    "X.shape, y.shape"
   ]
  },
  {
   "cell_type": "code",
   "execution_count": 6,
   "id": "9227c788",
   "metadata": {},
   "outputs": [
    {
     "data": {
      "text/plain": [
       "array([0., 1., 1., 0., 1., 1., 0., 0., 1., 0., 1., 0., 1., 0., 1., 0., 0.,\n",
       "       0., 1., 0., 0., 1., 1., 1., 1., 1., 0., 0., 1., 0., 0., 0., 1., 0.,\n",
       "       1., 1., 1., 1., 0., 1., 1., 1., 0., 1., 1., 0., 1., 0., 0., 1., 1.,\n",
       "       0., 0., 1., 1., 1., 1., 0., 1., 1., 0., 1., 0., 0., 0., 1., 1., 1.,\n",
       "       1., 1., 1., 1., 0., 0., 1., 1., 0., 1., 1., 1., 1., 0., 1., 0., 0.,\n",
       "       1., 0., 1., 0., 1., 1., 1., 0., 0., 1., 1., 0., 0., 0., 0., 0., 0.,\n",
       "       0., 1., 1., 0., 0., 1., 0., 1., 1., 0., 0., 1., 1., 1., 1., 0., 0.,\n",
       "       0., 0., 1., 0., 0., 0., 1., 0., 0., 1., 1., 0., 0., 1., 1., 0., 1.,\n",
       "       1., 1., 1., 1., 1., 1., 1., 1., 0., 1., 1., 0., 1., 1., 1., 0., 0.,\n",
       "       0., 0., 0., 1., 0., 0., 0., 1., 1., 0., 1., 1., 1., 1., 1., 1., 1.,\n",
       "       1., 1., 1., 1., 0., 0., 1., 1., 1., 0., 1., 1., 1., 0., 0., 1., 0.,\n",
       "       1., 0., 1., 0., 1., 0., 1., 0., 1., 1., 0., 1., 1., 1., 1., 0., 0.,\n",
       "       1., 0., 1., 1., 1., 1., 1., 1., 0., 0., 1., 0., 1., 0., 0., 0., 0.,\n",
       "       1., 1., 1., 1., 0., 0., 1., 1., 0., 1., 0., 0., 1., 0., 0., 1., 0.,\n",
       "       1., 0., 0., 1., 1., 0., 1., 0., 0., 1., 0., 0., 0., 0., 0., 0., 0.,\n",
       "       0.], dtype=float32)"
      ]
     },
     "execution_count": 6,
     "metadata": {},
     "output_type": "execute_result"
    }
   ],
   "source": [
    "# Get a sample from X\n",
    "X[0]"
   ]
  },
  {
   "cell_type": "code",
   "execution_count": 7,
   "id": "57e3d164",
   "metadata": {},
   "outputs": [
    {
     "data": {
      "text/plain": [
       "(np.float32(0.0), np.float32(1.0))"
      ]
     },
     "execution_count": 7,
     "metadata": {},
     "output_type": "execute_result"
    }
   ],
   "source": [
    "# Get the min and max value for X\n",
    "X.min(), X.max()"
   ]
  },
  {
   "cell_type": "code",
   "execution_count": 8,
   "id": "b68d7bd8",
   "metadata": {},
   "outputs": [],
   "source": [
    "# Convert both the feature and targets to torch tensors\n",
    "# These currently have dimensions (1, 1, 256, 256) -> (batch_size, channels, height, width)\n",
    "X = torch.tensor(X.reshape(-1, 1, 16, 16), dtype=torch.float32, device=device)\n",
    "\n",
    "# Convert the labels also to torch tensors\n",
    "y = torch.tensor(y, dtype=torch.long, device=device)"
   ]
  },
  {
   "cell_type": "code",
   "execution_count": 9,
   "id": "59fa8d12",
   "metadata": {},
   "outputs": [
    {
     "name": "stdout",
     "output_type": "stream",
     "text": [
      "The malware samples have a shape of: torch.Size([1000, 1, 16, 16])\n"
     ]
    }
   ],
   "source": [
    "# Get the shape of the X\n",
    "print(f'The malware samples have a shape of: {X.size()}')"
   ]
  },
  {
   "cell_type": "code",
   "execution_count": 10,
   "id": "11e8e3eb",
   "metadata": {},
   "outputs": [
    {
     "data": {
      "text/plain": [
       "['addisplay', 'adware', 'benign', 'downloader', 'trojan']"
      ]
     },
     "execution_count": 10,
     "metadata": {},
     "output_type": "execute_result"
    }
   ],
   "source": [
    "# Malware labels\n",
    "malware_labels = ['addisplay', 'adware', 'benign', 'downloader', 'trojan']\n",
    "malware_labels"
   ]
  },
  {
   "cell_type": "markdown",
   "id": "b42efecb",
   "metadata": {},
   "source": [
    "Let us visualize some samples\n",
    "\n",
    "### Step 2:  "
   ]
  },
  {
   "cell_type": "code",
   "execution_count": 11,
   "id": "ff83d1cd",
   "metadata": {},
   "outputs": [
    {
     "data": {
      "image/png": "[encoded data removed]",
      "text/plain": [
       "<Figure size 1000x1000 with 20 Axes>"
      ]
     },
     "metadata": {},
     "output_type": "display_data"
    }
   ],
   "source": [
    "# With all of this in place let's visualize a few samples\n",
    "# You can adjust the size here\n",
    "tmp_indicies = np.random.randint(low=0, high=len(X), size=(20))\n",
    "\n",
    "plt.figure(figsize=(10, 10))\n",
    "for idx, value in enumerate(tmp_indicies):\n",
    "    # Adjust the 4,5 here, if you changed the size above\n",
    "    # Ensure it is a multiple of size\n",
    "    ax = plt.subplot(4,5,idx+1)\n",
    "    ax.set_title(label=malware_labels[y[value.item() ].item()  ], color='green' if malware_labels[y[value.item() ].item()  ] == 'benign' else 'red'    )\n",
    "    ax.imshow(X=X[value].reshape(16, -1).cpu(), cmap='gray')\n",
    "    plt.xticks([])\n",
    "    plt.yticks([])\n",
    "\n",
    "plt.tight_layout()"
   ]
  },
  {
   "cell_type": "markdown",
   "id": "a44f3783",
   "metadata": {},
   "source": [
    "### Step 3:  \n",
    "Load the classifier and put it in eval mode  "
   ]
  },
  {
   "cell_type": "code",
   "execution_count": 12,
   "id": "a5819793",
   "metadata": {},
   "outputs": [
    {
     "data": {
      "text/plain": [
       "RecursiveScriptModule(\n",
       "  original_name=MalClassifier\n",
       "  (conv_layers): RecursiveScriptModule(\n",
       "    original_name=Sequential\n",
       "    (0): RecursiveScriptModule(original_name=Conv2d)\n",
       "    (1): RecursiveScriptModule(original_name=BatchNorm2d)\n",
       "    (2): RecursiveScriptModule(original_name=ReLU)\n",
       "    (3): RecursiveScriptModule(original_name=Conv2d)\n",
       "    (4): RecursiveScriptModule(original_name=BatchNorm2d)\n",
       "    (5): RecursiveScriptModule(original_name=ReLU)\n",
       "    (6): RecursiveScriptModule(original_name=Conv2d)\n",
       "    (7): RecursiveScriptModule(original_name=BatchNorm2d)\n",
       "    (8): RecursiveScriptModule(original_name=ReLU)\n",
       "  )\n",
       "  (global_avg_pool): RecursiveScriptModule(original_name=AdaptiveAvgPool2d)\n",
       "  (classifier): RecursiveScriptModule(original_name=Conv2d)\n",
       ")"
      ]
     },
     "execution_count": 12,
     "metadata": {},
     "output_type": "execute_result"
    }
   ],
   "source": [
    "# Let's load the model we will target\n",
    "# Now that we know this works. Time to move on.\n",
    "loaded_pgd_model = torch.jit.load(f=r'../data/mal_net_tiny_malware_clf.jit', map_location=device)\n",
    "loaded_pgd_model.eval()\n"
   ]
  },
  {
   "cell_type": "markdown",
   "id": "c741ca17",
   "metadata": {},
   "source": [
    "### Step 4:   \n",
    "Setup the PGD attack using Foolbox     "
   ]
  },
  {
   "cell_type": "code",
   "execution_count": 13,
   "id": "83d7a0ef",
   "metadata": {},
   "outputs": [
    {
     "data": {
      "text/plain": [
       "<foolbox.models.pytorch.PyTorchModel at 0x7f4fb581b2c0>"
      ]
     },
     "execution_count": 13,
     "metadata": {},
     "output_type": "execute_result"
    }
   ],
   "source": [
    "# Setup the foolbox model\n",
    "fb_model = fb.PyTorchModel(model=loaded_pgd_model, bounds=(0, 1), device=device)\n",
    "\n",
    "fb_model"
   ]
  },
  {
   "cell_type": "code",
   "execution_count": 14,
   "id": "6005175a",
   "metadata": {},
   "outputs": [
    {
     "data": {
      "text/plain": [
       "LinfProjectedGradientDescentAttack(rel_stepsize=0.05, abs_stepsize=None, steps=20, random_start=False)"
      ]
     },
     "execution_count": 14,
     "metadata": {},
     "output_type": "execute_result"
    }
   ],
   "source": [
    "# Setup our EPS bound\n",
    "eps = 0.03\n",
    "\n",
    "# Setup the attack\n",
    "fb_attack = LinfPGD(steps=20, rel_stepsize=0.05, random_start=False)\n",
    "fb_attack"
   ]
  },
  {
   "cell_type": "code",
   "execution_count": 15,
   "id": "d02cf1e8",
   "metadata": {},
   "outputs": [],
   "source": [
    "# Execute the attack   \n",
    "raw_adversarial_example, clipped_adversarial_examples, success = fb_attack(model=fb_model, inputs=X, criterion=y, epsilons=eps)"
   ]
  },
  {
   "cell_type": "code",
   "execution_count": 16,
   "id": "472965ed",
   "metadata": {},
   "outputs": [
    {
     "data": {
      "text/plain": [
       "tensor([[[0.0000, 0.9850, 1.0000, 0.0000, 0.9910, 0.9700, 0.0300, 0.0000,\n",
       "          1.0000, 0.0000, 0.9700, 0.0000, 0.9700, 0.0300, 1.0000, 0.0300],\n",
       "         [0.0300, 0.0300, 0.9700, 0.0300, 0.0000, 0.9910, 0.9700, 1.0000,\n",
       "          0.9700, 1.0000, 0.0300, 0.0300, 0.9700, 0.0300, 0.0300, 0.0000],\n",
       "         [0.9700, 0.0300, 0.9985, 0.9700, 1.0000, 0.9700, 0.0000, 0.9700,\n",
       "          1.0000, 1.0000, 0.0300, 0.9790, 0.9970, 0.0300, 1.0000, 0.0000],\n",
       "         [0.0000, 1.0000, 0.9790, 0.0000, 0.0000, 0.9820, 0.9760, 0.9700,\n",
       "          0.9970, 0.0000, 0.9700, 0.9700, 0.0000, 1.0000, 0.0150, 0.0105],\n",
       "         [0.0000, 0.9700, 0.9700, 1.0000, 1.0000, 0.9865, 0.9700, 1.0000,\n",
       "          0.0300, 0.0000, 0.9700, 1.0000, 0.0000, 0.9835, 1.0000, 0.9700],\n",
       "         [0.9985, 0.0000, 1.0000, 0.0000, 0.0000, 1.0000, 0.0000, 0.9700,\n",
       "          0.0300, 0.9700, 0.9715, 0.9700, 0.0300, 0.0300, 0.9700, 0.9700],\n",
       "         [0.0300, 0.0300, 0.0000, 0.0300, 0.0300, 0.0300, 0.0300, 0.9730,\n",
       "          1.0000, 0.0300, 0.0000, 1.0000, 0.0015, 1.0000, 1.0000, 0.0000],\n",
       "         [0.0300, 0.9700, 0.9700, 1.0000, 1.0000, 0.0225, 0.0300, 0.0000,\n",
       "          0.0150, 0.9700, 0.0150, 0.0300, 0.0000, 1.0000, 0.0300, 0.0300],\n",
       "         [0.9700, 0.9700, 0.0300, 0.0000, 0.9700, 1.0000, 0.0300, 1.0000,\n",
       "          1.0000, 1.0000, 0.9940, 1.0000, 0.9700, 0.9700, 0.9700, 1.0000],\n",
       "         [0.0000, 1.0000, 1.0000, 0.0000, 1.0000, 0.9700, 0.9700, 0.0300,\n",
       "          0.0000, 0.0000, 0.0105, 0.0000, 1.0000, 0.0300, 0.0000, 0.0300],\n",
       "         [0.9700, 0.9700, 0.0300, 1.0000, 0.9700, 1.0000, 0.9700, 0.9700,\n",
       "          1.0000, 0.9760, 0.9970, 1.0000, 0.9700, 0.9700, 0.0300, 0.0300],\n",
       "         [0.9700, 0.9700, 0.9700, 0.0000, 1.0000, 0.9700, 1.0000, 0.0030,\n",
       "          0.0000, 0.9700, 0.0000, 1.0000, 0.0000, 1.0000, 0.0300, 0.9910],\n",
       "         [0.0000, 1.0000, 0.0030, 1.0000, 0.9925, 0.0000, 1.0000, 0.9700,\n",
       "          1.0000, 1.0000, 0.0000, 0.0300, 0.9700, 0.0300, 0.9700, 0.9700],\n",
       "         [0.9970, 0.9700, 0.9700, 0.9985, 0.0000, 0.0000, 0.9700, 0.0300,\n",
       "          0.9700, 0.0000, 0.0300, 0.0000, 0.0300, 0.9700, 1.0000, 0.9790],\n",
       "         [0.9700, 0.0300, 0.0300, 0.9700, 0.9700, 0.0300, 0.9700, 0.0300,\n",
       "          0.0300, 0.9760, 0.0300, 0.0000, 0.9700, 0.0300, 0.9820, 0.0300],\n",
       "         [0.0300, 0.9700, 0.9700, 0.0300, 1.0000, 0.0105, 0.0300, 0.9700,\n",
       "          0.0195, 0.0300, 0.0300, 0.0000, 0.0060, 0.0300, 0.0300, 0.0300]]])"
      ]
     },
     "execution_count": 16,
     "metadata": {},
     "output_type": "execute_result"
    }
   ],
   "source": [
    "# View one of the clipped adversarial examples\n",
    "raw_adversarial_example[0]"
   ]
  },
  {
   "cell_type": "code",
   "execution_count": 17,
   "id": "8835dd50",
   "metadata": {},
   "outputs": [
    {
     "data": {
      "text/plain": [
       "tensor([[[0.0000, 0.9850, 1.0000, 0.0000, 0.9910, 0.9700, 0.0300, 0.0000,\n",
       "          1.0000, 0.0000, 0.9700, 0.0000, 0.9700, 0.0300, 1.0000, 0.0300],\n",
       "         [0.0300, 0.0300, 0.9700, 0.0300, 0.0000, 0.9910, 0.9700, 1.0000,\n",
       "          0.9700, 1.0000, 0.0300, 0.0300, 0.9700, 0.0300, 0.0300, 0.0000],\n",
       "         [0.9700, 0.0300, 0.9985, 0.9700, 1.0000, 0.9700, 0.0000, 0.9700,\n",
       "          1.0000, 1.0000, 0.0300, 0.9790, 0.9970, 0.0300, 1.0000, 0.0000],\n",
       "         [0.0000, 1.0000, 0.9790, 0.0000, 0.0000, 0.9820, 0.9760, 0.9700,\n",
       "          0.9970, 0.0000, 0.9700, 0.9700, 0.0000, 1.0000, 0.0150, 0.0105],\n",
       "         [0.0000, 0.9700, 0.9700, 1.0000, 1.0000, 0.9865, 0.9700, 1.0000,\n",
       "          0.0300, 0.0000, 0.9700, 1.0000, 0.0000, 0.9835, 1.0000, 0.9700],\n",
       "         [0.9985, 0.0000, 1.0000, 0.0000, 0.0000, 1.0000, 0.0000, 0.9700,\n",
       "          0.0300, 0.9700, 0.9715, 0.9700, 0.0300, 0.0300, 0.9700, 0.9700],\n",
       "         [0.0300, 0.0300, 0.0000, 0.0300, 0.0300, 0.0300, 0.0300, 0.9730,\n",
       "          1.0000, 0.0300, 0.0000, 1.0000, 0.0015, 1.0000, 1.0000, 0.0000],\n",
       "         [0.0300, 0.9700, 0.9700, 1.0000, 1.0000, 0.0225, 0.0300, 0.0000,\n",
       "          0.0150, 0.9700, 0.0150, 0.0300, 0.0000, 1.0000, 0.0300, 0.0300],\n",
       "         [0.9700, 0.9700, 0.0300, 0.0000, 0.9700, 1.0000, 0.0300, 1.0000,\n",
       "          1.0000, 1.0000, 0.9940, 1.0000, 0.9700, 0.9700, 0.9700, 1.0000],\n",
       "         [0.0000, 1.0000, 1.0000, 0.0000, 1.0000, 0.9700, 0.9700, 0.0300,\n",
       "          0.0000, 0.0000, 0.0105, 0.0000, 1.0000, 0.0300, 0.0000, 0.0300],\n",
       "         [0.9700, 0.9700, 0.0300, 1.0000, 0.9700, 1.0000, 0.9700, 0.9700,\n",
       "          1.0000, 0.9760, 0.9970, 1.0000, 0.9700, 0.9700, 0.0300, 0.0300],\n",
       "         [0.9700, 0.9700, 0.9700, 0.0000, 1.0000, 0.9700, 1.0000, 0.0030,\n",
       "          0.0000, 0.9700, 0.0000, 1.0000, 0.0000, 1.0000, 0.0300, 0.9910],\n",
       "         [0.0000, 1.0000, 0.0030, 1.0000, 0.9925, 0.0000, 1.0000, 0.9700,\n",
       "          1.0000, 1.0000, 0.0000, 0.0300, 0.9700, 0.0300, 0.9700, 0.9700],\n",
       "         [0.9970, 0.9700, 0.9700, 0.9985, 0.0000, 0.0000, 0.9700, 0.0300,\n",
       "          0.9700, 0.0000, 0.0300, 0.0000, 0.0300, 0.9700, 1.0000, 0.9790],\n",
       "         [0.9700, 0.0300, 0.0300, 0.9700, 0.9700, 0.0300, 0.9700, 0.0300,\n",
       "          0.0300, 0.9760, 0.0300, 0.0000, 0.9700, 0.0300, 0.9820, 0.0300],\n",
       "         [0.0300, 0.9700, 0.9700, 0.0300, 1.0000, 0.0105, 0.0300, 0.9700,\n",
       "          0.0195, 0.0300, 0.0300, 0.0000, 0.0060, 0.0300, 0.0300, 0.0300]]])"
      ]
     },
     "execution_count": 17,
     "metadata": {},
     "output_type": "execute_result"
    }
   ],
   "source": [
    "# View one of the clipped adversarial examples\n",
    "clipped_adversarial_examples[0]"
   ]
  },
  {
   "cell_type": "code",
   "execution_count": 18,
   "id": "7f12a598",
   "metadata": {},
   "outputs": [
    {
     "data": {
      "text/plain": [
       "tensor(0.7410)"
      ]
     },
     "execution_count": 18,
     "metadata": {},
     "output_type": "execute_result"
    }
   ],
   "source": [
    "# Get the Attack Success Rate\n",
    "success.sum() / len(success)"
   ]
  },
  {
   "cell_type": "markdown",
   "id": "4eb04bb3",
   "metadata": {},
   "source": [
    "### Step 5:  \n",
    "Visualize the attack   "
   ]
  },
  {
   "cell_type": "code",
   "execution_count": 19,
   "id": "aece6837",
   "metadata": {},
   "outputs": [
    {
     "data": {
      "image/png": "[encoded data removed]",
      "text/plain": [
       "<Figure size 1500x700 with 3 Axes>"
      ]
     },
     "metadata": {},
     "output_type": "display_data"
    }
   ],
   "source": [
    "# We can now go ahead and plot the original image and the adversarial example\n",
    "fig = plt.figure(figsize=(15,7))\n",
    "ax = fig.add_subplot(1,3,1)\n",
    "\n",
    "# Detach is called because we calculated gradients\n",
    "# By detaching we are no removing the need to backpropagate\n",
    "ax.imshow(X[0].detach().squeeze(dim=0).squeeze(dim=0), cmap='gray')\n",
    "ax.set_axis_off()\n",
    "ax.set_title(label='Original Image')\n",
    "\n",
    "# The perturbations are the gradients\n",
    "ax = fig.add_subplot(1,3,2)\n",
    "ax.imshow(raw_adversarial_example[0].detach().squeeze(dim=0).squeeze(dim=0), cmap='gray')\n",
    "ax.set_axis_off()\n",
    "ax.set_title(label='Raw Adv sample')\n",
    "\n",
    "ax = fig.add_subplot(1,3,3)\n",
    "# Detach is called because we calculated gradients\n",
    "# By detaching we are no removing the need to backpropagate\n",
    "ax.imshow(clipped_adversarial_examples[0].detach().numpy().squeeze(), cmap='gray')\n",
    "ax.set_axis_off()\n",
    "ax.set_title(label='Clipped Adv sample');"
   ]
  },
  {
   "cell_type": "markdown",
   "id": "d424d01d",
   "metadata": {},
   "source": [
    "### Lab Takeaways:  \n",
    "- We created a Projected Gradient Descent attack by leveraging Foolbox "
   ]
  },
  {
   "cell_type": "code",
   "execution_count": null,
   "id": "80e4c8d8",
   "metadata": {},
   "outputs": [],
   "source": []
  }
 ],
 "metadata": {
  "kernelspec": {
   "display_name": "adversarial_ai",
   "language": "python",
   "name": "python3"
  },
  "language_info": {
   "codemirror_mode": {
    "name": "ipython",
    "version": 3
   },
   "file_extension": ".py",
   "mimetype": "text/x-python",
   "name": "python",
   "nbconvert_exporter": "python",
   "pygments_lexer": "ipython3",
   "version": "3.12.11"
  }
 },
 "nbformat": 4,
 "nbformat_minor": 5
}
