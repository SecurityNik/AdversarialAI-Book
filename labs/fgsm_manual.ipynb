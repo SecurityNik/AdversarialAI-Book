{
 "cells": [
  {
   "cell_type": "markdown",
   "id": "6e452da9",
   "metadata": {},
   "source": [
    "<img style=\"max-width:20em; height:auto;\" src=\"../graphics/A-Little-Book-on-Adversarial-AI-Cover.png\"/>"
   ]
  },
  {
   "cell_type": "markdown",
   "id": "e27a74c8",
   "metadata": {},
   "source": [
    "Author: Nik Alleyne   \n",
    "Author Blog: https://www.securitynik.com   \n",
    "Author GitHub: github.com/securitynik   \n",
    "\n",
    "Author Other Books: [   \n",
    "\n",
    "            \"https://www.amazon.ca/Learning-Practicing-Leveraging-Practical-Detection/dp/1731254458/\",   \n",
    "            \n",
    "            \"https://www.amazon.ca/Learning-Practicing-Mastering-Network-Forensics/dp/1775383024/\"   \n",
    "        ]   \n",
    "\n",
    "\n",
    "This notebook ***(fgsm_manual.ipynb)*** is part of the series of notebooks From ***A Little Book on Adversarial AI***  A free ebook released by Nik Alleyne"
   ]
  },
  {
   "cell_type": "markdown",
   "id": "0796401b",
   "metadata": {},
   "source": [
    "### Fast Gradient Sign Method (FGSM) the Manual Way"
   ]
  },
  {
   "cell_type": "markdown",
   "id": "990e8964",
   "metadata": {},
   "source": [
    "Let's load some test data.   \n",
    "We will use this to ensure we only have samples that are malware, as these labels we would like to flip. \n",
    "\n",
    "This should make our understanding of FGSM a lot easier.   \n",
    "\n",
    "### Step 1:    \n",
    "Get our data   "
   ]
  },
  {
   "cell_type": "code",
   "execution_count": 1,
   "id": "35e6954d",
   "metadata": {},
   "outputs": [],
   "source": [
    "# Import libraries\n",
    "import torch\n",
    "import torch.nn as nn\n",
    "import torch.nn.functional as F\n",
    "import numpy as np\n",
    "import matplotlib.pyplot as plt\n",
    "from datetime import datetime as dt\n",
    "\n",
    "import sklearn\n",
    "from sklearn.model_selection import train_test_split"
   ]
  },
  {
   "cell_type": "code",
   "execution_count": 2,
   "id": "657217bd",
   "metadata": {},
   "outputs": [
    {
     "name": "stdout",
     "output_type": "stream",
     "text": [
      "Torch version used:  2.7.1+cu128\n",
      "Numpy version used:  2.1.3\n",
      "Sklearn version used:  1.7.0\n"
     ]
    }
   ],
   "source": [
    "### Version of key libraries used  \n",
    "print(f'Torch version used:  {torch.__version__}')\n",
    "print(f'Numpy version used:  {np.__version__}')\n",
    "print(f'Sklearn version used:  {sklearn.__version__}')\n"
   ]
  },
  {
   "cell_type": "code",
   "execution_count": 3,
   "id": "13ea3a36",
   "metadata": {},
   "outputs": [
    {
     "name": "stdout",
     "output_type": "stream",
     "text": [
      "Setting the device to cuda\n"
     ]
    }
   ],
   "source": [
    "# Setup the device to work with\n",
    "# This should ensure if there are accelerators in place, such as Apple backend or CUDA, \n",
    "# we should be able to take advantage of it.\n",
    "\n",
    "if torch.cuda.is_available():\n",
    "    print('Setting the device to cuda')\n",
    "    device = 'cuda'\n",
    "elif torch.backends.mps.is_available():\n",
    "    print('Setting the device to Apple mps')\n",
    "    device = 'mps'\n",
    "else:\n",
    "    print('Setting the device to CPU')\n",
    "    device = torch.device('cpu')"
   ]
  },
  {
   "cell_type": "code",
   "execution_count": 4,
   "id": "d14544ae",
   "metadata": {},
   "outputs": [],
   "source": [
    "# I am going to cheat here. \n",
    "# I seem to be running into a problem with my GPU and backpropagation. \n",
    "# So to address that, I am forcing this to use CPU.\n",
    "# You can test on your system by commenting out this line below and running the code\n",
    "# However, without the GPU this works just fine!\n",
    "device = 'cpu'"
   ]
  },
  {
   "cell_type": "code",
   "execution_count": 5,
   "id": "a76c626d",
   "metadata": {},
   "outputs": [
    {
     "data": {
      "text/plain": [
       "((1000, 256), (1000,))"
      ]
     },
     "execution_count": 5,
     "metadata": {},
     "output_type": "execute_result"
    }
   ],
   "source": [
    "# Load the test set\n",
    "# This is from the Tiny Malware\n",
    "X_y = np.load(r'../data/tiny_mal_net_X_y_test.npz', allow_pickle=False)\n",
    "X = X_y['X']\n",
    "y = X_y['y']\n",
    "\n",
    "# Get the shape of the dataset\n",
    "X.shape, y.shape"
   ]
  },
  {
   "cell_type": "code",
   "execution_count": 6,
   "id": "f6a32bcb",
   "metadata": {},
   "outputs": [
    {
     "data": {
      "text/plain": [
       "array([0., 1., 1., 0., 1., 1., 0., 0., 1., 0., 1., 0., 1., 0., 1., 0., 0.,\n",
       "       0., 1., 0., 0., 1., 1., 1., 1., 1., 0., 0., 1., 0., 0., 0., 1., 0.,\n",
       "       1., 1., 1., 1., 0., 1., 1., 1., 0., 1., 1., 0., 1., 0., 0., 1., 1.,\n",
       "       0., 0., 1., 1., 1., 1., 0., 1., 1., 0., 1., 0., 0., 0., 1., 1., 1.,\n",
       "       1., 1., 1., 1., 0., 0., 1., 1., 0., 1., 1., 1., 1., 0., 1., 0., 0.,\n",
       "       1., 0., 1., 0., 1., 1., 1., 0., 0., 1., 1., 0., 0., 0., 0., 0., 0.,\n",
       "       0., 1., 1., 0., 0., 1., 0., 1., 1., 0., 0., 1., 1., 1., 1., 0., 0.,\n",
       "       0., 0., 1., 0., 0., 0., 1., 0., 0., 1., 1., 0., 0., 1., 1., 0., 1.,\n",
       "       1., 1., 1., 1., 1., 1., 1., 1., 0., 1., 1., 0., 1., 1., 1., 0., 0.,\n",
       "       0., 0., 0., 1., 0., 0., 0., 1., 1., 0., 1., 1., 1., 1., 1., 1., 1.,\n",
       "       1., 1., 1., 1., 0., 0., 1., 1., 1., 0., 1., 1., 1., 0., 0., 1., 0.,\n",
       "       1., 0., 1., 0., 1., 0., 1., 0., 1., 1., 0., 1., 1., 1., 1., 0., 0.,\n",
       "       1., 0., 1., 1., 1., 1., 1., 1., 0., 0., 1., 0., 1., 0., 0., 0., 0.,\n",
       "       1., 1., 1., 1., 0., 0., 1., 1., 0., 1., 0., 0., 1., 0., 0., 1., 0.,\n",
       "       1., 0., 0., 1., 1., 0., 1., 0., 0., 1., 0., 0., 0., 0., 0., 0., 0.,\n",
       "       0.], dtype=float32)"
      ]
     },
     "execution_count": 6,
     "metadata": {},
     "output_type": "execute_result"
    }
   ],
   "source": [
    "# Get a sample from X\n",
    "X[0]"
   ]
  },
  {
   "cell_type": "code",
   "execution_count": 7,
   "id": "86be8dd9",
   "metadata": {},
   "outputs": [
    {
     "data": {
      "text/plain": [
       "(np.float32(0.0), np.float32(1.0))"
      ]
     },
     "execution_count": 7,
     "metadata": {},
     "output_type": "execute_result"
    }
   ],
   "source": [
    "# Get the min and max value for X\n",
    "X.min(), X.max()"
   ]
  },
  {
   "cell_type": "code",
   "execution_count": 8,
   "id": "12fb2d09",
   "metadata": {},
   "outputs": [],
   "source": [
    "# Convert both the feature and targets to torch tensors\n",
    "# These currently have dimensions (1, 1, 256, 256) -> (batch_size, channels, height, width)\n",
    "X = torch.tensor(X.reshape(-1, 1, 16, 16), dtype=torch.float32)\n",
    "\n",
    "# Convert the labels also to torch tensors\n",
    "y = torch.tensor(y, dtype=torch.long)"
   ]
  },
  {
   "cell_type": "code",
   "execution_count": 9,
   "id": "126a4390",
   "metadata": {},
   "outputs": [
    {
     "name": "stdout",
     "output_type": "stream",
     "text": [
      "The malware samples have a shape of: torch.Size([1000, 1, 16, 16])\n"
     ]
    }
   ],
   "source": [
    "# Get the shape of the X\n",
    "print(f'The malware samples have a shape of: {X.size()}')"
   ]
  },
  {
   "cell_type": "code",
   "execution_count": 10,
   "id": "72afe291",
   "metadata": {},
   "outputs": [
    {
     "data": {
      "text/plain": [
       "['addisplay', 'adware', 'benign', 'downloader', 'trojan']"
      ]
     },
     "execution_count": 10,
     "metadata": {},
     "output_type": "execute_result"
    }
   ],
   "source": [
    "# Malware labels\n",
    "malware_labels = ['addisplay', 'adware', 'benign', 'downloader', 'trojan']\n",
    "malware_labels"
   ]
  },
  {
   "cell_type": "markdown",
   "id": "59005eba",
   "metadata": {},
   "source": [
    "### Step 2:   \n",
    "Visualize some of the samples   "
   ]
  },
  {
   "cell_type": "code",
   "execution_count": 11,
   "id": "49bd61d4",
   "metadata": {},
   "outputs": [
    {
     "data": {
      "image/png": "[encoded data removed]",
      "text/plain": [
       "<Figure size 1000x1000 with 20 Axes>"
      ]
     },
     "metadata": {},
     "output_type": "display_data"
    }
   ],
   "source": [
    "# With all of this in place let's visualize a few samples\n",
    "# You can adjust the size here\n",
    "tmp_indicies = np.random.randint(low=0, high=len(X), size=(20))\n",
    "\n",
    "plt.figure(figsize=(10, 10))\n",
    "for idx, value in enumerate(tmp_indicies):\n",
    "    # Adjust the 4,5 here, if you changed the size above\n",
    "    # Ensure it is a multiple of size\n",
    "    ax = plt.subplot(4,5,idx+1)\n",
    "    ax.set_title(label=malware_labels[y[value.item() ].item()  ])\n",
    "    ax.imshow(X=X[value].reshape(16, -1), cmap='gray')\n",
    "    plt.xticks([])\n",
    "    plt.yticks([])\n",
    "\n",
    "plt.tight_layout()"
   ]
  },
  {
   "cell_type": "markdown",
   "id": "55efd7a1",
   "metadata": {},
   "source": [
    "### Step 4: \n",
    "Doing FGSM the hard way :-D \n",
    "\n",
    "With the malware samples in place, let us now get to learning FGSM.  \n",
    "\n",
    "1. Take a legitimate sample, for example our malware   \n",
    "2. Specify an epsilon value. In the image below, that value is 0.007  \n",
    "   This value should be very small, so as to make the change imperceptible to the human eye.   \n",
    "   In order words, the adversarial example should look no different than the original image \n",
    "   In traditional Gradient Descent, we want to minimize the loss and thus goes in the negative / opposite direction of the gradient. \n",
    "   With the FGSM attack, we want to maximize the loss, hence we go in the direction of the gradient The gradient tells us the direction of steepest ascent. This 0.007 tells us how much to step by.\n",
    "3. Calculate the gradient of the loss with respect to the input image.   \n",
    "   In normal neural networks, we take the loss with respect to the parameters (weights and bias) and not the input data  \n",
    "4. With the gradients in hand, we then take the sign of the gradients.  \n",
    "   Finding the sign simply means if a value is greater than 0, we make it +1. if the value is negative, we make it -1 if it is 0, we keep it at 0  \n",
    "   The sign gives the direction of the gradient   \n",
    "5. Finally, we take the original input, add the epsilon and multiply it by the sign of the gradients. This is now our adversarial example  \n",
    "\n",
    "<img src=\"../graphics/fgsm.png\" alt=\"FGSM\" width=\"800\"/>   \n",
    "\n",
    "perturbed_image=original_image + epsilon ∗ sign(data_grad) = x+ϵ∗sign(∇ x J(θ,x,y))\n",
    "\n",
    "\n",
    "Reference:  \n",
    "https://arxiv.org/pdf/1412.6572   \n"
   ]
  },
  {
   "cell_type": "code",
   "execution_count": 12,
   "id": "477d0595",
   "metadata": {},
   "outputs": [
    {
     "name": "stdout",
     "output_type": "stream",
     "text": [
      "The sign of -1 is: -1.0\n",
      "The sign of 0 is: 0.0\n",
      "The sign of 1 is: 1.0\n",
      "The sign of -10 is: -1.0\n",
      "The sign of 0.5 is: 1.0\n",
      "The sign of 99 is: 1.0\n"
     ]
    }
   ],
   "source": [
    "# Here are a few examples of finding the sign of a few numbers, you can try a few of your own\n",
    "print(f'The sign of -1 is: {torch.sign(torch.tensor(-1.))}')\n",
    "print(f'The sign of 0 is: {torch.sign(torch.tensor(0.))}')\n",
    "print(f'The sign of 1 is: {torch.sign(torch.tensor(1.))}')\n",
    "print(f'The sign of -10 is: {torch.sign(torch.tensor(-10.))}')\n",
    "print(f'The sign of 0.5 is: {torch.sign(torch.tensor(0.5))}')\n",
    "print(f'The sign of 99 is: {torch.sign(torch.tensor(99.))}')"
   ]
  },
  {
   "cell_type": "markdown",
   "id": "fb809773",
   "metadata": {},
   "source": [
    "### Step 5:   \n",
    "Define hyperparameters and load the trained model   "
   ]
  },
  {
   "cell_type": "code",
   "execution_count": 13,
   "id": "f71fbf7a",
   "metadata": {},
   "outputs": [],
   "source": [
    "# Define some hyperparameters \n",
    "batch_size = 32\n",
    "hidden_chnls = 8\n",
    "num_classes = 1\n",
    "num_epochs = 5\n",
    "kernel_size = 4\n",
    "stride = 2\n",
    "pool_size = 2\n",
    "linear_dims = 128"
   ]
  },
  {
   "cell_type": "code",
   "execution_count": 14,
   "id": "efd6a0b3",
   "metadata": {},
   "outputs": [
    {
     "data": {
      "text/plain": [
       "RecursiveScriptModule(\n",
       "  original_name=MalClassifier\n",
       "  (conv_layers): RecursiveScriptModule(\n",
       "    original_name=Sequential\n",
       "    (0): RecursiveScriptModule(original_name=Conv2d)\n",
       "    (1): RecursiveScriptModule(original_name=BatchNorm2d)\n",
       "    (2): RecursiveScriptModule(original_name=ReLU)\n",
       "    (3): RecursiveScriptModule(original_name=Conv2d)\n",
       "    (4): RecursiveScriptModule(original_name=BatchNorm2d)\n",
       "    (5): RecursiveScriptModule(original_name=ReLU)\n",
       "    (6): RecursiveScriptModule(original_name=Conv2d)\n",
       "    (7): RecursiveScriptModule(original_name=BatchNorm2d)\n",
       "    (8): RecursiveScriptModule(original_name=ReLU)\n",
       "  )\n",
       "  (global_avg_pool): RecursiveScriptModule(original_name=AdaptiveAvgPool2d)\n",
       "  (classifier): RecursiveScriptModule(original_name=Conv2d)\n",
       ")"
      ]
     },
     "execution_count": 14,
     "metadata": {},
     "output_type": "execute_result"
    }
   ],
   "source": [
    "# Let's load the model we will target\n",
    "loaded_malware_classifier = torch.jit.load(r'../data/mal_net_tiny_malware_clf.jit', map_location=device)\n",
    "loaded_malware_classifier.eval()"
   ]
  },
  {
   "cell_type": "code",
   "execution_count": 15,
   "id": "8885e0d0",
   "metadata": {},
   "outputs": [
    {
     "data": {
      "text/plain": [
       "tensor([[[[ 0.0516, -0.2070,  0.2670],\n",
       "          [-0.0798, -0.0059,  0.1894],\n",
       "          [ 0.2832, -0.3191, -0.2044]]],\n",
       "\n",
       "\n",
       "        [[[ 0.2782, -0.3018, -0.1991],\n",
       "          [ 0.2677, -0.1860,  0.1973],\n",
       "          [-0.0064, -0.0209,  0.0271]]],\n",
       "\n",
       "\n",
       "        [[[ 0.0901, -0.3728,  0.1607],\n",
       "          [-0.1020,  0.2822, -0.1377],\n",
       "          [-0.0504, -0.1604,  0.2300]]],\n",
       "\n",
       "\n",
       "        [[[ 0.2506, -0.0527,  0.2107],\n",
       "          [-0.1103, -0.2593,  0.2187],\n",
       "          [-0.1559, -0.1288, -0.1126]]],\n",
       "\n",
       "\n",
       "        [[[-0.1090, -0.0401, -0.2382],\n",
       "          [ 0.0823,  0.0235,  0.1842],\n",
       "          [-0.2719,  0.1790,  0.2024]]],\n",
       "\n",
       "\n",
       "        [[[-0.3066,  0.2604, -0.1717],\n",
       "          [-0.2340, -0.2157, -0.1990],\n",
       "          [-0.0120,  0.0674,  0.2876]]],\n",
       "\n",
       "\n",
       "        [[[ 0.1912,  0.1662, -0.3866],\n",
       "          [ 0.3626, -0.1671,  0.1218],\n",
       "          [ 0.2192, -0.0371,  0.0791]]],\n",
       "\n",
       "\n",
       "        [[[ 0.2232,  0.2194,  0.1586],\n",
       "          [-0.2301,  0.1602, -0.0401],\n",
       "          [-0.2614, -0.2821,  0.2480]]],\n",
       "\n",
       "\n",
       "        [[[-0.1926,  0.2238,  0.1998],\n",
       "          [-0.2574, -0.0255, -0.2887],\n",
       "          [ 0.0658,  0.2140, -0.0321]]],\n",
       "\n",
       "\n",
       "        [[[-0.3042,  0.1743,  0.1647],\n",
       "          [ 0.0319, -0.0222, -0.2274],\n",
       "          [-0.3028, -0.3279,  0.2743]]],\n",
       "\n",
       "\n",
       "        [[[-0.3478, -0.2210, -0.0344],\n",
       "          [ 0.1425, -0.1434, -0.1743],\n",
       "          [-0.0375,  0.1824, -0.3389]]],\n",
       "\n",
       "\n",
       "        [[[ 0.2718,  0.3223, -0.2222],\n",
       "          [ 0.0070, -0.2522, -0.2074],\n",
       "          [-0.1951,  0.2433,  0.1513]]],\n",
       "\n",
       "\n",
       "        [[[-0.2788, -0.2682,  0.0844],\n",
       "          [ 0.2577, -0.2416, -0.0547],\n",
       "          [ 0.0557,  0.2268,  0.2646]]],\n",
       "\n",
       "\n",
       "        [[[-0.2636, -0.0120, -0.3549],\n",
       "          [-0.0857,  0.3483,  0.0114],\n",
       "          [ 0.2762, -0.1512,  0.0685]]],\n",
       "\n",
       "\n",
       "        [[[ 0.2137,  0.2229, -0.2788],\n",
       "          [ 0.2245,  0.0630, -0.0670],\n",
       "          [-0.2569, -0.2199,  0.1534]]],\n",
       "\n",
       "\n",
       "        [[[ 0.2319,  0.1715, -0.2427],\n",
       "          [ 0.0096, -0.0562,  0.0840],\n",
       "          [-0.0926,  0.1688, -0.3101]]],\n",
       "\n",
       "\n",
       "        [[[-0.2408, -0.1242,  0.2974],\n",
       "          [-0.2650, -0.1638,  0.2307],\n",
       "          [ 0.3421, -0.1174,  0.2470]]],\n",
       "\n",
       "\n",
       "        [[[-0.1660,  0.2180, -0.1133],\n",
       "          [ 0.1857,  0.1075,  0.0983],\n",
       "          [-0.0005, -0.1317, -0.2231]]],\n",
       "\n",
       "\n",
       "        [[[-0.2727, -0.0727,  0.2154],\n",
       "          [-0.1589, -0.0519, -0.2831],\n",
       "          [-0.2995,  0.3930, -0.0516]]],\n",
       "\n",
       "\n",
       "        [[[ 0.1754, -0.2937,  0.0332],\n",
       "          [ 0.1026, -0.1123,  0.0883],\n",
       "          [-0.1002,  0.3391,  0.1734]]],\n",
       "\n",
       "\n",
       "        [[[-0.1711, -0.0505,  0.3617],\n",
       "          [ 0.2294, -0.1910,  0.1810],\n",
       "          [-0.2738,  0.1833, -0.2263]]],\n",
       "\n",
       "\n",
       "        [[[ 0.2295,  0.1490,  0.2655],\n",
       "          [ 0.0034,  0.2584,  0.2188],\n",
       "          [-0.3328,  0.1826, -0.3091]]],\n",
       "\n",
       "\n",
       "        [[[-0.2282,  0.2778, -0.1996],\n",
       "          [-0.0984,  0.1084,  0.2170],\n",
       "          [ 0.1088,  0.0933,  0.0355]]],\n",
       "\n",
       "\n",
       "        [[[ 0.0631, -0.2012,  0.0187],\n",
       "          [-0.2411,  0.3045,  0.2088],\n",
       "          [ 0.0405, -0.2424, -0.1707]]],\n",
       "\n",
       "\n",
       "        [[[-0.0753, -0.3444,  0.0823],\n",
       "          [-0.1219,  0.0976,  0.1624],\n",
       "          [-0.0212,  0.1746,  0.2552]]],\n",
       "\n",
       "\n",
       "        [[[ 0.1059,  0.2624, -0.3317],\n",
       "          [-0.1310, -0.1757,  0.1931],\n",
       "          [ 0.3312,  0.0103,  0.1483]]],\n",
       "\n",
       "\n",
       "        [[[ 0.2484, -0.1387,  0.1224],\n",
       "          [ 0.2449, -0.1944, -0.2982],\n",
       "          [-0.2678,  0.1193,  0.0198]]],\n",
       "\n",
       "\n",
       "        [[[-0.0842,  0.2828, -0.2493],\n",
       "          [-0.2758, -0.0367,  0.2517],\n",
       "          [-0.3358,  0.2720, -0.2394]]],\n",
       "\n",
       "\n",
       "        [[[-0.0935, -0.2213, -0.1165],\n",
       "          [ 0.3388,  0.1529,  0.0256],\n",
       "          [ 0.2343,  0.1512,  0.1036]]],\n",
       "\n",
       "\n",
       "        [[[-0.1242, -0.3891, -0.2911],\n",
       "          [-0.2349, -0.2519, -0.0626],\n",
       "          [ 0.2468, -0.2949,  0.0324]]],\n",
       "\n",
       "\n",
       "        [[[-0.3014,  0.0674, -0.3527],\n",
       "          [ 0.1961,  0.2462, -0.2473],\n",
       "          [-0.0979,  0.0148,  0.3353]]],\n",
       "\n",
       "\n",
       "        [[[ 0.2934,  0.0549,  0.0257],\n",
       "          [-0.1675, -0.3726,  0.0820],\n",
       "          [ 0.0062,  0.0213,  0.3069]]]])"
      ]
     },
     "execution_count": 15,
     "metadata": {},
     "output_type": "execute_result"
    }
   ],
   "source": [
    "# To see the model state dict\n",
    "loaded_malware_classifier.state_dict()\n",
    "\n",
    "# To see a snapshot of layer 0 weight\n",
    "loaded_malware_classifier.state_dict()['conv_layers.0.weight']"
   ]
  },
  {
   "cell_type": "markdown",
   "id": "8b0861a3",
   "metadata": {},
   "source": [
    "### Step 6:  \n",
    "Make predictions on the real data"
   ]
  },
  {
   "cell_type": "code",
   "execution_count": 16,
   "id": "348eca5a",
   "metadata": {},
   "outputs": [
    {
     "data": {
      "text/plain": [
       "tensor([2, 2, 1, 1, 1, 1, 4, 2, 3, 4])"
      ]
     },
     "execution_count": 16,
     "metadata": {},
     "output_type": "execute_result"
    }
   ],
   "source": [
    "# Get the real predictions\n",
    "y_real_preds = loaded_malware_classifier(torch.as_tensor(X, dtype=torch.float32, device=device)).argmax(dim=-1)\n",
    "y_real_preds[:10]"
   ]
  },
  {
   "cell_type": "code",
   "execution_count": 17,
   "id": "6f91ee07",
   "metadata": {},
   "outputs": [
    {
     "data": {
      "text/plain": [
       "tensor(0.8700)"
      ]
     },
     "execution_count": 17,
     "metadata": {},
     "output_type": "execute_result"
    }
   ],
   "source": [
    "# Get the accuracy\n",
    "(y_real_preds.cpu() == y).sum() / len(y)"
   ]
  },
  {
   "cell_type": "markdown",
   "id": "6ce1e78a",
   "metadata": {},
   "source": [
    "On the real test data, we have 87% accuracy. Not bad so far"
   ]
  },
  {
   "cell_type": "markdown",
   "id": "eb4b9fe4",
   "metadata": {},
   "source": [
    "We are using a model that has already been trained. This means, we will not modify the parameters. The weights remain constant. We will instead find the derivatives of the loss with respect to the input rather than the model weights.   \n",
    "\n",
    "Now that we have a target model, we want to pass our input image through this model *loaded_malware_clf(X)* to make predictions.   \n",
    "\n",
    "We then compute the loss based on the predicted class *loss_fn(input=prediction, target=true_label)*   \n",
    "Compute the gradients of the loss with respect to the input image *loss.backward* <- This is backpropagation occurring  \n",
    "Create the adversarial example by multiplying the sign of the gradients by the epsilon and add them to the orignal image.  \n",
    "Finally, we feed the adversarial example to the model and observe the predictions. Let's do that     \n",
    "\n",
    "### Step 7:  \n",
    "Define the FGSM function   \n"
   ]
  },
  {
   "cell_type": "code",
   "execution_count": 18,
   "id": "6aa1b033",
   "metadata": {},
   "outputs": [
    {
     "data": {
      "text/plain": [
       "CrossEntropyLoss()"
      ]
     },
     "execution_count": 18,
     "metadata": {},
     "output_type": "execute_result"
    }
   ],
   "source": [
    "# Define the loss function\n",
    "loss_fn = torch.nn.CrossEntropyLoss()\n",
    "loss_fn"
   ]
  },
  {
   "cell_type": "code",
   "execution_count": 19,
   "id": "bef17653",
   "metadata": {},
   "outputs": [],
   "source": [
    "# Let's define a function for the FGSM atack   \n",
    "# https://arxiv.org/pdf/1607.02533\n",
    "# https://github.com/peyman-paknezhad/Adversarial-Robustness-in-Neural-Networks-Implementation-and-Assessment-of-FGSM-BIM-and-PGD-Attacks/blob/main/Adversarial_Robustness_in_Neural_Networks_Implementation_and_Assessment_of_FGSM%2C_BIM%2C_and_PGD_Attacks.ipynb\n",
    "def fgsm_attack(model=None, X=None, y=None, eps=None):\n",
    "        \n",
    "    # Move values to the device  \n",
    "    X, y = X.to(device=device), y.to(device=device)\n",
    "\n",
    "    # Ensure the model is in evaluation mode\n",
    "    model = model.to(device)\n",
    "    model.eval()\n",
    "\n",
    "    # Set the requires_grad to True\n",
    "    # By default, the data is not set to require gradients\n",
    "    X = X.detach().clone().requires_grad_(True)\n",
    "\n",
    "    # Get the predictions of the output class\n",
    "    y_preds = model(X)\n",
    "    \n",
    "    # Use the Crossentropy loss\n",
    "    loss = loss_fn(input=y_preds, target=y)\n",
    "\n",
    "    # Zero out any gradients that are already there    \n",
    "    model.zero_grad(set_to_none=True)\n",
    "\n",
    "    # Perform backpropagation \n",
    "    loss.backward()\n",
    "\n",
    "    # If you wish to see the gradients before the sign uncomment the line below\n",
    "    #print(f'Gradients before sign: {X.grad.data}')\n",
    "\n",
    "    # Get the sign of the gradients\n",
    "    gradients = X.grad.sign()\n",
    "\n",
    "    # If you wish to see the sign of the gradients uncomment the line below\n",
    "    #print(f'Gradients after sign: {gradients}')\n",
    "\n",
    "    # Perturb the gradients\n",
    "    perturbations = eps * gradients\n",
    "\n",
    "    # Finally the adversarial example\n",
    "    adv_examples = X + perturbations\n",
    "\n",
    "    # Clamp the adversarial sample between 0 and 1\n",
    "    # Our original input samples are 0 and 1\n",
    "    # Clipping these values between 0 and 1 ensures we stay within that range\n",
    "    adv_examples = torch.clamp(adv_examples, min=0, max=1)\n",
    "\n",
    "    # Return the final example and the perturbations, so we can see what both looks like\n",
    "    return ( adv_examples, perturbations )\n"
   ]
  },
  {
   "cell_type": "code",
   "execution_count": 20,
   "id": "47cad754",
   "metadata": {},
   "outputs": [
    {
     "data": {
      "text/plain": [
       "0.002"
      ]
     },
     "execution_count": 20,
     "metadata": {},
     "output_type": "execute_result"
    }
   ],
   "source": [
    "# Declare a variable for epsilon\n",
    "eps = 0.002\n",
    "eps"
   ]
  },
  {
   "cell_type": "code",
   "execution_count": 21,
   "id": "cb760f0f",
   "metadata": {},
   "outputs": [
    {
     "data": {
      "text/plain": [
       "tensor([[[0.0000, 1.0000, 1.0000, 0.0000, 0.9980, 0.9980, 0.0020, 0.0000,\n",
       "          1.0000, 0.0000, 0.9980, 0.0000, 0.9980, 0.0020, 1.0000, 0.0020],\n",
       "         [0.0020, 0.0020, 0.9980, 0.0020, 0.0000, 0.9980, 0.9980, 1.0000,\n",
       "          0.9980, 1.0000, 0.0020, 0.0020, 0.9980, 0.0020, 0.0020, 0.0000],\n",
       "         [0.9980, 0.0020, 1.0000, 0.9980, 1.0000, 0.9980, 0.0000, 0.9980,\n",
       "          1.0000, 1.0000, 0.0020, 0.9980, 1.0000, 0.0020, 0.9980, 0.0000],\n",
       "         [0.0000, 1.0000, 1.0000, 0.0000, 0.0000, 0.9980, 0.9980, 0.9980,\n",
       "          0.9980, 0.0000, 0.9980, 0.9980, 0.0000, 1.0000, 0.0020, 0.0000],\n",
       "         [0.0000, 0.9980, 0.9980, 1.0000, 1.0000, 1.0000, 0.9980, 1.0000,\n",
       "          0.0020, 0.0000, 0.9980, 1.0000, 0.0000, 1.0000, 1.0000, 0.9980],\n",
       "         [1.0000, 0.0000, 1.0000, 0.0000, 0.0000, 1.0000, 0.0000, 0.9980,\n",
       "          0.0020, 0.9980, 1.0000, 0.9980, 0.0020, 0.0020, 0.9980, 0.9980],\n",
       "         [0.0020, 0.0020, 0.0000, 0.0020, 0.0020, 0.0020, 0.0020, 0.9980,\n",
       "          1.0000, 0.0020, 0.0020, 1.0000, 0.0000, 1.0000, 1.0000, 0.0000],\n",
       "         [0.0020, 0.9980, 0.9980, 1.0000, 1.0000, 0.0000, 0.0020, 0.0000,\n",
       "          0.0020, 0.9980, 0.0020, 0.0020, 0.0000, 0.9980, 0.0020, 0.0020],\n",
       "         [0.9980, 0.9980, 0.0020, 0.0000, 0.9980, 1.0000, 0.0020, 1.0000,\n",
       "          1.0000, 1.0000, 0.9980, 1.0000, 0.9980, 0.9980, 0.9980, 1.0000],\n",
       "         [0.0000, 1.0000, 1.0000, 0.0000, 1.0000, 0.9980, 0.9980, 0.0020,\n",
       "          0.0000, 0.0000, 0.0000, 0.0000, 1.0000, 0.0020, 0.0000, 0.0020],\n",
       "         [0.9980, 0.9980, 0.0020, 1.0000, 0.9980, 1.0000, 0.9980, 0.9980,\n",
       "          1.0000, 1.0000, 0.9980, 1.0000, 0.9980, 0.9980, 0.0020, 0.0020],\n",
       "         [0.9980, 0.9980, 0.9980, 0.0000, 0.9980, 0.9980, 0.9980, 0.0020,\n",
       "          0.0000, 0.9980, 0.0000, 1.0000, 0.0000, 1.0000, 0.0020, 1.0000],\n",
       "         [0.0000, 1.0000, 0.0020, 1.0000, 1.0000, 0.0000, 1.0000, 0.9980,\n",
       "          1.0000, 1.0000, 0.0000, 0.0020, 0.9980, 0.0020, 0.9980, 0.9980],\n",
       "         [1.0000, 0.9980, 0.9980, 1.0000, 0.0000, 0.0000, 0.9980, 0.0020,\n",
       "          0.9980, 0.0000, 0.0020, 0.0020, 0.0020, 0.9980, 1.0000, 1.0000],\n",
       "         [0.9980, 0.0020, 0.0020, 0.9980, 0.9980, 0.0020, 0.9980, 0.0020,\n",
       "          0.0020, 0.9980, 0.0020, 0.0000, 0.9980, 0.0020, 0.9980, 0.0020],\n",
       "         [0.0020, 0.9980, 0.9980, 0.0020, 1.0000, 0.0000, 0.0020, 0.9980,\n",
       "          0.0000, 0.0020, 0.0020, 0.0000, 0.0000, 0.0020, 0.0020, 0.0020]]],\n",
       "       grad_fn=<SelectBackward0>)"
      ]
     },
     "execution_count": 21,
     "metadata": {},
     "output_type": "execute_result"
    }
   ],
   "source": [
    "# The function returns the adversarial example and the perturbations\n",
    "adversarial_examples, perturb_grad = fgsm_attack(model=loaded_malware_classifier, X=X, y=y, eps=eps)\n",
    "\n",
    "# Take a sneak peak at the first adversarial example\n",
    "adversarial_examples[0]"
   ]
  },
  {
   "cell_type": "code",
   "execution_count": 22,
   "id": "a8c51549",
   "metadata": {},
   "outputs": [
    {
     "name": "stdout",
     "output_type": "stream",
     "text": [
      "Shape of the adversarial example is: torch.Size([1000, 1, 16, 16])\n"
     ]
    }
   ],
   "source": [
    "# Let's see what this looks like\n",
    "# As shown below, we have 1 batch of 1 channel with a height of 256 and a width of 256\n",
    "# For plotting we will need to reshape this\n",
    "print(f'Shape of the adversarial example is: {adversarial_examples.size()}')"
   ]
  },
  {
   "cell_type": "code",
   "execution_count": 23,
   "id": "af0e2358",
   "metadata": {},
   "outputs": [],
   "source": [
    "# Make inference on the adversarial examples\n",
    "with torch.inference_mode(mode=True):\n",
    "    adversarial_logits = loaded_malware_classifier(adversarial_examples)\n",
    "    adversarial_predictions = torch.argmax(input=adversarial_logits, dim=-1)"
   ]
  },
  {
   "cell_type": "code",
   "execution_count": 24,
   "id": "43460791",
   "metadata": {},
   "outputs": [
    {
     "data": {
      "text/plain": [
       "tensor(0.8450)"
      ]
     },
     "execution_count": 24,
     "metadata": {},
     "output_type": "execute_result"
    }
   ],
   "source": [
    "# What is the accuracy on our adversarial examples?\n",
    "(adversarial_predictions.cpu() == y).sum() / len(adversarial_examples)"
   ]
  },
  {
   "cell_type": "code",
   "execution_count": 25,
   "id": "6b65fd25",
   "metadata": {},
   "outputs": [
    {
     "data": {
      "text/plain": [
       "tensor(0.1550)"
      ]
     },
     "execution_count": 25,
     "metadata": {},
     "output_type": "execute_result"
    }
   ],
   "source": [
    "# What is the adversarial success rate?\n",
    "# As in how many labels were we able to flip\n",
    "(y != adversarial_predictions.cpu()).sum() / len(adversarial_predictions)"
   ]
  },
  {
   "cell_type": "code",
   "execution_count": 26,
   "id": "7d09430e",
   "metadata": {},
   "outputs": [],
   "source": [
    "# Make a prediction on the adersarial example\n",
    "# We see the sample is classified as benign.\n",
    "# Remember, this sample is from the known malware set\n",
    "#with torch.inference_mode(mode=True):\n",
    "#    loaded_malware_classifier.eval()\n",
    "#    prediction = loaded_malware_classifier(adv_example[:1].argmax(dim=-1))\n",
    "    #print(f'[*] {dt.now()} MALWARE' if prediction.item() == 1 else f'{dt.now()} Looks Normal')\n",
    "    #print(f'Model predicted: {prediction.item():.4f}')\n",
    "    #print(f'When rounded the class is: {int(prediction.round().item())}')\n"
   ]
  },
  {
   "cell_type": "code",
   "execution_count": 27,
   "id": "04c716fc",
   "metadata": {},
   "outputs": [
    {
     "data": {
      "image/png": "[encoded data removed]",
      "text/plain": [
       "<Figure size 1000x1000 with 20 Axes>"
      ]
     },
     "metadata": {},
     "output_type": "display_data"
    }
   ],
   "source": [
    "# With all of this in place let's visualize a few samples\n",
    "# You can adjust the size here\n",
    "tmp_indicies = np.random.randint(low=0, high=len(adversarial_examples), size=(20))\n",
    "\n",
    "plt.figure(figsize=(10, 10))\n",
    "for idx, value in enumerate(tmp_indicies):\n",
    "    # Adjust the 4,5 here, if you changed the size above\n",
    "    # Ensure it is a multiple of size\n",
    "    ax = plt.subplot(4,5,idx+1)\n",
    "    ax.set_title(label=malware_labels[y[value.item() ].item() ])\n",
    "    ax.imshow(X=adversarial_examples.cpu()[value].detach().numpy().reshape(16, -1), cmap='gray')\n",
    "    plt.xticks([])\n",
    "    plt.yticks([])\n",
    "\n",
    "plt.tight_layout()"
   ]
  },
  {
   "cell_type": "code",
   "execution_count": 28,
   "metadata": {},
   "outputs": [
    {
     "data": {
      "image/png": "[encoded data removed]",
      "text/plain": [
       "<Figure size 1500x700 with 5 Axes>"
      ]
     },
     "metadata": {},
     "output_type": "display_data"
    }
   ],
   "source": [
    "# We can now go ahead and plot the original image and the adversarial example\n",
    "fig = plt.figure(figsize=(15,7))\n",
    "ax = fig.add_subplot(1,5,1)\n",
    "\n",
    "# Detach is called because we calculated gradients\n",
    "# By detaching we are no removing the need to backpropagate\n",
    "ax.imshow(X[0].detach().squeeze(dim=0).squeeze(dim=0), cmap='gray')\n",
    "ax.set_axis_off()\n",
    "ax.set_title(label='Original Image')\n",
    "\n",
    "# Add the text\n",
    "ax = fig.add_subplot(1,5,2)\n",
    "ax.text(x=.2, y=.5, s=f' + {eps} * ', fontdict={'size' : 20 })\n",
    "ax.set_axis_off()\n",
    "\n",
    "# The perturbations are the gradients\n",
    "ax = fig.add_subplot(1,5,3)\n",
    "ax.imshow(perturb_grad.cpu()[0].detach().squeeze(dim=0).squeeze(dim=0), cmap='gray')\n",
    "ax.set_axis_off()\n",
    "ax.set_title(label='Perturbation')\n",
    "\n",
    "# Add the text\n",
    "ax = fig.add_subplot(1,5,4)\n",
    "ax.text(x=.4, y=.5, s=f' = ', fontdict={'size' : 20 })\n",
    "ax.set_axis_off()\n",
    "\n",
    "ax = fig.add_subplot(1,5,5)\n",
    "# Detach is called because we calculated gradients\n",
    "# By detaching we are no removing the need to backpropagate\n",
    "ax.imshow(adversarial_examples.cpu()[0].detach().numpy().squeeze(), cmap='gray')\n",
    "ax.set_axis_off()\n",
    "ax.set_title(label='Adversarial Example');"
   ]
  },
  {
   "cell_type": "code",
   "execution_count": 29,
   "metadata": {},
   "outputs": [
    {
     "data": {
      "text/plain": [
       "0.002"
      ]
     },
     "execution_count": 29,
     "metadata": {},
     "output_type": "execute_result"
    }
   ],
   "source": [
    "# Previously we used an EPS value of \n",
    "eps"
   ]
  },
  {
   "cell_type": "code",
   "execution_count": 30,
   "metadata": {},
   "outputs": [
    {
     "data": {
      "text/plain": [
       "[0, 0.01, 0.02, 0.002, 0.001, 0.007, 0.07, 0.59, 1]"
      ]
     },
     "execution_count": 30,
     "metadata": {},
     "output_type": "execute_result"
    }
   ],
   "source": [
    "# Let's try a few examples to see how the model performances\n",
    "eps_values = [0, 0.01, 0.02, 0.002, 0.001, 0.007, 0.07, 0.59, 1]\n",
    "eps_values"
   ]
  },
  {
   "cell_type": "code",
   "execution_count": 31,
   "metadata": {},
   "outputs": [
    {
     "name": "stdout",
     "output_type": "stream",
     "text": [
      "We have 1000 malware samples\n"
     ]
    }
   ],
   "source": [
    "# Creating a function to help validating mutiple samples\n",
    "# We currently have\n",
    "print(f'We have {adversarial_examples.size(dim=0)} malware samples')"
   ]
  },
  {
   "cell_type": "code",
   "execution_count": 32,
   "id": "00306e99",
   "metadata": {},
   "outputs": [
    {
     "name": "stdout",
     "output_type": "stream",
     "text": [
      "For eps: 0 -> Model Accuracy: 0.843 \t adversarial accuracy: 0.157\n",
      "For eps: 0.01 -> Model Accuracy: 0.665 \t adversarial accuracy: 0.335\n",
      "For eps: 0.02 -> Model Accuracy: 0.496 \t adversarial accuracy: 0.504\n",
      "For eps: 0.002 -> Model Accuracy: 0.803 \t adversarial accuracy: 0.197\n",
      "For eps: 0.001 -> Model Accuracy: 0.826 \t adversarial accuracy: 0.174\n",
      "For eps: 0.007 -> Model Accuracy: 0.718 \t adversarial accuracy: 0.282\n",
      "For eps: 0.07 -> Model Accuracy: 0.003 \t adversarial accuracy: 0.997\n",
      "For eps: 0.59 -> Model Accuracy: 0.005 \t adversarial accuracy: 0.995\n",
      "For eps: 1 -> Model Accuracy: 0.171 \t adversarial accuracy: 0.829\n"
     ]
    }
   ],
   "source": [
    "# Try multiple eps values, to check the prediction, adversarial success and overall accuracy\n",
    "accuracy_tracker = []\n",
    "adversarial_success = []\n",
    "predictions = []\n",
    "\n",
    "for eps in eps_values:\n",
    "    adv_examples, _ = fgsm_attack(model=loaded_malware_classifier, X=X, y=y, eps=eps)\n",
    "    with torch.inference_mode(mode=True):\n",
    "        model_prediction = loaded_malware_classifier(adv_examples).round()\n",
    "\n",
    "        accuracy = (model_prediction.argmax(dim=-1) == y).sum() / y.size(dim=0)\n",
    "        accuracy_tracker.append(accuracy)\n",
    "        adversarial_success.append(1 - accuracy)\n",
    "        print(f'For eps: {eps} -> Model Accuracy: {accuracy:.3f} \\t adversarial accuracy: {1 - accuracy:.3f}')"
   ]
  },
  {
   "cell_type": "code",
   "execution_count": 33,
   "id": "9942090f",
   "metadata": {},
   "outputs": [
    {
     "data": {
      "image/png": "[encoded data removed]",
      "text/plain": [
       "<Figure size 640x480 with 1 Axes>"
      ]
     },
     "metadata": {},
     "output_type": "display_data"
    }
   ],
   "source": [
    "# plot the different eps values\n",
    "plt.title('Accuracy of model against adversarial samples')\n",
    "plt.plot(accuracy_tracker, label='Model Accuracy')\n",
    "plt.plot(adversarial_success, label='Adversarial Success')\n",
    "plt.xlabel('Epochs')\n",
    "plt.ylabel('Probabilities')\n",
    "plt.legend()\n",
    "plt.show()\n"
   ]
  },
  {
   "cell_type": "code",
   "execution_count": 34,
   "id": "189cb7c3",
   "metadata": {},
   "outputs": [
    {
     "name": "stdout",
     "output_type": "stream",
     "text": [
      "Cleaning cpu cache\n"
     ]
    }
   ],
   "source": [
    "# With the training finish clear the GPU cache\n",
    "# Setup the device to work with\n",
    "if torch.cuda.is_available():\n",
    "    # For CUDA GPU\n",
    "    print(f'Cleaning {device} cache')\n",
    "    torch.cuda.empty_cache()\n",
    "elif torch.backends.mps.is_available():\n",
    "    # For Apple devices\n",
    "    print(f'Cleaning {device} cache')\n",
    "    torch.mps.empty_cache()\n",
    "else:\n",
    "    # Default to cpu\n",
    "    pass"
   ]
  },
  {
   "cell_type": "markdown",
   "id": "639c18a8",
   "metadata": {},
   "source": [
    "Wee above that the model is not very robust to the adversarial examples. The accuracy of the model has dropped significantly based on the EPS\n",
    "\n",
    "### Lab Takeaways:  \n",
    "- We were able to build the FGSM algorithm from scratch   \n",
    "- We saw that the value of eps can play a significant role in the adversarial success "
   ]
  },
  {
   "cell_type": "code",
   "execution_count": null,
   "id": "d7f40888",
   "metadata": {},
   "outputs": [],
   "source": []
  }
 ],
 "metadata": {
  "kernelspec": {
   "display_name": "adversarial_ai",
   "language": "python",
   "name": "python3"
  },
  "language_info": {
   "codemirror_mode": {
    "name": "ipython",
    "version": 3
   },
   "file_extension": ".py",
   "mimetype": "text/x-python",
   "name": "python",
   "nbconvert_exporter": "python",
   "pygments_lexer": "ipython3",
   "version": "3.12.11"
  }
 },
 "nbformat": 4,
 "nbformat_minor": 5
}
