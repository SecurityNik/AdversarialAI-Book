{
 "cells": [
  {
   "cell_type": "markdown",
   "id": "29e18f21",
   "metadata": {},
   "source": [
    "<img style=\"max-width:20em; height:auto;\" src=\"../graphics/A-Little-Book-on-Adversarial-AI-Cover.png\"/>"
   ]
  },
  {
   "cell_type": "markdown",
   "id": "eb0eb277",
   "metadata": {},
   "source": [
    "Author: Nik Alleyne   \n",
    "Author Blog: https://www.securitynik.com   \n",
    "Author GitHub: github.com/securitynik   \n",
    "\n",
    "Author Other Books: [   \n",
    "\n",
    "            \"https://www.amazon.ca/Learning-Practicing-Leveraging-Practical-Detection/dp/1731254458/\",   \n",
    "            \n",
    "            \"https://www.amazon.ca/Learning-Practicing-Mastering-Network-Forensics/dp/1775383024/\"   \n",
    "        ]   \n",
    "\n",
    "\n",
    "This notebook ***(gradient_descent_backpropagation_continued.ipynb)*** is part of the series of notebooks From ***A Little Book on Adversarial AI***  A free ebook released by Nik Alleyne   "
   ]
  },
  {
   "cell_type": "markdown",
   "id": "c95ff234",
   "metadata": {},
   "source": [
    "### Lab Objectives:   \n",
    "- Build on what we learned in the lab  ***Beginning Gradient Descent.ipynb***   \n",
    "- Implement Gradient Descent from scratch   \n",
    "\n",
    "### Step 1:   "
   ]
  },
  {
   "cell_type": "code",
   "execution_count": 1,
   "id": "79c025e5",
   "metadata": {},
   "outputs": [],
   "source": [
    "# import the libraries  \n",
    "import numpy as np\n",
    "import torch\n",
    "import torch.nn as nn\n",
    "import torch.nn.functional as F\n",
    "import matplotlib.pyplot as plt"
   ]
  },
  {
   "cell_type": "code",
   "execution_count": 2,
   "id": "b94d69d8",
   "metadata": {},
   "outputs": [
    {
     "data": {
      "text/plain": [
       "(array([[-2],\n",
       "        [ 5],\n",
       "        [-4],\n",
       "        [ 3],\n",
       "        [ 5]]),\n",
       " array([0.92, 5.  , 2.  , 1.  , 2.  ]))"
      ]
     },
     "execution_count": 2,
     "metadata": {},
     "output_type": "execute_result"
    }
   ],
   "source": [
    "# Setup some fake data for simple linear regression\n",
    "# Here we have 4 samples with their targets\n",
    "X = np.array([[-2], [5], [-4], [3], [5]])\n",
    "y = np.array([0.92, 5, 2, 1, 2])\n",
    "X, y"
   ]
  },
  {
   "cell_type": "markdown",
   "id": "350ff04c",
   "metadata": {},
   "source": [
    "Create our own Gradient Descent Class  \n",
    "### Step 2:"
   ]
  },
  {
   "cell_type": "code",
   "execution_count": 14,
   "id": "7603e372",
   "metadata": {},
   "outputs": [],
   "source": [
    "# Implement Gradient Descent\n",
    "class GradientDescent:\n",
    "    def __init__(self, lr=0.1, n_iters=10) -> None:\n",
    "        # Define the variables \n",
    "        self.lr = lr\n",
    "        self.n_iters = n_iters\n",
    "        self.cost_tracker = []\n",
    "        self.weights = None\n",
    "        self.bias = None\n",
    "\n",
    "    def fit(self, X, y):\n",
    "        print('Training ...')\n",
    "        num_samples, num_features = X.shape\n",
    "\n",
    "        # Set the weights and bias to 0\n",
    "        self.weights = np.zeros(num_features)\n",
    "        self.bias = 0\n",
    "\n",
    "        # repeat the forward and backward pass \n",
    "        for i in range(self.n_iters):\n",
    "            # Make predictions on the entire dataset\n",
    "            y_pred = np.dot(X, self.weights) + self.bias\n",
    "\n",
    "            # Get the loss for the batch\n",
    "            cost = np.sum((y_pred - y)**2) /num_samples\n",
    "\n",
    "            # Append the loss to our loss_tracker\n",
    "            self.cost_tracker.append(cost) \n",
    "\n",
    "            # Perform backpropagation\n",
    "            # Calculate the loss with respect to the weights and biases\n",
    "            dl_dw = (1/num_samples) * np.sum((y_pred-y) * X.T)\n",
    "            dl_db = (1/num_samples) * np.sum(y_pred-y)\n",
    "\n",
    "            # Perform Gradient Descent\n",
    "            # update the weights and biases   \n",
    "            self.weights = self.weights - (self.lr * dl_dw)\n",
    "            self.bias = self.bias - (self.lr * dl_db)\n",
    "\n",
    "\n",
    "            # Print the stats\n",
    "            print(f'Epoch: {i+1}/{self.n_iters} \\t loss: {cost} \\t lr: {self.lr:.4f}')\n",
    "        return self.weights, self.bias\n",
    "    \n",
    "    # Make the predictions\n",
    "    def predict(self, X):\n",
    "        print('Predicting ...')\n",
    "        # using the parameters that were learned above\n",
    "        return np.dot(X, self.weights) + self.bias\n",
    "       "
   ]
  },
  {
   "cell_type": "markdown",
   "id": "c6f516e3",
   "metadata": {},
   "source": [
    "With our class built, we can now go ahead and train the network\n",
    "\n",
    "### Step 3:  "
   ]
  },
  {
   "cell_type": "code",
   "execution_count": 15,
   "id": "31d1d3e1",
   "metadata": {},
   "outputs": [
    {
     "name": "stdout",
     "output_type": "stream",
     "text": [
      "Training ...\n",
      "Epoch: 1/10 \t loss: 6.96928 \t lr: 0.1000\n",
      "Epoch: 2/10 \t loss: 5.075199615999999 \t lr: 0.1000\n",
      "Epoch: 3/10 \t loss: 4.158210303488 \t lr: 0.1000\n",
      "Epoch: 4/10 \t loss: 3.626619434297507 \t lr: 0.1000\n",
      "Epoch: 5/10 \t loss: 3.2653462883384208 \t lr: 0.1000\n",
      "Epoch: 6/10 \t loss: 2.9929526938398596 \t lr: 0.1000\n",
      "Epoch: 7/10 \t loss: 2.7759753024195075 \t lr: 0.1000\n",
      "Epoch: 8/10 \t loss: 2.5986282727662138 \t lr: 0.1000\n",
      "Epoch: 9/10 \t loss: 2.4520117341419394 \t lr: 0.1000\n",
      "Epoch: 10/10 \t loss: 2.330204469471537 \t lr: 0.1000\n"
     ]
    },
    {
     "data": {
      "text/plain": [
       "(array([0.25545422]), np.float64(1.1619089364807467))"
      ]
     },
     "execution_count": 15,
     "metadata": {},
     "output_type": "execute_result"
    }
   ],
   "source": [
    "# Instantiate the class\n",
    "gradient_descent = GradientDescent()\n",
    "gradient_descent.fit(X=X, y=y)"
   ]
  },
  {
   "cell_type": "markdown",
   "id": "dbe69c6d",
   "metadata": {},
   "source": [
    "Visualize the loss. We can see above the loss is decreasing. Which is what we want. It is always best to also visualize this to see the trend. \n",
    "### Step 4:"
   ]
  },
  {
   "cell_type": "code",
   "execution_count": 5,
   "id": "36990c25",
   "metadata": {},
   "outputs": [
    {
     "data": {
      "image/png": "[encoded data removed]",
      "text/plain": [
       "<Figure size 640x480 with 1 Axes>"
      ]
     },
     "metadata": {},
     "output_type": "display_data"
    }
   ],
   "source": [
    "# plot the loss of the simple model\n",
    "plt.title('Plot of the loss')\n",
    "plt.plot(range(0, len(gradient_descent.cost_tracker), 1), gradient_descent.cost_tracker, label='Loss')\n",
    "plt.xlabel('epochs')\n",
    "plt.ylabel('Loss')\n",
    "plt.legend();"
   ]
  },
  {
   "cell_type": "markdown",
   "id": "fe76f757",
   "metadata": {},
   "source": [
    "### Lab Takeaways:   \n",
    "- Implement Gradient Descent from scratch to learn about the training process  \n",
    "- Visualize the training process. More specifically the loss  "
   ]
  },
  {
   "cell_type": "markdown",
   "id": "44bede5b",
   "metadata": {},
   "source": [
    "Additional References:     \n",
    "- https://github.com/SecurityNik/Data-Science-and-ML/blob/main/LinearRegression%20-%20Beginning%20Stochastic%20Gradient%20Descent.ipynb     \n",
    "- https://github.com/SecurityNik/Data-Science-and-ML/blob/main/Continuing%20Back%20Propagation%20-%20Gradient%20Descent%20-%20Tf%20GradientTape%20and%20PyTorch.ipynb    \n",
    "- https://github.com/SecurityNik/Data-Science-and-ML/blob/main/Continuing%20Back%20Propagation%20-%20Gradient%20Descent%20-%20Tf%20GradientTape%20and%20PyTorch.ipynb     \n",
    "\n",
    "- https://github.com/SecurityNik/Data-Science-and-ML/blob/main/LinearRegression%20-%20Beginning%20Stochastic%20Gradient%20Descent.ipynb\n",
    "\n"
   ]
  },
  {
   "cell_type": "code",
   "execution_count": null,
   "id": "f7882afc",
   "metadata": {},
   "outputs": [],
   "source": []
  }
 ],
 "metadata": {
  "kernelspec": {
   "display_name": "adversarial_ai",
   "language": "python",
   "name": "python3"
  },
  "language_info": {
   "codemirror_mode": {
    "name": "ipython",
    "version": 3
   },
   "file_extension": ".py",
   "mimetype": "text/x-python",
   "name": "python",
   "nbconvert_exporter": "python",
   "pygments_lexer": "ipython3",
   "version": "3.12.11"
  }
 },
 "nbformat": 4,
 "nbformat_minor": 5
}
