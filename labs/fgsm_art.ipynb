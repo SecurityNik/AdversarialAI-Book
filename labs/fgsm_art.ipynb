{
 "cells": [
  {
   "cell_type": "markdown",
   "metadata": {},
   "source": [
    "<img style=\"max-width:20em; height:auto;\" src=\"../graphics/A-Little-Book-on-Adversarial-AI-Cover.png\"/>"
   ]
  },
  {
   "cell_type": "markdown",
   "metadata": {},
   "source": [
    "Author: Nik Alleyne   \n",
    "Author Blog: https://www.securitynik.com   \n",
    "Author GitHub: github.com/securitynik   \n",
    "\n",
    "Author Other Books: [   \n",
    "\n",
    "            \"https://www.amazon.ca/Learning-Practicing-Leveraging-Practical-Detection/dp/1731254458/\",   \n",
    "            \n",
    "            \"https://www.amazon.ca/Learning-Practicing-Mastering-Network-Forensics/dp/1775383024/\"   \n",
    "        ]   \n",
    "\n",
    "\n",
    "This notebook ***(fgsm_art.ipynb)*** is part of the series of notebooks From ***A Little Book on Adversarial AI***  A free ebook released by Nik Alleyne"
   ]
  },
  {
   "cell_type": "markdown",
   "metadata": {},
   "source": [
    "### Fast Gradient Sign Method (FGSM) using ART"
   ]
  },
  {
   "cell_type": "markdown",
   "metadata": {},
   "source": [
    "### Lab objectives:    \n",
    "- Learn the basics of FGSM \n",
    "- Visualize the data distribution for the adversarial examples vs the real examples   \n",
    "- Look at this from a two dimension perspective   \n",
    "\n",
    "### Step 1:   \n",
    "Get the sample data   "
   ]
  },
  {
   "cell_type": "code",
   "execution_count": 1,
   "metadata": {},
   "outputs": [],
   "source": [
    "# Import some libraries  \n",
    "# https://embracethered.com/blog/posts/2020/husky-ai-adversarial-robustness-toolbox-testing/\n",
    "from sklearn.datasets import make_moons\n",
    "import torch\n",
    "import torch.nn as nn\n",
    "import torch.nn.functional as F\n",
    "from sklearn.model_selection import train_test_split"
   ]
  },
  {
   "cell_type": "code",
   "execution_count": 2,
   "metadata": {},
   "outputs": [
    {
     "name": "stdout",
     "output_type": "stream",
     "text": [
      "Torch version used:  2.7.1+cu128\n"
     ]
    }
   ],
   "source": [
    "### Version of key libraries used  \n",
    "print(f'Torch version used:  {torch.__version__}')"
   ]
  },
  {
   "cell_type": "code",
   "execution_count": 3,
   "metadata": {},
   "outputs": [
    {
     "name": "stdout",
     "output_type": "stream",
     "text": [
      "Setting the device to cuda\n"
     ]
    }
   ],
   "source": [
    "# Setup the device to work with\n",
    "# This should ensure if there are accelerators in place, such as Apple backend or CUDA, \n",
    "# we should be able to take advantage of it.\n",
    "\n",
    "if torch.cuda.is_available():\n",
    "    print('Setting the device to cuda')\n",
    "    device = 'cuda'\n",
    "elif torch.backends.mps.is_available():\n",
    "    print('Setting the device to Apple mps')\n",
    "    device = 'mps'\n",
    "else:\n",
    "    print('Setting the device to CPU')\n",
    "    device = torch.device('cpu')"
   ]
  },
  {
   "cell_type": "code",
   "execution_count": 4,
   "metadata": {},
   "outputs": [
    {
     "data": {
      "text/plain": [
       "((75, 2), (25, 2), (75,), (25,))"
      ]
     },
     "execution_count": 4,
     "metadata": {},
     "output_type": "execute_result"
    }
   ],
   "source": [
    "# Get the toy dataset  \n",
    "X, y = make_moons()\n",
    "X_train, X_test, y_train, y_test = train_test_split(X, y, random_state=10, shuffle=True)\n",
    "\n",
    "# Get the shape of the data\n",
    "X_train.shape, X_test.shape, y_train.shape, y_test.shape"
   ]
  },
  {
   "cell_type": "code",
   "execution_count": 5,
   "metadata": {},
   "outputs": [
    {
     "data": {
      "text/plain": [
       "(torch.Size([75, 2]), torch.Size([75, 1]))"
      ]
     },
     "execution_count": 5,
     "metadata": {},
     "output_type": "execute_result"
    }
   ],
   "source": [
    "# Convert the features to torch tensor\n",
    "X_train_t = torch.tensor(X_train, dtype=torch.float, device=device)\n",
    "X_test_t = torch.tensor(X_test, dtype=torch.float, device=device)\n",
    "\n",
    "# Convert the labels to tensors\n",
    "y_train_t = torch.tensor(y_train.reshape(-1, 1), dtype=torch.float, device=device)\n",
    "y_test_t = torch.tensor(y_test.reshape(-1, 1), dtype=torch.float, device=device)\n",
    "\n",
    "X_train_t.size(), y_train_t.size()"
   ]
  },
  {
   "cell_type": "markdown",
   "metadata": {},
   "source": [
    "### Step 2:   \n",
    "Setup the model   "
   ]
  },
  {
   "cell_type": "code",
   "execution_count": 6,
   "metadata": {},
   "outputs": [
    {
     "data": {
      "text/plain": [
       "MakeBlobs(\n",
       "  (fc1): Linear(in_features=2, out_features=8, bias=True)\n",
       "  (fc2): Linear(in_features=8, out_features=1, bias=True)\n",
       ")"
      ]
     },
     "execution_count": 6,
     "metadata": {},
     "output_type": "execute_result"
    }
   ],
   "source": [
    "# build a torch model\n",
    "class MakeBlobs(nn.Module):\n",
    "    def __init__(self, ):\n",
    "        super().__init__()\n",
    "        self.fc1 = nn.Linear(in_features=X_train_t.size(dim=1), out_features=8, bias=True)\n",
    "        self.fc2 = nn.Linear(in_features=8, out_features=1, bias=True)\n",
    "    \n",
    "    def forward(self, x):\n",
    "        x = F.relu(self.fc1(x))\n",
    "        x = F.sigmoid(self.fc2(x))\n",
    "        return x\n",
    "    \n",
    "torch.manual_seed(seed=10)\n",
    "model = MakeBlobs().to(device=device)\n",
    "model"
   ]
  },
  {
   "cell_type": "code",
   "execution_count": 7,
   "metadata": {},
   "outputs": [
    {
     "data": {
      "text/plain": [
       "tensor([[0.4896],\n",
       "        [0.5373],\n",
       "        [0.4897],\n",
       "        [0.4828],\n",
       "        [0.4798]], device='cuda:0', grad_fn=<SigmoidBackward0>)"
      ]
     },
     "execution_count": 7,
     "metadata": {},
     "output_type": "execute_result"
    }
   ],
   "source": [
    "# Run the model against some test data to ensure all is well\n",
    "model(X_train_t[:5])"
   ]
  },
  {
   "cell_type": "markdown",
   "metadata": {},
   "source": [
    "### Step 3:   \n",
    "Setup the training loop   "
   ]
  },
  {
   "cell_type": "code",
   "execution_count": 8,
   "metadata": {},
   "outputs": [
    {
     "name": "stdout",
     "output_type": "stream",
     "text": [
      "Epoch: 1/50 \tloss: 0.6690366268157959 \t accuracy: 0.7599999904632568\n",
      "Epoch: 11/50 \tloss: 0.2575102150440216 \t accuracy: 0.8799999952316284\n",
      "Epoch: 21/50 \tloss: 0.16351546347141266 \t accuracy: 0.9333333373069763\n",
      "Epoch: 31/50 \tloss: 0.1160283163189888 \t accuracy: 0.9466667175292969\n",
      "Epoch: 41/50 \tloss: 0.07961217314004898 \t accuracy: 0.9733333587646484\n"
     ]
    }
   ],
   "source": [
    "loss_fn = nn.BCELoss()\n",
    "optim = torch.optim.AdamW(model.parameters(), lr=0.11)\n",
    "num_epochs = 50\n",
    "\n",
    "for epoch in range(num_epochs):\n",
    "    for p in model.parameters():\n",
    "        p.grad = None\n",
    "    \n",
    "    y_preds = model(X_train_t)\n",
    "    loss = loss_fn(input=y_preds, target=y_train_t)\n",
    "    loss.backward()\n",
    "    optim.step()\n",
    "\n",
    "    accuracy = (y_preds.round() == y_train_t).sum()/y_train_t.size(dim=0)\n",
    "\n",
    "    if epoch %10 == 0:\n",
    "        print(f'Epoch: {epoch+1}/{num_epochs} \\tloss: {loss} \\t accuracy: {accuracy}')"
   ]
  },
  {
   "cell_type": "markdown",
   "metadata": {},
   "source": [
    "### Step 4:   \n",
    "Setup the ART environment   "
   ]
  },
  {
   "cell_type": "code",
   "execution_count": 9,
   "metadata": {},
   "outputs": [],
   "source": [
    "# Get the needed libraries from ART\n",
    "from art.estimators.classification import PyTorchClassifier\n",
    "from art.attacks.evasion import FastGradientMethod"
   ]
  },
  {
   "cell_type": "code",
   "execution_count": 10,
   "metadata": {},
   "outputs": [
    {
     "data": {
      "text/plain": [
       "art.estimators.classification.pytorch.PyTorchClassifier(model=ModelWrapper(\n",
       "  (_model): MakeBlobs(\n",
       "    (fc1): Linear(in_features=2, out_features=8, bias=True)\n",
       "    (fc2): Linear(in_features=8, out_features=1, bias=True)\n",
       "  )\n",
       "), loss=BCELoss(), optimizer=AdamW (\n",
       "Parameter Group 0\n",
       "    amsgrad: False\n",
       "    betas: (0.9, 0.999)\n",
       "    capturable: False\n",
       "    decoupled_weight_decay: True\n",
       "    differentiable: False\n",
       "    eps: 1e-08\n",
       "    foreach: None\n",
       "    fused: None\n",
       "    lr: 0.11\n",
       "    maximize: False\n",
       "    weight_decay: 0.01\n",
       "), input_shape=2, nb_classes=2, channels_first=True, clip_values=None, preprocessing_defences=None, postprocessing_defences=None, preprocessing=StandardisationMeanStdPyTorch(mean=0.0, std=1.0, apply_fit=True, apply_predict=True, device=cuda:0))"
      ]
     },
     "execution_count": 10,
     "metadata": {},
     "output_type": "execute_result"
    }
   ],
   "source": [
    "# Create teh ART classifier\n",
    "art_clf = PyTorchClassifier(model=model, loss=loss_fn, optimizer=optim, input_shape=X_train_t.size(dim=-1), nb_classes=2, device_type=device)\n",
    "art_clf"
   ]
  },
  {
   "cell_type": "markdown",
   "metadata": {},
   "source": [
    "### Step 5:   \n",
    "Setup the ART attack and generate the adversarial examples   "
   ]
  },
  {
   "cell_type": "code",
   "execution_count": 11,
   "metadata": {},
   "outputs": [
    {
     "data": {
      "text/plain": [
       "array([[ 0.20820999,  0.5721228 ],\n",
       "       [ 1.0014136 ,  0.79811054],\n",
       "       [ 0.27308324,  0.324733  ],\n",
       "       [-1.19179   ,  0.32787716],\n",
       "       [ 0.85463494, -0.23846842],\n",
       "       [-0.2       ,  0.7       ],\n",
       "       [ 0.6625383 ,  1.0865993 ],\n",
       "       [ 0.60478336,  1.1144127 ],\n",
       "       [ 0.7374617 , -0.1865993 ],\n",
       "       [-1.0713187 ,  0.6907176 ],\n",
       "       [ 1.19179   ,  0.32787716],\n",
       "       [-0.77211666,  1.0201722 ],\n",
       "       [ 0.23270515,  0.44634542],\n",
       "       [ 0.6816074 , -0.15514277],\n",
       "       [-1.0380881 ,  0.7455349 ],\n",
       "       [ 0.97747904, -0.2749279 ],\n",
       "       [-0.8234898 ,  0.9818315 ],\n",
       "       [ 1.4723009 , -0.04027799],\n",
       "       [ 1.1815592 ,  0.39115864],\n",
       "       [ 1.6014136 ,  0.10188948],\n",
       "       [ 0.21844085,  0.5088414 ],\n",
       "       [ 0.71839255,  1.0551428 ],\n",
       "       [-0.23205158,  1.1994863 ],\n",
       "       [ 1.7009689 ,  0.26611626],\n",
       "       [ 1.0380881 ,  0.7455349 ]], dtype=float32)"
      ]
     },
     "execution_count": 11,
     "metadata": {},
     "output_type": "execute_result"
    }
   ],
   "source": [
    "# Create the ART attack \n",
    "aft_fgsm_attack = FastGradientMethod(estimator=art_clf, eps=0.2)\n",
    "\n",
    "# Generate the adversarial examples\n",
    "adversarial_examples = aft_fgsm_attack.generate(X_test.astype('float32'))\n",
    "adversarial_examples"
   ]
  },
  {
   "cell_type": "code",
   "execution_count": 12,
   "metadata": {},
   "outputs": [
    {
     "data": {
      "text/plain": [
       "(tensor(0.9600, device='cuda:0'), tensor(0.8000, device='cuda:0'))"
      ]
     },
     "execution_count": 12,
     "metadata": {},
     "output_type": "execute_result"
    }
   ],
   "source": [
    "# compare the model's performance on the two datasets\n",
    "with torch.no_grad():\n",
    "    true_preds = model(X_test_t)\n",
    "    adversarial_preds = model(torch.tensor(adversarial_examples, dtype=torch.float32, device=device))\n",
    "\n",
    "\n",
    "    # Calculate the true accuracy\n",
    "    true_accuracy = (true_preds.round() == y_test_t).sum() / y_test_t.size(dim=0)\n",
    "\n",
    "    # Calculate the adversarial accuracy\n",
    "    adversarial_accuracy = (adversarial_preds.round() == y_test_t).sum() / y_test_t.size(dim=0)\n",
    "\n",
    "\n",
    "# Looks like the results is basically the same for both\n",
    "# Adversarial accuracy is how many labels remain the same after we added the perturbations\n",
    "true_accuracy, adversarial_accuracy"
   ]
  },
  {
   "cell_type": "code",
   "execution_count": 13,
   "metadata": {},
   "outputs": [
    {
     "data": {
      "text/plain": [
       "tensor(1., device='cuda:0')"
      ]
     },
     "execution_count": 13,
     "metadata": {},
     "output_type": "execute_result"
    }
   ],
   "source": [
    "# Calculate the adversarial success rate\n",
    "# This relates to how many labels were flipped from the original prediction after adding the perturbations\n",
    "(true_preds != adversarial_preds).sum() / len(true_preds)"
   ]
  },
  {
   "cell_type": "markdown",
   "metadata": {},
   "source": [
    "Above suggest we were able to flip all the labels, thus having an adversarial success of 100%   \n",
    "\n",
    "\n",
    "### Step 6:   \n",
    "View the distribution of the data   "
   ]
  },
  {
   "cell_type": "code",
   "execution_count": 14,
   "metadata": {},
   "outputs": [],
   "source": [
    "# Plot the results in two \n",
    "import matplotlib.pyplot as plt"
   ]
  },
  {
   "cell_type": "code",
   "execution_count": 15,
   "metadata": {},
   "outputs": [
    {
     "data": {
      "text/plain": [
       "<matplotlib.legend.Legend at 0x7f2ed7063350>"
      ]
     },
     "execution_count": 15,
     "metadata": {},
     "output_type": "execute_result"
    },
    {
     "data": {
      "image/png": "[encoded data removed]",
      "text/plain": [
       "<Figure size 640x480 with 1 Axes>"
      ]
     },
     "metadata": {},
     "output_type": "display_data"
    }
   ],
   "source": [
    "plt.scatter(X_test_t[:, 0].cpu(), X_test_t[:, 1].cpu(), s=100)\n",
    "plt.scatter(adversarial_examples[:, 0], adversarial_examples[:, 1], s=100)\n",
    "\n",
    "plt.legend(labels=['true labels', 'adversarial examples'])"
   ]
  },
  {
   "cell_type": "markdown",
   "metadata": {},
   "source": [
    "### Lab Takeaways:   \n",
    "- This was just a quick look to see what the distribution of the adversarial data looks like, when compared to the real data "
   ]
  },
  {
   "cell_type": "code",
   "execution_count": null,
   "metadata": {},
   "outputs": [],
   "source": []
  },
  {
   "cell_type": "markdown",
   "metadata": {},
   "source": []
  }
 ],
 "metadata": {
  "kernelspec": {
   "display_name": "adversarial_ai",
   "language": "python",
   "name": "python3"
  },
  "language_info": {
   "codemirror_mode": {
    "name": "ipython",
    "version": 3
   },
   "file_extension": ".py",
   "mimetype": "text/x-python",
   "name": "python",
   "nbconvert_exporter": "python",
   "pygments_lexer": "ipython3",
   "version": "3.12.11"
  }
 },
 "nbformat": 4,
 "nbformat_minor": 2
}
