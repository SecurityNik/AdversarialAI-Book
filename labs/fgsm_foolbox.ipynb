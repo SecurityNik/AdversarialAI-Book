{
 "cells": [
  {
   "cell_type": "markdown",
   "id": "51dbfbf6",
   "metadata": {},
   "source": [
    "<img style=\"max-width:20em; height:auto;\" src=\"../graphics/A-Little-Book-on-Adversarial-AI-Cover.png\"/>"
   ]
  },
  {
   "cell_type": "markdown",
   "id": "f2239603",
   "metadata": {},
   "source": [
    "Author: Nik Alleyne   \n",
    "Author Blog: https://www.securitynik.com   \n",
    "Author GitHub: github.com/securitynik   \n",
    "\n",
    "Author Other Books: [   \n",
    "\n",
    "            \"https://www.amazon.ca/Learning-Practicing-Leveraging-Practical-Detection/dp/1731254458/\",   \n",
    "            \n",
    "            \"https://www.amazon.ca/Learning-Practicing-Mastering-Network-Forensics/dp/1775383024/\"   \n",
    "        ]   \n",
    "\n",
    "\n",
    "This notebook ***(fgsm_foolbox.ipynb)*** is part of the series of notebooks From ***A Little Book on Adversarial AI***  A free ebook released by Nik Alleyne"
   ]
  },
  {
   "cell_type": "markdown",
   "id": "28723469",
   "metadata": {},
   "source": [
    "### Leverage Foolbox to do FGSM"
   ]
  },
  {
   "cell_type": "markdown",
   "id": "1fdcbeb5",
   "metadata": {},
   "source": [
    "### Lab Objectives:  \n",
    "- Use a framework to simplify the problem of performing FGSM attack  \n",
    "- Learn how to use *foolbox*   \n",
    "- Build on what we learnt earlier    \n",
    "- Introduce the foolbox framework  \n",
    "\n",
    "\n",
    "### Step 1:   \n",
    "Get the data"
   ]
  },
  {
   "cell_type": "code",
   "execution_count": 1,
   "id": "74906a53",
   "metadata": {},
   "outputs": [],
   "source": [
    "# https://arxiv.org/pdf/2010.01950\n",
    "# https://ar5iv.labs.arxiv.org/html/2010.01950\n",
    "import foolbox as fb\n",
    "import torch\n",
    "import numpy as np\n",
    "\n",
    "import matplotlib.pyplot as plt"
   ]
  },
  {
   "cell_type": "code",
   "execution_count": 2,
   "id": "58eb1120",
   "metadata": {},
   "outputs": [
    {
     "name": "stdout",
     "output_type": "stream",
     "text": [
      "Torch version used:  2.7.1+cu128\n",
      "Foolbox version used:  3.3.4\n"
     ]
    }
   ],
   "source": [
    "### Version of key libraries used  \n",
    "print(f'Torch version used:  {torch.__version__}')\n",
    "print(f'Foolbox version used:  {fb.__version__}')"
   ]
  },
  {
   "cell_type": "code",
   "execution_count": 3,
   "id": "d5ff00eb",
   "metadata": {},
   "outputs": [
    {
     "name": "stdout",
     "output_type": "stream",
     "text": [
      "Setting the device to cuda\n"
     ]
    }
   ],
   "source": [
    "# Setup the device to work with\n",
    "# This should ensure if there are accelerators in place, such as Apple backend or CUDA, \n",
    "# we should be able to take advantage of it.\n",
    "\n",
    "if torch.cuda.is_available():\n",
    "    print('Setting the device to cuda')\n",
    "    device = 'cuda'\n",
    "elif torch.backends.mps.is_available():\n",
    "    print('Setting the device to Apple mps')\n",
    "    device = 'mps'\n",
    "else:\n",
    "    print('Setting the device to CPU')\n",
    "    device = torch.device('cpu')"
   ]
  },
  {
   "cell_type": "code",
   "execution_count": 4,
   "id": "970f612d",
   "metadata": {},
   "outputs": [
    {
     "data": {
      "text/plain": [
       "((1000, 256), (1000,))"
      ]
     },
     "execution_count": 4,
     "metadata": {},
     "output_type": "execute_result"
    }
   ],
   "source": [
    "# Load the test set\n",
    "# This is from the Tiny Malware\n",
    "X_y = np.load(r'../data/tiny_mal_net_X_y_test.npz', allow_pickle=False)\n",
    "X = X_y['X']\n",
    "y = X_y['y']\n",
    "\n",
    "# Get the shape of the dataset\n",
    "X.shape, y.shape"
   ]
  },
  {
   "cell_type": "code",
   "execution_count": 5,
   "id": "1c7ee7dc",
   "metadata": {},
   "outputs": [],
   "source": [
    "# Convert both the feature and targets to torch tensors\n",
    "# These currently have dimensions (1, 1, 256, 256) -> (batch_size, channels, height, width)\n",
    "X = torch.tensor(X.reshape(-1, 1, 16, 16), dtype=torch.float32, device=device)\n",
    "\n",
    "# Convert the labels also to torch tensors\n",
    "y = torch.tensor(y, dtype=torch.long, device=device)"
   ]
  },
  {
   "cell_type": "markdown",
   "id": "3c27b683",
   "metadata": {},
   "source": [
    "### Step 2:  \n",
    "Load the model  "
   ]
  },
  {
   "cell_type": "code",
   "execution_count": 6,
   "id": "f307eb93",
   "metadata": {},
   "outputs": [
    {
     "data": {
      "text/plain": [
       "RecursiveScriptModule(\n",
       "  original_name=MalClassifier\n",
       "  (conv_layers): RecursiveScriptModule(\n",
       "    original_name=Sequential\n",
       "    (0): RecursiveScriptModule(original_name=Conv2d)\n",
       "    (1): RecursiveScriptModule(original_name=BatchNorm2d)\n",
       "    (2): RecursiveScriptModule(original_name=ReLU)\n",
       "    (3): RecursiveScriptModule(original_name=Conv2d)\n",
       "    (4): RecursiveScriptModule(original_name=BatchNorm2d)\n",
       "    (5): RecursiveScriptModule(original_name=ReLU)\n",
       "    (6): RecursiveScriptModule(original_name=Conv2d)\n",
       "    (7): RecursiveScriptModule(original_name=BatchNorm2d)\n",
       "    (8): RecursiveScriptModule(original_name=ReLU)\n",
       "  )\n",
       "  (global_avg_pool): RecursiveScriptModule(original_name=AdaptiveAvgPool2d)\n",
       "  (classifier): RecursiveScriptModule(original_name=Conv2d)\n",
       ")"
      ]
     },
     "execution_count": 6,
     "metadata": {},
     "output_type": "execute_result"
    }
   ],
   "source": [
    "# Let's load the model we will target\n",
    "loaded_malware_classifier = torch.jit.load(r'../data/mal_net_tiny_malware_clf.jit', map_location=device)\n",
    "loaded_malware_classifier.eval()"
   ]
  },
  {
   "cell_type": "markdown",
   "id": "29ca5d1e",
   "metadata": {},
   "source": [
    "### Step 3:   \n",
    "Create the attack via *foolbox* "
   ]
  },
  {
   "cell_type": "code",
   "execution_count": 7,
   "id": "6b1f8e77",
   "metadata": {},
   "outputs": [],
   "source": [
    "# With that undersanding out of the way, let's now use the foolbox ai tool for performing the same attack\n",
    "# https://github.com/bethgelab/foolbox\n",
    "# https://foolbox.readthedocs.io/en/stable/index.html\n",
    "import foolbox as fb"
   ]
  },
  {
   "cell_type": "code",
   "execution_count": 8,
   "id": "00f6b73f",
   "metadata": {},
   "outputs": [
    {
     "data": {
      "text/plain": [
       "<foolbox.models.pytorch.PyTorchModel at 0x7f8d84266630>"
      ]
     },
     "execution_count": 8,
     "metadata": {},
     "output_type": "execute_result"
    }
   ],
   "source": [
    "# Setup the foolbox model\n",
    "fb_model = fb.PyTorchModel(model=loaded_malware_classifier, bounds=(0, 1))\n",
    "fb_model"
   ]
  },
  {
   "cell_type": "markdown",
   "id": "b39886a8",
   "metadata": {},
   "source": [
    "### Step 4:  \n",
    "Setup the PGD attack   "
   ]
  },
  {
   "cell_type": "code",
   "execution_count": 9,
   "id": "357b8d66",
   "metadata": {},
   "outputs": [
    {
     "data": {
      "text/plain": [
       "LinfFastGradientAttack(rel_stepsize=1.0, abs_stepsize=None, steps=1, random_start=False)"
      ]
     },
     "execution_count": 9,
     "metadata": {},
     "output_type": "execute_result"
    }
   ],
   "source": [
    "# Setup the Foolbox attack\n",
    "fb_fgsm_attack = fb.attacks.FGSM(random_start=False)\n",
    "fb_fgsm_attack"
   ]
  },
  {
   "cell_type": "code",
   "execution_count": 10,
   "id": "8a570b92",
   "metadata": {},
   "outputs": [],
   "source": [
    "# Generate the adversarial examples  \n",
    "raw_adversarial_examples, clipped_adversarial_examples, success =  fb_fgsm_attack(fb_model, X,  y, epsilons=0.007)"
   ]
  },
  {
   "cell_type": "code",
   "execution_count": 11,
   "id": "db4d26de",
   "metadata": {},
   "outputs": [
    {
     "data": {
      "text/plain": [
       "tensor(0.2530, device='cuda:0')"
      ]
     },
     "execution_count": 11,
     "metadata": {},
     "output_type": "execute_result"
    }
   ],
   "source": [
    "# Get the Attack Success Rate\n",
    "success.sum() / len(success)"
   ]
  },
  {
   "cell_type": "markdown",
   "id": "42f0998f",
   "metadata": {},
   "source": [
    "### Step 5:  \n",
    "Visualize the attack  "
   ]
  },
  {
   "cell_type": "code",
   "execution_count": 12,
   "id": "ef9d7f6e",
   "metadata": {},
   "outputs": [
    {
     "data": {
      "image/png": "[encoded data removed]",
      "text/plain": [
       "<Figure size 1500x700 with 3 Axes>"
      ]
     },
     "metadata": {},
     "output_type": "display_data"
    }
   ],
   "source": [
    "# We can now go ahead and plot the original image and the adversarial example\n",
    "fig = plt.figure(figsize=(15,7))\n",
    "ax = fig.add_subplot(1,3,1)\n",
    "\n",
    "# Detach is called because we calculated gradients\n",
    "# By detaching we are no removing the need to backpropagate\n",
    "ax.imshow(X[0].detach().squeeze(dim=0).squeeze(dim=0).cpu(), cmap='gray')\n",
    "ax.set_axis_off()\n",
    "ax.set_title(label='Original Image')\n",
    "\n",
    "# The perturbations are the gradients\n",
    "ax = fig.add_subplot(1,3,2)\n",
    "ax.imshow(raw_adversarial_examples[0].detach().squeeze(dim=0).squeeze(dim=0).cpu(), cmap='gray')\n",
    "ax.set_axis_off()\n",
    "ax.set_title(label='Raw Adv sample')\n",
    "\n",
    "ax = fig.add_subplot(1,3,3)\n",
    "# Detach is called because we calculated gradients\n",
    "# By detaching we are no removing the need to backpropagate\n",
    "ax.imshow(clipped_adversarial_examples[0].detach().squeeze().cpu(), cmap='gray')\n",
    "ax.set_axis_off()\n",
    "ax.set_title(label='Clipped Adv sample');"
   ]
  },
  {
   "cell_type": "markdown",
   "id": "2d05a60f",
   "metadata": {},
   "source": [
    "### Lab Takeaways:   \n",
    "- We were able leverage Foolbox to simplify the attack process \n"
   ]
  }
 ],
 "metadata": {
  "kernelspec": {
   "display_name": "adversarial_ai",
   "language": "python",
   "name": "python3"
  },
  "language_info": {
   "codemirror_mode": {
    "name": "ipython",
    "version": 3
   },
   "file_extension": ".py",
   "mimetype": "text/x-python",
   "name": "python",
   "nbconvert_exporter": "python",
   "pygments_lexer": "ipython3",
   "version": "3.12.11"
  }
 },
 "nbformat": 4,
 "nbformat_minor": 5
}
