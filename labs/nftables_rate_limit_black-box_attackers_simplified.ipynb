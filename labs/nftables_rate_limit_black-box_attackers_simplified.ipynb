{
 "cells": [
  {
   "cell_type": "markdown",
   "id": "8d5b0c79",
   "metadata": {},
   "source": [
    "<img style=\"max-width:20em; height:auto;\" src=\"../graphics/A-Little-Book-on-Adversarial-AI-Cover.png\"/>"
   ]
  },
  {
   "cell_type": "markdown",
   "id": "8faf7b1d",
   "metadata": {},
   "source": [
    "Author: Nik Alleyne   \n",
    "Author Blog: https://www.securitynik.com   \n",
    "Author GitHub: github.com/securitynik   \n",
    "\n",
    "Author Other Books: [   \n",
    "\n",
    "            \"https://www.amazon.ca/Learning-Practicing-Leveraging-Practical-Detection/dp/1731254458/\",   \n",
    "            \n",
    "            \"https://www.amazon.ca/Learning-Practicing-Mastering-Network-Forensics/dp/1775383024/\"   \n",
    "        ]   \n",
    "\n",
    "\n",
    "This notebook ***(knockoff-nets_v2_rate_limited_nftables_simplified.ipynb)*** is part of the series of notebooks From ***A Little Book on Adversarial AI***  A free ebook released by Nik Alleyne"
   ]
  },
  {
   "cell_type": "markdown",
   "id": "eb58e523",
   "metadata": {},
   "source": [
    "### SIMPLIFIED VIEW OF THE RATE FILTERING WITHOUT THE ADDITIONAL COMMENTS   \n",
    "- Feel free to copy and paste if you do not wish to type    \n",
    "- If you do type, pay attention to the escape sequence \"\\\" when using bash \n",
    "\n",
    "**Flush the ruleset**    \n",
    "sudo nft flush ruleset    \n",
    "\n",
    "**Verify no ruleset exists**   \n",
    "sudo nft --numeric list ruleset    \n",
    "\n",
    "**Create a table**   \n",
    "sudo nft add table ip INFERENCE_EP { comment \\\" ML_INFERENCE_ENDPOINT PROTECTION \\\" \\; }    \n",
    "\n",
    "**Create the rules container**    \n",
    "sudo nft add chain ip INFERENCE_EP input { type filter hook input priority 0 \\; policy accept \\; comment \\\"ML_INFERENCE_ENDPOINT RULES CONTAINER \\\" \\; }    \n",
    "\n",
    "**Create a named set to capture the suspicious IPs**    \n",
    "sudo nft add set ip INFERENCE_EP suspicious_api_access { type ipv4_addr \\; flags dynamic, timeout \\; timeout 5m \\; comment \\\" SUSPICIOUS IPS \\\" \\; }     \n",
    "\n",
    "**Create a rule to allow connections under the threshold**    \n",
    "sudo nft add rule ip INFERENCE_EP input ip protocol tcp tcp dport 5000 ct state new, untracked limit rate over 50/minute add @suspicious_api_access { ip saddr } accept comment \\\" ML_INFERENCE_ENDPOINT incoming connections \\\"    \n",
    "\n",
    "**Create a rule to drop traffic going across the threshold**    \n",
    "sudo nft add rule ip INFERENCE_EP input ip saddr @suspicious_api_access tcp dport 5000 log prefix \\\" SUSPICIOUS CONNECTIONS DROPPED \\\" counter drop    \n"
   ]
  },
  {
   "cell_type": "code",
   "execution_count": null,
   "id": "eee3f5a1",
   "metadata": {},
   "outputs": [],
   "source": []
  },
  {
   "cell_type": "markdown",
   "id": "08fcb42b",
   "metadata": {},
   "source": [
    "You can also validate that information is in your logs  \n",
    "First by using **dmesg**: $ **sudo dmesg --ctime**   \n",
    "then by $ **cat /var/log/syslog | grep SUSPICIOUS**   "
   ]
  },
  {
   "cell_type": "markdown",
   "id": "aecadf94",
   "metadata": {},
   "source": [
    "### Optional to help with testing your firewalls:   \n",
    "Testing our rule\n",
    "Open or split your current window into 4 different screens.\n",
    "\n",
    "\n",
    "let's start with installing hping3 \n",
    "$ sudo apt-install hping3\n",
    "\n",
    "\n",
    "In a separate window run tcpdump\n",
    "$sudo tcpdump -nni any port 5000\n",
    "\n",
    "\n",
    "In a separate window run a necat listener\n",
    "$ncat --verbose --listen --keep-open 5000\n",
    "\n",
    "\n",
    "# In another window make a connection to this netcat session to validate you can access the current listening session\n",
    "$ ncat --verbose 127.0.0.1 5000\n",
    "\n",
    "\n",
    "Assuming everything works as expected, you should have been able to make a successful connection from the client to the server. At the same time, you should see a successful 3-way handshake completed, which means your connection is now established.\n",
    "\n",
    "Press CTRL+C to break out of the ncat client window\n",
    "\n",
    "\n",
    "Now that we know that works, let's leverage HPing3 to generate some traffic\n",
    "\n",
    "$ sudo hping3 --count 20 --baseport 9876 --destport 5000 --keep  --syn  --interface eth0 127.0.0.1 --faster\n",
    "\n",
    "\n",
    "Now let's run HPing3 again this time increase the count parameter to a value of 100 or greater.\n",
    "$ sudo hping3 --count 100 --baseport 9876 --destport 5000 --keep  --syn  --interface eth0 127.0.0.1 --faster\n",
    "\n",
    "\n",
    "Now if we try to use ncat to connect to the listening netcat session, your connection has more than likely failed, assuming that we had our rules in place.  \n",
    "\n",
    "$ sudo dmesg --ctime\n",
    "\n",
    "\n",
    "$ If we instead wanted to follow the logs via syslog, we could do. \n",
    "$ tail --follow /var/log/syslog | grep kernel\n",
    "\n",
    "---------------------\n",
    "\n",
    "\n",
    "# Temporary disable the rules\n",
    "nft> add table inet API_SECURITY { flags dormant; }\n",
    "\n",
    "\n",
    "# Re-enable the rules\n",
    "nft> add table inet API_SECURITY\n",
    "\n",
    "\n",
    "------------\n",
    "\n",
    "With this in place, we have significantly impede the threat actor's ability of being successful with many blackbox attacks against our API endpoint."
   ]
  }
 ],
 "metadata": {
  "language_info": {
   "name": "python"
  }
 },
 "nbformat": 4,
 "nbformat_minor": 5
}
