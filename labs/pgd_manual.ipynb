{
 "cells": [
  {
   "cell_type": "markdown",
   "id": "7002c4fd",
   "metadata": {},
   "source": [
    "<img style=\"max-width:20em; height:auto;\" src=\"../graphics/A-Little-Book-on-Adversarial-AI-Cover.png\"/>"
   ]
  },
  {
   "cell_type": "markdown",
   "id": "36ca7df6",
   "metadata": {},
   "source": [
    "Author: Nik Alleyne   \n",
    "Author Blog: https://www.securitynik.com   \n",
    "Author GitHub: github.com/securitynik   \n",
    "\n",
    "Author Other Books: [   \n",
    "\n",
    "            \"https://www.amazon.ca/Learning-Practicing-Leveraging-Practical-Detection/dp/1731254458/\",   \n",
    "            \n",
    "            \"https://www.amazon.ca/Learning-Practicing-Mastering-Network-Forensics/dp/1775383024/\"   \n",
    "        ]   \n",
    "\n",
    "\n",
    "This notebook ***(pgd_manual.ipynb)*** is part of the series of notebooks From ***A Little Book on Adversarial AI***  A free ebook released by Nik Alleyne"
   ]
  },
  {
   "cell_type": "markdown",
   "id": "38cad358",
   "metadata": {},
   "source": [
    "### Projected Gradient Descent (PGD) Manual"
   ]
  },
  {
   "cell_type": "markdown",
   "id": "b515bd1d",
   "metadata": {},
   "source": [
    "### Lab Objectives:   \n",
    "- Learn about Projected Gradient Descent (PGD)   \n",
    "- Do it the hard way, by building our own function  \n",
    "- Visualize the perturbations and the adversarial examples  \n",
    "\n",
    "\n",
    "### Step 1:  "
   ]
  },
  {
   "cell_type": "code",
   "execution_count": 1,
   "id": "c20056b8",
   "metadata": {},
   "outputs": [],
   "source": [
    "# Import libraries\n",
    "import torch\n",
    "import torch.nn as nn\n",
    "import torch.nn.functional as F\n",
    "import numpy as np\n",
    "import matplotlib.pyplot as plt\n",
    "from datetime import datetime as dt"
   ]
  },
  {
   "cell_type": "code",
   "execution_count": 2,
   "id": "29bdc886",
   "metadata": {},
   "outputs": [
    {
     "name": "stdout",
     "output_type": "stream",
     "text": [
      "Torch version used:  2.7.1+cu128\n",
      "Numpy version used:  2.1.3\n"
     ]
    }
   ],
   "source": [
    "### Version of key libraries used  \n",
    "print(f'Torch version used:  {torch.__version__}')\n",
    "print(f'Numpy version used:  {np.__version__}')"
   ]
  },
  {
   "cell_type": "code",
   "execution_count": 3,
   "id": "331f3af0",
   "metadata": {},
   "outputs": [
    {
     "name": "stdout",
     "output_type": "stream",
     "text": [
      "Setting the device to cuda\n"
     ]
    }
   ],
   "source": [
    "# Setup the device to work with\n",
    "# This should ensure if there are accelerators in place, such as Apple backend or CUDA, \n",
    "# we should be able to take advantage of it.\n",
    "\n",
    "if torch.cuda.is_available():\n",
    "    print('Setting the device to cuda')\n",
    "    device = 'cuda'\n",
    "elif torch.backends.mps.is_available():\n",
    "    print('Setting the device to Apple mps')\n",
    "    device = 'mps'\n",
    "else:\n",
    "    print('Setting the device to CPU')\n",
    "    device = torch.device('cpu')"
   ]
  },
  {
   "cell_type": "code",
   "execution_count": 4,
   "id": "95eab49e",
   "metadata": {},
   "outputs": [
    {
     "data": {
      "text/plain": [
       "((1000, 256), (1000,))"
      ]
     },
     "execution_count": 4,
     "metadata": {},
     "output_type": "execute_result"
    }
   ],
   "source": [
    "# Load the test set\n",
    "# This is from the Tiny Malware\n",
    "X_y = np.load(r'../data/tiny_mal_net_X_y_test.npz', allow_pickle=False)\n",
    "X = X_y['X']\n",
    "y = X_y['y']\n",
    "\n",
    "# Get the shape of the dataset\n",
    "X.shape, y.shape"
   ]
  },
  {
   "cell_type": "code",
   "execution_count": 5,
   "id": "97d152f4",
   "metadata": {},
   "outputs": [
    {
     "data": {
      "text/plain": [
       "array([0., 1., 1., 0., 1., 1., 0., 0., 1., 0., 1., 0., 1., 0., 1., 0., 0.,\n",
       "       0., 1., 0., 0., 1., 1., 1., 1., 1., 0., 0., 1., 0., 0., 0., 1., 0.,\n",
       "       1., 1., 1., 1., 0., 1., 1., 1., 0., 1., 1., 0., 1., 0., 0., 1., 1.,\n",
       "       0., 0., 1., 1., 1., 1., 0., 1., 1., 0., 1., 0., 0., 0., 1., 1., 1.,\n",
       "       1., 1., 1., 1., 0., 0., 1., 1., 0., 1., 1., 1., 1., 0., 1., 0., 0.,\n",
       "       1., 0., 1., 0., 1., 1., 1., 0., 0., 1., 1., 0., 0., 0., 0., 0., 0.,\n",
       "       0., 1., 1., 0., 0., 1., 0., 1., 1., 0., 0., 1., 1., 1., 1., 0., 0.,\n",
       "       0., 0., 1., 0., 0., 0., 1., 0., 0., 1., 1., 0., 0., 1., 1., 0., 1.,\n",
       "       1., 1., 1., 1., 1., 1., 1., 1., 0., 1., 1., 0., 1., 1., 1., 0., 0.,\n",
       "       0., 0., 0., 1., 0., 0., 0., 1., 1., 0., 1., 1., 1., 1., 1., 1., 1.,\n",
       "       1., 1., 1., 1., 0., 0., 1., 1., 1., 0., 1., 1., 1., 0., 0., 1., 0.,\n",
       "       1., 0., 1., 0., 1., 0., 1., 0., 1., 1., 0., 1., 1., 1., 1., 0., 0.,\n",
       "       1., 0., 1., 1., 1., 1., 1., 1., 0., 0., 1., 0., 1., 0., 0., 0., 0.,\n",
       "       1., 1., 1., 1., 0., 0., 1., 1., 0., 1., 0., 0., 1., 0., 0., 1., 0.,\n",
       "       1., 0., 0., 1., 1., 0., 1., 0., 0., 1., 0., 0., 0., 0., 0., 0., 0.,\n",
       "       0.], dtype=float32)"
      ]
     },
     "execution_count": 5,
     "metadata": {},
     "output_type": "execute_result"
    }
   ],
   "source": [
    "# Get a sample from X\n",
    "X[0]"
   ]
  },
  {
   "cell_type": "code",
   "execution_count": 6,
   "id": "c39e652f",
   "metadata": {},
   "outputs": [
    {
     "data": {
      "text/plain": [
       "(np.float32(0.0), np.float32(1.0))"
      ]
     },
     "execution_count": 6,
     "metadata": {},
     "output_type": "execute_result"
    }
   ],
   "source": [
    "# Get the min and max value for X\n",
    "X.min(), X.max()"
   ]
  },
  {
   "cell_type": "code",
   "execution_count": 7,
   "id": "2f644b2b",
   "metadata": {},
   "outputs": [],
   "source": [
    "# Convert both the feature and targets to torch tensors\n",
    "# These currently have dimensions (1, 1, 256, 256) -> (batch_size, channels, height, width)\n",
    "X = torch.tensor(X.reshape(-1, 1, 16, 16), dtype=torch.float32)\n",
    "\n",
    "# Convert the labels also to torch tensors\n",
    "y = torch.tensor(y, dtype=torch.long)"
   ]
  },
  {
   "cell_type": "code",
   "execution_count": 8,
   "id": "8c06037e",
   "metadata": {},
   "outputs": [
    {
     "name": "stdout",
     "output_type": "stream",
     "text": [
      "The malware samples have a shape of: torch.Size([1000, 1, 16, 16])\n"
     ]
    }
   ],
   "source": [
    "# Get the shape of the X\n",
    "print(f'The malware samples have a shape of: {X.size()}')"
   ]
  },
  {
   "cell_type": "code",
   "execution_count": 9,
   "id": "815b0e8d",
   "metadata": {},
   "outputs": [
    {
     "data": {
      "text/plain": [
       "['addisplay', 'adware', 'benign', 'downloader', 'trojan']"
      ]
     },
     "execution_count": 9,
     "metadata": {},
     "output_type": "execute_result"
    }
   ],
   "source": [
    "# Malware labels\n",
    "malware_labels = ['addisplay', 'adware', 'benign', 'downloader', 'trojan']\n",
    "malware_labels"
   ]
  },
  {
   "cell_type": "markdown",
   "id": "320865d1",
   "metadata": {},
   "source": [
    "### Step 2:   \n",
    "Visualize some of the samples   "
   ]
  },
  {
   "cell_type": "code",
   "execution_count": 10,
   "id": "157c303b",
   "metadata": {},
   "outputs": [
    {
     "data": {
      "image/png": "[encoded data removed]",
      "text/plain": [
       "<Figure size 1000x1000 with 20 Axes>"
      ]
     },
     "metadata": {},
     "output_type": "display_data"
    }
   ],
   "source": [
    "# Set the random seed\n",
    "np.random.seed(10)\n",
    "# With all of this in place let's visualize a few samples\n",
    "# You can adjust the size here\n",
    "tmp_indicies = np.random.randint(low=0, high=len(X), size=(20))\n",
    "\n",
    "plt.figure(figsize=(10, 10))\n",
    "for idx, value in enumerate(tmp_indicies):\n",
    "    # Adjust the 4,5 here, if you changed the size above\n",
    "    # Ensure it is a multiple of size\n",
    "    ax = plt.subplot(4,5,idx+1)\n",
    "    ax.set_title(label=malware_labels[y[value.item() ].item()  ], color='green' if y[value.item() ].item() == 2 else 'red' )\n",
    "    ax.imshow(X=X[value].reshape(16, -1), cmap='gray')\n",
    "    plt.xticks([])\n",
    "    plt.yticks([])\n",
    "\n",
    "plt.tight_layout()"
   ]
  },
  {
   "cell_type": "markdown",
   "id": "57ff863b",
   "metadata": {},
   "source": [
    "### Step 3:  \n",
    "Load the classifier and put it in eval mode  "
   ]
  },
  {
   "cell_type": "code",
   "execution_count": 11,
   "id": "f37d53f8",
   "metadata": {},
   "outputs": [
    {
     "data": {
      "text/plain": [
       "RecursiveScriptModule(\n",
       "  original_name=MalClassifier\n",
       "  (conv_layers): RecursiveScriptModule(\n",
       "    original_name=Sequential\n",
       "    (0): RecursiveScriptModule(original_name=Conv2d)\n",
       "    (1): RecursiveScriptModule(original_name=BatchNorm2d)\n",
       "    (2): RecursiveScriptModule(original_name=ReLU)\n",
       "    (3): RecursiveScriptModule(original_name=Conv2d)\n",
       "    (4): RecursiveScriptModule(original_name=BatchNorm2d)\n",
       "    (5): RecursiveScriptModule(original_name=ReLU)\n",
       "    (6): RecursiveScriptModule(original_name=Conv2d)\n",
       "    (7): RecursiveScriptModule(original_name=BatchNorm2d)\n",
       "    (8): RecursiveScriptModule(original_name=ReLU)\n",
       "  )\n",
       "  (global_avg_pool): RecursiveScriptModule(original_name=AdaptiveAvgPool2d)\n",
       "  (classifier): RecursiveScriptModule(original_name=Conv2d)\n",
       ")"
      ]
     },
     "execution_count": 11,
     "metadata": {},
     "output_type": "execute_result"
    }
   ],
   "source": [
    "# Let's load the model we will target\n",
    "# Now that we know this works. Time to move on.\n",
    "loaded_pgd_model = torch.jit.load(f=r'../data/mal_net_tiny_malware_clf.jit', map_location=device)\n",
    "loaded_pgd_model.eval()\n"
   ]
  },
  {
   "cell_type": "markdown",
   "id": "6ab586eb",
   "metadata": {},
   "source": [
    "### Step 4:   \n",
    "Setup the PGD attack manually   "
   ]
  },
  {
   "cell_type": "code",
   "execution_count": 12,
   "id": "8eb298c5",
   "metadata": {},
   "outputs": [],
   "source": [
    "#Setup the Progected Gradient attack\n",
    "def pgd_attack(model=None, X=None, label=None, eps=None, alpha=None, n_iterations=1):\n",
    "\n",
    "    # Move X and y to the device\n",
    "    X = X.to(device)\n",
    "\n",
    "    # Create the adversarial example from a random uniform distribution\n",
    "    # THe values should fall between -eps and eps \n",
    "    adversarial_X = X + torch.empty_like(input=X).uniform_(-eps, to=eps).to(device=device)\n",
    "\n",
    "    # Clip the values to between 0 and 1\n",
    "    adversarial_X = torch.clamp(input=adversarial_X, min=0, max=1).detach().requires_grad_(True)\n",
    "\n",
    "    # Create the adversarial example through multiple iterations\n",
    "    for epoch in range(n_iterations):\n",
    "\n",
    "        # Make the predictions on the sample\n",
    "        predictions = model(adversarial_X)\n",
    "\n",
    "        # Calculate the loss\n",
    "        loss = F.cross_entropy(input=predictions, target=label.to(device))\n",
    "        \n",
    "        # Zero out the gradients\n",
    "        model.zero_grad(set_to_none=True)\n",
    "\n",
    "        # perform back propagation  \n",
    "        loss.backward()\n",
    "\n",
    "        # Get the gradients for the input\n",
    "        gradients = adversarial_X.grad.data\n",
    "        \n",
    "        # perform the perturbations \n",
    "        adversarial_X = adversarial_X + alpha * torch.sign(input=gradients)\n",
    "\n",
    "        # Clip the perturbations\n",
    "        perturbations = torch.clamp(input=adversarial_X - X, min=-eps, max=eps)\n",
    "\n",
    "        # Create the perturbations and clip it between 0 and 1\n",
    "        adversarial_X = torch.clamp(input=X + perturbations, min=0, max=1).detach()\n",
    "\n",
    "        adversarial_X.requires_grad_(True)\n",
    "        \n",
    "        print(f'Epoch: {epoch + 1} \\t Loss: {loss}')\n",
    "\n",
    "    # Return the perturbations and the adversarial example\n",
    "    return perturbations, adversarial_X, eps"
   ]
  },
  {
   "cell_type": "code",
   "execution_count": 13,
   "id": "d5c30c1f",
   "metadata": {},
   "outputs": [
    {
     "data": {
      "text/plain": [
       "<torch._C.Generator at 0x7f4c20381150>"
      ]
     },
     "execution_count": 13,
     "metadata": {},
     "output_type": "execute_result"
    }
   ],
   "source": [
    "# Execute the attack\n",
    "torch.manual_seed(10)\n",
    "#pgd_attack(model=loaded_pgd_model, X=X, label=y, eps=0.2, alpha=0.2)"
   ]
  },
  {
   "cell_type": "markdown",
   "id": "818616b4",
   "metadata": {},
   "source": [
    "### Setup 5:   "
   ]
  },
  {
   "cell_type": "code",
   "execution_count": 14,
   "id": "fc8698c3",
   "metadata": {},
   "outputs": [
    {
     "name": "stdout",
     "output_type": "stream",
     "text": [
      "Epoch: 1 \t Loss: 0.28060147166252136\n"
     ]
    }
   ],
   "source": [
    "# Call the function\n",
    "perturbations, adversarial_examples, eps = pgd_attack(model=loaded_pgd_model, X=X, label=y, eps=.009, alpha=2, n_iterations=1)"
   ]
  },
  {
   "cell_type": "code",
   "execution_count": 15,
   "id": "6c2272bd",
   "metadata": {},
   "outputs": [
    {
     "name": "stdout",
     "output_type": "stream",
     "text": [
      "Adversarial accuracy is: 0.7050\n",
      "Real accuracy is: 0.8700\n"
     ]
    }
   ],
   "source": [
    "# Make predictions on the perturb adversarial examples\n",
    "adversarial_predictions = loaded_pgd_model(adversarial_examples).argmax(dim=-1)\n",
    "adversarial_accuracy = (adversarial_predictions == y.to(device)).sum() / len(y.to(device))\n",
    "print(f'Adversarial accuracy is: {adversarial_accuracy:.4f}')\n",
    "\n",
    "# Get the accuracy on the real samples\n",
    "real_predictions = loaded_pgd_model(X.to(device)).argmax(dim=-1)\n",
    "real_accuracy = (real_predictions == y.to(device)).sum() / len(y.to(device))\n",
    "print(f'Real accuracy is: {real_accuracy:.4f}')\n"
   ]
  },
  {
   "cell_type": "markdown",
   "id": "5273c636",
   "metadata": {},
   "source": [
    "Try different numbers for the eps and alpha parameters to see how the model performs.    "
   ]
  },
  {
   "cell_type": "code",
   "execution_count": 16,
   "id": "8517017f",
   "metadata": {},
   "outputs": [
    {
     "data": {
      "text/plain": [
       "tensor(0.1650, device='cuda:0')"
      ]
     },
     "execution_count": 16,
     "metadata": {},
     "output_type": "execute_result"
    }
   ],
   "source": [
    "# Get the attack success rate ...\n",
    "# How many labels were we able to flip from the original predictions  \n",
    "(adversarial_predictions != real_predictions).sum()/adversarial_predictions.size(dim=0)"
   ]
  },
  {
   "cell_type": "code",
   "execution_count": 17,
   "id": "b2c9813e",
   "metadata": {},
   "outputs": [
    {
     "data": {
      "image/png": "[encoded data removed]",
      "text/plain": [
       "<Figure size 1500x700 with 5 Axes>"
      ]
     },
     "metadata": {},
     "output_type": "display_data"
    }
   ],
   "source": [
    "# We can now go ahead and plot the original image and the adversarial example\n",
    "fig = plt.figure(figsize=(15,7))\n",
    "ax = fig.add_subplot(1,5,1)\n",
    "\n",
    "# Detach is called because we calculated gradients\n",
    "# By detaching we are no removing the need to backpropagate\n",
    "ax.imshow(X[0].detach().squeeze(dim=0).squeeze(dim=0), cmap='gray')\n",
    "ax.set_axis_off()\n",
    "ax.set_title(label='Original Image')\n",
    "\n",
    "# Add the text\n",
    "ax = fig.add_subplot(1,5,2)\n",
    "ax.text(x=.2, y=.5, s=f' + {eps} * ', fontdict={'size' : 20 })\n",
    "ax.set_axis_off()\n",
    "\n",
    "# The perturbations are the gradients\n",
    "ax = fig.add_subplot(1,5,3)\n",
    "ax.imshow(perturbations[0].detach().squeeze(dim=0).squeeze(dim=0).cpu(), cmap='gray')\n",
    "ax.set_axis_off()\n",
    "ax.set_title(label='Perturbation')\n",
    "\n",
    "# Add the text\n",
    "ax = fig.add_subplot(1,5,4)\n",
    "ax.text(x=.4, y=.5, s=f' = ', fontdict={'size' : 20 })\n",
    "ax.set_axis_off()\n",
    "\n",
    "ax = fig.add_subplot(1,5,5)\n",
    "# Detach is called because we calculated gradients\n",
    "# By detaching we are no removing the need to backpropagate\n",
    "ax.imshow(adversarial_examples[0].detach().cpu().numpy().squeeze(), cmap='gray')\n",
    "ax.set_axis_off()\n",
    "ax.set_title(label='Adversarial Example');"
   ]
  },
  {
   "cell_type": "markdown",
   "id": "aaaf4497",
   "metadata": {},
   "source": [
    "### Lab Takeaways:  \n",
    "- We setup our own Projected Gradient Descent    \n",
    "- We should have a solid understanding of what Projected Gradient Descent is   "
   ]
  },
  {
   "cell_type": "code",
   "execution_count": null,
   "id": "45d6b3fb",
   "metadata": {},
   "outputs": [],
   "source": []
  }
 ],
 "metadata": {
  "kernelspec": {
   "display_name": "adversarial_ai",
   "language": "python",
   "name": "python3"
  },
  "language_info": {
   "codemirror_mode": {
    "name": "ipython",
    "version": 3
   },
   "file_extension": ".py",
   "mimetype": "text/x-python",
   "name": "python",
   "nbconvert_exporter": "python",
   "pygments_lexer": "ipython3",
   "version": "3.12.11"
  }
 },
 "nbformat": 4,
 "nbformat_minor": 5
}
