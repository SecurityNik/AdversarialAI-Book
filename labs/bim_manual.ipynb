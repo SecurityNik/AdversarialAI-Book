{
 "cells": [
  {
   "cell_type": "markdown",
   "id": "8906c195",
   "metadata": {},
   "source": [
    "<img style=\"max-width:20em; height:auto;\" src=\"../graphics/A-Little-Book-on-Adversarial-AI-Cover.png\"/>"
   ]
  },
  {
   "cell_type": "markdown",
   "id": "191d3ce2",
   "metadata": {},
   "source": [
    "Author: Nik Alleyne   \n",
    "Author Blog: https://www.securitynik.com   \n",
    "Author GitHub: github.com/securitynik   \n",
    "\n",
    "Author Other Books: [   \n",
    "\n",
    "            \"https://www.amazon.ca/Learning-Practicing-Leveraging-Practical-Detection/dp/1731254458/\",   \n",
    "            \n",
    "            \"https://www.amazon.ca/Learning-Practicing-Mastering-Network-Forensics/dp/1775383024/\"   \n",
    "        ]   \n",
    "\n",
    "\n",
    "This notebook ***(bim_manual.ipynb)*** is part of the series of notebooks From ***A Little Book on Adversarial AI***  A free ebook released by Nik Alleyne"
   ]
  },
  {
   "cell_type": "markdown",
   "id": "4a630032",
   "metadata": {},
   "source": [
    "### BASIC ITERATIVE METHOD   (BIM)\n",
    "https://www.neuralception.com/adversarialexamples-bim/  \n",
    "\n",
    "### Lab Objectives:  \n",
    "- Learn about the Basic Iterative Method (BIM)\n",
    "- Implement BIM from scratch   \n",
    "- Visualize the real input, the perturbations and the adversarial example \n",
    "\n",
    "### Step 1: "
   ]
  },
  {
   "cell_type": "code",
   "execution_count": 1,
   "id": "5e46c699",
   "metadata": {},
   "outputs": [],
   "source": [
    "# import libraries \n",
    "import torch\n",
    "import torch.nn as nn\n",
    "import torch.nn.functional as F\n",
    "import numpy as np\n",
    "import matplotlib.pyplot as plt"
   ]
  },
  {
   "cell_type": "code",
   "execution_count": 2,
   "id": "1780631b",
   "metadata": {},
   "outputs": [
    {
     "name": "stdout",
     "output_type": "stream",
     "text": [
      "Torch version used:  2.7.1+cu128\n",
      "Numpy version used:  2.1.3\n"
     ]
    }
   ],
   "source": [
    "### Version of key libraries used  \n",
    "print(f'Torch version used:  {torch.__version__}')\n",
    "print(f'Numpy version used:  {np.__version__}')"
   ]
  },
  {
   "cell_type": "code",
   "execution_count": 3,
   "id": "19d52b91",
   "metadata": {},
   "outputs": [
    {
     "name": "stdout",
     "output_type": "stream",
     "text": [
      "Setting the device to cuda\n"
     ]
    }
   ],
   "source": [
    "# Setup the device to work with\n",
    "# This should ensure if there are accelerators in place, such as Apple backend or CUDA, \n",
    "# we should be able to take advantage of it.\n",
    "\n",
    "if torch.cuda.is_available():\n",
    "    print('Setting the device to cuda')\n",
    "    device = 'cuda'\n",
    "elif torch.backends.mps.is_available():\n",
    "    print('Setting the device to Apple mps')\n",
    "    device = 'mps'\n",
    "else:\n",
    "    print('Setting the device to CPU')\n",
    "    device = torch.device('cpu')"
   ]
  },
  {
   "cell_type": "code",
   "execution_count": 4,
   "id": "b9eee79b",
   "metadata": {},
   "outputs": [],
   "source": [
    "# I am going to cheat here. \n",
    "# I seem to be running into a problem with my GPU and backpropagation. \n",
    "# So to address that, I am forcing this to use CPU.\n",
    "# You can test on your system by commenting out this line below and running the code\n",
    "# However, without the GPU this works just fine!\n",
    "# Honestly, I lost interest in troubleshooting the issue\n",
    "# Maybe I will revisit it later\n",
    "device = 'cpu'"
   ]
  },
  {
   "cell_type": "code",
   "execution_count": 5,
   "id": "0575b238",
   "metadata": {},
   "outputs": [
    {
     "data": {
      "text/plain": [
       "RecursiveScriptModule(\n",
       "  original_name=MalwareClassifier\n",
       "  (layers): RecursiveScriptModule(\n",
       "    original_name=Sequential\n",
       "    (0): RecursiveScriptModule(original_name=Linear)\n",
       "    (1): RecursiveScriptModule(original_name=BatchNorm1d)\n",
       "    (2): RecursiveScriptModule(original_name=ReLU)\n",
       "    (3): RecursiveScriptModule(original_name=Dropout)\n",
       "    (4): RecursiveScriptModule(original_name=Linear)\n",
       "    (5): RecursiveScriptModule(original_name=BatchNorm1d)\n",
       "    (6): RecursiveScriptModule(original_name=ReLU)\n",
       "    (7): RecursiveScriptModule(original_name=Dropout)\n",
       "    (8): RecursiveScriptModule(original_name=Linear)\n",
       "    (9): RecursiveScriptModule(original_name=BatchNorm1d)\n",
       "    (10): RecursiveScriptModule(original_name=ReLU)\n",
       "    (11): RecursiveScriptModule(original_name=Dropout)\n",
       "    (12): RecursiveScriptModule(original_name=Linear)\n",
       "  )\n",
       ")"
      ]
     },
     "execution_count": 5,
     "metadata": {},
     "output_type": "execute_result"
    }
   ],
   "source": [
    "# Load the model to be used\n",
    "#bim_attack_loaded_model = torch.jit.load(f=r'/tmp/malware_classifier.jit.pth')\n",
    "bim_attack_loaded_model = torch.jit.load(f=r'../data/bodmas_malware_classifier.jit', map_location=device)\n",
    "bim_attack_loaded_model.eval()"
   ]
  },
  {
   "cell_type": "markdown",
   "id": "46761754",
   "metadata": {},
   "source": [
    "With out model loaded, we need to get our data. Let us load the test data we saved from the **bodmas_malware_classifier.ipynb** lab. \n",
    "\n",
    "### Step 2:  "
   ]
  },
  {
   "cell_type": "code",
   "execution_count": 6,
   "id": "aee30894",
   "metadata": {},
   "outputs": [
    {
     "data": {
      "text/plain": [
       "((26887, 1024), (26887, 1))"
      ]
     },
     "execution_count": 6,
     "metadata": {},
     "output_type": "execute_result"
    }
   ],
   "source": [
    "# Load the test data\n",
    "X_test = np.load(file='../data/bodmas_test_pca_scaled.npz')\n",
    "X_test, y_test = X_test['X'], X_test['y']\n",
    "\n",
    "X_test.shape, y_test.shape"
   ]
  },
  {
   "cell_type": "markdown",
   "id": "ae1d534f",
   "metadata": {},
   "source": [
    "To ensure we only focus on flipping the malware labels 1 to benign 0, we will extract all the malware samples and focus only on those. This ensures we keep our attack simple enough to be able to understand the issue.\n",
    "\n",
    "When we index into y_test to extract all the malware via:   \n",
    "  (y_test == 1) \n",
    "\n",
    "out output now looks like: \n",
    "array([[ True],   \n",
    "       [False],   \n",
    "       [ True],   \n",
    "       ...,    \n",
    "       [False],   \n",
    "       [ True],   \n",
    "       [ True]])   \n",
    "\n",
    "We will not be able to index into here so we squeeze out the batch dimension to make this into a vector.   (y_test == 1).squeeze()    \n",
    "\n",
    "With this we can now index into X_test  \n",
    "X_test[(y_test == 1).squeeze()]  \n"
   ]
  },
  {
   "cell_type": "code",
   "execution_count": 7,
   "id": "db6790f9",
   "metadata": {},
   "outputs": [
    {
     "data": {
      "text/plain": [
       "(tensor([[  9.7490,  12.0801,   2.6129,  ...,   0.0452,   0.0400,  -0.0575],\n",
       "         [ -4.2943,  -3.1780,  -2.9593,  ...,   0.6389,   0.4274,   0.5765],\n",
       "         [ -9.8720,   5.7994,  -8.6096,  ...,  -0.2566,   0.1027,  -0.2765],\n",
       "         [  7.9377,  10.6579,   1.8678,  ...,   0.0235,  -0.0347,   0.1870],\n",
       "         [-12.2579,   1.8096,  -6.1364,  ...,   0.2999,   0.1371,   0.3495]]),\n",
       " torch.Size([11394, 1024]))"
      ]
     },
     "execution_count": 7,
     "metadata": {},
     "output_type": "execute_result"
    }
   ],
   "source": [
    "# Index into y_test and extract all the index positions where we have 1\n",
    "# use that as input to pull the correspond rows in X_test\n",
    "malware_samples = X_test[(y_test == 1).squeeze()]\n",
    "\n",
    "# Convert to torch tensor\n",
    "malware_samples = torch.tensor(data=malware_samples, device=device)\n",
    "malware_samples[:5], malware_samples.size()"
   ]
  },
  {
   "cell_type": "code",
   "execution_count": 8,
   "id": "81ae0c59",
   "metadata": {},
   "outputs": [
    {
     "data": {
      "text/plain": [
       "tensor([[1.],\n",
       "        [1.],\n",
       "        [1.],\n",
       "        [1.],\n",
       "        [1.]])"
      ]
     },
     "execution_count": 8,
     "metadata": {},
     "output_type": "execute_result"
    }
   ],
   "source": [
    "# Get the known malware labels\n",
    "malware_labels = y_test[y_test == 1].reshape(-1,1)\n",
    "malware_labels = torch.tensor(malware_labels, device=device)\n",
    "malware_labels[:5]"
   ]
  },
  {
   "cell_type": "markdown",
   "id": "3d3e4c96",
   "metadata": {},
   "source": [
    "Time to test our loaded model on our data  \n",
    "\n",
    "### Step 3:"
   ]
  },
  {
   "cell_type": "code",
   "execution_count": 9,
   "id": "b2dfba09",
   "metadata": {},
   "outputs": [
    {
     "data": {
      "text/plain": [
       "tensor([[18.5160],\n",
       "        [20.6547],\n",
       "        [16.4855],\n",
       "        ...,\n",
       "        [15.0573],\n",
       "        [17.0050],\n",
       "        [16.3175]], grad_fn=<AddmmBackward0>)"
      ]
     },
     "execution_count": 9,
     "metadata": {},
     "output_type": "execute_result"
    }
   ],
   "source": [
    "# Test the model to ensure it works on our data\n",
    "bim_attack_loaded_model(malware_samples)"
   ]
  },
  {
   "cell_type": "markdown",
   "id": "4913b98a",
   "metadata": {},
   "source": [
    "The results above represents the raw logits from the network. If we wish to have probabilities, we will have to use the Sigmoid activation function on this data.  \n",
    "\n",
    "Let's us write our function to perform the BIM attack\n",
    "\n",
    "### Step 4:"
   ]
  },
  {
   "cell_type": "code",
   "execution_count": 10,
   "id": "4262eae7",
   "metadata": {},
   "outputs": [],
   "source": [
    "# This attack can be targeted or untargeted \n",
    "# https://adversarial-attacks-pytorch.readthedocs.io/en/latest/_modules/torchattacks/attacks/bim.html\n",
    "# https://github.com/peyman-paknezhad/Adversarial-Robustness-in-Neural-Networks-Implementation-and-Assessment-of-FGSM-BIM-and-PGD-Attacks/blob/main/Adversarial_Robustness_in_Neural_Networks_Implementation_and_Assessment_of_FGSM%2C_BIM%2C_and_PGD_Attacks.ipynb\n",
    "# https://locuslab.github.io/2019-03-12-provable/\n",
    "# https://arxiv.org/pdf/1607.02533\n",
    "\n",
    "def basic_iterative_method(model=None, X=None, label=None, eps=None, alpha=None, n_iterations=1):\n",
    "    \n",
    "    # Just moving the model to the device\n",
    "    model = model.to(device)\n",
    "\n",
    "    # Create a copy of the original input\n",
    "    adversarial_X = X.clone().detach()\n",
    "\n",
    "    for iteration in range(n_iterations):\n",
    "        #print('Iterating ...')\n",
    "\n",
    "        # Zero out the gradients so they do not accumulate\n",
    "        model.zero_grad(set_to_none=True)\n",
    "\n",
    "        # Set the adversarial X to require gradient\n",
    "        adversarial_X.requires_grad_(True)\n",
    "\n",
    "        # Get the logits\n",
    "        adversarial_logits = model(adversarial_X)\n",
    "\n",
    "        #label = label.to(adversarial_logits.device).float()\n",
    "        #if adversarial_logits.shape != label.shape:\n",
    "        #    print(f'Shape mismatch')\n",
    "        #    label = label.view_as(adversarial_logits)\n",
    "\n",
    "        # Calculate the loss\n",
    "        loss = F.binary_cross_entropy_with_logits(input=adversarial_logits, target=label)\n",
    "        \n",
    "        # Get the gradients with respect to the input (adversarial_X)\n",
    "        # just another way of using torch autograd\n",
    "        gradients = torch.autograd.grad(outputs=loss, inputs=adversarial_X, retain_graph=False, create_graph=True)[0]\n",
    "\n",
    "        # Setup the adversarial example\n",
    "        # Step in the direction of the gradients\n",
    "        # Note we are taking the sign of the gradients\n",
    "        adversarial_X = adversarial_X + alpha * gradients.sign()\n",
    "\n",
    "        # Create the perturbations by clipping the current adversarial values \n",
    "        # to a range between the minimum and maxim of the eps value\n",
    "        perturbation = torch.clamp(input=adversarial_X - X, min=-eps, max=eps)\n",
    "\n",
    "        # Add the perturbation to the original X input \n",
    "        # and clamp the values between 0 and 1\n",
    "        adversarial_X = torch.clamp(input=X + perturbation, min=0, max=1).detach_()\n",
    "\n",
    "        print(f'Iteration: {iteration+1} / {n_iterations} \\t loss: {loss.item()}')\n",
    "\n",
    "    # Return the perturbations and the adversarial example(s)\n",
    "    return perturbation.detach(), adversarial_X"
   ]
  },
  {
   "cell_type": "code",
   "execution_count": 11,
   "id": "cd1339ef",
   "metadata": {},
   "outputs": [
    {
     "name": "stdout",
     "output_type": "stream",
     "text": [
      "Iteration: 1 / 5 \t loss: 0.027127373963594437\n",
      "Iteration: 2 / 5 \t loss: 2.9356870651245117\n",
      "Iteration: 3 / 5 \t loss: 10.540270805358887\n",
      "Iteration: 4 / 5 \t loss: 15.015287399291992\n",
      "Iteration: 5 / 5 \t loss: 16.396024703979492\n"
     ]
    }
   ],
   "source": [
    "# Test the function \n",
    "perturbations, adversarial_x = basic_iterative_method(model=bim_attack_loaded_model, X=malware_samples, label=malware_labels, eps=0.2, alpha=0.1, n_iterations=5)"
   ]
  },
  {
   "cell_type": "markdown",
   "id": "90cb8861",
   "metadata": {},
   "source": [
    "Visualize the results now that we have run our function\n",
    "\n",
    "### Step 5: "
   ]
  },
  {
   "cell_type": "code",
   "execution_count": 12,
   "id": "a8769244",
   "metadata": {},
   "outputs": [
    {
     "data": {
      "image/png": "[encoded data removed]",
      "text/plain": [
       "<Figure size 1000x500 with 3 Axes>"
      ]
     },
     "metadata": {},
     "output_type": "display_data"
    }
   ],
   "source": [
    "# Visualizing the results  \n",
    "fig = plt.figure(figsize=(10, 5))\n",
    "\n",
    "ax = fig.add_subplot(131)\n",
    "ax.set_title(label='Malware - Original')\n",
    "ax.imshow(malware_samples[:1].view(32,32))\n",
    "ax.axis('off')\n",
    "\n",
    "ax = fig.add_subplot(132)\n",
    "ax.set_title(label='Perturbations')\n",
    "ax.imshow(perturbations[:1].view(32,32))\n",
    "ax.axis('off')\n",
    "\n",
    "ax = fig.add_subplot(133)\n",
    "ax.set_title(label='Malware - Perturbed')\n",
    "ax.imshow(adversarial_x[:1].view(32,32))\n",
    "ax.axis('off')\n",
    "\n",
    "plt.show()"
   ]
  },
  {
   "cell_type": "markdown",
   "id": "43e312f6",
   "metadata": {},
   "source": [
    "Working with the real model and the adversarial_x which was generated  \n",
    " \n",
    "### Step 6:  "
   ]
  },
  {
   "cell_type": "code",
   "execution_count": 13,
   "id": "51f0217a",
   "metadata": {},
   "outputs": [],
   "source": [
    "# Make the prediction on the original sample\n",
    "# bim_attack_loaded_model(malware_samples[:1])"
   ]
  },
  {
   "cell_type": "code",
   "execution_count": 14,
   "id": "6790cc1c",
   "metadata": {},
   "outputs": [
    {
     "data": {
      "text/plain": [
       "tensor([[-21.4735],\n",
       "        [ -3.6235],\n",
       "        [-20.5143],\n",
       "        ...,\n",
       "        [-19.4477],\n",
       "        [ -9.4225],\n",
       "        [-16.4370]], grad_fn=<DifferentiableGraphBackward>)"
      ]
     },
     "execution_count": 14,
     "metadata": {},
     "output_type": "execute_result"
    }
   ],
   "source": [
    "# Model make the prediction on the BIM results\n",
    "adversarial_logits = bim_attack_loaded_model(adversarial_x)\n",
    "adversarial_logits"
   ]
  },
  {
   "cell_type": "code",
   "execution_count": 15,
   "id": "e7bb383e",
   "metadata": {},
   "outputs": [
    {
     "data": {
      "text/plain": [
       "tensor([[4.7226e-10],\n",
       "        [2.5995e-02],\n",
       "        [1.2324e-09],\n",
       "        ...,\n",
       "        [3.5806e-09],\n",
       "        [8.0880e-05],\n",
       "        [7.2694e-08]], grad_fn=<SigmoidBackward0>)"
      ]
     },
     "execution_count": 15,
     "metadata": {},
     "output_type": "execute_result"
    }
   ],
   "source": [
    "# Pass the logits through sigmoid to get the probabilities \n",
    "adversarial_probs = F.sigmoid(input=adversarial_logits)\n",
    "adversarial_probs"
   ]
  },
  {
   "cell_type": "code",
   "execution_count": 16,
   "id": "d22a9120",
   "metadata": {},
   "outputs": [
    {
     "data": {
      "text/plain": [
       "tensor([[0.],\n",
       "        [0.],\n",
       "        [0.],\n",
       "        ...,\n",
       "        [0.],\n",
       "        [0.],\n",
       "        [0.]], grad_fn=<RoundBackward0>)"
      ]
     },
     "execution_count": 16,
     "metadata": {},
     "output_type": "execute_result"
    }
   ],
   "source": [
    "# Make the final class prediction by rounding the probabilities\n",
    "(adversarial_probs).round()"
   ]
  },
  {
   "cell_type": "code",
   "execution_count": 17,
   "id": "d339009a",
   "metadata": {},
   "outputs": [
    {
     "name": "stdout",
     "output_type": "stream",
     "text": [
      "Accuracy on the real malware is: 0.99\n"
     ]
    }
   ],
   "source": [
    "# Get model accuracy on the known malware set\n",
    "torch.manual_seed(10)\n",
    "real_predictions = F.sigmoid(bim_attack_loaded_model(malware_samples)).round()\n",
    "accuracy = (malware_labels == real_predictions).sum() / malware_labels.size(dim=0)\n",
    "print(f'Accuracy on the real malware is: {accuracy:.2f}')"
   ]
  },
  {
   "cell_type": "markdown",
   "id": "e53402b1",
   "metadata": {},
   "source": [
    "When we pass the real samples through the FGSM attack, we have 99% accuracy. That is good.  \n",
    "Let us run this again to generate our adversarial examples    \n",
    "\n",
    "### Step 7:  "
   ]
  },
  {
   "cell_type": "code",
   "execution_count": 18,
   "id": "1c2a0d6d",
   "metadata": {},
   "outputs": [
    {
     "name": "stdout",
     "output_type": "stream",
     "text": [
      "Iteration: 1 / 10 \t loss: 0.027127373963594437\n",
      "Iteration: 2 / 10 \t loss: 0.44904059171676636\n",
      "Iteration: 3 / 10 \t loss: 0.7097464799880981\n",
      "Iteration: 4 / 10 \t loss: 0.8787121772766113\n",
      "Iteration: 5 / 10 \t loss: 0.9049869775772095\n",
      "Iteration: 6 / 10 \t loss: 0.9102219939231873\n",
      "Iteration: 7 / 10 \t loss: 0.9122626781463623\n",
      "Iteration: 8 / 10 \t loss: 0.9134421348571777\n",
      "Iteration: 9 / 10 \t loss: 0.9136663675308228\n",
      "Iteration: 10 / 10 \t loss: 0.9137996435165405\n"
     ]
    }
   ],
   "source": [
    "# Against the adversarial examples\n",
    "torch.manual_seed(10)\n",
    "perturbations, adversarial_examples = basic_iterative_method(model=bim_attack_loaded_model, eps=0.02, alpha=0.01, X=malware_samples, label=malware_labels, n_iterations=10)"
   ]
  },
  {
   "cell_type": "markdown",
   "id": "23b7a180",
   "metadata": {},
   "source": [
    "We noticed above also that whereas we normally want the loss to decrease, in adversarial AI, we want the loss to increase. This is because we are trying to flip the label. In a targeted attack, we would need to reduce the loss on the particular class.  "
   ]
  },
  {
   "cell_type": "code",
   "execution_count": 19,
   "id": "5b308290",
   "metadata": {},
   "outputs": [
    {
     "data": {
      "text/plain": [
       "tensor([[1.],\n",
       "        [1.],\n",
       "        [0.],\n",
       "        [1.],\n",
       "        [0.]], grad_fn=<SliceBackward0>)"
      ]
     },
     "execution_count": 19,
     "metadata": {},
     "output_type": "execute_result"
    }
   ],
   "source": [
    "# Make predictions on the adversarial examples\n",
    "torch.manual_seed(10)\n",
    "perturb_predictions = F.sigmoid(bim_attack_loaded_model(adversarial_examples)).round()\n",
    "\n",
    "# View the first 5\n",
    "perturb_predictions[:5]"
   ]
  },
  {
   "cell_type": "code",
   "execution_count": 20,
   "id": "cf54b5b7",
   "metadata": {},
   "outputs": [
    {
     "name": "stdout",
     "output_type": "stream",
     "text": [
      "Accuracy on the real malware is: 0.66\n",
      "Adversarial success rate: 0.34\n"
     ]
    }
   ],
   "source": [
    "# Get the accuracy on the adversarial examples\n",
    "torch.manual_seed(10)\n",
    "\n",
    "accuracy = (malware_labels == perturb_predictions).sum() / perturb_predictions.size(dim=0)\n",
    "print(f'Accuracy on the real malware is: {accuracy:.2f}')\n",
    "print(f'Adversarial success rate: {1 - accuracy:.2f}')"
   ]
  },
  {
   "cell_type": "markdown",
   "id": "dab3deeb",
   "metadata": {},
   "source": [
    "After 10 epochs, we were, we have already started to influence the model as we have a higher success rate on the adversarial attacks.\n",
    "\n",
    "We can change our EPS value like we did for Fast Gradient Descent to even increase the success rate. "
   ]
  },
  {
   "cell_type": "code",
   "execution_count": 21,
   "id": "641f00d9",
   "metadata": {},
   "outputs": [
    {
     "name": "stdout",
     "output_type": "stream",
     "text": [
      "Cleaning cpu cache\n"
     ]
    }
   ],
   "source": [
    "# With the training finish clear the GPU cache\n",
    "# Setup the device to work with\n",
    "if torch.cuda.is_available():\n",
    "    # For CUDA GPU\n",
    "    print(f'Cleaning {device} cache')\n",
    "    torch.cuda.empty_cache()\n",
    "elif torch.backends.mps.is_available():\n",
    "    # For Apple devices\n",
    "    print(f'Cleaning {device} cache')\n",
    "    torch.mps.empty_cache()\n",
    "else:\n",
    "    # Default to cpu\n",
    "    pass"
   ]
  },
  {
   "cell_type": "markdown",
   "id": "6ac3f995",
   "metadata": {},
   "source": [
    "### Lab Takeaways:  \n",
    "- We loaded a pre-trained model   \n",
    "- We got some test data  \n",
    "- We built our own Basic Iterative Method (BIM) attack from scratch "
   ]
  }
 ],
 "metadata": {
  "kernelspec": {
   "display_name": "adversarial_ai",
   "language": "python",
   "name": "python3"
  },
  "language_info": {
   "codemirror_mode": {
    "name": "ipython",
    "version": 3
   },
   "file_extension": ".py",
   "mimetype": "text/x-python",
   "name": "python",
   "nbconvert_exporter": "python",
   "pygments_lexer": "ipython3",
   "version": "3.12.11"
  }
 },
 "nbformat": 4,
 "nbformat_minor": 5
}
