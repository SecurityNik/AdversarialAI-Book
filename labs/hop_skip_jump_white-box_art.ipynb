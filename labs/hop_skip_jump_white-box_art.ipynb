{
 "cells": [
  {
   "cell_type": "markdown",
   "id": "079ae47a",
   "metadata": {},
   "source": [
    "<img style=\"max-width:20em; height:auto;\" src=\"../graphics/A-Little-Book-on-Adversarial-AI-Cover.png\"/>"
   ]
  },
  {
   "cell_type": "markdown",
   "id": "f0cc332e",
   "metadata": {},
   "source": [
    "Author: Nik Alleyne   \n",
    "Author Blog: https://www.securitynik.com   \n",
    "Author GitHub: github.com/securitynik   \n",
    "\n",
    "Author Other Books: [   \n",
    "\n",
    "            \"https://www.amazon.ca/Learning-Practicing-Leveraging-Practical-Detection/dp/1731254458/\",   \n",
    "            \n",
    "            \"https://www.amazon.ca/Learning-Practicing-Mastering-Network-Forensics/dp/1775383024/\"   \n",
    "        ]   \n",
    "\n",
    "\n",
    "This notebook ***(hop_skip_jump_white-box.ipynb)*** is part of the series of notebooks From ***A Little Book on Adversarial AI***  A free ebook released by Nik Alleyne"
   ]
  },
  {
   "cell_type": "markdown",
   "id": "e312a54d",
   "metadata": {},
   "source": [
    "### HopSkipJumpAttack with ART: White-box"
   ]
  },
  {
   "cell_type": "markdown",
   "id": "6ba13af7",
   "metadata": {},
   "source": [
    "### Lab Objectives:   \n",
    "- Understanding of HopSkipJumpAttack      \n",
    "- Use Adversarial Robustness Toolkit (ART) to perform HopSkipJumpAttack  \n",
    "- Perform the HopSkipJumpAttack when you have the model file (white-box)     \n",
    "- Leverage mlflow    \n",
    "\n",
    "**Keep the MLflow infrastructure running at the end. The other two labs are dependent on this infrastructure**  \n",
    "\n",
    "\n",
    "### Step 1:  "
   ]
  },
  {
   "cell_type": "code",
   "execution_count": 1,
   "id": "666d378a",
   "metadata": {},
   "outputs": [],
   "source": [
    "# Import some libraries\n",
    "import torch\n",
    "import torch.nn as nn\n",
    "import torch.nn.functional as F\n",
    "\n",
    "import torchvision\n",
    "from torchvision import datasets, transforms\n",
    "from torch.utils.data import DataLoader\n",
    "from tqdm import tqdm\n",
    "\n",
    "import matplotlib.pyplot as plt\n",
    "\n",
    "import mlflow\n",
    "from mlflow.models import infer_signature\n",
    "\n",
    "# Get the ART libraries  \n",
    "import art\n",
    "from art.attacks.evasion import HopSkipJump\n",
    "from art.estimators.classification import PyTorchClassifier\n",
    "\n",
    "import numpy as np"
   ]
  },
  {
   "cell_type": "code",
   "execution_count": 2,
   "id": "769ec5a3",
   "metadata": {},
   "outputs": [
    {
     "name": "stdout",
     "output_type": "stream",
     "text": [
      "Torch version used:  2.7.1+cu128\n",
      "Torchvision version used:  0.22.1+cu128\n",
      "ART version used:  1.20.1\n",
      "Numpy version used:  2.1.3\n",
      "MLflow version used:  3.1.1\n"
     ]
    }
   ],
   "source": [
    "### Version of key libraries used  \n",
    "print(f'Torch version used:  {torch.__version__}')\n",
    "print(f'Torchvision version used:  {torchvision.__version__}')\n",
    "print(f'ART version used:  {art.__version__}')\n",
    "print(f'Numpy version used:  {np.__version__}')\n",
    "print(f'MLflow version used:  {mlflow.__version__}')"
   ]
  },
  {
   "cell_type": "code",
   "execution_count": 3,
   "id": "3cf45275",
   "metadata": {},
   "outputs": [
    {
     "name": "stdout",
     "output_type": "stream",
     "text": [
      "Setting the device to cuda\n"
     ]
    }
   ],
   "source": [
    "# Setup the device to work with\n",
    "# This should ensure if there are accelerators in place, such as Apple backend or CUDA, \n",
    "# we should be able to take advantage of it.\n",
    "\n",
    "if torch.cuda.is_available():\n",
    "    print('Setting the device to cuda')\n",
    "    device = 'cuda'\n",
    "elif torch.backends.mps.is_available():\n",
    "    print('Setting the device to Apple mps')\n",
    "    device = 'mps'\n",
    "else:\n",
    "    print('Setting the device to CPU')\n",
    "    device = torch.device('cpu')"
   ]
  },
  {
   "cell_type": "code",
   "execution_count": 4,
   "id": "c12b97fa",
   "metadata": {},
   "outputs": [],
   "source": [
    "# Setup a transform for the MNIST dataset\n",
    "transform = transforms.Compose([transforms.ToTensor()])\n",
    "\n",
    "# Get the train and test data from MNIST\n",
    "train_dataset = datasets.MNIST(root=r'/tmp/', train=True, download=True, transform=transform)\n",
    "test_dataset = datasets.MNIST(root=r'/tmp/', train=False, transform=transform)"
   ]
  },
  {
   "cell_type": "code",
   "execution_count": 5,
   "id": "e4d88f79",
   "metadata": {},
   "outputs": [],
   "source": [
    "# Setup a train loader\n",
    "batch_size=64\n",
    "train_loader = DataLoader(dataset=train_dataset, batch_size=batch_size, shuffle=True)\n",
    "test_loader = DataLoader(dataset=test_dataset, batch_size=1_000, shuffle=True)"
   ]
  },
  {
   "cell_type": "code",
   "execution_count": 6,
   "id": "be1d89d2",
   "metadata": {},
   "outputs": [
    {
     "data": {
      "text/plain": [
       "(torch.Size([64, 1, 28, 28]), torch.Size([64]))"
      ]
     },
     "execution_count": 6,
     "metadata": {},
     "output_type": "execute_result"
    }
   ],
   "source": [
    "# Get a bach of the data\n",
    "X_sample, y_sample = next(iter(train_loader))\n",
    "X_sample.shape, y_sample.shape"
   ]
  },
  {
   "cell_type": "code",
   "execution_count": 7,
   "id": "a2adde65",
   "metadata": {},
   "outputs": [
    {
     "data": {
      "text/plain": [
       "tensor([2, 7, 4, 7, 5])"
      ]
     },
     "execution_count": 7,
     "metadata": {},
     "output_type": "execute_result"
    }
   ],
   "source": [
    "# What does y look like\n",
    "y_sample[:5]"
   ]
  },
  {
   "cell_type": "code",
   "execution_count": 8,
   "id": "ea8b3b32",
   "metadata": {},
   "outputs": [
    {
     "data": {
      "text/plain": [
       "(torch.Size([1000, 1, 28, 28]), torch.Size([1000]))"
      ]
     },
     "execution_count": 8,
     "metadata": {},
     "output_type": "execute_result"
    }
   ],
   "source": [
    "# Extract the test data\n",
    "X_test, y_test = next(iter(test_loader))\n",
    "X_test.shape, y_test.shape"
   ]
  },
  {
   "cell_type": "code",
   "execution_count": 9,
   "id": "0d3072f9",
   "metadata": {},
   "outputs": [
    {
     "data": {
      "text/plain": [
       "(tensor(0.), tensor(1.))"
      ]
     },
     "execution_count": 9,
     "metadata": {},
     "output_type": "execute_result"
    }
   ],
   "source": [
    "# Get the min and max value\n",
    "X_test.min(), X_test.max()"
   ]
  },
  {
   "cell_type": "markdown",
   "id": "56fa97ae",
   "metadata": {},
   "source": [
    "### Start the mlflow server    \n",
    "~$ **mlflow server --host 127.0.0.1 --port 9999**      \n",
    "[2025-06-22 10:59:45 -0400] [191683] [INFO] Starting gunicorn 23.0.0  \n",
    "[2025-06-22 10:59:45 -0400] [191683] [INFO] Listening at: http://127.0.0.1:9999 (191683)   \n",
    "[2025-06-22 10:59:45 -0400] [191683] [INFO] Using worker: sync   \n",
    "\n",
    "With the server running, open your browser and go to: http://127.0.0.1:9999     "
   ]
  },
  {
   "cell_type": "code",
   "execution_count": 10,
   "id": "11d1e03e",
   "metadata": {},
   "outputs": [
    {
     "data": {
      "text/plain": [
       "<Experiment: artifact_location='mlflow-artifacts:/118242476423976612', creation_time=1752378317737, experiment_id='118242476423976612', last_update_time=1752378317737, lifecycle_stage='active', name='HopSkipJumpAttack', tags={}>"
      ]
     },
     "execution_count": 10,
     "metadata": {},
     "output_type": "execute_result"
    }
   ],
   "source": [
    "# Setup the mlflow tracking server \n",
    "# mlflow requires us to have a tracking URL\n",
    "tracking_uri = 'http://127.0.0.1:9999'\n",
    "mlflow.set_tracking_uri(uri=tracking_uri)\n",
    "\n",
    "# Create an experiment\n",
    "# We name our experiment HopSkipJumpAttack   \n",
    "mlflow.set_experiment(experiment_name='HopSkipJumpAttack')"
   ]
  },
  {
   "cell_type": "markdown",
   "id": "f0b45333",
   "metadata": {},
   "source": [
    "Get some data to use with our simple model.  Remember, neither the data or network is important here. The only thing that matters is our ability to attack the model. We are also building the model, so we can see everything from scratch.  "
   ]
  },
  {
   "cell_type": "code",
   "execution_count": null,
   "id": "8926f697",
   "metadata": {},
   "outputs": [],
   "source": []
  },
  {
   "cell_type": "code",
   "execution_count": null,
   "id": "a45ccfde",
   "metadata": {},
   "outputs": [
    {
     "data": {
      "text/plain": [
       "tensor([[-0.0072, -0.0310, -0.0320,  0.0058, -0.0486, -0.0304, -0.0065, -0.0228,\n",
       "          0.0595, -0.0317],\n",
       "        [-0.0210, -0.0867, -0.0217,  0.0462, -0.0582, -0.0198,  0.0008, -0.0172,\n",
       "          0.0002, -0.0585],\n",
       "        [-0.0164, -0.0377, -0.0165,  0.0373, -0.0787, -0.0454, -0.0119, -0.0077,\n",
       "          0.0397, -0.0525],\n",
       "        [-0.0125, -0.0473, -0.0116,  0.0150, -0.0491, -0.0363,  0.0262,  0.0115,\n",
       "         -0.0043, -0.0720],\n",
       "        [-0.0306, -0.0666, -0.0344, -0.0042, -0.0191, -0.0371, -0.0366, -0.0237,\n",
       "          0.0482, -0.0292]], device='cuda:0', grad_fn=<SliceBackward0>)"
      ]
     },
     "execution_count": 12,
     "metadata": {},
     "output_type": "execute_result"
    }
   ],
   "source": [
    "# Set the random number generator for reproducibility \n",
    "torch.random.manual_seed(10)\n",
    "\n",
    "# Create a simple model \n",
    "# Nothing exciting about our architecture \n",
    "model = nn.Sequential(\n",
    "    nn.Conv2d(in_channels=1, out_channels=32, kernel_size=(3,3), padding=1, bias=False),\n",
    "    nn.MaxPool2d(kernel_size=(3,3), stride=1, padding=1),\n",
    "    nn.Conv2d(in_channels=32, out_channels=64, kernel_size=(3,3), padding=1),\n",
    "    nn.MaxPool2d(kernel_size=(3,3), stride=1, padding=1),\n",
    "    nn.Flatten(start_dim=1, end_dim=-1),\n",
    "    nn.Linear(in_features=50176, out_features=1024),\n",
    "    nn.Linear(in_features=1024, out_features=10)\n",
    "    #nn.Softmax(dim=-1)\n",
    ")\n",
    "\n",
    "# Move the model to the device\n",
    "model = model.to(device=device)\n",
    "model(X_sample.to(device))[:5]"
   ]
  },
  {
   "cell_type": "code",
   "execution_count": 13,
   "id": "a62414f2",
   "metadata": {},
   "outputs": [
    {
     "data": {
      "text/plain": [
       "tensor([8, 3, 8, 6, 8, 8, 3, 8, 3, 8, 3, 3, 3, 3, 3, 6, 8, 8, 3, 8, 6, 8, 3, 8,\n",
       "        8, 3, 3, 7, 8, 3, 6, 3, 3, 8, 3, 8, 3, 3, 3, 6, 8, 3, 8, 3, 8, 3, 3, 3,\n",
       "        8, 8, 3, 3, 3, 3, 8, 8, 8, 6, 3, 3, 3, 3, 6, 3], device='cuda:0')"
      ]
     },
     "execution_count": 13,
     "metadata": {},
     "output_type": "execute_result"
    }
   ],
   "source": [
    "# Let us get the predictions\n",
    "model(X_sample.to(device)).argmax(dim=-1)"
   ]
  },
  {
   "cell_type": "code",
   "execution_count": 15,
   "id": "eb9b7f34",
   "metadata": {},
   "outputs": [
    {
     "data": {
      "text/plain": [
       "device(type='cpu')"
      ]
     },
     "execution_count": 15,
     "metadata": {},
     "output_type": "execute_result"
    }
   ],
   "source": [
    "X_sample.device"
   ]
  },
  {
   "cell_type": "code",
   "execution_count": 19,
   "id": "0e4e00cf",
   "metadata": {},
   "outputs": [
    {
     "name": "stderr",
     "output_type": "stream",
     "text": [
      "Epoch: 1/5: 100%|██████████| 938/938 [00:12<00:00, 72.93it/s] \n",
      "Epoch: 2/5: 100%|██████████| 938/938 [00:15<00:00, 61.19it/s]\n",
      "Epoch: 3/5: 100%|██████████| 938/938 [00:12<00:00, 72.66it/s]\n",
      "Epoch: 4/5: 100%|██████████| 938/938 [00:28<00:00, 33.15it/s]\n",
      "Epoch: 5/5: 100%|██████████| 938/938 [00:32<00:00, 29.14it/s] \n"
     ]
    },
    {
     "name": "stdout",
     "output_type": "stream",
     "text": [
      "Training completed!\n",
      "Test accuracy: 0.9539999961853027\n"
     ]
    },
    {
     "name": "stderr",
     "output_type": "stream",
     "text": [
      "2025/08/01 23:17:43 WARNING mlflow.utils.requirements_utils: Found torch version (2.7.1+cu128) contains a local version label (+cu128). MLflow logged a pip requirement for this package as 'torch==2.7.1' without the local version label to make it installable from PyPI. To specify pip requirements containing local version labels, please use `conda_env` or `pip_requirements`.\n",
      "2025/08/01 23:17:51 WARNING mlflow.utils.requirements_utils: Found torch version (2.7.1+cu128) contains a local version label (+cu128). MLflow logged a pip requirement for this package as 'torch==2.7.1' without the local version label to make it installable from PyPI. To specify pip requirements containing local version labels, please use `conda_env` or `pip_requirements`.\n",
      "Registered model 'mnist_registered_model' already exists. Creating a new version of this model...\n",
      "2025/08/01 23:17:52 INFO mlflow.store.model_registry.abstract_store: Waiting up to 300 seconds for model version to finish creation. Model name: mnist_registered_model, version 2\n"
     ]
    },
    {
     "name": "stdout",
     "output_type": "stream",
     "text": [
      "Model saved in run 8027d3d03137407f83dc10f53cb02fce\n",
      "Model URL: runs:/8027d3d03137407f83dc10f53cb02fce/mnist_model\n",
      "🏃 View run final_run at: http://127.0.0.1:9999/#/experiments/118242476423976612/runs/8027d3d03137407f83dc10f53cb02fce\n",
      "🧪 View experiment at: http://127.0.0.1:9999/#/experiments/118242476423976612\n"
     ]
    },
    {
     "name": "stderr",
     "output_type": "stream",
     "text": [
      "Created version '2' of model 'mnist_registered_model'.\n"
     ]
    }
   ],
   "source": [
    "# Define an epoch\n",
    "epoch = 5\n",
    "\n",
    "# Setup a loss function\n",
    "loss_fn = torch.nn.CrossEntropyLoss ()\n",
    "\n",
    "# Setup the optimizer\n",
    "optimizer = torch.optim.Adam(params=model.parameters(), lr=0.1)\n",
    "\n",
    "# Wrap the training loop inside of mlflow context manager\n",
    "with mlflow.start_run(run_name='final_run') as final_run:\n",
    "    # Setup a model signature for the input and output of the model\n",
    "    signature = infer_signature(model_input=X_sample.numpy(), model_output=model(X_sample.to(device)).detach().cpu().numpy()) \n",
    "    \n",
    "    # Log the learning rate\n",
    "    mlflow.log_param('lr', 0.1)\n",
    "\n",
    "    # Run our training loop\n",
    "    for i in range(epoch):\n",
    "        for X, y in tqdm(train_loader, desc=f'Epoch: {i+1}/{epoch}'):\n",
    "            X, y = X.to(device), y.to(device)\n",
    "            optimizer.zero_grad(set_to_none=True)\n",
    "            logits = model(X)\n",
    "            loss = loss_fn(logits, y)\n",
    "            loss.backward()\n",
    "            optimizer.step()\n",
    "            \n",
    "    print('Training completed!')\n",
    "\n",
    "    # Just looking at the test accuracy. \n",
    "    # Training accuracy is not important for the problem we are solving\n",
    "    test_logits = model(X_test.to(device))\n",
    "    test_accuracy = sum(test_logits.detach().cpu().argmax(dim=-1) == y_test) / y_test.shape[0]\n",
    "    print(f'Test accuracy: {test_accuracy}')\n",
    "\n",
    "    mlflow.log_metric('test_accuracy', test_accuracy)\n",
    "    model_info = mlflow.pytorch.log_model(pytorch_model=torch.jit.script(model), name='mnist_model', signature=signature, registered_model_name='mnist_registered_model')\n",
    "    \n",
    "    model_uri = f'runs:/{final_run.info.run_id}/mnist_model'\n",
    "\n",
    "    print(f'Model saved in run {final_run.info.run_id}')\n",
    "    print(f'Model URL: {model_uri}')\n",
    "    \n",
    "mlflow.end_run()"
   ]
  },
  {
   "cell_type": "code",
   "execution_count": 22,
   "id": "56826787",
   "metadata": {},
   "outputs": [
    {
     "data": {
      "text/plain": [
       "tensor(0.9540)"
      ]
     },
     "execution_count": 22,
     "metadata": {},
     "output_type": "execute_result"
    }
   ],
   "source": [
    "# Test the trained model's accuracy\n",
    "test_logits = model(X_test.to(device))\n",
    "test_accuracy = sum(test_logits.detach().cpu().argmax(dim=-1) == y_test) / y_test.shape[0]\n",
    "test_accuracy"
   ]
  },
  {
   "cell_type": "code",
   "execution_count": 23,
   "id": "7d8a9313",
   "metadata": {},
   "outputs": [],
   "source": [
    "# Save the model\n",
    "# We can save in either approach\n",
    "torch.save(model.state_dict(), '/tmp/model.pth')\n",
    "torch.jit.script(model).save(f='/tmp/model.jit')"
   ]
  },
  {
   "cell_type": "markdown",
   "id": "95aa7a44",
   "metadata": {},
   "source": [
    "### Step 2:  \n",
    "With the model saved, we can now grab the model URI.  \n",
    "\n",
    "**Note:** You are more likely to get a different value for your models URI than I have above. Please replace the URI with that below.   "
   ]
  },
  {
   "cell_type": "code",
   "execution_count": 24,
   "id": "86a45d6b",
   "metadata": {},
   "outputs": [
    {
     "name": "stdout",
     "output_type": "stream",
     "text": [
      "The Model URI is: models:/m-2560fbf839e3419f8eee1e5a8aebc7b5\n"
     ]
    }
   ],
   "source": [
    "# Getting the model URI\n",
    "model_uri = model_info.model_uri\n",
    "print(f'The Model URI is: {model_uri}')"
   ]
  },
  {
   "cell_type": "markdown",
   "id": "e616318d",
   "metadata": {},
   "source": [
    "Split your terminal window if you can into two halves. This allows you to run things side-by-side so you can see everything within one screen.   \n",
    "\n",
    "*Set environment variable*    \n",
    "Before moving on, open another terminal and export the mlflow tracking URI\n",
    "$ **export MLFLOW_TRACKING_URI=http://localhost:9999**    \n",
    "\n",
    "You can then verify the variable is et:   \n",
    "$ **env | grep MLFLOW**   \n",
    "MLFLOW_TRACKING_URI=http://localhost:9999\n",
    "\n",
    "*Load up the inference interface*    \n",
    "**Note:** You are more likely to get a different value for your models URI than I have above. Please replace the URI with that below.  \n",
    "$ **mlflow models serve --model-uri models:/m-bccb3b44d33c44349ea980b9fd975766 --port 5000 --no-conda**   \n",
    "....    \n",
    "INFO:     Started server process [192157]    \n",
    "INFO:     Waiting for application startup.    \n",
    "INFO:     Application startup complete.    \n",
    "INFO:     Uvicorn running on http://127.0.0.1:5000 (Press CTRL+C to quit)     \n",
    "\n",
    "\n",
    "### Step 3: "
   ]
  },
  {
   "cell_type": "code",
   "execution_count": 25,
   "id": "b6915eb3",
   "metadata": {},
   "outputs": [
    {
     "data": {
      "application/vnd.jupyter.widget-view+json": {
       "model_id": "3f2eff4e9e1e4825900b2de651c7135d",
       "version_major": 2,
       "version_minor": 0
      },
      "text/plain": [
       "Downloading artifacts:   0%|          | 0/6 [00:00<?, ?it/s]"
      ]
     },
     "metadata": {},
     "output_type": "display_data"
    },
    {
     "name": "stderr",
     "output_type": "stream",
     "text": [
      "/home/securitynik/miniconda3/envs/adversarial_ai/lib/python3.12/site-packages/torch/serialization.py:1488: UserWarning: 'torch.load' received a zip file that looks like a TorchScript archive dispatching to 'torch.jit.load' (call 'torch.jit.load' directly to silence this warning)\n",
      "  warnings.warn(\n"
     ]
    },
    {
     "data": {
      "text/plain": [
       "array([[ 1.4330867e+08, -7.3795824e+07,  5.5985845e+06, -9.3815560e+07,\n",
       "        -9.9743872e+07, -2.0231716e+07,  5.1758175e+06, -5.3083552e+07,\n",
       "         9.5131470e+06, -3.5361936e+07],\n",
       "       [-7.7427576e+07,  2.7723958e+07,  1.1101824e+08, -3.4468980e+07,\n",
       "        -4.9028880e+07, -1.2028488e+08, -1.3567206e+08,  3.7724292e+07,\n",
       "         6.3831540e+06, -3.0080378e+07],\n",
       "       [-1.9049606e+07, -7.7796016e+07, -6.4887908e+07, -2.4867106e+07,\n",
       "        -7.9246320e+07,  9.8317048e+07, -3.6657536e+07, -7.0054552e+07,\n",
       "        -2.2677350e+07, -3.3195714e+07],\n",
       "       [-1.5234531e+08, -1.2606442e+08, -7.3199576e+07,  1.0584658e+08,\n",
       "        -1.5190426e+08, -1.5963080e+07, -2.3739141e+08, -4.1452616e+07,\n",
       "        -3.1128140e+07, -3.7700292e+07],\n",
       "       [-6.4920584e+07, -6.7215512e+07, -3.5828904e+07, -1.0997389e+07,\n",
       "         8.7548656e+07, -3.6595648e+06, -1.0949787e+08,  6.8353376e+07,\n",
       "         2.0529970e+07,  9.6061064e+07]], dtype=float32)"
      ]
     },
     "execution_count": 25,
     "metadata": {},
     "output_type": "execute_result"
    }
   ],
   "source": [
    "# Get the model\n",
    "# This will work but throws an error about torch.jit.load\n",
    "# This is because we save the model above via torch.jit.script(model)\n",
    "# Not a problem, we get our predictions.  \n",
    "loaded_model = mlflow.pyfunc.load_model(model_uri=model_uri)\n",
    "loaded_model.predict(X_test.numpy()[:5])"
   ]
  },
  {
   "cell_type": "code",
   "execution_count": 26,
   "id": "3c264c65",
   "metadata": {},
   "outputs": [
    {
     "data": {
      "application/vnd.jupyter.widget-view+json": {
       "model_id": "1b315e9d78c04e1e8e775910f474a229",
       "version_major": 2,
       "version_minor": 0
      },
      "text/plain": [
       "Downloading artifacts:   0%|          | 0/6 [00:00<?, ?it/s]"
      ]
     },
     "metadata": {},
     "output_type": "display_data"
    },
    {
     "name": "stdout",
     "output_type": "stream",
     "text": [
      "The local model path is: /tmp/tmpb0rnssuk/\n",
      "MLmodel     data\t     registered_model_meta\n",
      "conda.yaml  python_env.yaml  requirements.txt\n"
     ]
    }
   ],
   "source": [
    "# Let us try to remove that warning\n",
    "# First let's find where the model is saved\n",
    "local_model_path = mlflow.artifacts.download_artifacts(artifact_uri=model_uri)\n",
    "print(f'The local model path is: {local_model_path}')\n",
    "\n",
    "# Now that we have the directory \n",
    "# If we list the directory we see \n",
    "\n",
    "!ls {local_model_path}. "
   ]
  },
  {
   "cell_type": "code",
   "execution_count": 27,
   "id": "8754517c",
   "metadata": {},
   "outputs": [
    {
     "name": "stdout",
     "output_type": "stream",
     "text": [
      "model.pth  pickle_module_info.txt\n"
     ]
    }
   ],
   "source": [
    "# Notice teh data folder above?\n",
    "# This is where our model is stored  \n",
    "# Prepended the data directory at the end of our path\n",
    "# Also note, the model file is model.pth\n",
    "!ls {local_model_path}/data"
   ]
  },
  {
   "cell_type": "code",
   "execution_count": 28,
   "id": "9ee39a0c",
   "metadata": {},
   "outputs": [
    {
     "data": {
      "text/plain": [
       "RecursiveScriptModule(\n",
       "  original_name=Sequential\n",
       "  (0): RecursiveScriptModule(original_name=Conv2d)\n",
       "  (1): RecursiveScriptModule(original_name=MaxPool2d)\n",
       "  (2): RecursiveScriptModule(original_name=Conv2d)\n",
       "  (3): RecursiveScriptModule(original_name=MaxPool2d)\n",
       "  (4): RecursiveScriptModule(original_name=Flatten)\n",
       "  (5): RecursiveScriptModule(original_name=Linear)\n",
       "  (6): RecursiveScriptModule(original_name=Linear)\n",
       ")"
      ]
     },
     "execution_count": 28,
     "metadata": {},
     "output_type": "execute_result"
    }
   ],
   "source": [
    "# Load the model finally\n",
    "loaded_model = torch.jit.load(f=f'{local_model_path}/data/model.pth')\n",
    "loaded_model"
   ]
  },
  {
   "cell_type": "code",
   "execution_count": 31,
   "id": "3c359e3b",
   "metadata": {},
   "outputs": [
    {
     "data": {
      "text/plain": [
       "tensor([0, 2, 5, 3, 9], device='cuda:0')"
      ]
     },
     "execution_count": 31,
     "metadata": {},
     "output_type": "execute_result"
    }
   ],
   "source": [
    "# With our final model, make some predictions\n",
    "loaded_model(X_test.to(device)[:5]).argmax(dim=-1)"
   ]
  },
  {
   "cell_type": "markdown",
   "id": "904cea27",
   "metadata": {},
   "source": [
    "### Step 4:  \n",
    "Now that we know this works, let us, let us use this model via a white-box approach for the HopSkipJump Attack    \n",
    "\n",
    "Note: **Unfortunately, when I tried to build the ART classifier I started running into error. These errors are being left here for you to see the problem and recognize, building these solutions are not always simply plug and play but requires testing. More importantly, I am leaving the errors here for us to learn from them.**\n",
    "\n",
    "For some strange reason, ART was seeing float64 values.    \n",
    "Here is an error \"\"\" RuntimeError: expected scalar type Double but found Float \"\"\"    \n",
    "\n",
    "While most of the data seems to be float32, somehow, parts of the data seems to be flaot64 ...\n",
    "\"\"\"   \n",
    "[DEBUG] input dtype: torch.float32   \n",
    "[DEBUG] input dtype: torch.float32   \n",
    "....   \n",
    "[DEBUG] input dtype: torch.float32   \n",
    "[DEBUG] input dtype: torch.float64    \n",
    " \n",
    "\"\"\"   \n",
    "\n",
    "Notice the sudden change to float64. I am not sure why this was the case. However, this code below, helped me to detect this.   \n",
    "\n",
    "Notice below, the wrapped_model is not set as model. You would need to make this change further below.    \n",
    "art_white_box_clf = PyTorchClassifier(   \n",
    "    model=wrapped_model,    \n",
    "    loss=torch.nn.CrossEntropyLoss(),    \n",
    "    optimizer=torch.optim.Adam(params=wrapped_model.parameters(), lr=0.1),    \n",
    "    clip_values=(0., 1.),    \n",
    "    nb_classes=10,    \n",
    "    input_shape=X_test.shape[1:],    \n",
    "    device_type=device    \n",
    ")"
   ]
  },
  {
   "cell_type": "code",
   "execution_count": 32,
   "id": "065e3486",
   "metadata": {},
   "outputs": [],
   "source": [
    "# I was having problem with the model\n",
    "class DebugModel(nn.Module):\n",
    "    def __init__(self, model):\n",
    "        super().__init__()\n",
    "        self.model = model\n",
    "    \n",
    "    def forward(self, x):\n",
    "        print(f'[DEBUG] input dtype: {x.dtype}')\n",
    "        return self.model(x)"
   ]
  },
  {
   "cell_type": "code",
   "execution_count": 33,
   "id": "767c52a2",
   "metadata": {},
   "outputs": [
    {
     "data": {
      "text/plain": [
       "DebugModel(\n",
       "  (model): RecursiveScriptModule(\n",
       "    original_name=Sequential\n",
       "    (0): RecursiveScriptModule(original_name=Conv2d)\n",
       "    (1): RecursiveScriptModule(original_name=MaxPool2d)\n",
       "    (2): RecursiveScriptModule(original_name=Conv2d)\n",
       "    (3): RecursiveScriptModule(original_name=MaxPool2d)\n",
       "    (4): RecursiveScriptModule(original_name=Flatten)\n",
       "    (5): RecursiveScriptModule(original_name=Linear)\n",
       "    (6): RecursiveScriptModule(original_name=Linear)\n",
       "  )\n",
       ")"
      ]
     },
     "execution_count": 33,
     "metadata": {},
     "output_type": "execute_result"
    }
   ],
   "source": [
    "# Setup the wrapped model for debugging \n",
    "wrapped_model = DebugModel(model=loaded_model)\n",
    "wrapped_model"
   ]
  },
  {
   "cell_type": "code",
   "execution_count": 34,
   "id": "bb75ca07",
   "metadata": {},
   "outputs": [],
   "source": [
    "# Setup the classifier \n",
    "art_white_box_clf = PyTorchClassifier(\n",
    "    model= wrapped_model,    # Notice the wrapped model here. This is for debugging below.\n",
    "    loss=torch.nn.CrossEntropyLoss(),\n",
    "    optimizer=torch.optim.Adam(params=wrapped_model.parameters(), lr=0.1),\n",
    "    clip_values=(0., 1.), \n",
    "    nb_classes=10, \n",
    "    input_shape=X_test.shape[1:], \n",
    "    device_type=device\n",
    ")\n"
   ]
  },
  {
   "cell_type": "code",
   "execution_count": 35,
   "id": "4b94b8f6",
   "metadata": {},
   "outputs": [
    {
     "data": {
      "text/plain": [
       "HopSkipJump(targeted=False, norm=2, max_iter=10, max_eval=1000, init_eval=100, init_size=100, curr_iter=0, batch_size=64, verbose=True, )"
      ]
     },
     "execution_count": 35,
     "metadata": {},
     "output_type": "execute_result"
    }
   ],
   "source": [
    "# Create the HopSkipJumpAttack  \n",
    "art_attack_white_box = HopSkipJump(classifier=art_white_box_clf, \n",
    "                                   targeted=False, \n",
    "                                   norm=2, \n",
    "                                   max_iter=10,     # Increase this should improve the attack\n",
    "                                   max_eval=1000,   # Same here\n",
    "                                   verbose=True)\n",
    "\n",
    "art_attack_white_box"
   ]
  },
  {
   "cell_type": "code",
   "execution_count": 36,
   "id": "f5fdaa5e",
   "metadata": {},
   "outputs": [
    {
     "name": "stdout",
     "output_type": "stream",
     "text": [
      "[DEBUG] input dtype: torch.float32\n",
      "[DEBUG] input dtype: torch.float32\n",
      "[DEBUG] input dtype: torch.float32\n",
      "[DEBUG] input dtype: torch.float32\n",
      "[DEBUG] input dtype: torch.float32\n",
      "[DEBUG] input dtype: torch.float32\n",
      "[DEBUG] input dtype: torch.float32\n",
      "[DEBUG] input dtype: torch.float32\n",
      "[DEBUG] input dtype: torch.float32\n",
      "[DEBUG] input dtype: torch.float32\n",
      "[DEBUG] input dtype: torch.float32\n",
      "[DEBUG] input dtype: torch.float32\n",
      "[DEBUG] input dtype: torch.float32\n",
      "[DEBUG] input dtype: torch.float32\n",
      "[DEBUG] input dtype: torch.float32\n",
      "[DEBUG] input dtype: torch.float32\n",
      "[DEBUG] input dtype: torch.float32\n",
      "[DEBUG] input dtype: torch.float32\n",
      "[DEBUG] input dtype: torch.float32\n",
      "[DEBUG] input dtype: torch.float32\n",
      "[DEBUG] input dtype: torch.float32\n",
      "[DEBUG] input dtype: torch.float32\n",
      "[DEBUG] input dtype: torch.float32\n",
      "[DEBUG] input dtype: torch.float32\n",
      "[DEBUG] input dtype: torch.float32\n",
      "[DEBUG] input dtype: torch.float32\n",
      "[DEBUG] input dtype: torch.float32\n",
      "[DEBUG] input dtype: torch.float32\n",
      "[DEBUG] input dtype: torch.float32\n",
      "[DEBUG] input dtype: torch.float32\n",
      "[DEBUG] input dtype: torch.float32\n",
      "[DEBUG] input dtype: torch.float32\n"
     ]
    },
    {
     "data": {
      "application/vnd.jupyter.widget-view+json": {
       "model_id": "3cf7dadfdc664924a2f565c6bcae9320",
       "version_major": 2,
       "version_minor": 0
      },
      "text/plain": [
       "HopSkipJump:   0%|          | 0/1000 [00:00<?, ?it/s]"
      ]
     },
     "metadata": {},
     "output_type": "display_data"
    },
    {
     "name": "stdout",
     "output_type": "stream",
     "text": [
      "[DEBUG] input dtype: torch.float32\n",
      "[DEBUG] input dtype: torch.float64\n"
     ]
    },
    {
     "ename": "RuntimeError",
     "evalue": "The following operation failed in the TorchScript interpreter.\nTraceback of TorchScript, serialized code (most recent call last):\n  File \"code/__torch__/torch/nn/modules/container.py\", line 22, in forward\n    _5 = getattr(self, \"5\")\n    _6 = getattr(self, \"6\")\n    input0 = (_0).forward(input, )\n              ~~~~~~~~~~~ <--- HERE\n    input1 = (_1).forward(input0, )\n    input2 = (_2).forward(input1, )\n  File \"code/__torch__/torch/nn/modules/conv.py\", line 23, in forward\n    weight = self.weight\n    bias = self.bias\n    _0 = (self)._conv_forward(input, weight, bias, )\n          ~~~~~~~~~~~~~~~~~~~ <--- HERE\n    return _0\n  def _conv_forward(self: __torch__.torch.nn.modules.conv.Conv2d,\n  File \"code/__torch__/torch/nn/modules/conv.py\", line 29, in _conv_forward\n    weight: Tensor,\n    bias: Optional[Tensor]) -> Tensor:\n    _1 = torch.conv2d(input, weight, bias, [1, 1], [1, 1], [1, 1])\n         ~~~~~~~~~~~~ <--- HERE\n    return _1\n\nTraceback of TorchScript, original code (most recent call last):\n  File \"/home/securitynik/miniconda3/envs/adversarial_ai/lib/python3.12/site-packages/torch/nn/modules/container.py\", line 240, in forward\n    def forward(self, input):\n        for module in self:\n            input = module(input)\n                    ~~~~~~ <--- HERE\n        return input\n  File \"/home/securitynik/miniconda3/envs/adversarial_ai/lib/python3.12/site-packages/torch/nn/modules/conv.py\", line 554, in forward\n    def forward(self, input: Tensor) -> Tensor:\n        return self._conv_forward(input, self.weight, self.bias)\n               ~~~~~~~~~~~~~~~~~~ <--- HERE\n  File \"/home/securitynik/miniconda3/envs/adversarial_ai/lib/python3.12/site-packages/torch/nn/modules/conv.py\", line 549, in _conv_forward\n                self.groups,\n            )\n        return F.conv2d(\n               ~~~~~~~~ <--- HERE\n            input, weight, bias, self.stride, self.padding, self.dilation, self.groups\n        )\nRuntimeError: Input type (torch.cuda.DoubleTensor) and weight type (torch.cuda.FloatTensor) should be the same\n",
     "output_type": "error",
     "traceback": [
      "\u001b[31m---------------------------------------------------------------------------\u001b[39m",
      "\u001b[31mRuntimeError\u001b[39m                              Traceback (most recent call last)",
      "\u001b[36mCell\u001b[39m\u001b[36m \u001b[39m\u001b[32mIn[36]\u001b[39m\u001b[32m, line 3\u001b[39m\n\u001b[32m      1\u001b[39m \u001b[38;5;66;03m# Generate the adversarial examples\u001b[39;00m\n\u001b[32m      2\u001b[39m \u001b[38;5;66;03m# This will generate an error\u001b[39;00m\n\u001b[32m----> \u001b[39m\u001b[32m3\u001b[39m X_adv_examples = \u001b[43mart_attack_white_box\u001b[49m\u001b[43m.\u001b[49m\u001b[43mgenerate\u001b[49m\u001b[43m(\u001b[49m\u001b[43mx\u001b[49m\u001b[43m=\u001b[49m\u001b[43mX_test\u001b[49m\u001b[43m.\u001b[49m\u001b[43mnumpy\u001b[49m\u001b[43m(\u001b[49m\u001b[43m)\u001b[49m\u001b[43m,\u001b[49m\u001b[43m \u001b[49m\u001b[43my\u001b[49m\u001b[43m=\u001b[49m\u001b[38;5;28;43;01mNone\u001b[39;49;00m\u001b[43m)\u001b[49m\n",
      "\u001b[36mFile \u001b[39m\u001b[32m~/miniconda3/envs/adversarial_ai/lib/python3.12/site-packages/art/attacks/evasion/hop_skip_jump.py:211\u001b[39m, in \u001b[36mHopSkipJump.generate\u001b[39m\u001b[34m(self, x, y, **kwargs)\u001b[39m\n\u001b[32m    199\u001b[39m         x_adv[ind] = \u001b[38;5;28mself\u001b[39m._perturb(\n\u001b[32m    200\u001b[39m             x=val,\n\u001b[32m    201\u001b[39m             y=y[ind],  \u001b[38;5;66;03m# type: ignore\u001b[39;00m\n\u001b[32m   (...)\u001b[39m\u001b[32m    207\u001b[39m             clip_max=clip_max,\n\u001b[32m    208\u001b[39m         )\n\u001b[32m    210\u001b[39m     \u001b[38;5;28;01melse\u001b[39;00m:\n\u001b[32m--> \u001b[39m\u001b[32m211\u001b[39m         x_adv[ind] = \u001b[38;5;28;43mself\u001b[39;49m\u001b[43m.\u001b[49m\u001b[43m_perturb\u001b[49m\u001b[43m(\u001b[49m\n\u001b[32m    212\u001b[39m \u001b[43m            \u001b[49m\u001b[43mx\u001b[49m\u001b[43m=\u001b[49m\u001b[43mval\u001b[49m\u001b[43m,\u001b[49m\n\u001b[32m    213\u001b[39m \u001b[43m            \u001b[49m\u001b[43my\u001b[49m\u001b[43m=\u001b[49m\u001b[43m-\u001b[49m\u001b[32;43m1\u001b[39;49m\u001b[43m,\u001b[49m\n\u001b[32m    214\u001b[39m \u001b[43m            \u001b[49m\u001b[43my_p\u001b[49m\u001b[43m=\u001b[49m\u001b[43mpreds\u001b[49m\u001b[43m[\u001b[49m\u001b[43mind\u001b[49m\u001b[43m]\u001b[49m\u001b[43m,\u001b[49m\n\u001b[32m    215\u001b[39m \u001b[43m            \u001b[49m\u001b[43minit_pred\u001b[49m\u001b[43m=\u001b[49m\u001b[43minit_preds\u001b[49m\u001b[43m[\u001b[49m\u001b[43mind\u001b[49m\u001b[43m]\u001b[49m\u001b[43m,\u001b[49m\n\u001b[32m    216\u001b[39m \u001b[43m            \u001b[49m\u001b[43madv_init\u001b[49m\u001b[43m=\u001b[49m\u001b[43mx_adv_init\u001b[49m\u001b[43m[\u001b[49m\u001b[43mind\u001b[49m\u001b[43m]\u001b[49m\u001b[43m,\u001b[49m\n\u001b[32m    217\u001b[39m \u001b[43m            \u001b[49m\u001b[43mmask\u001b[49m\u001b[43m=\u001b[49m\u001b[43mmask\u001b[49m\u001b[43m[\u001b[49m\u001b[43mind\u001b[49m\u001b[43m]\u001b[49m\u001b[43m,\u001b[49m\n\u001b[32m    218\u001b[39m \u001b[43m            \u001b[49m\u001b[43mclip_min\u001b[49m\u001b[43m=\u001b[49m\u001b[43mclip_min\u001b[49m\u001b[43m,\u001b[49m\n\u001b[32m    219\u001b[39m \u001b[43m            \u001b[49m\u001b[43mclip_max\u001b[49m\u001b[43m=\u001b[49m\u001b[43mclip_max\u001b[49m\u001b[43m,\u001b[49m\n\u001b[32m    220\u001b[39m \u001b[43m        \u001b[49m\u001b[43m)\u001b[49m\n\u001b[32m    222\u001b[39m y = to_categorical(y, \u001b[38;5;28mself\u001b[39m.estimator.nb_classes)  \u001b[38;5;66;03m# type: ignore\u001b[39;00m\n\u001b[32m    224\u001b[39m logger.info(\n\u001b[32m    225\u001b[39m     \u001b[33m\"\u001b[39m\u001b[33mSuccess rate of HopSkipJump attack: \u001b[39m\u001b[38;5;132;01m%.2f\u001b[39;00m\u001b[38;5;132;01m%%\u001b[39;00m\u001b[33m\"\u001b[39m,\n\u001b[32m    226\u001b[39m     \u001b[32m100\u001b[39m * compute_success(\u001b[38;5;28mself\u001b[39m.estimator, x, y, x_adv, \u001b[38;5;28mself\u001b[39m.targeted, batch_size=\u001b[38;5;28mself\u001b[39m.batch_size),\n\u001b[32m    227\u001b[39m )\n",
      "\u001b[36mFile \u001b[39m\u001b[32m~/miniconda3/envs/adversarial_ai/lib/python3.12/site-packages/art/attacks/evasion/hop_skip_jump.py:258\u001b[39m, in \u001b[36mHopSkipJump._perturb\u001b[39m\u001b[34m(self, x, y, y_p, init_pred, adv_init, mask, clip_min, clip_max)\u001b[39m\n\u001b[32m    242\u001b[39m \u001b[38;5;250m\u001b[39m\u001b[33;03m\"\"\"\u001b[39;00m\n\u001b[32m    243\u001b[39m \u001b[33;03mInternal attack function for one example.\u001b[39;00m\n\u001b[32m    244\u001b[39m \n\u001b[32m   (...)\u001b[39m\u001b[32m    255\u001b[39m \u001b[33;03m:return: An adversarial example.\u001b[39;00m\n\u001b[32m    256\u001b[39m \u001b[33;03m\"\"\"\u001b[39;00m\n\u001b[32m    257\u001b[39m \u001b[38;5;66;03m# First, create an initial adversarial sample\u001b[39;00m\n\u001b[32m--> \u001b[39m\u001b[32m258\u001b[39m initial_sample = \u001b[38;5;28;43mself\u001b[39;49m\u001b[43m.\u001b[49m\u001b[43m_init_sample\u001b[49m\u001b[43m(\u001b[49m\u001b[43mx\u001b[49m\u001b[43m,\u001b[49m\u001b[43m \u001b[49m\u001b[43my\u001b[49m\u001b[43m,\u001b[49m\u001b[43m \u001b[49m\u001b[43my_p\u001b[49m\u001b[43m,\u001b[49m\u001b[43m \u001b[49m\u001b[43minit_pred\u001b[49m\u001b[43m,\u001b[49m\u001b[43m \u001b[49m\u001b[43madv_init\u001b[49m\u001b[43m,\u001b[49m\u001b[43m \u001b[49m\u001b[43mmask\u001b[49m\u001b[43m,\u001b[49m\u001b[43m \u001b[49m\u001b[43mclip_min\u001b[49m\u001b[43m,\u001b[49m\u001b[43m \u001b[49m\u001b[43mclip_max\u001b[49m\u001b[43m)\u001b[49m\n\u001b[32m    260\u001b[39m \u001b[38;5;66;03m# If an initial adversarial example is not found, then return the original image\u001b[39;00m\n\u001b[32m    261\u001b[39m \u001b[38;5;28;01mif\u001b[39;00m initial_sample \u001b[38;5;129;01mis\u001b[39;00m \u001b[38;5;28;01mNone\u001b[39;00m:\n",
      "\u001b[36mFile \u001b[39m\u001b[32m~/miniconda3/envs/adversarial_ai/lib/python3.12/site-packages/art/attacks/evasion/hop_skip_jump.py:356\u001b[39m, in \u001b[36mHopSkipJump._init_sample\u001b[39m\u001b[34m(self, x, y, y_p, init_pred, adv_init, mask, clip_min, clip_max)\u001b[39m\n\u001b[32m    349\u001b[39m random_class = np.argmax(\n\u001b[32m    350\u001b[39m     \u001b[38;5;28mself\u001b[39m.estimator.predict(np.array([random_img]), batch_size=\u001b[38;5;28mself\u001b[39m.batch_size),\n\u001b[32m    351\u001b[39m     axis=\u001b[32m1\u001b[39m,\n\u001b[32m    352\u001b[39m )[\u001b[32m0\u001b[39m]\n\u001b[32m    354\u001b[39m \u001b[38;5;28;01mif\u001b[39;00m random_class != y_p:\n\u001b[32m    355\u001b[39m     \u001b[38;5;66;03m# Binary search to reduce the l2 distance to the original image\u001b[39;00m\n\u001b[32m--> \u001b[39m\u001b[32m356\u001b[39m     random_img = \u001b[38;5;28;43mself\u001b[39;49m\u001b[43m.\u001b[49m\u001b[43m_binary_search\u001b[49m\u001b[43m(\u001b[49m\n\u001b[32m    357\u001b[39m \u001b[43m        \u001b[49m\u001b[43mcurrent_sample\u001b[49m\u001b[43m=\u001b[49m\u001b[43mrandom_img\u001b[49m\u001b[43m,\u001b[49m\n\u001b[32m    358\u001b[39m \u001b[43m        \u001b[49m\u001b[43moriginal_sample\u001b[49m\u001b[43m=\u001b[49m\u001b[43mx\u001b[49m\u001b[43m,\u001b[49m\n\u001b[32m    359\u001b[39m \u001b[43m        \u001b[49m\u001b[43mtarget\u001b[49m\u001b[43m=\u001b[49m\u001b[43my_p\u001b[49m\u001b[43m,\u001b[49m\n\u001b[32m    360\u001b[39m \u001b[43m        \u001b[49m\u001b[43mnorm\u001b[49m\u001b[43m=\u001b[49m\u001b[32;43m2\u001b[39;49m\u001b[43m,\u001b[49m\n\u001b[32m    361\u001b[39m \u001b[43m        \u001b[49m\u001b[43mclip_min\u001b[49m\u001b[43m=\u001b[49m\u001b[43mclip_min\u001b[49m\u001b[43m,\u001b[49m\n\u001b[32m    362\u001b[39m \u001b[43m        \u001b[49m\u001b[43mclip_max\u001b[49m\u001b[43m=\u001b[49m\u001b[43mclip_max\u001b[49m\u001b[43m,\u001b[49m\n\u001b[32m    363\u001b[39m \u001b[43m        \u001b[49m\u001b[43mthreshold\u001b[49m\u001b[43m=\u001b[49m\u001b[32;43m0.001\u001b[39;49m\u001b[43m,\u001b[49m\n\u001b[32m    364\u001b[39m \u001b[43m    \u001b[49m\u001b[43m)\u001b[49m\n\u001b[32m    365\u001b[39m     initial_sample = random_img, y_p\n\u001b[32m    367\u001b[39m     logger.info(\u001b[33m\"\u001b[39m\u001b[33mFound initial adversarial image for untargeted attack.\u001b[39m\u001b[33m\"\u001b[39m)\n",
      "\u001b[36mFile \u001b[39m\u001b[32m~/miniconda3/envs/adversarial_ai/lib/python3.12/site-packages/art/attacks/evasion/hop_skip_jump.py:514\u001b[39m, in \u001b[36mHopSkipJump._binary_search\u001b[39m\u001b[34m(self, current_sample, original_sample, target, norm, clip_min, clip_max, threshold)\u001b[39m\n\u001b[32m    506\u001b[39m interpolated_sample = \u001b[38;5;28mself\u001b[39m._interpolate(\n\u001b[32m    507\u001b[39m     current_sample=current_sample,\n\u001b[32m    508\u001b[39m     original_sample=original_sample,\n\u001b[32m    509\u001b[39m     alpha=alpha,\n\u001b[32m    510\u001b[39m     norm=norm,\n\u001b[32m    511\u001b[39m )\n\u001b[32m    513\u001b[39m \u001b[38;5;66;03m# Update upper_bound and lower_bound\u001b[39;00m\n\u001b[32m--> \u001b[39m\u001b[32m514\u001b[39m satisfied = \u001b[38;5;28;43mself\u001b[39;49m\u001b[43m.\u001b[49m\u001b[43m_adversarial_satisfactory\u001b[49m\u001b[43m(\u001b[49m\n\u001b[32m    515\u001b[39m \u001b[43m    \u001b[49m\u001b[43msamples\u001b[49m\u001b[43m=\u001b[49m\u001b[43minterpolated_sample\u001b[49m\u001b[43m[\u001b[49m\u001b[38;5;28;43;01mNone\u001b[39;49;00m\u001b[43m]\u001b[49m\u001b[43m,\u001b[49m\n\u001b[32m    516\u001b[39m \u001b[43m    \u001b[49m\u001b[43mtarget\u001b[49m\u001b[43m=\u001b[49m\u001b[43mtarget\u001b[49m\u001b[43m,\u001b[49m\n\u001b[32m    517\u001b[39m \u001b[43m    \u001b[49m\u001b[43mclip_min\u001b[49m\u001b[43m=\u001b[49m\u001b[43mclip_min\u001b[49m\u001b[43m,\u001b[49m\n\u001b[32m    518\u001b[39m \u001b[43m    \u001b[49m\u001b[43mclip_max\u001b[49m\u001b[43m=\u001b[49m\u001b[43mclip_max\u001b[49m\u001b[43m,\u001b[49m\n\u001b[32m    519\u001b[39m \u001b[43m\u001b[49m\u001b[43m)\u001b[49m[\u001b[32m0\u001b[39m]\n\u001b[32m    520\u001b[39m lower_bound = np.where(satisfied == \u001b[32m0\u001b[39m, alpha, lower_bound)\n\u001b[32m    521\u001b[39m upper_bound = np.where(satisfied == \u001b[32m1\u001b[39m, alpha, upper_bound)\n",
      "\u001b[36mFile \u001b[39m\u001b[32m~/miniconda3/envs/adversarial_ai/lib/python3.12/site-packages/art/attacks/evasion/hop_skip_jump.py:645\u001b[39m, in \u001b[36mHopSkipJump._adversarial_satisfactory\u001b[39m\u001b[34m(self, samples, target, clip_min, clip_max)\u001b[39m\n\u001b[32m    635\u001b[39m \u001b[38;5;250m\u001b[39m\u001b[33;03m\"\"\"\u001b[39;00m\n\u001b[32m    636\u001b[39m \u001b[33;03mCheck whether an image is adversarial.\u001b[39;00m\n\u001b[32m    637\u001b[39m \n\u001b[32m   (...)\u001b[39m\u001b[32m    642\u001b[39m \u001b[33;03m:return: An array of 0/1.\u001b[39;00m\n\u001b[32m    643\u001b[39m \u001b[33;03m\"\"\"\u001b[39;00m\n\u001b[32m    644\u001b[39m samples = np.clip(samples, clip_min, clip_max)\n\u001b[32m--> \u001b[39m\u001b[32m645\u001b[39m preds = np.argmax(\u001b[38;5;28;43mself\u001b[39;49m\u001b[43m.\u001b[49m\u001b[43mestimator\u001b[49m\u001b[43m.\u001b[49m\u001b[43mpredict\u001b[49m\u001b[43m(\u001b[49m\u001b[43msamples\u001b[49m\u001b[43m,\u001b[49m\u001b[43m \u001b[49m\u001b[43mbatch_size\u001b[49m\u001b[43m=\u001b[49m\u001b[38;5;28;43mself\u001b[39;49m\u001b[43m.\u001b[49m\u001b[43mbatch_size\u001b[49m\u001b[43m)\u001b[49m, axis=\u001b[32m1\u001b[39m)\n\u001b[32m    647\u001b[39m \u001b[38;5;28;01mif\u001b[39;00m \u001b[38;5;28mself\u001b[39m.targeted:\n\u001b[32m    648\u001b[39m     result = preds == target\n",
      "\u001b[36mFile \u001b[39m\u001b[32m~/miniconda3/envs/adversarial_ai/lib/python3.12/site-packages/art/estimators/classification/classifier.py:75\u001b[39m, in \u001b[36mInputFilter.__init__.<locals>.make_replacement.<locals>.replacement_function\u001b[39m\u001b[34m(self, *args, **kwargs)\u001b[39m\n\u001b[32m     73\u001b[39m \u001b[38;5;28;01mif\u001b[39;00m \u001b[38;5;28mlen\u001b[39m(args) > \u001b[32m0\u001b[39m:\n\u001b[32m     74\u001b[39m     args = \u001b[38;5;28mtuple\u001b[39m(lst)\n\u001b[32m---> \u001b[39m\u001b[32m75\u001b[39m \u001b[38;5;28;01mreturn\u001b[39;00m \u001b[43mfdict\u001b[49m\u001b[43m[\u001b[49m\u001b[43mfunc_name\u001b[49m\u001b[43m]\u001b[49m\u001b[43m(\u001b[49m\u001b[38;5;28;43mself\u001b[39;49m\u001b[43m,\u001b[49m\u001b[43m \u001b[49m\u001b[43m*\u001b[49m\u001b[43margs\u001b[49m\u001b[43m,\u001b[49m\u001b[43m \u001b[49m\u001b[43m*\u001b[49m\u001b[43m*\u001b[49m\u001b[43mkwargs\u001b[49m\u001b[43m)\u001b[49m\n",
      "\u001b[36mFile \u001b[39m\u001b[32m~/miniconda3/envs/adversarial_ai/lib/python3.12/site-packages/art/estimators/classification/pytorch.py:329\u001b[39m, in \u001b[36mPyTorchClassifier.predict\u001b[39m\u001b[34m(self, x, batch_size, training_mode, **kwargs)\u001b[39m\n\u001b[32m    327\u001b[39m \u001b[38;5;66;03m# Run prediction\u001b[39;00m\n\u001b[32m    328\u001b[39m \u001b[38;5;28;01mwith\u001b[39;00m torch.no_grad():\n\u001b[32m--> \u001b[39m\u001b[32m329\u001b[39m     model_outputs = \u001b[38;5;28;43mself\u001b[39;49m\u001b[43m.\u001b[49m\u001b[43m_model\u001b[49m\u001b[43m(\u001b[49m\u001b[43mx_batch\u001b[49m\u001b[43m)\u001b[49m\n\u001b[32m    330\u001b[39m output = model_outputs[-\u001b[32m1\u001b[39m]\n\u001b[32m    331\u001b[39m output = output.detach().cpu().numpy().astype(np.float32)\n",
      "\u001b[36mFile \u001b[39m\u001b[32m~/miniconda3/envs/adversarial_ai/lib/python3.12/site-packages/torch/nn/modules/module.py:1751\u001b[39m, in \u001b[36mModule._wrapped_call_impl\u001b[39m\u001b[34m(self, *args, **kwargs)\u001b[39m\n\u001b[32m   1749\u001b[39m     \u001b[38;5;28;01mreturn\u001b[39;00m \u001b[38;5;28mself\u001b[39m._compiled_call_impl(*args, **kwargs)  \u001b[38;5;66;03m# type: ignore[misc]\u001b[39;00m\n\u001b[32m   1750\u001b[39m \u001b[38;5;28;01melse\u001b[39;00m:\n\u001b[32m-> \u001b[39m\u001b[32m1751\u001b[39m     \u001b[38;5;28;01mreturn\u001b[39;00m \u001b[38;5;28;43mself\u001b[39;49m\u001b[43m.\u001b[49m\u001b[43m_call_impl\u001b[49m\u001b[43m(\u001b[49m\u001b[43m*\u001b[49m\u001b[43margs\u001b[49m\u001b[43m,\u001b[49m\u001b[43m \u001b[49m\u001b[43m*\u001b[49m\u001b[43m*\u001b[49m\u001b[43mkwargs\u001b[49m\u001b[43m)\u001b[49m\n",
      "\u001b[36mFile \u001b[39m\u001b[32m~/miniconda3/envs/adversarial_ai/lib/python3.12/site-packages/torch/nn/modules/module.py:1762\u001b[39m, in \u001b[36mModule._call_impl\u001b[39m\u001b[34m(self, *args, **kwargs)\u001b[39m\n\u001b[32m   1757\u001b[39m \u001b[38;5;66;03m# If we don't have any hooks, we want to skip the rest of the logic in\u001b[39;00m\n\u001b[32m   1758\u001b[39m \u001b[38;5;66;03m# this function, and just call forward.\u001b[39;00m\n\u001b[32m   1759\u001b[39m \u001b[38;5;28;01mif\u001b[39;00m \u001b[38;5;129;01mnot\u001b[39;00m (\u001b[38;5;28mself\u001b[39m._backward_hooks \u001b[38;5;129;01mor\u001b[39;00m \u001b[38;5;28mself\u001b[39m._backward_pre_hooks \u001b[38;5;129;01mor\u001b[39;00m \u001b[38;5;28mself\u001b[39m._forward_hooks \u001b[38;5;129;01mor\u001b[39;00m \u001b[38;5;28mself\u001b[39m._forward_pre_hooks\n\u001b[32m   1760\u001b[39m         \u001b[38;5;129;01mor\u001b[39;00m _global_backward_pre_hooks \u001b[38;5;129;01mor\u001b[39;00m _global_backward_hooks\n\u001b[32m   1761\u001b[39m         \u001b[38;5;129;01mor\u001b[39;00m _global_forward_hooks \u001b[38;5;129;01mor\u001b[39;00m _global_forward_pre_hooks):\n\u001b[32m-> \u001b[39m\u001b[32m1762\u001b[39m     \u001b[38;5;28;01mreturn\u001b[39;00m \u001b[43mforward_call\u001b[49m\u001b[43m(\u001b[49m\u001b[43m*\u001b[49m\u001b[43margs\u001b[49m\u001b[43m,\u001b[49m\u001b[43m \u001b[49m\u001b[43m*\u001b[49m\u001b[43m*\u001b[49m\u001b[43mkwargs\u001b[49m\u001b[43m)\u001b[49m\n\u001b[32m   1764\u001b[39m result = \u001b[38;5;28;01mNone\u001b[39;00m\n\u001b[32m   1765\u001b[39m called_always_called_hooks = \u001b[38;5;28mset\u001b[39m()\n",
      "\u001b[36mFile \u001b[39m\u001b[32m~/miniconda3/envs/adversarial_ai/lib/python3.12/site-packages/art/estimators/classification/pytorch.py:1165\u001b[39m, in \u001b[36mPyTorchClassifier._make_model_wrapper.<locals>.ModelWrapper.forward\u001b[39m\u001b[34m(self, x)\u001b[39m\n\u001b[32m   1162\u001b[39m         result.append(x)\n\u001b[32m   1164\u001b[39m \u001b[38;5;28;01melif\u001b[39;00m \u001b[38;5;28misinstance\u001b[39m(\u001b[38;5;28mself\u001b[39m._model, torch.nn.Module):\n\u001b[32m-> \u001b[39m\u001b[32m1165\u001b[39m     x = \u001b[38;5;28;43mself\u001b[39;49m\u001b[43m.\u001b[49m\u001b[43m_model\u001b[49m\u001b[43m(\u001b[49m\u001b[43mx\u001b[49m\u001b[43m)\u001b[49m\n\u001b[32m   1166\u001b[39m     result.append(x)\n\u001b[32m   1168\u001b[39m \u001b[38;5;28;01melse\u001b[39;00m:  \u001b[38;5;66;03m# pragma: no cover\u001b[39;00m\n",
      "\u001b[36mFile \u001b[39m\u001b[32m~/miniconda3/envs/adversarial_ai/lib/python3.12/site-packages/torch/nn/modules/module.py:1751\u001b[39m, in \u001b[36mModule._wrapped_call_impl\u001b[39m\u001b[34m(self, *args, **kwargs)\u001b[39m\n\u001b[32m   1749\u001b[39m     \u001b[38;5;28;01mreturn\u001b[39;00m \u001b[38;5;28mself\u001b[39m._compiled_call_impl(*args, **kwargs)  \u001b[38;5;66;03m# type: ignore[misc]\u001b[39;00m\n\u001b[32m   1750\u001b[39m \u001b[38;5;28;01melse\u001b[39;00m:\n\u001b[32m-> \u001b[39m\u001b[32m1751\u001b[39m     \u001b[38;5;28;01mreturn\u001b[39;00m \u001b[38;5;28;43mself\u001b[39;49m\u001b[43m.\u001b[49m\u001b[43m_call_impl\u001b[49m\u001b[43m(\u001b[49m\u001b[43m*\u001b[49m\u001b[43margs\u001b[49m\u001b[43m,\u001b[49m\u001b[43m \u001b[49m\u001b[43m*\u001b[49m\u001b[43m*\u001b[49m\u001b[43mkwargs\u001b[49m\u001b[43m)\u001b[49m\n",
      "\u001b[36mFile \u001b[39m\u001b[32m~/miniconda3/envs/adversarial_ai/lib/python3.12/site-packages/torch/nn/modules/module.py:1762\u001b[39m, in \u001b[36mModule._call_impl\u001b[39m\u001b[34m(self, *args, **kwargs)\u001b[39m\n\u001b[32m   1757\u001b[39m \u001b[38;5;66;03m# If we don't have any hooks, we want to skip the rest of the logic in\u001b[39;00m\n\u001b[32m   1758\u001b[39m \u001b[38;5;66;03m# this function, and just call forward.\u001b[39;00m\n\u001b[32m   1759\u001b[39m \u001b[38;5;28;01mif\u001b[39;00m \u001b[38;5;129;01mnot\u001b[39;00m (\u001b[38;5;28mself\u001b[39m._backward_hooks \u001b[38;5;129;01mor\u001b[39;00m \u001b[38;5;28mself\u001b[39m._backward_pre_hooks \u001b[38;5;129;01mor\u001b[39;00m \u001b[38;5;28mself\u001b[39m._forward_hooks \u001b[38;5;129;01mor\u001b[39;00m \u001b[38;5;28mself\u001b[39m._forward_pre_hooks\n\u001b[32m   1760\u001b[39m         \u001b[38;5;129;01mor\u001b[39;00m _global_backward_pre_hooks \u001b[38;5;129;01mor\u001b[39;00m _global_backward_hooks\n\u001b[32m   1761\u001b[39m         \u001b[38;5;129;01mor\u001b[39;00m _global_forward_hooks \u001b[38;5;129;01mor\u001b[39;00m _global_forward_pre_hooks):\n\u001b[32m-> \u001b[39m\u001b[32m1762\u001b[39m     \u001b[38;5;28;01mreturn\u001b[39;00m \u001b[43mforward_call\u001b[49m\u001b[43m(\u001b[49m\u001b[43m*\u001b[49m\u001b[43margs\u001b[49m\u001b[43m,\u001b[49m\u001b[43m \u001b[49m\u001b[43m*\u001b[49m\u001b[43m*\u001b[49m\u001b[43mkwargs\u001b[49m\u001b[43m)\u001b[49m\n\u001b[32m   1764\u001b[39m result = \u001b[38;5;28;01mNone\u001b[39;00m\n\u001b[32m   1765\u001b[39m called_always_called_hooks = \u001b[38;5;28mset\u001b[39m()\n",
      "\u001b[36mCell\u001b[39m\u001b[36m \u001b[39m\u001b[32mIn[32]\u001b[39m\u001b[32m, line 9\u001b[39m, in \u001b[36mDebugModel.forward\u001b[39m\u001b[34m(self, x)\u001b[39m\n\u001b[32m      7\u001b[39m \u001b[38;5;28;01mdef\u001b[39;00m\u001b[38;5;250m \u001b[39m\u001b[34mforward\u001b[39m(\u001b[38;5;28mself\u001b[39m, x):\n\u001b[32m      8\u001b[39m     \u001b[38;5;28mprint\u001b[39m(\u001b[33mf\u001b[39m\u001b[33m'\u001b[39m\u001b[33m[DEBUG] input dtype: \u001b[39m\u001b[38;5;132;01m{\u001b[39;00mx.dtype\u001b[38;5;132;01m}\u001b[39;00m\u001b[33m'\u001b[39m)\n\u001b[32m----> \u001b[39m\u001b[32m9\u001b[39m     \u001b[38;5;28;01mreturn\u001b[39;00m \u001b[38;5;28;43mself\u001b[39;49m\u001b[43m.\u001b[49m\u001b[43mmodel\u001b[49m\u001b[43m(\u001b[49m\u001b[43mx\u001b[49m\u001b[43m)\u001b[49m\n",
      "\u001b[36mFile \u001b[39m\u001b[32m~/miniconda3/envs/adversarial_ai/lib/python3.12/site-packages/torch/nn/modules/module.py:1751\u001b[39m, in \u001b[36mModule._wrapped_call_impl\u001b[39m\u001b[34m(self, *args, **kwargs)\u001b[39m\n\u001b[32m   1749\u001b[39m     \u001b[38;5;28;01mreturn\u001b[39;00m \u001b[38;5;28mself\u001b[39m._compiled_call_impl(*args, **kwargs)  \u001b[38;5;66;03m# type: ignore[misc]\u001b[39;00m\n\u001b[32m   1750\u001b[39m \u001b[38;5;28;01melse\u001b[39;00m:\n\u001b[32m-> \u001b[39m\u001b[32m1751\u001b[39m     \u001b[38;5;28;01mreturn\u001b[39;00m \u001b[38;5;28;43mself\u001b[39;49m\u001b[43m.\u001b[49m\u001b[43m_call_impl\u001b[49m\u001b[43m(\u001b[49m\u001b[43m*\u001b[49m\u001b[43margs\u001b[49m\u001b[43m,\u001b[49m\u001b[43m \u001b[49m\u001b[43m*\u001b[49m\u001b[43m*\u001b[49m\u001b[43mkwargs\u001b[49m\u001b[43m)\u001b[49m\n",
      "\u001b[36mFile \u001b[39m\u001b[32m~/miniconda3/envs/adversarial_ai/lib/python3.12/site-packages/torch/nn/modules/module.py:1762\u001b[39m, in \u001b[36mModule._call_impl\u001b[39m\u001b[34m(self, *args, **kwargs)\u001b[39m\n\u001b[32m   1757\u001b[39m \u001b[38;5;66;03m# If we don't have any hooks, we want to skip the rest of the logic in\u001b[39;00m\n\u001b[32m   1758\u001b[39m \u001b[38;5;66;03m# this function, and just call forward.\u001b[39;00m\n\u001b[32m   1759\u001b[39m \u001b[38;5;28;01mif\u001b[39;00m \u001b[38;5;129;01mnot\u001b[39;00m (\u001b[38;5;28mself\u001b[39m._backward_hooks \u001b[38;5;129;01mor\u001b[39;00m \u001b[38;5;28mself\u001b[39m._backward_pre_hooks \u001b[38;5;129;01mor\u001b[39;00m \u001b[38;5;28mself\u001b[39m._forward_hooks \u001b[38;5;129;01mor\u001b[39;00m \u001b[38;5;28mself\u001b[39m._forward_pre_hooks\n\u001b[32m   1760\u001b[39m         \u001b[38;5;129;01mor\u001b[39;00m _global_backward_pre_hooks \u001b[38;5;129;01mor\u001b[39;00m _global_backward_hooks\n\u001b[32m   1761\u001b[39m         \u001b[38;5;129;01mor\u001b[39;00m _global_forward_hooks \u001b[38;5;129;01mor\u001b[39;00m _global_forward_pre_hooks):\n\u001b[32m-> \u001b[39m\u001b[32m1762\u001b[39m     \u001b[38;5;28;01mreturn\u001b[39;00m \u001b[43mforward_call\u001b[49m\u001b[43m(\u001b[49m\u001b[43m*\u001b[49m\u001b[43margs\u001b[49m\u001b[43m,\u001b[49m\u001b[43m \u001b[49m\u001b[43m*\u001b[49m\u001b[43m*\u001b[49m\u001b[43mkwargs\u001b[49m\u001b[43m)\u001b[49m\n\u001b[32m   1764\u001b[39m result = \u001b[38;5;28;01mNone\u001b[39;00m\n\u001b[32m   1765\u001b[39m called_always_called_hooks = \u001b[38;5;28mset\u001b[39m()\n",
      "\u001b[31mRuntimeError\u001b[39m: The following operation failed in the TorchScript interpreter.\nTraceback of TorchScript, serialized code (most recent call last):\n  File \"code/__torch__/torch/nn/modules/container.py\", line 22, in forward\n    _5 = getattr(self, \"5\")\n    _6 = getattr(self, \"6\")\n    input0 = (_0).forward(input, )\n              ~~~~~~~~~~~ <--- HERE\n    input1 = (_1).forward(input0, )\n    input2 = (_2).forward(input1, )\n  File \"code/__torch__/torch/nn/modules/conv.py\", line 23, in forward\n    weight = self.weight\n    bias = self.bias\n    _0 = (self)._conv_forward(input, weight, bias, )\n          ~~~~~~~~~~~~~~~~~~~ <--- HERE\n    return _0\n  def _conv_forward(self: __torch__.torch.nn.modules.conv.Conv2d,\n  File \"code/__torch__/torch/nn/modules/conv.py\", line 29, in _conv_forward\n    weight: Tensor,\n    bias: Optional[Tensor]) -> Tensor:\n    _1 = torch.conv2d(input, weight, bias, [1, 1], [1, 1], [1, 1])\n         ~~~~~~~~~~~~ <--- HERE\n    return _1\n\nTraceback of TorchScript, original code (most recent call last):\n  File \"/home/securitynik/miniconda3/envs/adversarial_ai/lib/python3.12/site-packages/torch/nn/modules/container.py\", line 240, in forward\n    def forward(self, input):\n        for module in self:\n            input = module(input)\n                    ~~~~~~ <--- HERE\n        return input\n  File \"/home/securitynik/miniconda3/envs/adversarial_ai/lib/python3.12/site-packages/torch/nn/modules/conv.py\", line 554, in forward\n    def forward(self, input: Tensor) -> Tensor:\n        return self._conv_forward(input, self.weight, self.bias)\n               ~~~~~~~~~~~~~~~~~~ <--- HERE\n  File \"/home/securitynik/miniconda3/envs/adversarial_ai/lib/python3.12/site-packages/torch/nn/modules/conv.py\", line 549, in _conv_forward\n                self.groups,\n            )\n        return F.conv2d(\n               ~~~~~~~~ <--- HERE\n            input, weight, bias, self.stride, self.padding, self.dilation, self.groups\n        )\nRuntimeError: Input type (torch.cuda.DoubleTensor) and weight type (torch.cuda.FloatTensor) should be the same\n"
     ]
    }
   ],
   "source": [
    "# Generate the adversarial examples\n",
    "# This will generate an error\n",
    "X_adv_examples = art_attack_white_box.generate(x=X_test.numpy(), y=None)"
   ]
  },
  {
   "cell_type": "markdown",
   "id": "354f52ea",
   "metadata": {},
   "source": [
    "Let us now fix the problem above. Above, we created a wrapper for the model to debug the issue. Now that we know what the issue is, let us create a wrapper to fix the issue.  \n"
   ]
  },
  {
   "cell_type": "code",
   "execution_count": 37,
   "id": "394f807b",
   "metadata": {},
   "outputs": [],
   "source": [
    "# Create a new wrapper class for the model\n",
    "class FixedModel(nn.Module):\n",
    "    def __init__(self, model):\n",
    "        super().__init__()\n",
    "        self.model = model\n",
    "\n",
    "    def forward(self, x):\n",
    "        if x.dtype != torch.float32:\n",
    "            x = x.float()\n",
    "        return self.model(x)"
   ]
  },
  {
   "cell_type": "code",
   "execution_count": 38,
   "id": "8dbdbcba",
   "metadata": {},
   "outputs": [
    {
     "data": {
      "text/plain": [
       "FixedModel(\n",
       "  (model): RecursiveScriptModule(\n",
       "    original_name=Sequential\n",
       "    (0): RecursiveScriptModule(original_name=Conv2d)\n",
       "    (1): RecursiveScriptModule(original_name=MaxPool2d)\n",
       "    (2): RecursiveScriptModule(original_name=Conv2d)\n",
       "    (3): RecursiveScriptModule(original_name=MaxPool2d)\n",
       "    (4): RecursiveScriptModule(original_name=Flatten)\n",
       "    (5): RecursiveScriptModule(original_name=Linear)\n",
       "    (6): RecursiveScriptModule(original_name=Linear)\n",
       "  )\n",
       ")"
      ]
     },
     "execution_count": 38,
     "metadata": {},
     "output_type": "execute_result"
    }
   ],
   "source": [
    "# Instantiate the model for ART\n",
    "art_safe_model = FixedModel(model=loaded_model).to(device)\n",
    "art_safe_model"
   ]
  },
  {
   "cell_type": "code",
   "execution_count": 39,
   "id": "64ecb5f6",
   "metadata": {},
   "outputs": [
    {
     "data": {
      "text/plain": [
       "art.estimators.classification.pytorch.PyTorchClassifier(model=ModelWrapper(\n",
       "  (_model): FixedModel(\n",
       "    (model): RecursiveScriptModule(\n",
       "      original_name=Sequential\n",
       "      (0): RecursiveScriptModule(original_name=Conv2d)\n",
       "      (1): RecursiveScriptModule(original_name=MaxPool2d)\n",
       "      (2): RecursiveScriptModule(original_name=Conv2d)\n",
       "      (3): RecursiveScriptModule(original_name=MaxPool2d)\n",
       "      (4): RecursiveScriptModule(original_name=Flatten)\n",
       "      (5): RecursiveScriptModule(original_name=Linear)\n",
       "      (6): RecursiveScriptModule(original_name=Linear)\n",
       "    )\n",
       "  )\n",
       "), loss=CrossEntropyLoss(), optimizer=Adam (\n",
       "Parameter Group 0\n",
       "    amsgrad: False\n",
       "    betas: (0.9, 0.999)\n",
       "    capturable: False\n",
       "    decoupled_weight_decay: False\n",
       "    differentiable: False\n",
       "    eps: 1e-08\n",
       "    foreach: None\n",
       "    fused: None\n",
       "    lr: 0.1\n",
       "    maximize: False\n",
       "    weight_decay: 0\n",
       "), input_shape=torch.Size([1, 28, 28]), nb_classes=10, channels_first=True, clip_values=array([0., 1.], dtype=float32), preprocessing_defences=None, postprocessing_defences=None, preprocessing=StandardisationMeanStdPyTorch(mean=0.0, std=1.0, apply_fit=True, apply_predict=True, device=cuda:0))"
      ]
     },
     "execution_count": 39,
     "metadata": {},
     "output_type": "execute_result"
    }
   ],
   "source": [
    "# Specify our model \n",
    "# loss function as CrossEntropy Loss\n",
    "# Clip the output between -2 and 2\n",
    "# The original input is between -4 and 4\n",
    "# Set the input shape to the shape of X\n",
    "art_white_box_clf = PyTorchClassifier(model=art_safe_model, \n",
    "                                      loss=torch.nn.CrossEntropyLoss(),\n",
    "                                      optimizer=torch.optim.Adam(params=loaded_model.parameters(), lr=0.1),\n",
    "                                      clip_values=(0., 1.), \n",
    "                                      nb_classes=10, \n",
    "                                      input_shape=X_test.shape[1:], \n",
    "                                      device_type=device)\n",
    "\n",
    "art_white_box_clf"
   ]
  },
  {
   "cell_type": "code",
   "execution_count": 40,
   "id": "eb8e4549",
   "metadata": {},
   "outputs": [
    {
     "data": {
      "text/plain": [
       "HopSkipJump(targeted=False, norm=2, max_iter=10, max_eval=100, init_eval=2, init_size=100, curr_iter=0, batch_size=64, verbose=True, )"
      ]
     },
     "execution_count": 40,
     "metadata": {},
     "output_type": "execute_result"
    }
   ],
   "source": [
    "# Create the HopSkipJumpAttack  \n",
    "# https://adversarial-robustness-toolbox.readthedocs.io/en/latest/modules/attacks/evasion.html#hopskipjump-attack\n",
    "art_attack_white_box = HopSkipJump(classifier=art_white_box_clf, \n",
    "                                   targeted=False, \n",
    "                                   norm=2, \n",
    "                                   init_eval=2,\n",
    "                                   max_iter=10,     # Increase this should improve the attack\n",
    "                                   max_eval=100,   # Same here\n",
    "                                   verbose=True)\n",
    "\n",
    "art_attack_white_box"
   ]
  },
  {
   "cell_type": "markdown",
   "id": "a9cf9361",
   "metadata": {},
   "source": [
    "I kept the max_iter=10 and max_eval=100 just to ensure the attack is fast in the interest of time. However, feel free to go ahead and increase these numbers. This should give you a better result.   "
   ]
  },
  {
   "cell_type": "code",
   "execution_count": 41,
   "id": "aa0b0da4",
   "metadata": {},
   "outputs": [
    {
     "data": {
      "application/vnd.jupyter.widget-view+json": {
       "model_id": "cea64b913fed47afb5823976632bd9d1",
       "version_major": 2,
       "version_minor": 0
      },
      "text/plain": [
       "HopSkipJump:   0%|          | 0/1000 [00:00<?, ?it/s]"
      ]
     },
     "metadata": {},
     "output_type": "display_data"
    },
    {
     "data": {
      "text/plain": [
       "array([[[[3.84954870e-01, 5.05443588e-02, 0.00000000e+00, ...,\n",
       "          0.00000000e+00, 8.77843797e-03, 0.00000000e+00],\n",
       "         [4.66915369e-02, 0.00000000e+00, 3.68113279e-01, ...,\n",
       "          2.65739653e-02, 3.26582164e-01, 0.00000000e+00],\n",
       "         [2.74273127e-01, 2.17970893e-01, 1.26707166e-01, ...,\n",
       "          0.00000000e+00, 3.28005075e-01, 2.17819646e-01],\n",
       "         ...,\n",
       "         [1.86429154e-02, 2.15741485e-01, 2.01144323e-01, ...,\n",
       "          3.97726417e-01, 1.28487036e-01, 4.01828326e-02],\n",
       "         [0.00000000e+00, 1.29454195e-01, 1.22512385e-01, ...,\n",
       "          2.10666940e-01, 1.55011609e-01, 1.31299570e-02],\n",
       "         [4.23655778e-01, 2.80913413e-01, 2.10755900e-03, ...,\n",
       "          1.73176572e-01, 2.60233283e-01, 2.10678130e-01]]],\n",
       "\n",
       "\n",
       "       [[[1.28277063e-01, 7.09191114e-02, 2.26720069e-02, ...,\n",
       "          1.69817694e-02, 3.48678619e-01, 4.64740284e-02],\n",
       "         [1.33095399e-01, 1.90993294e-01, 0.00000000e+00, ...,\n",
       "          2.51156956e-01, 2.40240544e-01, 2.00988397e-01],\n",
       "         [1.73712417e-01, 6.31365031e-02, 1.34062886e-01, ...,\n",
       "          2.47915044e-01, 1.18418731e-01, 0.00000000e+00],\n",
       "         ...,\n",
       "         [0.00000000e+00, 1.71544045e-01, 0.00000000e+00, ...,\n",
       "          3.11063230e-01, 5.16808731e-03, 4.08173278e-02],\n",
       "         [1.24017820e-01, 0.00000000e+00, 7.94789344e-02, ...,\n",
       "          8.30730423e-02, 1.18452057e-01, 2.16665026e-03],\n",
       "         [5.51424772e-02, 2.52497315e-01, 3.08401557e-03, ...,\n",
       "          9.39010233e-02, 1.25271291e-01, 8.92211720e-02]]],\n",
       "\n",
       "\n",
       "       [[[0.00000000e+00, 0.00000000e+00, 2.05306441e-01, ...,\n",
       "          1.96557015e-01, 4.24976289e-01, 0.00000000e+00],\n",
       "         [1.31844759e-01, 0.00000000e+00, 0.00000000e+00, ...,\n",
       "          4.89641018e-02, 2.85967737e-01, 1.54721662e-01],\n",
       "         [1.01385616e-01, 5.52363805e-02, 1.72572851e-01, ...,\n",
       "          2.59269565e-01, 4.71133962e-02, 1.82644963e-01],\n",
       "         ...,\n",
       "         [1.43896788e-01, 1.64211661e-01, 1.94287375e-01, ...,\n",
       "          8.09102133e-02, 2.71901935e-01, 1.97599139e-02],\n",
       "         [1.19734213e-01, 1.88178152e-01, 8.02934915e-02, ...,\n",
       "          1.54219687e-01, 1.77597418e-01, 3.91456671e-02],\n",
       "         [1.31236583e-01, 0.00000000e+00, 3.63842547e-02, ...,\n",
       "          3.29535186e-01, 3.52862895e-01, 1.08413853e-01]]],\n",
       "\n",
       "\n",
       "       ...,\n",
       "\n",
       "\n",
       "       [[[0.00000000e+00, 0.00000000e+00, 6.11854605e-02, ...,\n",
       "          1.87605068e-01, 0.00000000e+00, 1.94446996e-01],\n",
       "         [2.11167052e-01, 1.22934885e-01, 0.00000000e+00, ...,\n",
       "          0.00000000e+00, 1.00886617e-02, 2.15061441e-01],\n",
       "         [8.60278606e-02, 1.63275562e-02, 6.46002144e-02, ...,\n",
       "          6.46963902e-03, 0.00000000e+00, 5.87746724e-02],\n",
       "         ...,\n",
       "         [9.01730955e-02, 1.52325898e-01, 3.76783550e-01, ...,\n",
       "          3.52546237e-02, 1.37171336e-02, 2.26474151e-01],\n",
       "         [1.29850239e-01, 2.13018402e-01, 4.35718268e-01, ...,\n",
       "          2.17742980e-01, 3.41817498e-01, 1.68055832e-01],\n",
       "         [1.46339640e-01, 1.26014158e-01, 1.05715163e-01, ...,\n",
       "          1.95103921e-02, 9.19959508e-03, 1.51230112e-01]]],\n",
       "\n",
       "\n",
       "       [[[2.51986715e-03, 3.07896249e-02, 3.90018849e-03, ...,\n",
       "          4.22720090e-02, 0.00000000e+00, 4.90736961e-02],\n",
       "         [0.00000000e+00, 0.00000000e+00, 4.78792638e-02, ...,\n",
       "          2.60360669e-02, 9.36659891e-03, 1.62215193e-03],\n",
       "         [2.30948417e-03, 4.66972142e-02, 2.06617508e-02, ...,\n",
       "          4.68266234e-02, 7.05327317e-02, 2.06615252e-04],\n",
       "         ...,\n",
       "         [8.26888308e-02, 3.57325748e-02, 4.05352898e-02, ...,\n",
       "          1.34952003e-02, 6.68191118e-03, 3.27215734e-04],\n",
       "         [0.00000000e+00, 2.41403654e-02, 0.00000000e+00, ...,\n",
       "          1.95657462e-02, 3.68377715e-02, 6.70657977e-02],\n",
       "         [4.70502526e-02, 1.20418065e-03, 5.06641855e-03, ...,\n",
       "          2.81919166e-02, 5.94558986e-03, 2.87096133e-03]]],\n",
       "\n",
       "\n",
       "       [[[0.00000000e+00, 2.15322264e-02, 1.47162721e-01, ...,\n",
       "          4.83430084e-03, 8.15440863e-02, 7.16188997e-02],\n",
       "         [0.00000000e+00, 5.65470904e-02, 4.70135473e-02, ...,\n",
       "          3.98526527e-02, 2.31925212e-02, 2.10006069e-02],\n",
       "         [8.53546485e-02, 2.13942140e-01, 1.92271322e-01, ...,\n",
       "          1.45105310e-02, 5.80508495e-03, 1.52276903e-01],\n",
       "         ...,\n",
       "         [3.02626759e-01, 2.26571318e-02, 9.71410945e-02, ...,\n",
       "          1.05629481e-01, 0.00000000e+00, 3.15841362e-02],\n",
       "         [6.41281977e-02, 1.82499498e-01, 0.00000000e+00, ...,\n",
       "          5.57787791e-02, 4.70546223e-02, 1.60136428e-02],\n",
       "         [0.00000000e+00, 5.86186573e-02, 3.67548577e-02, ...,\n",
       "          0.00000000e+00, 1.42799407e-01, 1.90051511e-01]]]],\n",
       "      dtype=float32)"
      ]
     },
     "execution_count": 41,
     "metadata": {},
     "output_type": "execute_result"
    }
   ],
   "source": [
    "# Generate the adversarial examples\n",
    "# As this is untargeted, we simply wishes to flip the class\n",
    "X_adv_examples = art_attack_white_box.generate(x=X_test.numpy(), y=None)\n",
    "X_adv_examples"
   ]
  },
  {
   "cell_type": "code",
   "execution_count": 42,
   "id": "c33cff14",
   "metadata": {},
   "outputs": [
    {
     "data": {
      "text/plain": [
       "tensor([1, 1, 1, 1, 4, 1, 1, 3, 2, 1], device='cuda:0')"
      ]
     },
     "execution_count": 42,
     "metadata": {},
     "output_type": "execute_result"
    }
   ],
   "source": [
    "# Make predictions with the adversarial examples\n",
    "# Convert the adversarial examples to torch tensors\n",
    "X_adv_examples = torch.as_tensor(data=X_adv_examples, dtype=torch.float32, device=device)\n",
    "adv_preds = model(X_adv_examples).argmax(dim=-1)\n",
    "adv_preds[:10]"
   ]
  },
  {
   "cell_type": "code",
   "execution_count": 44,
   "id": "8411923e",
   "metadata": {},
   "outputs": [],
   "source": [
    "# Calculate the adversarial success\n",
    "# This is our ability to create adversarial samples that flipped the labels of the images\n",
    "adversarial_success = (art_white_box_clf.predict(x=X_adv_examples.detach().cpu()).argmax(axis=-1) != y_test.numpy()).sum() / y_test.shape[0]"
   ]
  },
  {
   "cell_type": "code",
   "execution_count": 45,
   "id": "fd2a3719",
   "metadata": {},
   "outputs": [
    {
     "name": "stdout",
     "output_type": "stream",
     "text": [
      "Cleaning cuda cache\n"
     ]
    }
   ],
   "source": [
    "# With the training finish clear the GPU cache\n",
    "# Setup the device to work with\n",
    "if torch.cuda.is_available():\n",
    "    # For CUDA GPU\n",
    "    print(f'Cleaning {device} cache')\n",
    "    torch.cuda.empty_cache()\n",
    "elif torch.backends.mps.is_available():\n",
    "    # For Apple devices\n",
    "    print(f'Cleaning {device} cache')\n",
    "    torch.mps.empty_cache()\n",
    "else:\n",
    "    # Default to cpu\n",
    "    pass"
   ]
  },
  {
   "cell_type": "markdown",
   "id": "ce2feebd",
   "metadata": {},
   "source": [
    "### Step 5:   \n",
    "Visualize the result   "
   ]
  },
  {
   "cell_type": "code",
   "execution_count": 49,
   "id": "c35b9959",
   "metadata": {},
   "outputs": [
    {
     "data": {
      "image/png": "[encoded data removed]",
      "text/plain": [
       "<Figure size 640x480 with 8 Axes>"
      ]
     },
     "metadata": {},
     "output_type": "display_data"
    }
   ],
   "source": [
    "# Visualize the result of a few samples\n",
    "plt.subplot(241)\n",
    "plt.title('Real Sample')\n",
    "plt.imshow(X_test[0].permute(dims=(1,2,0)))\n",
    "plt.axis('off')\n",
    "\n",
    "plt.subplot(242)\n",
    "plt.title('Adversarial Sample')\n",
    "plt.imshow(X_adv_examples[0].detach().cpu().permute(dims=(1,2,0)))\n",
    "plt.axis('off')\n",
    "\n",
    "plt.subplot(243)\n",
    "plt.title('Real Sample')\n",
    "plt.imshow(X_test[1].permute(dims=(1,2,0)))\n",
    "plt.axis('off')\n",
    "\n",
    "plt.subplot(244)\n",
    "plt.title('Adversarial Sample')\n",
    "plt.imshow(X_adv_examples[1].detach().cpu().permute(dims=(1,2,0)))\n",
    "plt.axis('off')\n",
    "\n",
    "plt.subplot(245)\n",
    "plt.title('Real Sample')\n",
    "plt.imshow(X_test[2].permute(dims=(1,2,0)))\n",
    "plt.axis('off')\n",
    "\n",
    "plt.subplot(246)\n",
    "plt.title('Adversarial Sample')\n",
    "plt.imshow(X_adv_examples[2].detach().cpu().permute(dims=(1,2,0)))\n",
    "plt.axis('off')\n",
    "\n",
    "plt.subplot(247)\n",
    "plt.title('Real Sample')\n",
    "plt.imshow(X_test[3].permute(dims=(1,2,0)))\n",
    "plt.axis('off')\n",
    "\n",
    "plt.subplot(248)\n",
    "plt.title('Adversarial Sample')\n",
    "plt.imshow(X_adv_examples[3].detach().cpu().permute(dims=(1,2,0)))\n",
    "plt.axis('off')\n",
    "\n",
    "plt.tight_layout()\n",
    "plt.show()"
   ]
  },
  {
   "cell_type": "code",
   "execution_count": 51,
   "id": "209a28ac",
   "metadata": {},
   "outputs": [
    {
     "data": {
      "text/plain": [
       "tensor(False)"
      ]
     },
     "execution_count": 51,
     "metadata": {},
     "output_type": "execute_result"
    }
   ],
   "source": [
    "# We can also confirm that the results of the samples are not the same\n",
    "(X_test[:5] == X_adv_examples.detach().cpu()[:5]).all()"
   ]
  },
  {
   "cell_type": "markdown",
   "id": "49d5e940",
   "metadata": {},
   "source": [
    "### Takeaways:   \n",
    "- We leverage HopSkipJumpAttack to create new adversarial samples\n",
    "- In this lab, we had access to the model. \n",
    "- In the real world you may not have access to the model   \n",
    "- We saw how we could mitigate this attack using our firewall. \n",
    "\n",
    "**Keep this lab running at the end. The other two labs are dependent on this infrastructure**  "
   ]
  },
  {
   "cell_type": "code",
   "execution_count": null,
   "id": "42a93e29",
   "metadata": {},
   "outputs": [],
   "source": []
  }
 ],
 "metadata": {
  "kernelspec": {
   "display_name": "adversarial_ai",
   "language": "python",
   "name": "python3"
  },
  "language_info": {
   "codemirror_mode": {
    "name": "ipython",
    "version": 3
   },
   "file_extension": ".py",
   "mimetype": "text/x-python",
   "name": "python",
   "nbconvert_exporter": "python",
   "pygments_lexer": "ipython3",
   "version": "3.12.11"
  }
 },
 "nbformat": 4,
 "nbformat_minor": 5
}
