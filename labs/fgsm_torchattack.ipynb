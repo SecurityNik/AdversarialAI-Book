{
 "cells": [
  {
   "cell_type": "markdown",
   "id": "1723acf6",
   "metadata": {},
   "source": [
    "<img style=\"max-width:20em; height:auto;\" src=\"../graphics/A-Little-Book-on-Adversarial-AI-Cover.png\"/>"
   ]
  },
  {
   "cell_type": "markdown",
   "id": "9abfd295",
   "metadata": {},
   "source": [
    "Author: Nik Alleyne   \n",
    "Author Blog: https://www.securitynik.com   \n",
    "Author GitHub: github.com/securitynik   \n",
    "\n",
    "Author Other Books: [   \n",
    "\n",
    "            \"https://www.amazon.ca/Learning-Practicing-Leveraging-Practical-Detection/dp/1731254458/\",   \n",
    "            \n",
    "            \"https://www.amazon.ca/Learning-Practicing-Mastering-Network-Forensics/dp/1775383024/\"   \n",
    "        ]   \n",
    "\n",
    "\n",
    "This notebook ***(fgsm_torchattack.ipynb)*** is part of the series of notebooks From ***A Little Book on Adversarial AI***  A free ebook released by Nik Alleyne"
   ]
  },
  {
   "cell_type": "markdown",
   "id": "aa89c69a",
   "metadata": {},
   "source": [
    "### FGSM Torchattack"
   ]
  },
  {
   "cell_type": "markdown",
   "id": "e53cbb6d",
   "metadata": {},
   "source": [
    "### Lab Objectives:  \n",
    "- Use a framework to simplify the problem of performing FGSM attack  \n",
    "- Learn how to use torchattack   \n",
    "- Build on what we learnt earlier   \n",
    "- Introduce torchattacks framework   \n",
    "\n",
    "\n",
    "### Step 1:   \n",
    "Get the data"
   ]
  },
  {
   "cell_type": "code",
   "execution_count": 12,
   "id": "06a5c4f9",
   "metadata": {},
   "outputs": [],
   "source": [
    "# https://arxiv.org/pdf/2010.01950\n",
    "# https://ar5iv.labs.arxiv.org/html/2010.01950\n",
    "import torchattacks\n",
    "import torch\n",
    "import numpy as np"
   ]
  },
  {
   "cell_type": "code",
   "execution_count": 13,
   "id": "b1d35eca",
   "metadata": {},
   "outputs": [
    {
     "name": "stdout",
     "output_type": "stream",
     "text": [
      "Torch version used:  2.7.1+cu128\n",
      "Numpy version used:  2.1.3\n",
      "Torchattacks version used:  3.3.0\n"
     ]
    }
   ],
   "source": [
    "print(f'Torch version used:  {torch.__version__}')\n",
    "print(f'Numpy version used:  {np.__version__}')\n",
    "print(f'Torchattacks version used:  {torchattacks.__version__}')\n"
   ]
  },
  {
   "cell_type": "code",
   "execution_count": 14,
   "id": "29b23deb",
   "metadata": {},
   "outputs": [
    {
     "name": "stdout",
     "output_type": "stream",
     "text": [
      "Setting the device to cuda\n"
     ]
    }
   ],
   "source": [
    "# Setup the device to work with\n",
    "# This should ensure if there are accelerators in place, such as Apple backend or CUDA, \n",
    "# we should be able to take advantage of it.\n",
    "\n",
    "if torch.cuda.is_available():\n",
    "    print('Setting the device to cuda')\n",
    "    device = 'cuda'\n",
    "elif torch.backends.mps.is_available():\n",
    "    print('Setting the device to Apple mps')\n",
    "    device = 'mps'\n",
    "else:\n",
    "    print('Setting the device to CPU')\n",
    "    device = torch.device('cpu')"
   ]
  },
  {
   "cell_type": "code",
   "execution_count": 15,
   "id": "81d4b1ef",
   "metadata": {},
   "outputs": [
    {
     "data": {
      "text/plain": [
       "((1000, 256), (1000,))"
      ]
     },
     "execution_count": 15,
     "metadata": {},
     "output_type": "execute_result"
    }
   ],
   "source": [
    "# Load the test set\n",
    "# This is from the Tiny Malware\n",
    "X_y = np.load(r'../data/tiny_mal_net_X_y_test.npz', allow_pickle=False)\n",
    "X = X_y['X']\n",
    "y = X_y['y']\n",
    "\n",
    "# Get the shape of the dataset\n",
    "X.shape, y.shape"
   ]
  },
  {
   "cell_type": "code",
   "execution_count": 16,
   "id": "e80d958c",
   "metadata": {},
   "outputs": [],
   "source": [
    "# Convert both the feature and targets to torch tensors\n",
    "# These currently have dimensions (1, 1, 256, 256) -> (batch_size, channels, height, width)\n",
    "X = torch.tensor(X.reshape(-1, 1, 16, 16), dtype=torch.float32)\n",
    "\n",
    "# Convert the labels also to torch tensors\n",
    "y = torch.tensor(y, dtype=torch.long)"
   ]
  },
  {
   "cell_type": "markdown",
   "id": "cb47d8b6",
   "metadata": {},
   "source": [
    "### Step 2:  \n",
    "Load the model  "
   ]
  },
  {
   "cell_type": "code",
   "execution_count": 17,
   "id": "f28102e7",
   "metadata": {},
   "outputs": [
    {
     "data": {
      "text/plain": [
       "RecursiveScriptModule(\n",
       "  original_name=MalClassifier\n",
       "  (conv_layers): RecursiveScriptModule(\n",
       "    original_name=Sequential\n",
       "    (0): RecursiveScriptModule(original_name=Conv2d)\n",
       "    (1): RecursiveScriptModule(original_name=BatchNorm2d)\n",
       "    (2): RecursiveScriptModule(original_name=ReLU)\n",
       "    (3): RecursiveScriptModule(original_name=Conv2d)\n",
       "    (4): RecursiveScriptModule(original_name=BatchNorm2d)\n",
       "    (5): RecursiveScriptModule(original_name=ReLU)\n",
       "    (6): RecursiveScriptModule(original_name=Conv2d)\n",
       "    (7): RecursiveScriptModule(original_name=BatchNorm2d)\n",
       "    (8): RecursiveScriptModule(original_name=ReLU)\n",
       "  )\n",
       "  (global_avg_pool): RecursiveScriptModule(original_name=AdaptiveAvgPool2d)\n",
       "  (classifier): RecursiveScriptModule(original_name=Conv2d)\n",
       ")"
      ]
     },
     "execution_count": 17,
     "metadata": {},
     "output_type": "execute_result"
    }
   ],
   "source": [
    "# Let's load the model we will target\n",
    "loaded_malware_classifier = torch.jit.load(r'../data/mal_net_tiny_malware_clf.jit', map_location=device)\n",
    "loaded_malware_classifier.eval()"
   ]
  },
  {
   "cell_type": "markdown",
   "id": "29c19a74",
   "metadata": {},
   "source": [
    "### Step 3:   \n",
    "Create the attack via *torchattacks* "
   ]
  },
  {
   "cell_type": "code",
   "execution_count": 18,
   "id": "64476422",
   "metadata": {},
   "outputs": [
    {
     "data": {
      "text/plain": [
       "FGSM(model_name=RecursiveScriptModule, device=cuda:0, return_type=float, attack_mode=default, targeted=False, normalization_used=False, eps=0.03137254901960784)"
      ]
     },
     "execution_count": 18,
     "metadata": {},
     "output_type": "execute_result"
    }
   ],
   "source": [
    "# Setup the torchattack FGSM attack\n",
    "torchattacks_fgsm_attack = torchattacks.FGSM(model=loaded_malware_classifier, eps=8/255)\n",
    "torchattacks_fgsm_attack"
   ]
  },
  {
   "cell_type": "code",
   "execution_count": 23,
   "id": "27290a4c",
   "metadata": {},
   "outputs": [
    {
     "data": {
      "text/plain": [
       "torch.Size([1000, 1, 16, 16])"
      ]
     },
     "execution_count": 23,
     "metadata": {},
     "output_type": "execute_result"
    }
   ],
   "source": [
    "# Generate the adversarial example\n",
    "adversarial_examples = torchattacks_fgsm_attack(inputs=X, labels=y)\n",
    "\n",
    "# Peak into the the first example\n",
    "adversarial_examples.shape"
   ]
  },
  {
   "cell_type": "markdown",
   "id": "b6768a6b",
   "metadata": {},
   "source": [
    "### Step 4:   \n",
    "make predictions on the adversarial examples"
   ]
  },
  {
   "cell_type": "code",
   "execution_count": 20,
   "id": "af517ef6",
   "metadata": {},
   "outputs": [
    {
     "data": {
      "text/plain": [
       "tensor([-0.2855,  0.8150,  2.6080, -7.2436, -1.4449], device='cuda:0',\n",
       "       grad_fn=<SelectBackward0>)"
      ]
     },
     "execution_count": 20,
     "metadata": {},
     "output_type": "execute_result"
    }
   ],
   "source": [
    "# Make the prediction\n",
    "torchattacks_fgsm_logits = loaded_malware_classifier(adversarial_examples)\n",
    "\n",
    "# Get the first logits\n",
    "torchattacks_fgsm_logits[0]"
   ]
  },
  {
   "cell_type": "code",
   "execution_count": 21,
   "id": "c926d2ce",
   "metadata": {},
   "outputs": [
    {
     "data": {
      "text/plain": [
       "tensor([2, 2, 2, 1, 2, 1, 0, 2, 2, 2], device='cuda:0')"
      ]
     },
     "execution_count": 21,
     "metadata": {},
     "output_type": "execute_result"
    }
   ],
   "source": [
    "# Get the predictions from the logits\n",
    "torchattacks_fgsm_preds = torchattacks_fgsm_logits.argmax(dim=-1)\n",
    "\n",
    "# Peak into the first 10\n",
    "torchattacks_fgsm_preds[:10]"
   ]
  },
  {
   "cell_type": "markdown",
   "id": "ff600696",
   "metadata": {},
   "source": [
    "### Step 5:  \n",
    "Calculate the adversarial accuracy  "
   ]
  },
  {
   "cell_type": "code",
   "execution_count": 22,
   "id": "e334eea3",
   "metadata": {},
   "outputs": [
    {
     "data": {
      "text/plain": [
       "tensor(0.7280)"
      ]
     },
     "execution_count": 22,
     "metadata": {},
     "output_type": "execute_result"
    }
   ],
   "source": [
    "# Get the adversarial accuracy\n",
    "(y != torchattacks_fgsm_preds.cpu()).sum()/len(torchattacks_fgsm_preds.cpu())"
   ]
  },
  {
   "cell_type": "markdown",
   "id": "fd15c121",
   "metadata": {},
   "source": [
    "### Lab Takeaways:  \n",
    "- We introduced another framework in *torchattacks*  \n",
    "- We simplified the issue of the FGSM attack  "
   ]
  }
 ],
 "metadata": {
  "kernelspec": {
   "display_name": "adversarial_ai",
   "language": "python",
   "name": "python3"
  },
  "language_info": {
   "codemirror_mode": {
    "name": "ipython",
    "version": 3
   },
   "file_extension": ".py",
   "mimetype": "text/x-python",
   "name": "python",
   "nbconvert_exporter": "python",
   "pygments_lexer": "ipython3",
   "version": "3.12.11"
  }
 },
 "nbformat": 4,
 "nbformat_minor": 5
}
