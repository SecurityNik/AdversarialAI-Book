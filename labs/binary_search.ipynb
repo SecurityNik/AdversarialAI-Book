{
 "cells": [
  {
   "cell_type": "markdown",
   "id": "717d1df0",
   "metadata": {},
   "source": [
    "<img style=\"max-width:20em; height:auto;\" src=\"../graphics/A-Little-Book-on-Adversarial-AI-Cover.png\"/>"
   ]
  },
  {
   "cell_type": "markdown",
   "id": "abdf406c",
   "metadata": {},
   "source": [
    "Author: Nik Alleyne   \n",
    "Author Blog: https://www.securitynik.com   \n",
    "Author GitHub: github.com/securitynik   \n",
    "\n",
    "Author Other Books: [   \n",
    "\n",
    "            \"https://www.amazon.ca/Learning-Practicing-Leveraging-Practical-Detection/dp/1731254458/\",   \n",
    "            \n",
    "            \"https://www.amazon.ca/Learning-Practicing-Mastering-Network-Forensics/dp/1775383024/\"   \n",
    "        ]   \n",
    "\n",
    "\n",
    "This notebook ***(binary_search.ipynb)*** is part of the series of notebooks From ***A Little Book on Adversarial AI***  A free ebook released by Nik Alleyne"
   ]
  },
  {
   "cell_type": "markdown",
   "id": "a5cf76f5",
   "metadata": {},
   "source": [
    "### Binary Search "
   ]
  },
  {
   "cell_type": "markdown",
   "id": "680018a6",
   "metadata": {},
   "source": [
    "### Lab Objectives:   \n",
    "- Understand what binary search is   \n",
    "- Implement binary search   \n",
    "https://cs50.harvard.edu/ap/2020/assets/pdfs/binary_search.pdf     \n",
    "\n",
    "\n",
    "### Step 1:   "
   ]
  },
  {
   "cell_type": "code",
   "execution_count": 1,
   "id": "dbb47e9c",
   "metadata": {},
   "outputs": [
    {
     "data": {
      "text/plain": [
       "[1, 7, 13, 29, 39, 42, 50, 63]"
      ]
     },
     "execution_count": 1,
     "metadata": {},
     "output_type": "execute_result"
    }
   ],
   "source": [
    "# Define an vector of items to search \n",
    "input_array = [1, 7, 13, 29, 39, 42, 50, 63]\n",
    "input_array"
   ]
  },
  {
   "cell_type": "code",
   "execution_count": 2,
   "id": "a9b38118",
   "metadata": {},
   "outputs": [],
   "source": [
    "# Define the boundary search function\n",
    "def binary_search(x:list=[], k:int=None):\n",
    "    # Let's assume the list is not sorted and sort it first\n",
    "    x = sorted(x)\n",
    "\n",
    "    # Get the left side\n",
    "    left = 0\n",
    "\n",
    "    # Get the rigght side\n",
    "    right = len(x) - 1\n",
    "\n",
    "    # Loop through\n",
    "    while left <= right:\n",
    "\n",
    "        # Get the middle\n",
    "        mid_point = (left + right) // 2\n",
    "\n",
    "        if x[mid_point] == k:\n",
    "            print(f'Found: {k}')\n",
    "            return \n",
    "\n",
    "        elif x[mid_point] > k:\n",
    "            # if the value found is greater than k, reduce the right side\n",
    "            right = mid_point - 1\n",
    "        else:\n",
    "            # if the value found is less than k, increase the left side\n",
    "            left = mid_point + 1\n",
    "    print(f'Unable to find {k} in the list')\n",
    "    return"
   ]
  },
  {
   "cell_type": "code",
   "execution_count": 3,
   "id": "2611c5f7",
   "metadata": {},
   "outputs": [
    {
     "name": "stdout",
     "output_type": "stream",
     "text": [
      "Unable to find 500 in the list\n"
     ]
    }
   ],
   "source": [
    "# Test the function with a value not in the vector\n",
    "binary_search(x=input_array, k=500)"
   ]
  },
  {
   "cell_type": "code",
   "execution_count": 4,
   "id": "cac2b27a",
   "metadata": {},
   "outputs": [
    {
     "name": "stdout",
     "output_type": "stream",
     "text": [
      "Found: 7\n"
     ]
    }
   ],
   "source": [
    "# Test the function\n",
    "binary_search(x=input_array, k=7)"
   ]
  },
  {
   "cell_type": "code",
   "execution_count": 5,
   "id": "05c60260",
   "metadata": {},
   "outputs": [
    {
     "name": "stdout",
     "output_type": "stream",
     "text": [
      "Found: 50\n"
     ]
    }
   ],
   "source": [
    "# Test the function\n",
    "binary_search(x=input_array, k=50)"
   ]
  },
  {
   "cell_type": "markdown",
   "id": "22852344",
   "metadata": {},
   "source": [
    "### Takeaway:  \n",
    "- Got a quick understanding of what binary search is  \n",
    "- It is used in the HopSkipJumpAttack as well as others such as Carlini & Wagner Attack  "
   ]
  },
  {
   "cell_type": "code",
   "execution_count": null,
   "id": "cf026ff5",
   "metadata": {},
   "outputs": [],
   "source": []
  }
 ],
 "metadata": {
  "kernelspec": {
   "display_name": "adversarial_ai",
   "language": "python",
   "name": "python3"
  },
  "language_info": {
   "codemirror_mode": {
    "name": "ipython",
    "version": 3
   },
   "file_extension": ".py",
   "mimetype": "text/x-python",
   "name": "python",
   "nbconvert_exporter": "python",
   "pygments_lexer": "ipython3",
   "version": "3.12.11"
  }
 },
 "nbformat": 4,
 "nbformat_minor": 5
}
