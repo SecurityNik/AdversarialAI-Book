{
 "cells": [
  {
   "cell_type": "markdown",
   "id": "15066a37",
   "metadata": {},
   "source": [
    "<img style=\"max-width:20em; height:auto;\" src=\"../graphics/A-Little-Book-on-Adversarial-AI-Cover.png\"/>"
   ]
  },
  {
   "cell_type": "markdown",
   "id": "096f82f2",
   "metadata": {},
   "source": [
    "Author: Nik Alleyne   \n",
    "Author Blog: https://www.securitynik.com   \n",
    "Author GitHub: github.com/securitynik   \n",
    "\n",
    "Author Other Books: [   \n",
    "\n",
    "            \"https://www.amazon.ca/Learning-Practicing-Leveraging-Practical-Detection/dp/1731254458/\",   \n",
    "            \n",
    "            \"https://www.amazon.ca/Learning-Practicing-Mastering-Network-Forensics/dp/1775383024/\"   \n",
    "        ]   \n",
    "\n",
    "\n",
    "This notebook ***(adversarial_patch.ipynb)*** is part of the series of notebooks From ***A Little Book on Adversarial AI***  A free ebook released by Nik Alleyne"
   ]
  },
  {
   "cell_type": "markdown",
   "id": "8cf722b0",
   "metadata": {},
   "source": [
    "### Adversarial Patch  "
   ]
  },
  {
   "cell_type": "markdown",
   "id": "dc8013d0",
   "metadata": {},
   "source": [
    "### Lab Objectives:  \n",
    "- Learn about adversarial patch\n",
    "- Leverage tools such as ART for generating adversarial patches  \n",
    "- Seeing how a label may be flipped as a result of the adversarial patch\n",
    "- Save and reload the adversarial patch \n",
    "\n",
    "\n",
    "### Step 1: "
   ]
  },
  {
   "cell_type": "code",
   "execution_count": 1,
   "id": "728ad848",
   "metadata": {},
   "outputs": [],
   "source": [
    "# Import the libraries\n",
    "import torch\n",
    "import torch.nn as nn\n",
    "import torch.optim as optim\n",
    "import torchvision\n",
    "import torchvision.transforms as transforms\n",
    "import matplotlib.pyplot as plt\n",
    "import numpy as np\n",
    "\n",
    "import art\n",
    "from art.attacks.evasion import AdversarialPatchPyTorch\n",
    "from art.estimators.classification import PyTorchClassifier\n",
    "\n",
    "import netron\n"
   ]
  },
  {
   "cell_type": "code",
   "execution_count": 2,
   "id": "36d38b4e",
   "metadata": {},
   "outputs": [
    {
     "name": "stdout",
     "output_type": "stream",
     "text": [
      "Torch version used:  2.7.1+cu128\n",
      "Torchvision version used:  0.22.1+cu128\n",
      "Numpy version used:  2.1.3\n",
      "ART version used:  1.20.1\n",
      "Netron version used:  8.4.4\n"
     ]
    }
   ],
   "source": [
    "### Version of key libraries used  \n",
    "print(f'Torch version used:  {torch.__version__}')\n",
    "print(f'Torchvision version used:  {torchvision.__version__}')\n",
    "print(f'Numpy version used:  {np.__version__}')\n",
    "print(f'ART version used:  {art.__version__}')\n",
    "print(f'Netron version used:  {netron.__version__}')\n"
   ]
  },
  {
   "cell_type": "code",
   "execution_count": 3,
   "id": "0bf38a58",
   "metadata": {},
   "outputs": [
    {
     "name": "stdout",
     "output_type": "stream",
     "text": [
      "Setting the device to cuda\n"
     ]
    }
   ],
   "source": [
    "# Setup the device to work with\n",
    "# This should ensure if there are accelerators in place, such as Apple backend or CUDA, \n",
    "# we should be able to take advantage of it.\n",
    "\n",
    "if torch.cuda.is_available():\n",
    "    print('Setting the device to cuda')\n",
    "    device = 'cuda'\n",
    "elif torch.backends.mps.is_available():\n",
    "    print('Setting the device to Apple mps')\n",
    "    device = 'mps'\n",
    "else:\n",
    "    print('Setting the device to CPU')\n",
    "    device = torch.device('cpu')"
   ]
  },
  {
   "cell_type": "code",
   "execution_count": 4,
   "id": "8cbde757",
   "metadata": {},
   "outputs": [
    {
     "name": "stderr",
     "output_type": "stream",
     "text": [
      "100%|██████████| 9.91M/9.91M [00:00<00:00, 15.2MB/s]\n",
      "100%|██████████| 28.9k/28.9k [00:00<00:00, 494kB/s]\n",
      "100%|██████████| 1.65M/1.65M [00:00<00:00, 6.50MB/s]\n",
      "100%|██████████| 4.54k/4.54k [00:00<00:00, 2.48MB/s]\n"
     ]
    }
   ],
   "source": [
    "# Setup the transform\n",
    "transform = transforms.Compose(transforms=[transforms.ToTensor()])\n",
    "\n",
    "# Get the train dataset\n",
    "train_set = torchvision.datasets.MNIST(root=r'/tmp/', train=True, download=True, transform=transform)\n",
    "\n",
    "# Setup the train dataloader\n",
    "train_loader = torch.utils.data.DataLoader(dataset=train_set, batch_size=64, shuffle=False)"
   ]
  },
  {
   "cell_type": "code",
   "execution_count": 5,
   "id": "cc0375d9",
   "metadata": {},
   "outputs": [],
   "source": [
    "# Setup the test data\n",
    "test_set = torchvision.datasets.MNIST(root=r'/tmp/', train=False, download=True,  transform=transform)\n",
    "\n",
    "# Setup the test dataloader\n",
    "test_loader = torch.utils.data.DataLoader(dataset=test_set, batch_size=1, shuffle=False)"
   ]
  },
  {
   "cell_type": "markdown",
   "id": "ab0466b0",
   "metadata": {},
   "source": [
    "### Step 2:  \n",
    "Create a sample model   "
   ]
  },
  {
   "cell_type": "code",
   "execution_count": 6,
   "id": "bd956367",
   "metadata": {},
   "outputs": [],
   "source": [
    "# Define a simple network\n",
    "class Net(nn.Module):\n",
    "    def __init__(self, ):\n",
    "        super(Net, self).__init__()\n",
    "        self.layers = nn.Sequential(\n",
    "            nn.Conv2d(in_channels=1, out_channels=32, kernel_size=(3,3), stride=1),\n",
    "            nn.ReLU(inplace=False),\n",
    "            nn.MaxPool2d(kernel_size=(2,2)),\n",
    "            nn.Conv2d(in_channels=32, out_channels=64, kernel_size=(2,2), stride=1),\n",
    "            nn.ReLU(inplace=False),\n",
    "            nn.MaxPool2d(kernel_size=(2,2)),\n",
    "            nn.Flatten(),\n",
    "            nn.Linear(in_features=2304, out_features=128, bias=True),\n",
    "            nn.ReLU(inplace=False),\n",
    "            nn.Linear(in_features=128, out_features=10),\n",
    "\n",
    "        )\n",
    "    \n",
    "    def forward(self, x):\n",
    "        x = self.layers(x)\n",
    "        return x\n"
   ]
  },
  {
   "cell_type": "code",
   "execution_count": 7,
   "id": "04d377c0",
   "metadata": {},
   "outputs": [
    {
     "data": {
      "text/plain": [
       "torch.Size([64, 10])"
      ]
     },
     "execution_count": 7,
     "metadata": {},
     "output_type": "execute_result"
    }
   ],
   "source": [
    "# Set a random seed\n",
    "torch.manual_seed(10)\n",
    "\n",
    "# Setup the model\n",
    "model = Net().to(device=device)\n",
    "\n",
    "# Confirm the model is working as expecting\n",
    "model(next(iter(train_loader))[0].to(device)).shape"
   ]
  },
  {
   "cell_type": "markdown",
   "id": "25b0c68a",
   "metadata": {},
   "source": [
    "Setup the netrorn environment \n",
    "$ netron --host 0.0.0.0 --port 8888  \n",
    "\n",
    "The go to your browser and type: http://127.0.0.1:8888/   \n",
    "\n",
    "Finally, drag and drop the model file into your environment. You should see something like \n",
    "<img src='./graphics/netron_computation_graph.png'>"
   ]
  },
  {
   "cell_type": "markdown",
   "id": "dcd5ee6f",
   "metadata": {},
   "source": [
    "### Step 3:  \n",
    "Train the model. No need for any exotic training. The objective is not build a model that can be deployed but instead to build a model we can target with adversarial patch.   "
   ]
  },
  {
   "cell_type": "code",
   "execution_count": 8,
   "id": "a6d2bdd1",
   "metadata": {},
   "outputs": [
    {
     "name": "stdout",
     "output_type": "stream",
     "text": [
      "Training the model ... \n",
      "Finished training the model ... \n"
     ]
    }
   ],
   "source": [
    "loss_fn = nn.CrossEntropyLoss()\n",
    "optimizer = optim.Adam(params=model.parameters(), lr=1e-2)\n",
    "\n",
    "print(f'Training the model ... ')\n",
    "for epoch in range(50):\n",
    "    for inputs, labels in train_loader:\n",
    "        inputs, labels = inputs.to(device), labels.to(device)\n",
    "        optimizer.zero_grad(set_to_none=True)\n",
    "        logits = model(inputs)\n",
    "        loss = loss_fn(logits, labels)\n",
    "        loss.backward()\n",
    "        optimizer.step()\n",
    "\n",
    "        # For testing\n",
    "        break\n",
    "\n",
    "\n",
    "print(f'Finished training the model ... ')"
   ]
  },
  {
   "cell_type": "code",
   "execution_count": 9,
   "id": "11471d61",
   "metadata": {},
   "outputs": [
    {
     "data": {
      "text/plain": [
       "(torch.Size([1, 1, 28, 28]), tensor([7]))"
      ]
     },
     "execution_count": 9,
     "metadata": {},
     "output_type": "execute_result"
    }
   ],
   "source": [
    "# Get the sample data from the test set\n",
    "sample_X, sample_y = next(iter(test_loader))\n",
    "sample_X.shape, sample_y"
   ]
  },
  {
   "cell_type": "code",
   "execution_count": 10,
   "id": "4e65535c",
   "metadata": {},
   "outputs": [
    {
     "data": {
      "text/plain": [
       "tensor([7], device='cuda:0')"
      ]
     },
     "execution_count": 10,
     "metadata": {},
     "output_type": "execute_result"
    }
   ],
   "source": [
    "# Make a prediction on the sample\n",
    "model(sample_X.to(device)).argmax(dim=-1)"
   ]
  },
  {
   "cell_type": "code",
   "execution_count": 11,
   "id": "04bf504e",
   "metadata": {},
   "outputs": [
    {
     "data": {
      "text/plain": [
       "array([0])"
      ]
     },
     "execution_count": 11,
     "metadata": {},
     "output_type": "execute_result"
    }
   ],
   "source": [
    "# Let us create a target label\n",
    "# Let us try to see if we can get the patch to flip the label to 1\n",
    "target_label = np.array([0])\n",
    "target_label"
   ]
  },
  {
   "cell_type": "code",
   "execution_count": 12,
   "id": "65802ae2",
   "metadata": {},
   "outputs": [
    {
     "data": {
      "text/plain": [
       "(numpy.ndarray, numpy.ndarray)"
      ]
     },
     "execution_count": 12,
     "metadata": {},
     "output_type": "execute_result"
    }
   ],
   "source": [
    "# Convert the sample to numpy\n",
    "sample_X, sample_y = sample_X.numpy(), sample_y.numpy()\n",
    "type(sample_X), type(sample_y)"
   ]
  },
  {
   "cell_type": "markdown",
   "id": "36c89b67",
   "metadata": {},
   "source": [
    "With the data and model in place, we can now move  \n",
    "\n",
    "### Step 4:  "
   ]
  },
  {
   "cell_type": "code",
   "execution_count": 13,
   "id": "09fe7a45",
   "metadata": {},
   "outputs": [
    {
     "data": {
      "text/plain": [
       "art.estimators.classification.pytorch.PyTorchClassifier(model=ModelWrapper(\n",
       "  (_model): Net(\n",
       "    (layers): Sequential(\n",
       "      (0): Conv2d(1, 32, kernel_size=(3, 3), stride=(1, 1))\n",
       "      (1): ReLU()\n",
       "      (2): MaxPool2d(kernel_size=(2, 2), stride=(2, 2), padding=0, dilation=1, ceil_mode=False)\n",
       "      (3): Conv2d(32, 64, kernel_size=(2, 2), stride=(1, 1))\n",
       "      (4): ReLU()\n",
       "      (5): MaxPool2d(kernel_size=(2, 2), stride=(2, 2), padding=0, dilation=1, ceil_mode=False)\n",
       "      (6): Flatten(start_dim=1, end_dim=-1)\n",
       "      (7): Linear(in_features=2304, out_features=128, bias=True)\n",
       "      (8): ReLU()\n",
       "      (9): Linear(in_features=128, out_features=10, bias=True)\n",
       "    )\n",
       "  )\n",
       "), loss=CrossEntropyLoss(), optimizer=Adam (\n",
       "Parameter Group 0\n",
       "    amsgrad: False\n",
       "    betas: (0.9, 0.999)\n",
       "    capturable: False\n",
       "    decoupled_weight_decay: False\n",
       "    differentiable: False\n",
       "    eps: 1e-08\n",
       "    foreach: None\n",
       "    fused: None\n",
       "    lr: 0.01\n",
       "    maximize: False\n",
       "    weight_decay: 0\n",
       "), input_shape=(1, 28, 28), nb_classes=10, channels_first=True, clip_values=array([0., 1.], dtype=float32), preprocessing_defences=None, postprocessing_defences=None, preprocessing=StandardisationMeanStdPyTorch(mean=0.0, std=1.0, apply_fit=True, apply_predict=True, device=cuda:0))"
      ]
     },
     "execution_count": 13,
     "metadata": {},
     "output_type": "execute_result"
    }
   ],
   "source": [
    "# Setup the art classifier\n",
    "art_adv_patch_clf = PyTorchClassifier(\n",
    "    model=model, \n",
    "    loss=loss_fn,\n",
    "    optimizer=optimizer,\n",
    "    input_shape=sample_X.shape[1:],\n",
    "    nb_classes=10, \n",
    "    clip_values=(0.0, 1.0),\n",
    "    device_type=device,\n",
    ")\n",
    "\n",
    "art_adv_patch_clf"
   ]
  },
  {
   "cell_type": "code",
   "execution_count": 14,
   "id": "6b817890",
   "metadata": {},
   "outputs": [
    {
     "data": {
      "text/plain": [
       "AdversarialPatchPyTorch(rotation_max=22.5, scale_min=0.1, scale_max=0.3, distortion_scale_max=0.3, learning_rate=10.0, max_iter=1000, batch_size=1, patch_shape=(1, 15, 15), targeted=True, summary_writer=None, verbose=True, )"
      ]
     },
     "execution_count": 14,
     "metadata": {},
     "output_type": "execute_result"
    }
   ],
   "source": [
    "# Setup the art attack\n",
    "# For the attack, you can experiment some of these hyperparameters\n",
    "art_adv_patch_attack = AdversarialPatchPyTorch(\n",
    "    estimator=art_adv_patch_clf,\n",
    "    patch_shape=(1,15,15),  # Try a different patch size\n",
    "    rotation_max=22.5,      # Try a different rotation maximum\n",
    "    scale_min=0.1,\n",
    "    scale_max=0.3,\n",
    "    learning_rate=10.0,     # Try a different learning rate\n",
    "    max_iter=1000,          # Increase or reduce the number of iterations to see the effect\n",
    "    targeted=True,          # make this a targeted attack\n",
    "    distortion_scale_max=.3,# Try a different distortion_scale_max\n",
    "    batch_size=1, \n",
    "    verbose=True,\n",
    "\n",
    ")\n",
    "art_adv_patch_attack"
   ]
  },
  {
   "cell_type": "code",
   "execution_count": 15,
   "id": "7b39402c",
   "metadata": {},
   "outputs": [
    {
     "data": {
      "application/vnd.jupyter.widget-view+json": {
       "model_id": "1197be0d16bd4d60830348a88bb1814a",
       "version_major": 2,
       "version_minor": 0
      },
      "text/plain": [
       "Adversarial Patch PyTorch:   0%|          | 0/1000 [00:00<?, ?it/s]"
      ]
     },
     "metadata": {},
     "output_type": "display_data"
    }
   ],
   "source": [
    "# Generate the adversarial patch\n",
    "# adversrial_patch returns the actual patch\n",
    "# mask shows where the patch is applied\n",
    "adv_patch, mask = art_adv_patch_attack.generate(x=sample_X, y=target_label)\n",
    "\n",
    "#adv_patch, mask"
   ]
  },
  {
   "cell_type": "code",
   "execution_count": 16,
   "id": "664306b9",
   "metadata": {},
   "outputs": [
    {
     "name": "stdout",
     "output_type": "stream",
     "text": [
      "Patch shape: (1, 15, 15)\n",
      "Mask shape: (1, 15, 15)\n"
     ]
    }
   ],
   "source": [
    "# Get the shape of the mask and patch\n",
    "print(f'Patch shape: {adv_patch.shape}')\n",
    "print(f'Mask shape: {mask.shape}')"
   ]
  },
  {
   "cell_type": "markdown",
   "id": "44be0f06",
   "metadata": {},
   "source": [
    "### Step 5:  \n",
    "Visualize our patch  "
   ]
  },
  {
   "cell_type": "code",
   "execution_count": 17,
   "id": "b3573951",
   "metadata": {},
   "outputs": [
    {
     "data": {
      "image/png": "[encoded data removed]",
      "text/plain": [
       "<Figure size 640x480 with 1 Axes>"
      ]
     },
     "metadata": {},
     "output_type": "display_data"
    }
   ],
   "source": [
    "# Visualize the patch\n",
    "plt.title('Adversarial Patch')\n",
    "plt.imshow(X=adv_patch.squeeze(), cmap='gray')\n",
    "plt.show()"
   ]
  },
  {
   "cell_type": "code",
   "execution_count": 18,
   "id": "bd625d67",
   "metadata": {},
   "outputs": [
    {
     "data": {
      "text/plain": [
       "(1, 1, 28, 28)"
      ]
     },
     "execution_count": 18,
     "metadata": {},
     "output_type": "execute_result"
    }
   ],
   "source": [
    "# With the patch in place, let us apply it to the image\n",
    "x_patched = art_adv_patch_attack.apply_patch(x=sample_X, scale=None, patch_external=adv_patch)\n",
    "x_patched.shape"
   ]
  },
  {
   "cell_type": "code",
   "execution_count": 19,
   "id": "eb613c57",
   "metadata": {},
   "outputs": [
    {
     "data": {
      "text/plain": [
       "array([7])"
      ]
     },
     "execution_count": 19,
     "metadata": {},
     "output_type": "execute_result"
    }
   ],
   "source": [
    "# Get the label of the patched image\n",
    "adv_patch_prediction = art_adv_patch_clf.predict(x_patched).argmax(axis=-1)\n",
    "adv_patch_prediction"
   ]
  },
  {
   "cell_type": "markdown",
   "id": "320fb954",
   "metadata": {},
   "source": [
    "Ok, we did not get it to be a 0 but we did manage to get to change it from a 7?  This statement is not true as we still have a 7 above. However, in my tests, I have seen this value changed to other classes. I was not sure which combination gave me the result I was expecting. Anyhow that is not a major concern at this time. "
   ]
  },
  {
   "cell_type": "code",
   "execution_count": 20,
   "id": "849f68fb",
   "metadata": {},
   "outputs": [],
   "source": [
    "# Convert the tensors to images\n",
    "def imshow(img_tensor, title, label=None):\n",
    "    img = img_tensor.squeeze()\n",
    "    plt.title(label=f'{title} : {label}')\n",
    "    plt.imshow(X=img, cmap='gray')\n",
    "    plt.axis('off')"
   ]
  },
  {
   "cell_type": "markdown",
   "id": "5fcb799b",
   "metadata": {},
   "source": [
    "By default, the patch is going to be in random positions. If we want we can set the patch at a particular location. Let us just keep things simple. You can build on this if you wish. "
   ]
  },
  {
   "cell_type": "code",
   "execution_count": 21,
   "id": "e91e22f1",
   "metadata": {},
   "outputs": [
    {
     "data": {
      "image/png": "[encoded data removed]",
      "text/plain": [
       "<Figure size 800x400 with 2 Axes>"
      ]
     },
     "metadata": {},
     "output_type": "display_data"
    }
   ],
   "source": [
    "# Let us now view the original and the patched image\n",
    "plt.figure(figsize=(8,4))\n",
    "plt.subplot(1,2,1)\n",
    "imshow(torch.tensor(data=sample_X), title='Original Image', label=sample_y.item())\n",
    "\n",
    "plt.subplot(1,2,2)\n",
    "imshow(torch.tensor(data=x_patched), 'Patched Image', label=adv_patch_prediction.item())\n",
    "\n",
    "plt.tight_layout()\n",
    "plt.show()"
   ]
  },
  {
   "cell_type": "markdown",
   "id": "a4ae0ff2",
   "metadata": {},
   "source": [
    "### Step 6:  \n",
    "Save the patch   "
   ]
  },
  {
   "cell_type": "code",
   "execution_count": 22,
   "id": "9df86b03",
   "metadata": {},
   "outputs": [
    {
     "name": "stdout",
     "output_type": "stream",
     "text": [
      "/tmp/adversarial_patch.npy\n"
     ]
    }
   ],
   "source": [
    "# We can save the patch \n",
    "# First let us confirm that it is a numpy array\n",
    "x_patched_np = adv_patch if isinstance(adv_patch, np.ndarray) else adv_patch.detach().cpu.numpy()\n",
    "\n",
    "# Save to disk\n",
    "np.save(file=r'/tmp/adversarial_patch.npy', arr=x_patched_np)\n",
    "\n",
    "# Verify the file is saved on the filesystem\n",
    "!ls /tmp/adversarial_patch.npy"
   ]
  },
  {
   "cell_type": "code",
   "execution_count": 23,
   "id": "95bc595f",
   "metadata": {},
   "outputs": [
    {
     "name": "stdout",
     "output_type": "stream",
     "text": [
      "/tmp/adversarial_patch.pt\n"
     ]
    }
   ],
   "source": [
    "# Alternatively, we could have saved it as a torch tensor\n",
    "patch_tensor = torch.tensor(data=x_patched)\n",
    "torch.save(obj=patch_tensor, f='/tmp/adversarial_patch.pt')\n",
    "\n",
    "# Verify the file is saved\n",
    "! ls /tmp/adversarial_patch.pt"
   ]
  },
  {
   "cell_type": "markdown",
   "id": "4e977022",
   "metadata": {},
   "source": [
    "### Step 7:  \n",
    "With the patch saved, how do we load it?\n"
   ]
  },
  {
   "cell_type": "code",
   "execution_count": 24,
   "id": "683bee6c",
   "metadata": {},
   "outputs": [
    {
     "data": {
      "text/plain": [
       "((1, 15, 15), (1, 15, 15))"
      ]
     },
     "execution_count": 24,
     "metadata": {},
     "output_type": "execute_result"
    }
   ],
   "source": [
    "# Load the saved patch\n",
    "loaded_adv_patch = np.load(file=r'/tmp/adversarial_patch.npy')\n",
    "loaded_adv_patch.shape, adv_patch.shape"
   ]
  },
  {
   "cell_type": "code",
   "execution_count": 25,
   "id": "c3eb062b",
   "metadata": {},
   "outputs": [
    {
     "data": {
      "text/plain": [
       "(1, 1, 28, 28)"
      ]
     },
     "execution_count": 25,
     "metadata": {},
     "output_type": "execute_result"
    }
   ],
   "source": [
    "# We are just reducing the same sample. \n",
    "# We could have used another sample within the dataset\n",
    "new_patched_sample = art_adv_patch_attack.apply_patch(x=sample_X, scale=None, patch_external=loaded_adv_patch)\n",
    "new_patched_sample.shape"
   ]
  },
  {
   "cell_type": "code",
   "execution_count": 26,
   "id": "aa06711d",
   "metadata": {},
   "outputs": [
    {
     "data": {
      "text/plain": [
       "array([7])"
      ]
     },
     "execution_count": 26,
     "metadata": {},
     "output_type": "execute_result"
    }
   ],
   "source": [
    "# Get the label of the patched image\n",
    "# I am not sure why the prediction is not the same as above. However, we still achieved our objectives.\n",
    "loaded_adv_patch_prediction = art_adv_patch_clf.predict(new_patched_sample).argmax(axis=-1)\n",
    "loaded_adv_patch_prediction"
   ]
  },
  {
   "cell_type": "code",
   "execution_count": 27,
   "id": "3a1922f3",
   "metadata": {},
   "outputs": [
    {
     "name": "stdout",
     "output_type": "stream",
     "text": [
      "Cleaning cuda cache\n"
     ]
    }
   ],
   "source": [
    "# With the training finish clear the GPU cache\n",
    "# Setup the device to work with\n",
    "if torch.cuda.is_available():\n",
    "    # For CUDA GPU\n",
    "    print(f'Cleaning {device} cache')\n",
    "    torch.cuda.empty_cache()\n",
    "elif torch.backends.mps.is_available():\n",
    "    # For Apple devices\n",
    "    print(f'Cleaning {device} cache')\n",
    "    torch.mps.empty_cache()\n",
    "else:\n",
    "    # Default to cpu\n",
    "    pass"
   ]
  },
  {
   "cell_type": "markdown",
   "id": "2da1743c",
   "metadata": {},
   "source": [
    "### Lab Takeaways:  \n",
    "- We learnt how to use ART\n",
    "- We saw that we can create adversarial patches  \n",
    "- We *should* have been able to force the model to predict the sample as 0, even though it is originally 7. I say *should* have, because I noticed as I ran this attack multiple times, sometimes it changed and sometime it did not. I take it if we manipulate the hyperparameters, we will see different results. \n",
    "- While it may not have changed the label above, we should have come away with a solid understanding of what *adversarial patch* is."
   ]
  }
 ],
 "metadata": {
  "kernelspec": {
   "display_name": "adversarial_ai",
   "language": "python",
   "name": "python3"
  },
  "language_info": {
   "codemirror_mode": {
    "name": "ipython",
    "version": 3
   },
   "file_extension": ".py",
   "mimetype": "text/x-python",
   "name": "python",
   "nbconvert_exporter": "python",
   "pygments_lexer": "ipython3",
   "version": "3.12.11"
  }
 },
 "nbformat": 4,
 "nbformat_minor": 5
}
