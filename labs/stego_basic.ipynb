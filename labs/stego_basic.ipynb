{
 "cells": [
  {
   "cell_type": "markdown",
   "id": "e88689e9",
   "metadata": {},
   "source": [
    "<img style=\"max-width:20em; height:auto;\" src=\"../graphics/A-Little-Book-on-Adversarial-AI-Cover.png\"/>"
   ]
  },
  {
   "cell_type": "markdown",
   "id": "6f5d2bb4",
   "metadata": {},
   "source": [
    "Author: Nik Alleyne   \n",
    "Author Blog: https://www.securitynik.com   \n",
    "Author GitHub: github.com/securitynik   \n",
    "\n",
    "Author Other Books: [   \n",
    "\n",
    "            \"https://www.amazon.ca/Learning-Practicing-Leveraging-Practical-Detection/dp/1731254458/\",   \n",
    "            \n",
    "            \"https://www.amazon.ca/Learning-Practicing-Mastering-Network-Forensics/dp/1775383024/\"   \n",
    "        ]   \n",
    "\n",
    "\n",
    "This notebook ***(stego_basic.ipynb)*** is part of the series of notebooks From ***A Little Book on Adversarial AI***  A free ebook released by Nik Alleyne"
   ]
  },
  {
   "cell_type": "markdown",
   "id": "4ec644c4",
   "metadata": {},
   "source": [
    "### Steganography Basics   "
   ]
  },
  {
   "cell_type": "markdown",
   "id": "d11ebec0",
   "metadata": {},
   "source": [
    "### Lab Objectives:  \n",
    "- Get an introduction to some basic steganography  \n",
    "- Perform the task of adding, reading and removing bytes  \n",
    "- Executing Python code via the appended content   \n",
    "- Learn how to use tools such as XXD to look at byte sequence  \n",
    "\n",
    "### Step 1:   \n",
    "Create a few basic models, so we have something to look at"
   ]
  },
  {
   "cell_type": "code",
   "execution_count": 1,
   "id": "3660623d",
   "metadata": {},
   "outputs": [],
   "source": [
    "# Import the needed libraries\n",
    "import torch\n",
    "import numpy as np\n",
    "from sklearn.datasets import make_classification\n",
    "from sklearn.linear_model import LogisticRegression\n",
    "from sklearn.tree import DecisionTreeClassifier\n",
    "from sklearn.svm import LinearSVC\n",
    "import joblib\n",
    "import numpy as np\n",
    "import os"
   ]
  },
  {
   "cell_type": "code",
   "execution_count": 2,
   "id": "6177f5b2",
   "metadata": {},
   "outputs": [
    {
     "name": "stdout",
     "output_type": "stream",
     "text": [
      "The shape of X is: (100, 20)\n",
      "The shape of y is: (100,)\n"
     ]
    },
    {
     "data": {
      "text/plain": [
       "(array([[ 0.89737271,  1.19883403, -0.57614418, -0.85941023, -1.08271572,\n",
       "          1.19043099,  0.69201185,  0.7254497 , -0.96392806,  0.51763767,\n",
       "         -0.8329954 ,  0.26745915, -0.21357159, -0.15951903, -1.30596704,\n",
       "         -0.64671263, -0.83507562,  1.17507698,  1.56122934,  0.64540703],\n",
       "        [-0.44280726, -0.28487123, -0.75101194, -1.52651891, -0.58925645,\n",
       "          0.52610495,  0.25752   , -1.68152247,  0.59657607, -1.413296  ,\n",
       "          0.32269801,  0.61772267, -0.97169635, -1.53766302,  0.49397657,\n",
       "          1.38020093,  1.43151648,  2.43857923,  0.13773635,  0.3250355 ],\n",
       "        [-0.3731393 ,  0.42547094, -0.62212121, -0.29606904,  1.99180325,\n",
       "         -1.95303076, -1.04132407,  1.13082651,  0.05642607, -0.28032486,\n",
       "         -0.35760038, -1.41068385,  1.00750231, -1.39252609, -0.01392689,\n",
       "          1.61319001, -0.63282254,  1.11243071, -0.7898864 ,  0.68300386],\n",
       "        [-0.55489001,  0.63906201, -0.68288286, -0.32922824, -0.83013118,\n",
       "          0.75328348,  0.37464092,  0.40005434,  0.5552238 ,  0.74612892,\n",
       "         -0.3950187 ,  0.82324538, -0.35032069,  0.2390385 ,  1.17258577,\n",
       "         -0.22631236, -0.85828453, -0.48661855,  0.48593696, -0.92019266],\n",
       "        [-2.68123045, -1.34300194,  0.24020737, -0.1922393 ,  2.42153484,\n",
       "         -2.20253309, -1.09790003,  1.45546988,  0.01088287,  0.65636253,\n",
       "          0.36128422, -2.38141473, -0.17611728, -2.39912982,  0.11724549,\n",
       "         -1.70849886,  0.36994497, -0.03313101, -1.42644885, -1.43741524]]),\n",
       " array([0, 1, 0, 1, 0]))"
      ]
     },
     "execution_count": 2,
     "metadata": {},
     "output_type": "execute_result"
    }
   ],
   "source": [
    "# Get some sample data from a toy dataset\n",
    "X, y = make_classification()\n",
    "print(f'The shape of X is: {X.shape}')\n",
    "print(f'The shape of y is: {y.shape}')\n",
    "\n",
    "# Get the first 5 records\n",
    "X[:5], y[:5]"
   ]
  },
  {
   "cell_type": "markdown",
   "id": "09d68eaf",
   "metadata": {},
   "source": [
    "With the data in place, let us create three different models. The idea here is just so see if there are any similarities within the model structure.   \n",
    "\n",
    "The choice of Logistic Regression, Decision Tree and LinesarSVC are just random. Nothing special to them.  \n",
    "\n",
    "We also save these models to the file system, so we can analyze them  \n",
    "\n",
    "### Step 2:   "
   ]
  },
  {
   "cell_type": "code",
   "execution_count": 3,
   "id": "a33e74aa",
   "metadata": {},
   "outputs": [],
   "source": [
    "# Create three different models.\n",
    "lr_clf = LogisticRegression().fit(X, y)\n",
    "dt_clf = DecisionTreeClassifier().fit(X, y)\n",
    "svc_clf = LinearSVC().fit(X, y)"
   ]
  },
  {
   "cell_type": "code",
   "execution_count": 4,
   "id": "04a7dcc6",
   "metadata": {},
   "outputs": [
    {
     "data": {
      "text/plain": [
       "['/tmp/svc_clf.joblib']"
      ]
     },
     "execution_count": 4,
     "metadata": {},
     "output_type": "execute_result"
    }
   ],
   "source": [
    "# Save the models\n",
    "joblib.dump(value=lr_clf, filename=r'/tmp/lr_clf.joblib')\n",
    "joblib.dump(value=dt_clf, filename=r'/tmp/dt_clf.joblib')\n",
    "joblib.dump(value=svc_clf, filename=r'/tmp/svc_clf.joblib')"
   ]
  },
  {
   "cell_type": "code",
   "execution_count": 5,
   "id": "7b389477",
   "metadata": {},
   "outputs": [
    {
     "name": "stdout",
     "output_type": "stream",
     "text": [
      "/tmp/dt_clf.joblib  /tmp/lr_clf.joblib\t/tmp/svc_clf.joblib\n"
     ]
    }
   ],
   "source": [
    "# Verify the files were saved to the file system\n",
    "!ls /tmp/*_clf.joblib"
   ]
  },
  {
   "cell_type": "code",
   "execution_count": 6,
   "id": "1e96e656",
   "metadata": {},
   "outputs": [
    {
     "data": {
      "text/plain": [
       "array([0, 1, 0, 1, 0])"
      ]
     },
     "execution_count": 6,
     "metadata": {},
     "output_type": "execute_result"
    }
   ],
   "source": [
    "# As always, show that the model can make predictions after loading\n",
    "loaded_model = joblib.load(filename=r'/tmp/lr_clf.joblib')\n",
    "loaded_model.predict(X[:5])"
   ]
  },
  {
   "cell_type": "markdown",
   "id": "d0ffd827",
   "metadata": {},
   "source": [
    "When looking at the 3 models at the top using XXD, all three ends with the same 30 bytes sequence:   \n",
    "~$ xxd -s -30 /tmp/svc_clf.joblib\n",
    "0000035d: 8c10 5f73 6b6c 6561 726e 5f76 6572 7369  .._sklearn_versi\n",
    "0000036d: 6f6e 948c 0531 2e36 2e31 9475 622e       on...1.6.1.ub.\n",
    "\n",
    "$ xxd -s -30 /tmp/dt_clf.joblib\n",
    "000009ab: 8c10 5f73 6b6c 6561 726e 5f76 6572 7369  .._sklearn_versi\n",
    "000009bb: 6f6e 948c 0531 2e36 2e31 9475 622e       on...1.6.1.ub.\n",
    "\n",
    "$ xxd -s -30 /tmp/lr_clf.joblib\n",
    "000003e1: 8c10 5f73 6b6c 6561 726e 5f76 6572 7369  .._sklearn_versi\n",
    "000003f1: 6f6e 948c 0531 2e36 2e31 9475 622e       on...1.6.1.ub.\n",
    "\n",
    "This suggest some structure that could be leveraged. Note, in this case, reference is made specifically to sklearn version 1.6.1. This means, this code is version specific and may not work with other versions. This simply mean we can modify our code to suit. \n",
    "\n",
    "Rather than using the full 30 bytes, let's use 16 instead. Also, let's get the output in C format\n",
    "\n",
    "$ xxd -i -s -16 /tmp/lr_clf.joblib\n",
    "unsigned char _tmp_lr_clf_joblib[] = {\n",
    "  0x73, 0x69, 0x6f, 0x6e, 0x94, 0x8c, 0x05, 0x31, 0x2e, 0x36, 0x2e, 0x31,\n",
    "  0x94, 0x75, 0x62, 0x2e\n",
    "};\n",
    "unsigned int _tmp_lr_clf_joblib_len = 16;\n",
    "\n",
    "References: \n",
    "https://www.stackzero.net/how-to-hide-messages-in-pictures-with-python-steganography/\n",
    "\n",
    "\n",
    "### Step 3:  \n",
    "Let us validate above  "
   ]
  },
  {
   "cell_type": "code",
   "execution_count": 7,
   "id": "2552839e",
   "metadata": {},
   "outputs": [
    {
     "name": "stdout",
     "output_type": "stream",
     "text": [
      "0000035d: \u001b[1;31m8c\u001b[0m\u001b[1;31m10\u001b[0m \u001b[1;32m5f\u001b[0m\u001b[1;32m73\u001b[0m \u001b[1;32m6b\u001b[0m\u001b[1;32m6c\u001b[0m \u001b[1;32m65\u001b[0m\u001b[1;32m61\u001b[0m \u001b[1;32m72\u001b[0m\u001b[1;32m6e\u001b[0m \u001b[1;32m5f\u001b[0m\u001b[1;32m76\u001b[0m \u001b[1;32m65\u001b[0m\u001b[1;32m72\u001b[0m \u001b[1;32m73\u001b[0m\u001b[1;32m69\u001b[0m  \u001b[1;31m.\u001b[0m\u001b[1;31m.\u001b[0m\u001b[1;32m_\u001b[0m\u001b[1;32ms\u001b[0m\u001b[1;32mk\u001b[0m\u001b[1;32ml\u001b[0m\u001b[1;32me\u001b[0m\u001b[1;32ma\u001b[0m\u001b[1;32mr\u001b[0m\u001b[1;32mn\u001b[0m\u001b[1;32m_\u001b[0m\u001b[1;32mv\u001b[0m\u001b[1;32me\u001b[0m\u001b[1;32mr\u001b[0m\u001b[1;32ms\u001b[0m\u001b[1;32mi\u001b[0m\n",
      "0000036d: \u001b[1;32m6f\u001b[0m\u001b[1;32m6e\u001b[0m \u001b[1;31m94\u001b[0m\u001b[1;31m8c\u001b[0m \u001b[1;31m05\u001b[0m\u001b[1;32m31\u001b[0m \u001b[1;32m2e\u001b[0m\u001b[1;32m37\u001b[0m \u001b[1;32m2e\u001b[0m\u001b[1;32m30\u001b[0m \u001b[1;31m94\u001b[0m\u001b[1;32m75\u001b[0m \u001b[1;32m62\u001b[0m\u001b[1;32m2e\u001b[0m    \u001b[1;31m \u001b[0m\u001b[1;31m \u001b[0m \u001b[1;32mo\u001b[0m\u001b[1;32mn\u001b[0m\u001b[1;31m.\u001b[0m\u001b[1;31m.\u001b[0m\u001b[1;31m.\u001b[0m\u001b[1;32m1\u001b[0m\u001b[1;32m.\u001b[0m\u001b[1;32m7\u001b[0m\u001b[1;32m.\u001b[0m\u001b[1;32m0\u001b[0m\u001b[1;31m.\u001b[0m\u001b[1;32mu\u001b[0m\u001b[1;32mb\u001b[0m\u001b[1;32m.\u001b[0m\n"
     ]
    }
   ],
   "source": [
    "# Reviewing the last 30 bytes of the svc_clf model\n",
    "!xxd -s -30 /tmp/svc_clf.joblib"
   ]
  },
  {
   "cell_type": "code",
   "execution_count": 8,
   "id": "885a8591",
   "metadata": {},
   "outputs": [
    {
     "name": "stdout",
     "output_type": "stream",
     "text": [
      "000009ab: \u001b[1;31m8c\u001b[0m\u001b[1;31m10\u001b[0m \u001b[1;32m5f\u001b[0m\u001b[1;32m73\u001b[0m \u001b[1;32m6b\u001b[0m\u001b[1;32m6c\u001b[0m \u001b[1;32m65\u001b[0m\u001b[1;32m61\u001b[0m \u001b[1;32m72\u001b[0m\u001b[1;32m6e\u001b[0m \u001b[1;32m5f\u001b[0m\u001b[1;32m76\u001b[0m \u001b[1;32m65\u001b[0m\u001b[1;32m72\u001b[0m \u001b[1;32m73\u001b[0m\u001b[1;32m69\u001b[0m  \u001b[1;31m.\u001b[0m\u001b[1;31m.\u001b[0m\u001b[1;32m_\u001b[0m\u001b[1;32ms\u001b[0m\u001b[1;32mk\u001b[0m\u001b[1;32ml\u001b[0m\u001b[1;32me\u001b[0m\u001b[1;32ma\u001b[0m\u001b[1;32mr\u001b[0m\u001b[1;32mn\u001b[0m\u001b[1;32m_\u001b[0m\u001b[1;32mv\u001b[0m\u001b[1;32me\u001b[0m\u001b[1;32mr\u001b[0m\u001b[1;32ms\u001b[0m\u001b[1;32mi\u001b[0m\n",
      "000009bb: \u001b[1;32m6f\u001b[0m\u001b[1;32m6e\u001b[0m \u001b[1;31m94\u001b[0m\u001b[1;31m8c\u001b[0m \u001b[1;31m05\u001b[0m\u001b[1;32m31\u001b[0m \u001b[1;32m2e\u001b[0m\u001b[1;32m37\u001b[0m \u001b[1;32m2e\u001b[0m\u001b[1;32m30\u001b[0m \u001b[1;31m94\u001b[0m\u001b[1;32m75\u001b[0m \u001b[1;32m62\u001b[0m\u001b[1;32m2e\u001b[0m    \u001b[1;31m \u001b[0m\u001b[1;31m \u001b[0m \u001b[1;32mo\u001b[0m\u001b[1;32mn\u001b[0m\u001b[1;31m.\u001b[0m\u001b[1;31m.\u001b[0m\u001b[1;31m.\u001b[0m\u001b[1;32m1\u001b[0m\u001b[1;32m.\u001b[0m\u001b[1;32m7\u001b[0m\u001b[1;32m.\u001b[0m\u001b[1;32m0\u001b[0m\u001b[1;31m.\u001b[0m\u001b[1;32mu\u001b[0m\u001b[1;32mb\u001b[0m\u001b[1;32m.\u001b[0m\n"
     ]
    }
   ],
   "source": [
    "# Reviewing the last 30 bytes of the dt_clf model\n",
    "!xxd -s -30 /tmp/dt_clf.joblib"
   ]
  },
  {
   "cell_type": "code",
   "execution_count": 9,
   "id": "ca050e73",
   "metadata": {},
   "outputs": [
    {
     "name": "stdout",
     "output_type": "stream",
     "text": [
      "000003e1: \u001b[1;31m8c\u001b[0m\u001b[1;31m10\u001b[0m \u001b[1;32m5f\u001b[0m\u001b[1;32m73\u001b[0m \u001b[1;32m6b\u001b[0m\u001b[1;32m6c\u001b[0m \u001b[1;32m65\u001b[0m\u001b[1;32m61\u001b[0m \u001b[1;32m72\u001b[0m\u001b[1;32m6e\u001b[0m \u001b[1;32m5f\u001b[0m\u001b[1;32m76\u001b[0m \u001b[1;32m65\u001b[0m\u001b[1;32m72\u001b[0m \u001b[1;32m73\u001b[0m\u001b[1;32m69\u001b[0m  \u001b[1;31m.\u001b[0m\u001b[1;31m.\u001b[0m\u001b[1;32m_\u001b[0m\u001b[1;32ms\u001b[0m\u001b[1;32mk\u001b[0m\u001b[1;32ml\u001b[0m\u001b[1;32me\u001b[0m\u001b[1;32ma\u001b[0m\u001b[1;32mr\u001b[0m\u001b[1;32mn\u001b[0m\u001b[1;32m_\u001b[0m\u001b[1;32mv\u001b[0m\u001b[1;32me\u001b[0m\u001b[1;32mr\u001b[0m\u001b[1;32ms\u001b[0m\u001b[1;32mi\u001b[0m\n",
      "000003f1: \u001b[1;32m6f\u001b[0m\u001b[1;32m6e\u001b[0m \u001b[1;31m94\u001b[0m\u001b[1;31m8c\u001b[0m \u001b[1;31m05\u001b[0m\u001b[1;32m31\u001b[0m \u001b[1;32m2e\u001b[0m\u001b[1;32m37\u001b[0m \u001b[1;32m2e\u001b[0m\u001b[1;32m30\u001b[0m \u001b[1;31m94\u001b[0m\u001b[1;32m75\u001b[0m \u001b[1;32m62\u001b[0m\u001b[1;32m2e\u001b[0m    \u001b[1;31m \u001b[0m\u001b[1;31m \u001b[0m \u001b[1;32mo\u001b[0m\u001b[1;32mn\u001b[0m\u001b[1;31m.\u001b[0m\u001b[1;31m.\u001b[0m\u001b[1;31m.\u001b[0m\u001b[1;32m1\u001b[0m\u001b[1;32m.\u001b[0m\u001b[1;32m7\u001b[0m\u001b[1;32m.\u001b[0m\u001b[1;32m0\u001b[0m\u001b[1;31m.\u001b[0m\u001b[1;32mu\u001b[0m\u001b[1;32mb\u001b[0m\u001b[1;32m.\u001b[0m\n"
     ]
    }
   ],
   "source": [
    "# Reviewing the last 30 bytes of the lr_clf model\n",
    "!xxd -s -30 /tmp/lr_clf.joblib"
   ]
  },
  {
   "cell_type": "code",
   "execution_count": 10,
   "id": "f77facd1",
   "metadata": {},
   "outputs": [
    {
     "name": "stdout",
     "output_type": "stream",
     "text": [
      "unsigned char _tmp_lr_clf_joblib[] = {\n",
      "  0x73, 0x69, 0x6f, 0x6e, 0x94, 0x8c, 0x05, 0x31, 0x2e, 0x37, 0x2e, 0x30,\n",
      "  0x94, 0x75, 0x62, 0x2e\n",
      "};\n",
      "unsigned int _tmp_lr_clf_joblib_len = 16;\n"
     ]
    }
   ],
   "source": [
    "# Take a different view of the bytes\n",
    "!xxd -i -s -16 /tmp/lr_clf.joblib"
   ]
  },
  {
   "cell_type": "markdown",
   "id": "c44e4e47",
   "metadata": {},
   "source": [
    "Looks like everything is good now. Let us move forward with writing the bytes to the model.  \n",
    "\n",
    "Create a function to read the bytes of the model. Specify a **num_bytes** parameter to make it optional for the number of bytes to read\n",
    "\n",
    "Just for the same of it, let us work with Logistic Regression classifier. The same approach can be used for any of the other models. Feel free to experiment. \n",
    "\n",
    "### Step 4:  "
   ]
  },
  {
   "cell_type": "code",
   "execution_count": 11,
   "id": "b9e2d982",
   "metadata": {},
   "outputs": [
    {
     "name": "stdout",
     "output_type": "stream",
     "text": [
      "Reading the last 32 bytes from model file: /tmp/lr_clf.joblib\n"
     ]
    },
    {
     "data": {
      "text/plain": [
       "b'\\x00\\x00\\x8c\\x10_sklearn_version\\x94\\x8c\\x051.7.0\\x94ub.'"
      ]
     },
     "execution_count": 11,
     "metadata": {},
     "output_type": "execute_result"
    }
   ],
   "source": [
    "# Create a function to read the mode and the number of bytes\n",
    "def read_bytes(filename=r'/tmp/lr_clf.joblib', num_bytes=32):\n",
    "    print(f'Reading the last {num_bytes} bytes from model file: {filename}')\n",
    "    with open(file=filename, mode='rb') as fp:\n",
    "\n",
    "        # Read the file and return the last num_bytes\n",
    "        return fp.read()[-num_bytes:]\n",
    "\n",
    "# Call the function with the default values\n",
    "# Capture the byte that gets returned\n",
    "# This will be used to index into the entire byte stream\n",
    "ending_bytes = read_bytes()\n",
    "ending_bytes"
   ]
  },
  {
   "cell_type": "markdown",
   "id": "bf438204",
   "metadata": {},
   "source": [
    "With the number of bytes read, we can now create another function to append our content of interest to these bytes that were read above.  \n",
    "\n",
    "The parameter **secrete** represents the content we would like to append. Because we ultimately want to execute arbitrary code, we will append a small pythons script, that simply prints **Hello World!**.  \n",
    "\n",
    "### Step 5:  "
   ]
  },
  {
   "cell_type": "code",
   "execution_count": 12,
   "id": "402f46a5",
   "metadata": {},
   "outputs": [
    {
     "name": "stdout",
     "output_type": "stream",
     "text": [
      "Adding content: **python -c \"print('Hello World!')\" ** to model_file: /tmp/lr_clf.joblib\n"
     ]
    }
   ],
   "source": [
    "# Function to append the secret\n",
    "def add_secret(filename=r'/tmp/lr_clf.joblib', secret=\"\"\"python -c \"print('Hello World!')\" \"\"\"):\n",
    "\n",
    "    # Read the file in a mode that allows us to append binary data\n",
    "    with open(file=filename, mode='ab') as fp:\n",
    "\n",
    "        # With the file read, ensure the content is captures as bytes\n",
    "        # force the encoding the utf-8\n",
    "        print(f'Adding content: **{secret}** to model_file: {filename}')\n",
    "        fp.write(bytes(secret, encoding='utf-8'))\n",
    "\n",
    "# Call the function with the default values\n",
    "add_secret()"
   ]
  },
  {
   "cell_type": "code",
   "execution_count": 13,
   "id": "90e1e683",
   "metadata": {},
   "outputs": [
    {
     "name": "stdout",
     "output_type": "stream",
     "text": [
      "00000411: \u001b[1;32m48\u001b[0m\u001b[1;32m65\u001b[0m \u001b[1;32m6c\u001b[0m\u001b[1;32m6c\u001b[0m \u001b[1;32m6f\u001b[0m\u001b[1;32m20\u001b[0m \u001b[1;32m57\u001b[0m\u001b[1;32m6f\u001b[0m \u001b[1;32m72\u001b[0m\u001b[1;32m6c\u001b[0m \u001b[1;32m64\u001b[0m\u001b[1;32m21\u001b[0m \u001b[1;32m27\u001b[0m\u001b[1;32m29\u001b[0m \u001b[1;32m22\u001b[0m\u001b[1;32m20\u001b[0m  \u001b[1;32mH\u001b[0m\u001b[1;32me\u001b[0m\u001b[1;32ml\u001b[0m\u001b[1;32ml\u001b[0m\u001b[1;32mo\u001b[0m\u001b[1;32m \u001b[0m\u001b[1;32mW\u001b[0m\u001b[1;32mo\u001b[0m\u001b[1;32mr\u001b[0m\u001b[1;32ml\u001b[0m\u001b[1;32md\u001b[0m\u001b[1;32m!\u001b[0m\u001b[1;32m'\u001b[0m\u001b[1;32m)\u001b[0m\u001b[1;32m\"\u001b[0m\u001b[1;32m \u001b[0m\n"
     ]
    }
   ],
   "source": [
    "# Verify our secret is in the file\n",
    "# by looking at the last 16 bytes\n",
    "! xxd -s -16 /tmp/lr_clf.joblib\n"
   ]
  },
  {
   "cell_type": "markdown",
   "id": "4c47fd79",
   "metadata": {},
   "source": [
    "Great, we were able to append contents to the file. Could we re-read the contents now? Obviously, we read it above, so we should be able to read it again. \n",
    "\n",
    "The difference this time is not only do we want to read the raw bytes, we need to execute the code. Let us create a function to achieve this objective.   \n",
    "\n",
    "### Step 6:   "
   ]
  },
  {
   "cell_type": "code",
   "execution_count": 14,
   "id": "867cc67e",
   "metadata": {},
   "outputs": [],
   "source": [
    "# Function to now read the content\n",
    "def read_secret(filename=r'/tmp/lr_clf.joblib'):\n",
    "    # Read the file in binary mode\n",
    "    with open(file=filename, mode='rb') as fp:\n",
    "        buf = fp.read()\n",
    "\n",
    "        # This is where the ending bytes come into play\n",
    "        # We are indexing into where the string starts \n",
    "        idx = buf.index(ending_bytes)\n",
    "        print(f'Index position is: {idx}')\n",
    "        print(f'ILen of ending_byte is: {len(ending_bytes)}')\n",
    "        print(f'Returning bytes from: {idx} to {idx + len(ending_bytes)}')\n",
    "\n",
    "        # We return idx plus the length of ending bytes\n",
    "        # We go from this position to the end of the byte stream\n",
    "        # We then decode it as 'utf-8\n",
    "        return buf[idx+len(ending_bytes) : ].decode(encoding='utf-8')"
   ]
  },
  {
   "cell_type": "code",
   "execution_count": 15,
   "id": "71773a3e",
   "metadata": {},
   "outputs": [
    {
     "name": "stdout",
     "output_type": "stream",
     "text": [
      "Index position is: 991\n",
      "ILen of ending_byte is: 32\n",
      "Returning bytes from: 991 to 1023\n",
      "Hello World!\n"
     ]
    }
   ],
   "source": [
    "# With all of this in place, call the function and decode the bytes\n",
    "_ = os.system(command=read_secret())"
   ]
  },
  {
   "cell_type": "markdown",
   "id": "ac97fe44",
   "metadata": {},
   "source": [
    "Awesome! \n",
    "- We read the bytes in a model file.   \n",
    "- We then appended content to the end of the file. \n",
    "- We were then able to execute the python code, print **Hello World!** \n",
    "\n",
    "However, the question now is ... Can the model still make predictions? Let us find out.   \n",
    "\n",
    "### Step 7:   \n"
   ]
  },
  {
   "cell_type": "code",
   "execution_count": 16,
   "id": "6f848d7b",
   "metadata": {},
   "outputs": [
    {
     "data": {
      "text/plain": [
       "array([0, 1, 0, 1, 0])"
      ]
     },
     "execution_count": 16,
     "metadata": {},
     "output_type": "execute_result"
    }
   ],
   "source": [
    "# Make a prediction with the model\n",
    "# To ensure the model still works.\n",
    "loaded_model.predict(X[:5])"
   ]
  },
  {
   "cell_type": "markdown",
   "id": "b5c33b77",
   "metadata": {},
   "source": [
    "Looks like we are still good to go. The model still works as expected.   \n",
    "\n",
    "Just to ensure we are being tidy, let us clean up the content we added to the model file. We do this by create a function for this purpose.   \n",
    "\n",
    "### Step 8:  "
   ]
  },
  {
   "cell_type": "code",
   "execution_count": 17,
   "id": "bba9d7bd",
   "metadata": {},
   "outputs": [],
   "source": [
    "# Remove the secret\n",
    "def remove_secret(filename=r'/tmp/lr_clf.joblib'):\n",
    "    with open(file=filename, mode='rb+') as fp:\n",
    "        buf = fp.read()\n",
    "\n",
    "        # go to the index in the file where the ending_bytes start\n",
    "        idx = buf.index(ending_bytes)\n",
    "\n",
    "        # Truncate the file up to idx + length of ending_bytes\n",
    "        fp.truncate(idx + len(ending_bytes))\n",
    "\n",
    "\n",
    "# Call the function to remove the secrete from the file\n",
    "remove_secret()"
   ]
  },
  {
   "cell_type": "code",
   "execution_count": 18,
   "id": "10164a52",
   "metadata": {},
   "outputs": [
    {
     "name": "stdout",
     "output_type": "stream",
     "text": [
      "000003df: \u001b[1;37m00\u001b[0m\u001b[1;37m00\u001b[0m \u001b[1;31m8c\u001b[0m\u001b[1;31m10\u001b[0m \u001b[1;32m5f\u001b[0m\u001b[1;32m73\u001b[0m \u001b[1;32m6b\u001b[0m\u001b[1;32m6c\u001b[0m \u001b[1;32m65\u001b[0m\u001b[1;32m61\u001b[0m \u001b[1;32m72\u001b[0m\u001b[1;32m6e\u001b[0m \u001b[1;32m5f\u001b[0m\u001b[1;32m76\u001b[0m \u001b[1;32m65\u001b[0m\u001b[1;32m72\u001b[0m  \u001b[1;37m.\u001b[0m\u001b[1;37m.\u001b[0m\u001b[1;31m.\u001b[0m\u001b[1;31m.\u001b[0m\u001b[1;32m_\u001b[0m\u001b[1;32ms\u001b[0m\u001b[1;32mk\u001b[0m\u001b[1;32ml\u001b[0m\u001b[1;32me\u001b[0m\u001b[1;32ma\u001b[0m\u001b[1;32mr\u001b[0m\u001b[1;32mn\u001b[0m\u001b[1;32m_\u001b[0m\u001b[1;32mv\u001b[0m\u001b[1;32me\u001b[0m\u001b[1;32mr\u001b[0m\n",
      "000003ef: \u001b[1;32m73\u001b[0m\u001b[1;32m69\u001b[0m \u001b[1;32m6f\u001b[0m\u001b[1;32m6e\u001b[0m \u001b[1;31m94\u001b[0m\u001b[1;31m8c\u001b[0m \u001b[1;31m05\u001b[0m\u001b[1;32m31\u001b[0m \u001b[1;32m2e\u001b[0m\u001b[1;32m37\u001b[0m \u001b[1;32m2e\u001b[0m\u001b[1;32m30\u001b[0m \u001b[1;31m94\u001b[0m\u001b[1;32m75\u001b[0m \u001b[1;32m62\u001b[0m\u001b[1;32m2e\u001b[0m  \u001b[1;32ms\u001b[0m\u001b[1;32mi\u001b[0m\u001b[1;32mo\u001b[0m\u001b[1;32mn\u001b[0m\u001b[1;31m.\u001b[0m\u001b[1;31m.\u001b[0m\u001b[1;31m.\u001b[0m\u001b[1;32m1\u001b[0m\u001b[1;32m.\u001b[0m\u001b[1;32m7\u001b[0m\u001b[1;32m.\u001b[0m\u001b[1;32m0\u001b[0m\u001b[1;31m.\u001b[0m\u001b[1;32mu\u001b[0m\u001b[1;32mb\u001b[0m\u001b[1;32m.\u001b[0m\n"
     ]
    }
   ],
   "source": [
    "# Verify the secret is no longer there\n",
    "# by looking at the last 32 bytes\n",
    "! xxd -s -32 /tmp/lr_clf.joblib\n"
   ]
  },
  {
   "cell_type": "markdown",
   "id": "ce2b3fcc",
   "metadata": {},
   "source": [
    "We did well.  \n",
    "\n",
    "### Lab Takeaways:   \n",
    "- We began the process of performing so basic stenography   \n",
    "- We looked at three different model files and the last 32 bytes of all of them looks basically the same  \n",
    "- We added some python code to the end of the file  \n",
    "- We decoded the encoded content  \n",
    "- We removed the content we added   \n",
    "\n",
    "Overall, we basically laid the foundation for something we can build on. "
   ]
  }
 ],
 "metadata": {
  "kernelspec": {
   "display_name": "adversarial_ai",
   "language": "python",
   "name": "python3"
  },
  "language_info": {
   "codemirror_mode": {
    "name": "ipython",
    "version": 3
   },
   "file_extension": ".py",
   "mimetype": "text/x-python",
   "name": "python",
   "nbconvert_exporter": "python",
   "pygments_lexer": "ipython3",
   "version": "3.12.11"
  }
 },
 "nbformat": 4,
 "nbformat_minor": 5
}
