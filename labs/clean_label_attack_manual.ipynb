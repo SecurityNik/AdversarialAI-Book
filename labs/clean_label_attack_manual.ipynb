{
 "cells": [
  {
   "cell_type": "markdown",
   "id": "b5df513a",
   "metadata": {},
   "source": [
    "<img style=\"max-width:20em; height:auto;\" src=\"../graphics/A-Little-Book-on-Adversarial-AI-Cover.png\"/>"
   ]
  },
  {
   "cell_type": "markdown",
   "id": "ff753d82",
   "metadata": {},
   "source": [
    "Author: Nik Alleyne   \n",
    "Author Blog: https://www.securitynik.com   \n",
    "Author GitHub: github.com/securitynik   \n",
    "\n",
    "Author Other Books: [   \n",
    "\n",
    "            \"https://www.amazon.ca/Learning-Practicing-Leveraging-Practical-Detection/dp/1731254458/\",   \n",
    "            \n",
    "            \"https://www.amazon.ca/Learning-Practicing-Mastering-Network-Forensics/dp/1775383024/\"   \n",
    "        ]   \n",
    "\n",
    "\n",
    "This notebook ***(clean_label_attack_manual.ipynb)*** is part of the series of notebooks From ***A Little Book on Adversarial AI***  A free ebook released by Nik Alleyne"
   ]
  },
  {
   "cell_type": "markdown",
   "id": "27df1450",
   "metadata": {},
   "source": [
    "### Clean Label Attack - Manual \n",
    "- https://arxiv.org/pdf/1804.00792"
   ]
  },
  {
   "cell_type": "markdown",
   "id": "c61f3c5e",
   "metadata": {},
   "source": [
    "### Lab Objectives:  \n",
    "- Establish a solid understanding of the clean label attack \n",
    "- Implement a simplified version of the clean label attack from scratch   \n",
    "- Working with datasets  \n",
    "- Working with dataloaders   \n",
    "- Leverage transfer learning to build models, rather than building from scratch  \n",
    "\n",
    "\n",
    "### Step 1:  "
   ]
  },
  {
   "cell_type": "code",
   "execution_count": 1,
   "id": "04977094",
   "metadata": {},
   "outputs": [],
   "source": [
    "# Import the libraries\n",
    "import torch, torch.nn as nn, torch.optim as optim\n",
    "from torchvision import transforms\n",
    "import torchvision\n",
    "import torchinfo\n",
    "from torchvision.datasets import CIFAR10\n",
    "from torchvision.models import resnet18, ResNet18_Weights\n",
    "from torch.utils.data import DataLoader\n",
    "import matplotlib.pyplot as plt\n",
    "import numpy as np"
   ]
  },
  {
   "cell_type": "code",
   "execution_count": 2,
   "id": "2798c031",
   "metadata": {},
   "outputs": [
    {
     "name": "stdout",
     "output_type": "stream",
     "text": [
      "Torch version used:  2.7.1+cu128\n",
      "Torchvision version used:  0.22.1+cu128\n",
      "Numpy version used:  2.1.3\n"
     ]
    }
   ],
   "source": [
    "### Version of key libraries used  \n",
    "print(f'Torch version used:  {torch.__version__}')\n",
    "print(f'Torchvision version used:  {torchvision.__version__}')\n",
    "print(f'Numpy version used:  {np.__version__}')"
   ]
  },
  {
   "cell_type": "code",
   "execution_count": 3,
   "id": "a4d77529",
   "metadata": {},
   "outputs": [
    {
     "name": "stdout",
     "output_type": "stream",
     "text": [
      "Setting the device to cuda\n"
     ]
    }
   ],
   "source": [
    "# Setup the device to work with\n",
    "# This should ensure if there are accelerators in place, such as Apple backend or CUDA, \n",
    "# we should be able to take advantage of it.\n",
    "\n",
    "if torch.cuda.is_available():\n",
    "    print('Setting the device to cuda')\n",
    "    device = 'cuda'\n",
    "elif torch.backends.mps.is_available():\n",
    "    print('Setting the device to Apple mps')\n",
    "    device = 'mps'\n",
    "else:\n",
    "    print('Setting the device to CPU')\n",
    "    device = torch.device('cpu')"
   ]
  },
  {
   "cell_type": "code",
   "execution_count": 4,
   "id": "a03bb382",
   "metadata": {},
   "outputs": [
    {
     "data": {
      "text/plain": [
       "Compose(\n",
       "    ToTensor()\n",
       ")"
      ]
     },
     "execution_count": 4,
     "metadata": {},
     "output_type": "execute_result"
    }
   ],
   "source": [
    "# Setup the transform for the image\n",
    "transform = transforms.Compose(transforms=[\n",
    "    transforms.ToTensor(),\n",
    "])\n",
    "\n",
    "transform"
   ]
  },
  {
   "cell_type": "markdown",
   "id": "94bc0101",
   "metadata": {},
   "source": [
    "For this problem we will use the CIFAR10 dataset. This has 10 classes. Our objective would be to make this attack targeted, where we flip the label to a specific label. Alternatively, if we are able to simply flip the label, to anything other than the original, then we can call it an untargeted attack. "
   ]
  },
  {
   "cell_type": "code",
   "execution_count": 5,
   "id": "6c6b77e3",
   "metadata": {},
   "outputs": [],
   "source": [
    "# Get the dataset\n",
    "trainset = CIFAR10(root=r'/tmp/', train=True, download=True, transform=transform)\n",
    "testset = CIFAR10(root=r'/tmp/', train=False, download=True, transform=transform)"
   ]
  },
  {
   "cell_type": "code",
   "execution_count": 6,
   "id": "f2bc2e2e",
   "metadata": {},
   "outputs": [],
   "source": [
    "# Setup the train dataloader\n",
    "trainloader = DataLoader(dataset=trainset, batch_size=128, shuffle=True)\n",
    "\n",
    "# Setup a test dataloader also\n",
    "testloader = DataLoader(dataset=testset, batch_size=1000, shuffle=False)"
   ]
  },
  {
   "cell_type": "code",
   "execution_count": 7,
   "id": "23676dc0",
   "metadata": {},
   "outputs": [
    {
     "data": {
      "text/plain": [
       "['airplane',\n",
       " 'automobile',\n",
       " 'bird',\n",
       " 'cat',\n",
       " 'deer',\n",
       " 'dog',\n",
       " 'frog',\n",
       " 'horse',\n",
       " 'ship',\n",
       " 'truck']"
      ]
     },
     "execution_count": 7,
     "metadata": {},
     "output_type": "execute_result"
    }
   ],
   "source": [
    "# Specify the labels / classes\n",
    "cifar10_labels = ['airplane', 'automobile', 'bird', 'cat', 'deer', 'dog', 'frog', 'horse', 'ship', 'truck']\n",
    "cifar10_labels"
   ]
  },
  {
   "cell_type": "code",
   "execution_count": 8,
   "id": "ec5a0b05",
   "metadata": {},
   "outputs": [],
   "source": [
    "# Get a batch of data from the test set\n",
    "test_X, test_y = next(iter(testloader))\n",
    "\n",
    "# model(test_X).argmax(dim=-1)"
   ]
  },
  {
   "cell_type": "markdown",
   "id": "a6792640",
   "metadata": {},
   "source": [
    "Get a sample from the dataset to work with, rather than a full batch.  \n",
    "\n",
    "### Step 2: "
   ]
  },
  {
   "cell_type": "code",
   "execution_count": 9,
   "id": "a4a86b5d",
   "metadata": {},
   "outputs": [
    {
     "data": {
      "text/plain": [
       "(torch.Size([3, 32, 32]), 3)"
      ]
     },
     "execution_count": 9,
     "metadata": {},
     "output_type": "execute_result"
    }
   ],
   "source": [
    "# Take a sample to work with\n",
    "target_img, target_label = testset[0]\n",
    "target_img = target_img.to(device)\n",
    "target_img.shape, target_label"
   ]
  },
  {
   "cell_type": "markdown",
   "id": "3419ba53",
   "metadata": {},
   "source": [
    "With the sample in place, visualize it\n",
    "\n",
    "### Step 3:  "
   ]
  },
  {
   "cell_type": "code",
   "execution_count": 10,
   "id": "3bf1c876",
   "metadata": {},
   "outputs": [
    {
     "data": {
      "image/png": "[encoded data removed]",
      "text/plain": [
       "<Figure size 640x480 with 1 Axes>"
      ]
     },
     "metadata": {},
     "output_type": "display_data"
    }
   ],
   "source": [
    "# Plot the image\n",
    "plt.title(label=f'{target_label} : {cifar10_labels[target_label]}')\n",
    "plt.imshow(target_img.permute(1,2,0).detach().cpu())\n",
    "plt.axis('off')\n",
    "plt.show()"
   ]
  },
  {
   "cell_type": "markdown",
   "id": "17ab9df5",
   "metadata": {},
   "source": [
    "With the data and labels sorted out, let us get the model. We will use the ResNet18 model via transfer learning to help us with this attack. \n",
    "\n",
    "### Step 4:"
   ]
  },
  {
   "cell_type": "code",
   "execution_count": 11,
   "id": "981e0fff",
   "metadata": {},
   "outputs": [
    {
     "data": {
      "text/plain": [
       "=================================================================\n",
       "Layer (type:depth-idx)                   Param #\n",
       "=================================================================\n",
       "ResNet                                   --\n",
       "├─Conv2d: 1-1                            9,408\n",
       "├─BatchNorm2d: 1-2                       128\n",
       "├─ReLU: 1-3                              --\n",
       "├─MaxPool2d: 1-4                         --\n",
       "├─Sequential: 1-5                        --\n",
       "│    └─BasicBlock: 2-1                   --\n",
       "│    │    └─Conv2d: 3-1                  36,864\n",
       "│    │    └─BatchNorm2d: 3-2             128\n",
       "│    │    └─ReLU: 3-3                    --\n",
       "│    │    └─Conv2d: 3-4                  36,864\n",
       "│    │    └─BatchNorm2d: 3-5             128\n",
       "│    └─BasicBlock: 2-2                   --\n",
       "│    │    └─Conv2d: 3-6                  36,864\n",
       "│    │    └─BatchNorm2d: 3-7             128\n",
       "│    │    └─ReLU: 3-8                    --\n",
       "│    │    └─Conv2d: 3-9                  36,864\n",
       "│    │    └─BatchNorm2d: 3-10            128\n",
       "├─Sequential: 1-6                        --\n",
       "│    └─BasicBlock: 2-3                   --\n",
       "│    │    └─Conv2d: 3-11                 73,728\n",
       "│    │    └─BatchNorm2d: 3-12            256\n",
       "│    │    └─ReLU: 3-13                   --\n",
       "│    │    └─Conv2d: 3-14                 147,456\n",
       "│    │    └─BatchNorm2d: 3-15            256\n",
       "│    │    └─Sequential: 3-16             8,448\n",
       "│    └─BasicBlock: 2-4                   --\n",
       "│    │    └─Conv2d: 3-17                 147,456\n",
       "│    │    └─BatchNorm2d: 3-18            256\n",
       "│    │    └─ReLU: 3-19                   --\n",
       "│    │    └─Conv2d: 3-20                 147,456\n",
       "│    │    └─BatchNorm2d: 3-21            256\n",
       "├─Sequential: 1-7                        --\n",
       "│    └─BasicBlock: 2-5                   --\n",
       "│    │    └─Conv2d: 3-22                 294,912\n",
       "│    │    └─BatchNorm2d: 3-23            512\n",
       "│    │    └─ReLU: 3-24                   --\n",
       "│    │    └─Conv2d: 3-25                 589,824\n",
       "│    │    └─BatchNorm2d: 3-26            512\n",
       "│    │    └─Sequential: 3-27             33,280\n",
       "│    └─BasicBlock: 2-6                   --\n",
       "│    │    └─Conv2d: 3-28                 589,824\n",
       "│    │    └─BatchNorm2d: 3-29            512\n",
       "│    │    └─ReLU: 3-30                   --\n",
       "│    │    └─Conv2d: 3-31                 589,824\n",
       "│    │    └─BatchNorm2d: 3-32            512\n",
       "├─Sequential: 1-8                        --\n",
       "│    └─BasicBlock: 2-7                   --\n",
       "│    │    └─Conv2d: 3-33                 1,179,648\n",
       "│    │    └─BatchNorm2d: 3-34            1,024\n",
       "│    │    └─ReLU: 3-35                   --\n",
       "│    │    └─Conv2d: 3-36                 2,359,296\n",
       "│    │    └─BatchNorm2d: 3-37            1,024\n",
       "│    │    └─Sequential: 3-38             132,096\n",
       "│    └─BasicBlock: 2-8                   --\n",
       "│    │    └─Conv2d: 3-39                 2,359,296\n",
       "│    │    └─BatchNorm2d: 3-40            1,024\n",
       "│    │    └─ReLU: 3-41                   --\n",
       "│    │    └─Conv2d: 3-42                 2,359,296\n",
       "│    │    └─BatchNorm2d: 3-43            1,024\n",
       "├─AdaptiveAvgPool2d: 1-9                 --\n",
       "├─Linear: 1-10                           513,000\n",
       "=================================================================\n",
       "Total params: 11,689,512\n",
       "Trainable params: 11,689,512\n",
       "Non-trainable params: 0\n",
       "================================================================="
      ]
     },
     "execution_count": 11,
     "metadata": {},
     "output_type": "execute_result"
    }
   ],
   "source": [
    "# Set the manual seed\n",
    "torch.manual_seed(10)\n",
    "\n",
    "# Get the model\n",
    "model = resnet18(weights=ResNet18_Weights.DEFAULT).to(device)\n",
    "torchinfo.summary(model)"
   ]
  },
  {
   "cell_type": "code",
   "execution_count": 12,
   "id": "5e0f1e50",
   "metadata": {},
   "outputs": [
    {
     "data": {
      "text/plain": [
       "ResNet(\n",
       "  (conv1): Conv2d(3, 64, kernel_size=(7, 7), stride=(2, 2), padding=(3, 3), bias=False)\n",
       "  (bn1): BatchNorm2d(64, eps=1e-05, momentum=0.1, affine=True, track_running_stats=True)\n",
       "  (relu): ReLU(inplace=True)\n",
       "  (maxpool): MaxPool2d(kernel_size=3, stride=2, padding=1, dilation=1, ceil_mode=False)\n",
       "  (layer1): Sequential(\n",
       "    (0): BasicBlock(\n",
       "      (conv1): Conv2d(64, 64, kernel_size=(3, 3), stride=(1, 1), padding=(1, 1), bias=False)\n",
       "      (bn1): BatchNorm2d(64, eps=1e-05, momentum=0.1, affine=True, track_running_stats=True)\n",
       "      (relu): ReLU(inplace=True)\n",
       "      (conv2): Conv2d(64, 64, kernel_size=(3, 3), stride=(1, 1), padding=(1, 1), bias=False)\n",
       "      (bn2): BatchNorm2d(64, eps=1e-05, momentum=0.1, affine=True, track_running_stats=True)\n",
       "    )\n",
       "    (1): BasicBlock(\n",
       "      (conv1): Conv2d(64, 64, kernel_size=(3, 3), stride=(1, 1), padding=(1, 1), bias=False)\n",
       "      (bn1): BatchNorm2d(64, eps=1e-05, momentum=0.1, affine=True, track_running_stats=True)\n",
       "      (relu): ReLU(inplace=True)\n",
       "      (conv2): Conv2d(64, 64, kernel_size=(3, 3), stride=(1, 1), padding=(1, 1), bias=False)\n",
       "      (bn2): BatchNorm2d(64, eps=1e-05, momentum=0.1, affine=True, track_running_stats=True)\n",
       "    )\n",
       "  )\n",
       "  (layer2): Sequential(\n",
       "    (0): BasicBlock(\n",
       "      (conv1): Conv2d(64, 128, kernel_size=(3, 3), stride=(2, 2), padding=(1, 1), bias=False)\n",
       "      (bn1): BatchNorm2d(128, eps=1e-05, momentum=0.1, affine=True, track_running_stats=True)\n",
       "      (relu): ReLU(inplace=True)\n",
       "      (conv2): Conv2d(128, 128, kernel_size=(3, 3), stride=(1, 1), padding=(1, 1), bias=False)\n",
       "      (bn2): BatchNorm2d(128, eps=1e-05, momentum=0.1, affine=True, track_running_stats=True)\n",
       "      (downsample): Sequential(\n",
       "        (0): Conv2d(64, 128, kernel_size=(1, 1), stride=(2, 2), bias=False)\n",
       "        (1): BatchNorm2d(128, eps=1e-05, momentum=0.1, affine=True, track_running_stats=True)\n",
       "      )\n",
       "    )\n",
       "    (1): BasicBlock(\n",
       "      (conv1): Conv2d(128, 128, kernel_size=(3, 3), stride=(1, 1), padding=(1, 1), bias=False)\n",
       "      (bn1): BatchNorm2d(128, eps=1e-05, momentum=0.1, affine=True, track_running_stats=True)\n",
       "      (relu): ReLU(inplace=True)\n",
       "      (conv2): Conv2d(128, 128, kernel_size=(3, 3), stride=(1, 1), padding=(1, 1), bias=False)\n",
       "      (bn2): BatchNorm2d(128, eps=1e-05, momentum=0.1, affine=True, track_running_stats=True)\n",
       "    )\n",
       "  )\n",
       "  (layer3): Sequential(\n",
       "    (0): BasicBlock(\n",
       "      (conv1): Conv2d(128, 256, kernel_size=(3, 3), stride=(2, 2), padding=(1, 1), bias=False)\n",
       "      (bn1): BatchNorm2d(256, eps=1e-05, momentum=0.1, affine=True, track_running_stats=True)\n",
       "      (relu): ReLU(inplace=True)\n",
       "      (conv2): Conv2d(256, 256, kernel_size=(3, 3), stride=(1, 1), padding=(1, 1), bias=False)\n",
       "      (bn2): BatchNorm2d(256, eps=1e-05, momentum=0.1, affine=True, track_running_stats=True)\n",
       "      (downsample): Sequential(\n",
       "        (0): Conv2d(128, 256, kernel_size=(1, 1), stride=(2, 2), bias=False)\n",
       "        (1): BatchNorm2d(256, eps=1e-05, momentum=0.1, affine=True, track_running_stats=True)\n",
       "      )\n",
       "    )\n",
       "    (1): BasicBlock(\n",
       "      (conv1): Conv2d(256, 256, kernel_size=(3, 3), stride=(1, 1), padding=(1, 1), bias=False)\n",
       "      (bn1): BatchNorm2d(256, eps=1e-05, momentum=0.1, affine=True, track_running_stats=True)\n",
       "      (relu): ReLU(inplace=True)\n",
       "      (conv2): Conv2d(256, 256, kernel_size=(3, 3), stride=(1, 1), padding=(1, 1), bias=False)\n",
       "      (bn2): BatchNorm2d(256, eps=1e-05, momentum=0.1, affine=True, track_running_stats=True)\n",
       "    )\n",
       "  )\n",
       "  (layer4): Sequential(\n",
       "    (0): BasicBlock(\n",
       "      (conv1): Conv2d(256, 512, kernel_size=(3, 3), stride=(2, 2), padding=(1, 1), bias=False)\n",
       "      (bn1): BatchNorm2d(512, eps=1e-05, momentum=0.1, affine=True, track_running_stats=True)\n",
       "      (relu): ReLU(inplace=True)\n",
       "      (conv2): Conv2d(512, 512, kernel_size=(3, 3), stride=(1, 1), padding=(1, 1), bias=False)\n",
       "      (bn2): BatchNorm2d(512, eps=1e-05, momentum=0.1, affine=True, track_running_stats=True)\n",
       "      (downsample): Sequential(\n",
       "        (0): Conv2d(256, 512, kernel_size=(1, 1), stride=(2, 2), bias=False)\n",
       "        (1): BatchNorm2d(512, eps=1e-05, momentum=0.1, affine=True, track_running_stats=True)\n",
       "      )\n",
       "    )\n",
       "    (1): BasicBlock(\n",
       "      (conv1): Conv2d(512, 512, kernel_size=(3, 3), stride=(1, 1), padding=(1, 1), bias=False)\n",
       "      (bn1): BatchNorm2d(512, eps=1e-05, momentum=0.1, affine=True, track_running_stats=True)\n",
       "      (relu): ReLU(inplace=True)\n",
       "      (conv2): Conv2d(512, 512, kernel_size=(3, 3), stride=(1, 1), padding=(1, 1), bias=False)\n",
       "      (bn2): BatchNorm2d(512, eps=1e-05, momentum=0.1, affine=True, track_running_stats=True)\n",
       "    )\n",
       "  )\n",
       "  (avgpool): AdaptiveAvgPool2d(output_size=(1, 1))\n",
       "  (fc): Linear(in_features=512, out_features=1000, bias=True)\n",
       ")"
      ]
     },
     "execution_count": 12,
     "metadata": {},
     "output_type": "execute_result"
    }
   ],
   "source": [
    "# Look at the model from a different perspective\n",
    "model"
   ]
  },
  {
   "cell_type": "markdown",
   "id": "9c37971f",
   "metadata": {},
   "source": [
    "If we look at the last layer **fc**, we see it has **out_features=1000**. This model is currently designed to predict on 1 out of 1000 classes. However, we are using CIFAR10, which has 10 classes. We need to replace this last layer with **out_features=19**.  Let us get to that.  "
   ]
  },
  {
   "cell_type": "code",
   "execution_count": 13,
   "id": "c779d8ee",
   "metadata": {},
   "outputs": [
    {
     "data": {
      "text/plain": [
       "Linear(in_features=512, out_features=10, bias=True)"
      ]
     },
     "execution_count": 13,
     "metadata": {},
     "output_type": "execute_result"
    }
   ],
   "source": [
    "# Set the random number generator\n",
    "torch.manual_seed(10)\n",
    "\n",
    "# Replace the final layer with 10 neurons rather than 1000\n",
    "model.fc = nn.Linear(in_features=512, out_features=len(cifar10_labels))\n",
    "model.fc"
   ]
  },
  {
   "cell_type": "markdown",
   "id": "5bce809b",
   "metadata": {},
   "source": [
    "We need to extract all the layers except the last. The result from the **adaptiveAvgPool2d** will be used as our features. Setup the feature extractor \n",
    "\n",
    "### Step 5:"
   ]
  },
  {
   "cell_type": "code",
   "execution_count": 14,
   "id": "c0bacda9",
   "metadata": {},
   "outputs": [
    {
     "data": {
      "text/plain": [
       "torch.Size([1000, 512, 1, 1])"
      ]
     },
     "execution_count": 14,
     "metadata": {},
     "output_type": "execute_result"
    }
   ],
   "source": [
    "# Get the target feature information\n",
    "feature_extractor = nn.Sequential(*list(model.children())[:-1]).eval()\n",
    "\n",
    "# Extract the features for the samples in the test size \n",
    "feature_extractor(test_X.to(device)).size()"
   ]
  },
  {
   "cell_type": "markdown",
   "id": "77e04144",
   "metadata": {},
   "source": [
    "We are on our way. Let us setup the **target_feature**. This is what we would like to model to learn. This target_img if you remember from above, is the cat image that we extracted. We wish to take a sample that has a different label and ensure it is changed to a cat in the targeted case or anything else in the untargeted case.  \n",
    "\n",
    "### Step 5:"
   ]
  },
  {
   "cell_type": "code",
   "execution_count": 15,
   "id": "a15f6668",
   "metadata": {},
   "outputs": [
    {
     "data": {
      "text/plain": [
       "torch.Size([1, 512, 1, 1])"
      ]
     },
     "execution_count": 15,
     "metadata": {},
     "output_type": "execute_result"
    }
   ],
   "source": [
    "# Use the feature extractor to get the \n",
    "with torch.no_grad():\n",
    "   target_feature =  feature_extractor(target_img.unsqueeze(0))\n",
    "\n",
    "target_feature.shape"
   ]
  },
  {
   "cell_type": "code",
   "execution_count": 16,
   "id": "48a68330",
   "metadata": {},
   "outputs": [],
   "source": [
    "# Setup a function to craft the poison sample\n",
    "def craft_poison(x, epochs=10):\n",
    "    # Copy the input\n",
    "    x = x.clone().requires_grad_(True).to(device)\n",
    "\n",
    "    # Setup the optimizer\n",
    "    optimizer = torch.optim.Adam(params=[x], lr=0.01)\n",
    "    for _ in range(epochs):\n",
    "        # Extract the features\n",
    "        feat = feature_extractor(x)\n",
    "\n",
    "        # Calculate the loss\n",
    "        loss = nn.MSELoss(reduction='mean')(feat, target_feature)\n",
    "\n",
    "        # Zero out the gradients\n",
    "        optimizer.zero_grad(set_to_none=True)\n",
    "\n",
    "        # Perform backpropagation\n",
    "        loss.backward()\n",
    "\n",
    "        # Upgrade the parameters\n",
    "        optimizer.step()\n",
    "\n",
    "    return x.detach()"
   ]
  },
  {
   "cell_type": "code",
   "execution_count": 17,
   "id": "f1f13461",
   "metadata": {},
   "outputs": [
    {
     "data": {
      "text/plain": [
       "torch.Size([1, 3, 32, 32])"
      ]
     },
     "execution_count": 17,
     "metadata": {},
     "output_type": "execute_result"
    }
   ],
   "source": [
    "# Test the function\n",
    "craft_poison(target_img.unsqueeze(0)).shape"
   ]
  },
  {
   "cell_type": "code",
   "execution_count": 18,
   "id": "e5a86862",
   "metadata": {},
   "outputs": [],
   "source": [
    "# Let us now generate the poison samples\n",
    "num_poison = 10\n",
    "\n",
    "# Create a list to store the poison samples and the labels\n",
    "poisons, labels = [], []\n",
    "\n",
    "# Loop through the dataset\n",
    "for img, lbl in trainset:\n",
    "    img = img.to(device)\n",
    "\n",
    "    # Check to see if the target label equals the current label\n",
    "    if lbl != target_label:\n",
    "        poisons.append(craft_poison(img.unsqueeze(0)))\n",
    "        labels.append(lbl)\n",
    "\n",
    "        # Stop once we have 10 samples\n",
    "        if len(poisons) >= num_poison:\n",
    "            break\n",
    " \n"
   ]
  },
  {
   "cell_type": "markdown",
   "id": "ba9b890c",
   "metadata": {},
   "source": [
    "With the poison samples generated, we can now add these to the real dataset. The combined set is what we ultimately needs to be retrained. \n",
    "\n",
    "### Step 6:"
   ]
  },
  {
   "cell_type": "code",
   "execution_count": 19,
   "id": "547d2eaf",
   "metadata": {},
   "outputs": [
    {
     "name": "stdout",
     "output_type": "stream",
     "text": [
      "Poisons are on device: cuda:0\n"
     ]
    }
   ],
   "source": [
    "print(f'Poisons are on device: {poisons[0][0].device}')"
   ]
  },
  {
   "cell_type": "code",
   "execution_count": 20,
   "id": "2f7ae651",
   "metadata": {},
   "outputs": [
    {
     "name": "stdout",
     "output_type": "stream",
     "text": [
      "Poisons are on device: cpu\n"
     ]
    }
   ],
   "source": [
    "# Need to move to CPU\n",
    "poisons = [ p.detach().cpu() for p in poisons ]\n",
    "print(f'Poisons are on device: {poisons[0][0].device}')"
   ]
  },
  {
   "cell_type": "code",
   "execution_count": 21,
   "id": "e1a51689",
   "metadata": {},
   "outputs": [],
   "source": [
    "# Create a new dataset consisting of the poisoned samples and the labels\n",
    "poisoned_set = torch.utils.data.TensorDataset(torch.stack(poisons).view(-1, 3, 32, 32), torch.as_tensor(data=labels, dtype=torch.long))\n"
   ]
  },
  {
   "cell_type": "code",
   "execution_count": 22,
   "id": "2d235790",
   "metadata": {},
   "outputs": [
    {
     "data": {
      "text/plain": [
       "<torch.utils.data.dataset.ConcatDataset at 0x7f1ac41d6630>"
      ]
     },
     "execution_count": 22,
     "metadata": {},
     "output_type": "execute_result"
    }
   ],
   "source": [
    "# Combine the poisoned and clean test sets\n",
    "combined_dataset = torch.utils.data.ConcatDataset(datasets=[trainset, poisoned_set])\n",
    "combined_dataset\n"
   ]
  },
  {
   "cell_type": "code",
   "execution_count": 23,
   "id": "9152a833",
   "metadata": {},
   "outputs": [
    {
     "data": {
      "text/plain": [
       "<torch.utils.data.dataloader.DataLoader at 0x7f1ac41d6fc0>"
      ]
     },
     "execution_count": 23,
     "metadata": {},
     "output_type": "execute_result"
    }
   ],
   "source": [
    "# Create a combined dataloader\n",
    "combined_loader = DataLoader(dataset=combined_dataset, batch_size=128, shuffle=True)\n",
    "combined_loader"
   ]
  },
  {
   "cell_type": "markdown",
   "id": "8220c5b3",
   "metadata": {},
   "source": [
    "Train the model with the poisoned samples   \n",
    "\n",
    "### Step 7:  "
   ]
  },
  {
   "cell_type": "code",
   "execution_count": 24,
   "id": "9bce5961",
   "metadata": {},
   "outputs": [
    {
     "name": "stdout",
     "output_type": "stream",
     "text": [
      "Epoch: 1/5 \t loss: 0.43311601877212524 accuracy: 0.692001599680064\n",
      "Epoch: 2/5 \t loss: 0.5319746732711792 accuracy: 0.8155168966206758\n",
      "Epoch: 3/5 \t loss: 0.40483447909355164 accuracy: 0.861867626474705\n",
      "Epoch: 4/5 \t loss: 0.3597482442855835 accuracy: 0.8919416116776645\n",
      "Epoch: 5/5 \t loss: 0.31106406450271606 accuracy: 0.9148970205958808\n"
     ]
    }
   ],
   "source": [
    "# Setup the optimizer\n",
    "optimizer = optim.SGD(params=model.parameters(), lr=0.01, momentum=0.9)\n",
    "model = model.to(device)\n",
    "\n",
    "# We will keep this simple and go for 5 epochs\n",
    "epochs = 5\n",
    "\n",
    "for epoch in range(epochs):\n",
    "    model.train()\n",
    "    total, correct = 0, 0 \n",
    "\n",
    "    # Lop through the combined dataset\n",
    "    for X, y in combined_loader:\n",
    "        X, y = X.to(device), y.to(device)\n",
    "\n",
    "        # Make the forward pass\n",
    "        preds = model(X)\n",
    "\n",
    "        # Compute the loss\n",
    "        loss = nn.CrossEntropyLoss()(preds, y)\n",
    "\n",
    "        # Clear out any existing gradients\n",
    "        optimizer.zero_grad()\n",
    "\n",
    "        # Perform backpropagation \n",
    "        loss.backward()\n",
    "\n",
    "        # Update the parameters\n",
    "        optimizer.step()\n",
    "        \n",
    "        # Calculate the accuracy\n",
    "        total += y.size(0)\n",
    "        correct += preds.argmax(1).eq(y).sum().item()\n",
    "\n",
    "    print(f'Epoch: {epoch+1}/{epochs} \\t loss: {loss} accuracy: {correct/total}')"
   ]
  },
  {
   "cell_type": "markdown",
   "id": "f68e5ec3",
   "metadata": {},
   "source": [
    "How does the model perform on the clean test set. To answer that question, let us get the accuracy on the clean test_X   \n",
    "\n",
    "### Step 8: "
   ]
  },
  {
   "cell_type": "code",
   "execution_count": 25,
   "id": "7a50232a",
   "metadata": {},
   "outputs": [
    {
     "data": {
      "text/plain": [
       "'Clean accuracy: 0.8200'"
      ]
     },
     "execution_count": 25,
     "metadata": {},
     "output_type": "execute_result"
    }
   ],
   "source": [
    "# Get the clean model accuracy on the test set\n",
    "model.eval()\n",
    "f'Clean accuracy: {sum(model(test_X.to(device)).detach().cpu().argmax(-1) == test_y)/test_y.shape[0]:.4f}'"
   ]
  },
  {
   "cell_type": "code",
   "execution_count": 26,
   "id": "2c53dc99",
   "metadata": {},
   "outputs": [
    {
     "data": {
      "text/plain": [
       "(torch.Size([1, 3, 32, 32]), tensor(8))"
      ]
     },
     "execution_count": 26,
     "metadata": {},
     "output_type": "execute_result"
    }
   ],
   "source": [
    "# Get one sample \n",
    "X, y = test_X[1].unsqueeze(0), test_y[1]\n",
    "\n",
    "X.shape, y"
   ]
  },
  {
   "cell_type": "code",
   "execution_count": 27,
   "id": "d93da404",
   "metadata": {},
   "outputs": [
    {
     "name": "stdout",
     "output_type": "stream",
     "text": [
      "Original value is: **8** -> Predicted label is: **8**\n"
     ]
    }
   ],
   "source": [
    "# Put the model in eval mode\n",
    "model.eval()\n",
    "\n",
    "# add a minimal trigger of 1 to the target_img\n",
    "minimal_trigger = 1.\n",
    "\n",
    "# You can play around with 1. to other values to see the effect\n",
    "patch = (target_img * minimal_trigger) \n",
    "\n",
    "# Create the adversarial sample\n",
    "# Clip the values between 0 and 1\n",
    "adv_sample = torch.clamp(X + patch.detach().cpu(), min=0, max=1).to(device)\n",
    "\n",
    "# Pass the adversarial samples through the model\n",
    "adv_out = model(adv_sample).detach().argmax(-1).item()\n",
    "\n",
    "print(f'Original value is: **{y}** -> Predicted label is: **{adv_out}**')"
   ]
  },
  {
   "cell_type": "markdown",
   "id": "fdf4edb0",
   "metadata": {},
   "source": [
    "In this multiclass case, we did not get to change the label to our target 3. However, I am sure playing around with the hyperparameters would get us there. If this was a binary classification problem, I am sure this would be a success."
   ]
  },
  {
   "cell_type": "code",
   "execution_count": 28,
   "id": "643c5593",
   "metadata": {},
   "outputs": [
    {
     "name": "stdout",
     "output_type": "stream",
     "text": [
      "Cleaning cuda cache\n"
     ]
    }
   ],
   "source": [
    "# With the training finish clear the GPU cache\n",
    "# Setup the device to work with\n",
    "if torch.cuda.is_available():\n",
    "    # For CUDA GPU\n",
    "    print(f'Cleaning {device} cache')\n",
    "    torch.cuda.empty_cache()\n",
    "elif torch.backends.mps.is_available():\n",
    "    # For Apple devices\n",
    "    print(f'Cleaning {device} cache')\n",
    "    torch.mps.empty_cache()\n",
    "else:\n",
    "    # Default to cpu\n",
    "    pass"
   ]
  },
  {
   "cell_type": "markdown",
   "id": "c376647d",
   "metadata": {},
   "source": [
    "Visualizing the result   \n",
    "\n",
    "### Step 9:  "
   ]
  },
  {
   "cell_type": "code",
   "execution_count": 29,
   "id": "897d25db",
   "metadata": {},
   "outputs": [
    {
     "data": {
      "text/plain": [
       "<Figure size 1500x500 with 0 Axes>"
      ]
     },
     "metadata": {},
     "output_type": "display_data"
    },
    {
     "data": {
      "image/png": "[encoded data removed]",
      "text/plain": [
       "<Figure size 1500x500 with 5 Axes>"
      ]
     },
     "metadata": {},
     "output_type": "display_data"
    }
   ],
   "source": [
    "# Visualize, Visualize, Visualize\n",
    "plt.figure(figsize=(15, 5))\n",
    "\n",
    "# With everything in place, let's visualize \n",
    "plt.figure(figsize=(15, 5))\n",
    "plt.subplot(1,5,1)\n",
    "plt.title(label=f'Original: {y} : {cifar10_labels[y]}')\n",
    "plt.imshow(X=X.detach().cpu().squeeze(0).permute(1,2,0))\n",
    "plt.axis('off')\n",
    "\n",
    "plt.subplot(1, 5, 2)\n",
    "plt.plot([5], marker='+', markersize=50, mew=20)\n",
    "plt.axis('off')\n",
    "\n",
    "plt.subplot(1, 5, 3)\n",
    "plt.title(label=f'Perturbation ')\n",
    "plt.imshow(X=(adv_sample.detach().cpu() - X).squeeze(0).permute(1,2,0)  )\n",
    "plt.axis('off')\n",
    "\n",
    "plt.subplot(1, 5, 4)\n",
    "plt.plot([5], marker='>', markersize=50, mew=20)\n",
    "plt.axis('off')\n",
    "\n",
    "plt.subplot(1, 5, 5)\n",
    "plt.title(label=f'Adversarial: {adv_out} : {cifar10_labels[adv_out]}')\n",
    "plt.imshow(X=adv_sample.detach().cpu().squeeze(0).permute(1,2,0))\n",
    "plt.axis('off')\n",
    "\n",
    "plt.show()"
   ]
  },
  {
   "cell_type": "markdown",
   "id": "b88d837f",
   "metadata": {},
   "source": [
    "### Lab Takeaways:  \n",
    "- We got a solid understanding of the clean label attack  \n",
    "- We built a simplified version of the clean label attack  \n",
    "- We leveraged transfer learning to build our model rather than starting from scratch\n",
    "- This concept of transfer learning will be used again, when building our malware detection tool"
   ]
  },
  {
   "cell_type": "code",
   "execution_count": null,
   "id": "7dff53c5",
   "metadata": {},
   "outputs": [],
   "source": []
  }
 ],
 "metadata": {
  "kernelspec": {
   "display_name": "adversarial_ai",
   "language": "python",
   "name": "python3"
  },
  "language_info": {
   "codemirror_mode": {
    "name": "ipython",
    "version": 3
   },
   "file_extension": ".py",
   "mimetype": "text/x-python",
   "name": "python",
   "nbconvert_exporter": "python",
   "pygments_lexer": "ipython3",
   "version": "3.12.11"
  }
 },
 "nbformat": 4,
 "nbformat_minor": 5
}
