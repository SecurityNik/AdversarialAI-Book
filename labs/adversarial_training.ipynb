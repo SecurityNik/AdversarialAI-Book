{
 "cells": [
  {
   "cell_type": "markdown",
   "id": "2135ceab",
   "metadata": {},
   "source": [
    "<img style=\"max-width:20em; height:auto;\" src=\"../graphics/A-Little-Book-on-Adversarial-AI-Cover.png\"/>"
   ]
  },
  {
   "cell_type": "markdown",
   "id": "1a52d40f",
   "metadata": {},
   "source": [
    "Author: Nik Alleyne   \n",
    "Author Blog: https://www.securitynik.com   \n",
    "Author GitHub: github.com/securitynik   \n",
    "\n",
    "Author Other Books: [   \n",
    "\n",
    "            \"https://www.amazon.ca/Learning-Practicing-Leveraging-Practical-Detection/dp/1731254458/\",   \n",
    "            \n",
    "            \"https://www.amazon.ca/Learning-Practicing-Mastering-Network-Forensics/dp/1775383024/\"   \n",
    "        ]   \n",
    "\n",
    "\n",
    "This notebook ***(adversarial_training.ipynb)*** is part of the series of notebooks From ***A Little Book on Adversarial AI***  A free ebook released by Nik Alleyne"
   ]
  },
  {
   "cell_type": "markdown",
   "id": "f71be4c8",
   "metadata": {},
   "source": [
    "### Adversarial Training"
   ]
  },
  {
   "cell_type": "markdown",
   "id": "22472d80",
   "metadata": {},
   "source": [
    "### Lab Objectives:   \n",
    "- Learn how to perform adversarial training  \n",
    "- Aim to make our models more robust   \n",
    "- See how adversarial examples can be used as part of the normal training process to attempt to improve a model's robustness  \n",
    "\n",
    "\n",
    "### Step 1:   "
   ]
  },
  {
   "cell_type": "code",
   "execution_count": 1,
   "id": "d739fb07",
   "metadata": {},
   "outputs": [],
   "source": [
    "# Import the libraries\n",
    "import torch\n",
    "import torch.nn as nn\n",
    "import torch.nn.functional as F\n",
    "import tqdm\n",
    "import matplotlib.pyplot as plt\n",
    "import numpy as np\n",
    "from sklearn.model_selection import train_test_split\n",
    "from torch.utils.data import Dataset, DataLoader\n",
    "import netron\n",
    "import IPython\n",
    "from tqdm import tqdm_notebook, tqdm"
   ]
  },
  {
   "cell_type": "code",
   "execution_count": 2,
   "id": "f5640673",
   "metadata": {},
   "outputs": [
    {
     "name": "stdout",
     "output_type": "stream",
     "text": [
      "Torch version used:  2.7.1+cu128\n",
      "Numpy version used:  2.1.3\n",
      "Netron version used:  8.4.4\n"
     ]
    }
   ],
   "source": [
    "### Version of key libraries used  \n",
    "print(f'Torch version used:  {torch.__version__}')\n",
    "print(f'Numpy version used:  {np.__version__}')\n",
    "print(f'Netron version used:  {netron.__version__}')\n"
   ]
  },
  {
   "cell_type": "code",
   "execution_count": 3,
   "id": "180b08bd",
   "metadata": {},
   "outputs": [
    {
     "name": "stdout",
     "output_type": "stream",
     "text": [
      "Setting the device to cuda\n"
     ]
    }
   ],
   "source": [
    "# Setup the device to work with\n",
    "# This should ensure if there are accelerators in place, such as Apple backend or CUDA, \n",
    "# we should be able to take advantage of it.\n",
    "\n",
    "if torch.cuda.is_available():\n",
    "    print('Setting the device to cuda')\n",
    "    device = 'cuda'\n",
    "elif torch.backends.mps.is_available():\n",
    "    print('Setting the device to Apple mps')\n",
    "    device = 'mps'\n",
    "else:\n",
    "    print('Setting the device to CPU')\n",
    "    device = torch.device('cpu')"
   ]
  },
  {
   "cell_type": "code",
   "execution_count": 4,
   "id": "d5563905",
   "metadata": {},
   "outputs": [
    {
     "name": "stdout",
     "output_type": "stream",
     "text": [
      "The files are: ['X', 'y']\n"
     ]
    },
    {
     "data": {
      "text/plain": [
       "((134435, 2381), (134435,))"
      ]
     },
     "execution_count": 4,
     "metadata": {},
     "output_type": "execute_result"
    }
   ],
   "source": [
    "# Load the file with the features and labels\n",
    "data = np.load(file=r'../data/bodmas.npz', allow_pickle=False)\n",
    "print(f'The files are: {data.files}')\n",
    "\n",
    "# Extract only the features of the malware\n",
    "malware_features = data['X'] \n",
    "\n",
    "# Get the labels \n",
    "malware_labels = data['y']\n",
    "\n",
    "# Get the shape of the dataset\n",
    "malware_features.shape, malware_labels.shape"
   ]
  },
  {
   "cell_type": "markdown",
   "id": "387dff23",
   "metadata": {},
   "source": [
    "With a shape of 2381 columns, from a linear layer perspective, we should have no concerns if building a neural network. Then again, Gradient Boosting has also been used to solve this problem with malware classification: https://whyisyoung.github.io/BODMAS/.   \n",
    "\n",
    "We will use a neural network instead.  "
   ]
  },
  {
   "cell_type": "code",
   "execution_count": 5,
   "id": "723b9d04",
   "metadata": {},
   "outputs": [
    {
     "name": "stdout",
     "output_type": "stream",
     "text": [
      "Max value: 4294967296.0\n",
      "Min value: -654044672.0\n",
      "Mean value: 573773.4375\n",
      "Std value: 29769684.0\n"
     ]
    }
   ],
   "source": [
    "# Get some statistics on the raw dataset\n",
    "# Below results show that this dataset should be scaled\n",
    "# For scaling we will use Standardization\n",
    "\n",
    "print(f'Max value: {malware_features.max().item()}')\n",
    "print(f'Min value: {malware_features.min().item()}')\n",
    "print(f'Mean value: {malware_features.mean()}')\n",
    "print(f'Std value: {malware_features.std()}')"
   ]
  },
  {
   "cell_type": "markdown",
   "id": "0232e4b3",
   "metadata": {},
   "source": [
    "### Step 2:  \n",
    "Shuffle the data and visualize the data   "
   ]
  },
  {
   "cell_type": "code",
   "execution_count": 6,
   "id": "867a8922",
   "metadata": {},
   "outputs": [
    {
     "name": "stdout",
     "output_type": "stream",
     "text": [
      "First 20 labels are: [1 0 0 1 0 1 1 0 0 0 0 0 0 0 1 1 1 1 1 0]\n",
      "last 20 labels are: [0 1 1 0 1 0 0 0 1 0 0 1 1 0 0 1 0 1 1 0]\n"
     ]
    }
   ],
   "source": [
    "# Set the random seed to ensure reproducibility\n",
    "np.random.seed(1)\n",
    "\n",
    "# Create some indexes to shuffle the data\n",
    "shuffle_idx = np.random.randint(low=0, high=len(malware_labels), size=len(malware_labels))\n",
    "\n",
    "malware_features = malware_features[shuffle_idx]\n",
    "malware_labels = malware_labels[shuffle_idx]\n",
    "\n",
    "# Get a print again to see the effect of the change\n",
    "print(f'First 20 labels are: {malware_labels[:20]}')\n",
    "print(f'last 20 labels are: {malware_labels[-20:]}')"
   ]
  },
  {
   "cell_type": "code",
   "execution_count": 7,
   "id": "cb09ccd9",
   "metadata": {},
   "outputs": [
    {
     "data": {
      "text/plain": [
       "((114269, 2381), (20166, 2381), (114269,), (20166,))"
      ]
     },
     "execution_count": 7,
     "metadata": {},
     "output_type": "execute_result"
    }
   ],
   "source": [
    "# Split the data into 80% training and 20% testing\n",
    "X_train, X_test, y_train, y_test = train_test_split(malware_features, malware_labels, train_size=.85, test_size=.15, random_state=10, shuffle=True)\n",
    "\n",
    "# Get the shapes of the various sets\n",
    "X_train.shape, X_test.shape, y_train.shape, y_test.shape"
   ]
  },
  {
   "cell_type": "code",
   "execution_count": 8,
   "id": "39414372",
   "metadata": {},
   "outputs": [],
   "source": [
    "# Preparing to Standardize and scale\n",
    "from sklearn.preprocessing import StandardScaler\n",
    "from sklearn.decomposition import PCA"
   ]
  },
  {
   "cell_type": "code",
   "execution_count": 9,
   "metadata": {},
   "outputs": [],
   "source": [
    "# Before using PCA, we need to scale the data\n",
    "std_scaler = StandardScaler(with_mean=True, with_std=True, copy=True)\n",
    "X_train_scaled = std_scaler.fit_transform(X_train)"
   ]
  },
  {
   "cell_type": "code",
   "execution_count": 10,
   "id": "b62ed19b",
   "metadata": {},
   "outputs": [
    {
     "name": "stdout",
     "output_type": "stream",
     "text": [
      "Max value: 338.0354919433594\n",
      "Min value: -338.0354919433594\n",
      "Mean value: 8.535852580315861e-11\n",
      "Std value: 0.9888073205947876\n"
     ]
    }
   ],
   "source": [
    "# Get the new stats\n",
    "print(f'Max value: {X_train_scaled.max().item()}')\n",
    "print(f'Min value: {X_train_scaled.min().item()}')\n",
    "print(f'Mean value: {X_train_scaled.mean()}')\n",
    "print(f'Std value: {X_train_scaled.std()}')"
   ]
  },
  {
   "cell_type": "markdown",
   "id": "2c5e5f5e",
   "metadata": {},
   "source": [
    "Our dataset is not squared. Worse it, the number of features is 2381. With this being a prime number, we would not be able to get this into a shape that works best with our convolutional neural network. To address that shortcoming, let us use PCA and reduce the dimensions to 1024. THis is a number we can easily work with to reshape.  \n",
    "\n",
    "### Step 3:  "
   ]
  },
  {
   "cell_type": "code",
   "execution_count": 11,
   "metadata": {},
   "outputs": [
    {
     "data": {
      "text/html": [
       "<style>#sk-container-id-1 {\n",
       "  /* Definition of color scheme common for light and dark mode */\n",
       "  --sklearn-color-text: #000;\n",
       "  --sklearn-color-text-muted: #666;\n",
       "  --sklearn-color-line: gray;\n",
       "  /* Definition of color scheme for unfitted estimators */\n",
       "  --sklearn-color-unfitted-level-0: #fff5e6;\n",
       "  --sklearn-color-unfitted-level-1: #f6e4d2;\n",
       "  --sklearn-color-unfitted-level-2: #ffe0b3;\n",
       "  --sklearn-color-unfitted-level-3: chocolate;\n",
       "  /* Definition of color scheme for fitted estimators */\n",
       "  --sklearn-color-fitted-level-0: #f0f8ff;\n",
       "  --sklearn-color-fitted-level-1: #d4ebff;\n",
       "  --sklearn-color-fitted-level-2: #b3dbfd;\n",
       "  --sklearn-color-fitted-level-3: cornflowerblue;\n",
       "\n",
       "  /* Specific color for light theme */\n",
       "  --sklearn-color-text-on-default-background: var(--sg-text-color, var(--theme-code-foreground, var(--jp-content-font-color1, black)));\n",
       "  --sklearn-color-background: var(--sg-background-color, var(--theme-background, var(--jp-layout-color0, white)));\n",
       "  --sklearn-color-border-box: var(--sg-text-color, var(--theme-code-foreground, var(--jp-content-font-color1, black)));\n",
       "  --sklearn-color-icon: #696969;\n",
       "\n",
       "  @media (prefers-color-scheme: dark) {\n",
       "    /* Redefinition of color scheme for dark theme */\n",
       "    --sklearn-color-text-on-default-background: var(--sg-text-color, var(--theme-code-foreground, var(--jp-content-font-color1, white)));\n",
       "    --sklearn-color-background: var(--sg-background-color, var(--theme-background, var(--jp-layout-color0, #111)));\n",
       "    --sklearn-color-border-box: var(--sg-text-color, var(--theme-code-foreground, var(--jp-content-font-color1, white)));\n",
       "    --sklearn-color-icon: #878787;\n",
       "  }\n",
       "}\n",
       "\n",
       "#sk-container-id-1 {\n",
       "  color: var(--sklearn-color-text);\n",
       "}\n",
       "\n",
       "#sk-container-id-1 pre {\n",
       "  padding: 0;\n",
       "}\n",
       "\n",
       "#sk-container-id-1 input.sk-hidden--visually {\n",
       "  border: 0;\n",
       "  clip: rect(1px 1px 1px 1px);\n",
       "  clip: rect(1px, 1px, 1px, 1px);\n",
       "  height: 1px;\n",
       "  margin: -1px;\n",
       "  overflow: hidden;\n",
       "  padding: 0;\n",
       "  position: absolute;\n",
       "  width: 1px;\n",
       "}\n",
       "\n",
       "#sk-container-id-1 div.sk-dashed-wrapped {\n",
       "  border: 1px dashed var(--sklearn-color-line);\n",
       "  margin: 0 0.4em 0.5em 0.4em;\n",
       "  box-sizing: border-box;\n",
       "  padding-bottom: 0.4em;\n",
       "  background-color: var(--sklearn-color-background);\n",
       "}\n",
       "\n",
       "#sk-container-id-1 div.sk-container {\n",
       "  /* jupyter's `normalize.less` sets `[hidden] { display: none; }`\n",
       "     but bootstrap.min.css set `[hidden] { display: none !important; }`\n",
       "     so we also need the `!important` here to be able to override the\n",
       "     default hidden behavior on the sphinx rendered scikit-learn.org.\n",
       "     See: https://github.com/scikit-learn/scikit-learn/issues/21755 */\n",
       "  display: inline-block !important;\n",
       "  position: relative;\n",
       "}\n",
       "\n",
       "#sk-container-id-1 div.sk-text-repr-fallback {\n",
       "  display: none;\n",
       "}\n",
       "\n",
       "div.sk-parallel-item,\n",
       "div.sk-serial,\n",
       "div.sk-item {\n",
       "  /* draw centered vertical line to link estimators */\n",
       "  background-image: linear-gradient(var(--sklearn-color-text-on-default-background), var(--sklearn-color-text-on-default-background));\n",
       "  background-size: 2px 100%;\n",
       "  background-repeat: no-repeat;\n",
       "  background-position: center center;\n",
       "}\n",
       "\n",
       "/* Parallel-specific style estimator block */\n",
       "\n",
       "#sk-container-id-1 div.sk-parallel-item::after {\n",
       "  content: \"\";\n",
       "  width: 100%;\n",
       "  border-bottom: 2px solid var(--sklearn-color-text-on-default-background);\n",
       "  flex-grow: 1;\n",
       "}\n",
       "\n",
       "#sk-container-id-1 div.sk-parallel {\n",
       "  display: flex;\n",
       "  align-items: stretch;\n",
       "  justify-content: center;\n",
       "  background-color: var(--sklearn-color-background);\n",
       "  position: relative;\n",
       "}\n",
       "\n",
       "#sk-container-id-1 div.sk-parallel-item {\n",
       "  display: flex;\n",
       "  flex-direction: column;\n",
       "}\n",
       "\n",
       "#sk-container-id-1 div.sk-parallel-item:first-child::after {\n",
       "  align-self: flex-end;\n",
       "  width: 50%;\n",
       "}\n",
       "\n",
       "#sk-container-id-1 div.sk-parallel-item:last-child::after {\n",
       "  align-self: flex-start;\n",
       "  width: 50%;\n",
       "}\n",
       "\n",
       "#sk-container-id-1 div.sk-parallel-item:only-child::after {\n",
       "  width: 0;\n",
       "}\n",
       "\n",
       "/* Serial-specific style estimator block */\n",
       "\n",
       "#sk-container-id-1 div.sk-serial {\n",
       "  display: flex;\n",
       "  flex-direction: column;\n",
       "  align-items: center;\n",
       "  background-color: var(--sklearn-color-background);\n",
       "  padding-right: 1em;\n",
       "  padding-left: 1em;\n",
       "}\n",
       "\n",
       "\n",
       "/* Toggleable style: style used for estimator/Pipeline/ColumnTransformer box that is\n",
       "clickable and can be expanded/collapsed.\n",
       "- Pipeline and ColumnTransformer use this feature and define the default style\n",
       "- Estimators will overwrite some part of the style using the `sk-estimator` class\n",
       "*/\n",
       "\n",
       "/* Pipeline and ColumnTransformer style (default) */\n",
       "\n",
       "#sk-container-id-1 div.sk-toggleable {\n",
       "  /* Default theme specific background. It is overwritten whether we have a\n",
       "  specific estimator or a Pipeline/ColumnTransformer */\n",
       "  background-color: var(--sklearn-color-background);\n",
       "}\n",
       "\n",
       "/* Toggleable label */\n",
       "#sk-container-id-1 label.sk-toggleable__label {\n",
       "  cursor: pointer;\n",
       "  display: flex;\n",
       "  width: 100%;\n",
       "  margin-bottom: 0;\n",
       "  padding: 0.5em;\n",
       "  box-sizing: border-box;\n",
       "  text-align: center;\n",
       "  align-items: start;\n",
       "  justify-content: space-between;\n",
       "  gap: 0.5em;\n",
       "}\n",
       "\n",
       "#sk-container-id-1 label.sk-toggleable__label .caption {\n",
       "  font-size: 0.6rem;\n",
       "  font-weight: lighter;\n",
       "  color: var(--sklearn-color-text-muted);\n",
       "}\n",
       "\n",
       "#sk-container-id-1 label.sk-toggleable__label-arrow:before {\n",
       "  /* Arrow on the left of the label */\n",
       "  content: \"▸\";\n",
       "  float: left;\n",
       "  margin-right: 0.25em;\n",
       "  color: var(--sklearn-color-icon);\n",
       "}\n",
       "\n",
       "#sk-container-id-1 label.sk-toggleable__label-arrow:hover:before {\n",
       "  color: var(--sklearn-color-text);\n",
       "}\n",
       "\n",
       "/* Toggleable content - dropdown */\n",
       "\n",
       "#sk-container-id-1 div.sk-toggleable__content {\n",
       "  display: none;\n",
       "  text-align: left;\n",
       "  /* unfitted */\n",
       "  background-color: var(--sklearn-color-unfitted-level-0);\n",
       "}\n",
       "\n",
       "#sk-container-id-1 div.sk-toggleable__content.fitted {\n",
       "  /* fitted */\n",
       "  background-color: var(--sklearn-color-fitted-level-0);\n",
       "}\n",
       "\n",
       "#sk-container-id-1 div.sk-toggleable__content pre {\n",
       "  margin: 0.2em;\n",
       "  border-radius: 0.25em;\n",
       "  color: var(--sklearn-color-text);\n",
       "  /* unfitted */\n",
       "  background-color: var(--sklearn-color-unfitted-level-0);\n",
       "}\n",
       "\n",
       "#sk-container-id-1 div.sk-toggleable__content.fitted pre {\n",
       "  /* unfitted */\n",
       "  background-color: var(--sklearn-color-fitted-level-0);\n",
       "}\n",
       "\n",
       "#sk-container-id-1 input.sk-toggleable__control:checked~div.sk-toggleable__content {\n",
       "  /* Expand drop-down */\n",
       "  display: block;\n",
       "  width: 100%;\n",
       "  overflow: visible;\n",
       "}\n",
       "\n",
       "#sk-container-id-1 input.sk-toggleable__control:checked~label.sk-toggleable__label-arrow:before {\n",
       "  content: \"▾\";\n",
       "}\n",
       "\n",
       "/* Pipeline/ColumnTransformer-specific style */\n",
       "\n",
       "#sk-container-id-1 div.sk-label input.sk-toggleable__control:checked~label.sk-toggleable__label {\n",
       "  color: var(--sklearn-color-text);\n",
       "  background-color: var(--sklearn-color-unfitted-level-2);\n",
       "}\n",
       "\n",
       "#sk-container-id-1 div.sk-label.fitted input.sk-toggleable__control:checked~label.sk-toggleable__label {\n",
       "  background-color: var(--sklearn-color-fitted-level-2);\n",
       "}\n",
       "\n",
       "/* Estimator-specific style */\n",
       "\n",
       "/* Colorize estimator box */\n",
       "#sk-container-id-1 div.sk-estimator input.sk-toggleable__control:checked~label.sk-toggleable__label {\n",
       "  /* unfitted */\n",
       "  background-color: var(--sklearn-color-unfitted-level-2);\n",
       "}\n",
       "\n",
       "#sk-container-id-1 div.sk-estimator.fitted input.sk-toggleable__control:checked~label.sk-toggleable__label {\n",
       "  /* fitted */\n",
       "  background-color: var(--sklearn-color-fitted-level-2);\n",
       "}\n",
       "\n",
       "#sk-container-id-1 div.sk-label label.sk-toggleable__label,\n",
       "#sk-container-id-1 div.sk-label label {\n",
       "  /* The background is the default theme color */\n",
       "  color: var(--sklearn-color-text-on-default-background);\n",
       "}\n",
       "\n",
       "/* On hover, darken the color of the background */\n",
       "#sk-container-id-1 div.sk-label:hover label.sk-toggleable__label {\n",
       "  color: var(--sklearn-color-text);\n",
       "  background-color: var(--sklearn-color-unfitted-level-2);\n",
       "}\n",
       "\n",
       "/* Label box, darken color on hover, fitted */\n",
       "#sk-container-id-1 div.sk-label.fitted:hover label.sk-toggleable__label.fitted {\n",
       "  color: var(--sklearn-color-text);\n",
       "  background-color: var(--sklearn-color-fitted-level-2);\n",
       "}\n",
       "\n",
       "/* Estimator label */\n",
       "\n",
       "#sk-container-id-1 div.sk-label label {\n",
       "  font-family: monospace;\n",
       "  font-weight: bold;\n",
       "  display: inline-block;\n",
       "  line-height: 1.2em;\n",
       "}\n",
       "\n",
       "#sk-container-id-1 div.sk-label-container {\n",
       "  text-align: center;\n",
       "}\n",
       "\n",
       "/* Estimator-specific */\n",
       "#sk-container-id-1 div.sk-estimator {\n",
       "  font-family: monospace;\n",
       "  border: 1px dotted var(--sklearn-color-border-box);\n",
       "  border-radius: 0.25em;\n",
       "  box-sizing: border-box;\n",
       "  margin-bottom: 0.5em;\n",
       "  /* unfitted */\n",
       "  background-color: var(--sklearn-color-unfitted-level-0);\n",
       "}\n",
       "\n",
       "#sk-container-id-1 div.sk-estimator.fitted {\n",
       "  /* fitted */\n",
       "  background-color: var(--sklearn-color-fitted-level-0);\n",
       "}\n",
       "\n",
       "/* on hover */\n",
       "#sk-container-id-1 div.sk-estimator:hover {\n",
       "  /* unfitted */\n",
       "  background-color: var(--sklearn-color-unfitted-level-2);\n",
       "}\n",
       "\n",
       "#sk-container-id-1 div.sk-estimator.fitted:hover {\n",
       "  /* fitted */\n",
       "  background-color: var(--sklearn-color-fitted-level-2);\n",
       "}\n",
       "\n",
       "/* Specification for estimator info (e.g. \"i\" and \"?\") */\n",
       "\n",
       "/* Common style for \"i\" and \"?\" */\n",
       "\n",
       ".sk-estimator-doc-link,\n",
       "a:link.sk-estimator-doc-link,\n",
       "a:visited.sk-estimator-doc-link {\n",
       "  float: right;\n",
       "  font-size: smaller;\n",
       "  line-height: 1em;\n",
       "  font-family: monospace;\n",
       "  background-color: var(--sklearn-color-background);\n",
       "  border-radius: 1em;\n",
       "  height: 1em;\n",
       "  width: 1em;\n",
       "  text-decoration: none !important;\n",
       "  margin-left: 0.5em;\n",
       "  text-align: center;\n",
       "  /* unfitted */\n",
       "  border: var(--sklearn-color-unfitted-level-1) 1pt solid;\n",
       "  color: var(--sklearn-color-unfitted-level-1);\n",
       "}\n",
       "\n",
       ".sk-estimator-doc-link.fitted,\n",
       "a:link.sk-estimator-doc-link.fitted,\n",
       "a:visited.sk-estimator-doc-link.fitted {\n",
       "  /* fitted */\n",
       "  border: var(--sklearn-color-fitted-level-1) 1pt solid;\n",
       "  color: var(--sklearn-color-fitted-level-1);\n",
       "}\n",
       "\n",
       "/* On hover */\n",
       "div.sk-estimator:hover .sk-estimator-doc-link:hover,\n",
       ".sk-estimator-doc-link:hover,\n",
       "div.sk-label-container:hover .sk-estimator-doc-link:hover,\n",
       ".sk-estimator-doc-link:hover {\n",
       "  /* unfitted */\n",
       "  background-color: var(--sklearn-color-unfitted-level-3);\n",
       "  color: var(--sklearn-color-background);\n",
       "  text-decoration: none;\n",
       "}\n",
       "\n",
       "div.sk-estimator.fitted:hover .sk-estimator-doc-link.fitted:hover,\n",
       ".sk-estimator-doc-link.fitted:hover,\n",
       "div.sk-label-container:hover .sk-estimator-doc-link.fitted:hover,\n",
       ".sk-estimator-doc-link.fitted:hover {\n",
       "  /* fitted */\n",
       "  background-color: var(--sklearn-color-fitted-level-3);\n",
       "  color: var(--sklearn-color-background);\n",
       "  text-decoration: none;\n",
       "}\n",
       "\n",
       "/* Span, style for the box shown on hovering the info icon */\n",
       ".sk-estimator-doc-link span {\n",
       "  display: none;\n",
       "  z-index: 9999;\n",
       "  position: relative;\n",
       "  font-weight: normal;\n",
       "  right: .2ex;\n",
       "  padding: .5ex;\n",
       "  margin: .5ex;\n",
       "  width: min-content;\n",
       "  min-width: 20ex;\n",
       "  max-width: 50ex;\n",
       "  color: var(--sklearn-color-text);\n",
       "  box-shadow: 2pt 2pt 4pt #999;\n",
       "  /* unfitted */\n",
       "  background: var(--sklearn-color-unfitted-level-0);\n",
       "  border: .5pt solid var(--sklearn-color-unfitted-level-3);\n",
       "}\n",
       "\n",
       ".sk-estimator-doc-link.fitted span {\n",
       "  /* fitted */\n",
       "  background: var(--sklearn-color-fitted-level-0);\n",
       "  border: var(--sklearn-color-fitted-level-3);\n",
       "}\n",
       "\n",
       ".sk-estimator-doc-link:hover span {\n",
       "  display: block;\n",
       "}\n",
       "\n",
       "/* \"?\"-specific style due to the `<a>` HTML tag */\n",
       "\n",
       "#sk-container-id-1 a.estimator_doc_link {\n",
       "  float: right;\n",
       "  font-size: 1rem;\n",
       "  line-height: 1em;\n",
       "  font-family: monospace;\n",
       "  background-color: var(--sklearn-color-background);\n",
       "  border-radius: 1rem;\n",
       "  height: 1rem;\n",
       "  width: 1rem;\n",
       "  text-decoration: none;\n",
       "  /* unfitted */\n",
       "  color: var(--sklearn-color-unfitted-level-1);\n",
       "  border: var(--sklearn-color-unfitted-level-1) 1pt solid;\n",
       "}\n",
       "\n",
       "#sk-container-id-1 a.estimator_doc_link.fitted {\n",
       "  /* fitted */\n",
       "  border: var(--sklearn-color-fitted-level-1) 1pt solid;\n",
       "  color: var(--sklearn-color-fitted-level-1);\n",
       "}\n",
       "\n",
       "/* On hover */\n",
       "#sk-container-id-1 a.estimator_doc_link:hover {\n",
       "  /* unfitted */\n",
       "  background-color: var(--sklearn-color-unfitted-level-3);\n",
       "  color: var(--sklearn-color-background);\n",
       "  text-decoration: none;\n",
       "}\n",
       "\n",
       "#sk-container-id-1 a.estimator_doc_link.fitted:hover {\n",
       "  /* fitted */\n",
       "  background-color: var(--sklearn-color-fitted-level-3);\n",
       "}\n",
       "\n",
       ".estimator-table summary {\n",
       "    padding: .5rem;\n",
       "    font-family: monospace;\n",
       "    cursor: pointer;\n",
       "}\n",
       "\n",
       ".estimator-table details[open] {\n",
       "    padding-left: 0.1rem;\n",
       "    padding-right: 0.1rem;\n",
       "    padding-bottom: 0.3rem;\n",
       "}\n",
       "\n",
       ".estimator-table .parameters-table {\n",
       "    margin-left: auto !important;\n",
       "    margin-right: auto !important;\n",
       "}\n",
       "\n",
       ".estimator-table .parameters-table tr:nth-child(odd) {\n",
       "    background-color: #fff;\n",
       "}\n",
       "\n",
       ".estimator-table .parameters-table tr:nth-child(even) {\n",
       "    background-color: #f6f6f6;\n",
       "}\n",
       "\n",
       ".estimator-table .parameters-table tr:hover {\n",
       "    background-color: #e0e0e0;\n",
       "}\n",
       "\n",
       ".estimator-table table td {\n",
       "    border: 1px solid rgba(106, 105, 104, 0.232);\n",
       "}\n",
       "\n",
       ".user-set td {\n",
       "    color:rgb(255, 94, 0);\n",
       "    text-align: left;\n",
       "}\n",
       "\n",
       ".user-set td.value pre {\n",
       "    color:rgb(255, 94, 0) !important;\n",
       "    background-color: transparent !important;\n",
       "}\n",
       "\n",
       ".default td {\n",
       "    color: black;\n",
       "    text-align: left;\n",
       "}\n",
       "\n",
       ".user-set td i,\n",
       ".default td i {\n",
       "    color: black;\n",
       "}\n",
       "\n",
       ".copy-paste-icon {\n",
       "    background-image: url(data:image/svg+xml;base64,PHN2ZyB4bWxucz0iaHR0cDovL3d3dy53My5vcmcvMjAwMC9zdmciIHZpZXdCb3g9IjAgMCA0NDggNTEyIj48IS0tIUZvbnQgQXdlc29tZSBGcmVlIDYuNy4yIGJ5IEBmb250YXdlc29tZSAtIGh0dHBzOi8vZm9udGF3ZXNvbWUuY29tIExpY2Vuc2UgLSBodHRwczovL2ZvbnRhd2Vzb21lLmNvbS9saWNlbnNlL2ZyZWUgQ29weXJpZ2h0IDIwMjUgRm9udGljb25zLCBJbmMuLS0+PHBhdGggZD0iTTIwOCAwTDMzMi4xIDBjMTIuNyAwIDI0LjkgNS4xIDMzLjkgMTQuMWw2Ny45IDY3LjljOSA5IDE0LjEgMjEuMiAxNC4xIDMzLjlMNDQ4IDMzNmMwIDI2LjUtMjEuNSA0OC00OCA0OGwtMTkyIDBjLTI2LjUgMC00OC0yMS41LTQ4LTQ4bDAtMjg4YzAtMjYuNSAyMS41LTQ4IDQ4LTQ4ek00OCAxMjhsODAgMCAwIDY0LTY0IDAgMCAyNTYgMTkyIDAgMC0zMiA2NCAwIDAgNDhjMCAyNi41LTIxLjUgNDgtNDggNDhMNDggNTEyYy0yNi41IDAtNDgtMjEuNS00OC00OEwwIDE3NmMwLTI2LjUgMjEuNS00OCA0OC00OHoiLz48L3N2Zz4=);\n",
       "    background-repeat: no-repeat;\n",
       "    background-size: 14px 14px;\n",
       "    background-position: 0;\n",
       "    display: inline-block;\n",
       "    width: 14px;\n",
       "    height: 14px;\n",
       "    cursor: pointer;\n",
       "}\n",
       "</style><body><div id=\"sk-container-id-1\" class=\"sk-top-container\"><div class=\"sk-text-repr-fallback\"><pre>PCA(copy=False, n_components=1024, random_state=10)</pre><b>In a Jupyter environment, please rerun this cell to show the HTML representation or trust the notebook. <br />On GitHub, the HTML representation is unable to render, please try loading this page with nbviewer.org.</b></div><div class=\"sk-container\" hidden><div class=\"sk-item\"><div class=\"sk-estimator fitted sk-toggleable\"><input class=\"sk-toggleable__control sk-hidden--visually\" id=\"sk-estimator-id-1\" type=\"checkbox\" checked><label for=\"sk-estimator-id-1\" class=\"sk-toggleable__label fitted sk-toggleable__label-arrow\"><div><div>PCA</div></div><div><a class=\"sk-estimator-doc-link fitted\" rel=\"noreferrer\" target=\"_blank\" href=\"https://scikit-learn.org/1.7/modules/generated/sklearn.decomposition.PCA.html\">?<span>Documentation for PCA</span></a><span class=\"sk-estimator-doc-link fitted\">i<span>Fitted</span></span></div></label><div class=\"sk-toggleable__content fitted\" data-param-prefix=\"\">\n",
       "        <div class=\"estimator-table\">\n",
       "            <details>\n",
       "                <summary>Parameters</summary>\n",
       "                <table class=\"parameters-table\">\n",
       "                  <tbody>\n",
       "                    \n",
       "        <tr class=\"user-set\">\n",
       "            <td><i class=\"copy-paste-icon\"\n",
       "                 onclick=\"copyToClipboard('n_components',\n",
       "                          this.parentElement.nextElementSibling)\"\n",
       "            ></i></td>\n",
       "            <td class=\"param\">n_components&nbsp;</td>\n",
       "            <td class=\"value\">1024</td>\n",
       "        </tr>\n",
       "    \n",
       "\n",
       "        <tr class=\"user-set\">\n",
       "            <td><i class=\"copy-paste-icon\"\n",
       "                 onclick=\"copyToClipboard('copy',\n",
       "                          this.parentElement.nextElementSibling)\"\n",
       "            ></i></td>\n",
       "            <td class=\"param\">copy&nbsp;</td>\n",
       "            <td class=\"value\">False</td>\n",
       "        </tr>\n",
       "    \n",
       "\n",
       "        <tr class=\"default\">\n",
       "            <td><i class=\"copy-paste-icon\"\n",
       "                 onclick=\"copyToClipboard('whiten',\n",
       "                          this.parentElement.nextElementSibling)\"\n",
       "            ></i></td>\n",
       "            <td class=\"param\">whiten&nbsp;</td>\n",
       "            <td class=\"value\">False</td>\n",
       "        </tr>\n",
       "    \n",
       "\n",
       "        <tr class=\"default\">\n",
       "            <td><i class=\"copy-paste-icon\"\n",
       "                 onclick=\"copyToClipboard('svd_solver',\n",
       "                          this.parentElement.nextElementSibling)\"\n",
       "            ></i></td>\n",
       "            <td class=\"param\">svd_solver&nbsp;</td>\n",
       "            <td class=\"value\">&#x27;auto&#x27;</td>\n",
       "        </tr>\n",
       "    \n",
       "\n",
       "        <tr class=\"default\">\n",
       "            <td><i class=\"copy-paste-icon\"\n",
       "                 onclick=\"copyToClipboard('tol',\n",
       "                          this.parentElement.nextElementSibling)\"\n",
       "            ></i></td>\n",
       "            <td class=\"param\">tol&nbsp;</td>\n",
       "            <td class=\"value\">0.0</td>\n",
       "        </tr>\n",
       "    \n",
       "\n",
       "        <tr class=\"default\">\n",
       "            <td><i class=\"copy-paste-icon\"\n",
       "                 onclick=\"copyToClipboard('iterated_power',\n",
       "                          this.parentElement.nextElementSibling)\"\n",
       "            ></i></td>\n",
       "            <td class=\"param\">iterated_power&nbsp;</td>\n",
       "            <td class=\"value\">&#x27;auto&#x27;</td>\n",
       "        </tr>\n",
       "    \n",
       "\n",
       "        <tr class=\"default\">\n",
       "            <td><i class=\"copy-paste-icon\"\n",
       "                 onclick=\"copyToClipboard('n_oversamples',\n",
       "                          this.parentElement.nextElementSibling)\"\n",
       "            ></i></td>\n",
       "            <td class=\"param\">n_oversamples&nbsp;</td>\n",
       "            <td class=\"value\">10</td>\n",
       "        </tr>\n",
       "    \n",
       "\n",
       "        <tr class=\"default\">\n",
       "            <td><i class=\"copy-paste-icon\"\n",
       "                 onclick=\"copyToClipboard('power_iteration_normalizer',\n",
       "                          this.parentElement.nextElementSibling)\"\n",
       "            ></i></td>\n",
       "            <td class=\"param\">power_iteration_normalizer&nbsp;</td>\n",
       "            <td class=\"value\">&#x27;auto&#x27;</td>\n",
       "        </tr>\n",
       "    \n",
       "\n",
       "        <tr class=\"user-set\">\n",
       "            <td><i class=\"copy-paste-icon\"\n",
       "                 onclick=\"copyToClipboard('random_state',\n",
       "                          this.parentElement.nextElementSibling)\"\n",
       "            ></i></td>\n",
       "            <td class=\"param\">random_state&nbsp;</td>\n",
       "            <td class=\"value\">10</td>\n",
       "        </tr>\n",
       "    \n",
       "                  </tbody>\n",
       "                </table>\n",
       "            </details>\n",
       "        </div>\n",
       "    </div></div></div></div></div><script>function copyToClipboard(text, element) {\n",
       "    // Get the parameter prefix from the closest toggleable content\n",
       "    const toggleableContent = element.closest('.sk-toggleable__content');\n",
       "    const paramPrefix = toggleableContent ? toggleableContent.dataset.paramPrefix : '';\n",
       "    const fullParamName = paramPrefix ? `${paramPrefix}${text}` : text;\n",
       "\n",
       "    const originalStyle = element.style;\n",
       "    const computedStyle = window.getComputedStyle(element);\n",
       "    const originalWidth = computedStyle.width;\n",
       "    const originalHTML = element.innerHTML.replace('Copied!', '');\n",
       "\n",
       "    navigator.clipboard.writeText(fullParamName)\n",
       "        .then(() => {\n",
       "            element.style.width = originalWidth;\n",
       "            element.style.color = 'green';\n",
       "            element.innerHTML = \"Copied!\";\n",
       "\n",
       "            setTimeout(() => {\n",
       "                element.innerHTML = originalHTML;\n",
       "                element.style = originalStyle;\n",
       "            }, 2000);\n",
       "        })\n",
       "        .catch(err => {\n",
       "            console.error('Failed to copy:', err);\n",
       "            element.style.color = 'red';\n",
       "            element.innerHTML = \"Failed!\";\n",
       "            setTimeout(() => {\n",
       "                element.innerHTML = originalHTML;\n",
       "                element.style = originalStyle;\n",
       "            }, 2000);\n",
       "        });\n",
       "    return false;\n",
       "}\n",
       "\n",
       "document.querySelectorAll('.fa-regular.fa-copy').forEach(function(element) {\n",
       "    const toggleableContent = element.closest('.sk-toggleable__content');\n",
       "    const paramPrefix = toggleableContent ? toggleableContent.dataset.paramPrefix : '';\n",
       "    const paramName = element.parentElement.nextElementSibling.textContent.trim();\n",
       "    const fullParamName = paramPrefix ? `${paramPrefix}${paramName}` : paramName;\n",
       "\n",
       "    element.setAttribute('title', fullParamName);\n",
       "});\n",
       "</script></body>"
      ],
      "text/plain": [
       "PCA(copy=False, n_components=1024, random_state=10)"
      ]
     },
     "execution_count": 11,
     "metadata": {},
     "output_type": "execute_result"
    }
   ],
   "source": [
    "# Leverage PCA to reduce the number of features\n",
    "pca = PCA(n_components=1024, copy=False, random_state=10)\n",
    "pca.fit(X=X_train_scaled)"
   ]
  },
  {
   "cell_type": "code",
   "execution_count": 12,
   "id": "5825d854",
   "metadata": {},
   "outputs": [
    {
     "data": {
      "text/plain": [
       "(114269, 1024)"
      ]
     },
     "execution_count": 12,
     "metadata": {},
     "output_type": "execute_result"
    }
   ],
   "source": [
    "# Transform the data\n",
    "X_train_scaled_scaled_pca = pca.transform(X=X_train_scaled)\n",
    "X_train_scaled_scaled_pca.shape"
   ]
  },
  {
   "cell_type": "code",
   "execution_count": 13,
   "id": "a213fa04",
   "metadata": {},
   "outputs": [
    {
     "data": {
      "text/plain": [
       "array([0.05087879, 0.09228626, 0.11405408, ..., 0.896683  , 0.8968474 ,\n",
       "       0.89701134], dtype=float32)"
      ]
     },
     "execution_count": 13,
     "metadata": {},
     "output_type": "execute_result"
    }
   ],
   "source": [
    "# Get the cummulative sum of the PCA vectors\n",
    "np.cumsum(pca.explained_variance_ratio_)"
   ]
  },
  {
   "cell_type": "code",
   "execution_count": 14,
   "id": "9015457c",
   "metadata": {},
   "outputs": [
    {
     "data": {
      "text/plain": [
       "np.float32(0.89701134)"
      ]
     },
     "execution_count": 14,
     "metadata": {},
     "output_type": "execute_result"
    }
   ],
   "source": [
    "# Take out the last value \n",
    "# This is the amount of \"meaning\" of the data that we were able to retain  \n",
    "np.cumsum(pca.explained_variance_ratio_)[-1]"
   ]
  },
  {
   "cell_type": "code",
   "execution_count": 15,
   "id": "1f8b7510",
   "metadata": {},
   "outputs": [
    {
     "data": {
      "text/plain": [
       "(20166, 1024)"
      ]
     },
     "execution_count": 15,
     "metadata": {},
     "output_type": "execute_result"
    }
   ],
   "source": [
    "# Transform the test set\n",
    "X_test_pca_scaled = pca.transform(X=X_test)\n",
    "X_test_pca_scaled.shape"
   ]
  },
  {
   "cell_type": "markdown",
   "id": "159e8062",
   "metadata": {},
   "source": [
    "Let us build a dataset to make it easier to process our data\n",
    "\n",
    "### Step 4:   "
   ]
  },
  {
   "cell_type": "code",
   "execution_count": 16,
   "id": "b26ad385",
   "metadata": {},
   "outputs": [],
   "source": [
    "# Setup a torch custom dataset\n",
    "class MalClfDataset(Dataset):\n",
    "    def __init__(self, X=None, y=None):\n",
    "        super(MalClfDataset, self).__init__()\n",
    "        \n",
    "        self.X = torch.tensor(X.reshape(-1, 1, 32, 32), dtype=torch.float32)\n",
    "        self.X = self.X / 255.\n",
    "        self.y = torch.tensor(y.reshape(-1, 1), dtype=torch.float32)\n",
    "    \n",
    "    def __getitem__(self, index):\n",
    "        return self.X[index], self.y[index]\n",
    "\n",
    "    def __len__(self):\n",
    "        return self.X.size(0)"
   ]
  },
  {
   "cell_type": "code",
   "execution_count": 17,
   "id": "5cb2d29d",
   "metadata": {},
   "outputs": [
    {
     "data": {
      "text/plain": [
       "(114269, 20166)"
      ]
     },
     "execution_count": 17,
     "metadata": {},
     "output_type": "execute_result"
    }
   ],
   "source": [
    "# Setup the training and testing datasets\n",
    "train_dataset = MalClfDataset(X_train_scaled_scaled_pca, y_train)\n",
    "test_dataset = MalClfDataset(X_test_pca_scaled, y_test)\n",
    "\n",
    "len(train_dataset), len(test_dataset)"
   ]
  },
  {
   "cell_type": "markdown",
   "id": "e9519cbe",
   "metadata": {},
   "source": [
    "With that in place, let us now define the hyperparameters for our model\n",
    "\n",
    "### Step 5: "
   ]
  },
  {
   "cell_type": "code",
   "execution_count": 18,
   "id": "472843ca",
   "metadata": {},
   "outputs": [],
   "source": [
    "# Define some variables\n",
    "batch_size = 32\n",
    "hidden_chnls = 8\n",
    "num_classes = 1\n",
    "num_epochs = 5\n",
    "kernel_size = 4\n",
    "stride = 2\n",
    "pool_size = 2\n",
    "linear_dims = 128"
   ]
  },
  {
   "cell_type": "code",
   "execution_count": 19,
   "id": "78b3bd29",
   "metadata": {},
   "outputs": [],
   "source": [
    "# Create the dataloader\n",
    "train_loader = DataLoader(dataset=train_dataset, batch_size=batch_size, shuffle=True)\n",
    "#test_loader = DataLoader(dataset=test_dataset, batch_size=batch_size, shuffle=False)"
   ]
  },
  {
   "cell_type": "code",
   "execution_count": 20,
   "id": "6db60fa5",
   "metadata": {},
   "outputs": [
    {
     "data": {
      "text/plain": [
       "torch.Size([32, 1, 32, 32])"
      ]
     },
     "execution_count": 20,
     "metadata": {},
     "output_type": "execute_result"
    }
   ],
   "source": [
    "# Get a sample from the train loader\n",
    "next(iter(train_loader))[0].size()"
   ]
  },
  {
   "cell_type": "markdown",
   "id": "a5c7fb85",
   "metadata": {},
   "source": [
    "Create our malware classifier. This is no different from what was done before. The architecture in itself for adversarial training is no different from any other architecture you would have built   \n",
    "\n",
    "### Step 6:  "
   ]
  },
  {
   "cell_type": "code",
   "execution_count": 21,
   "id": "99fab659",
   "metadata": {},
   "outputs": [],
   "source": [
    "# Build the malware classifier\n",
    "class MalwareClassifier(nn.Module):\n",
    "    def __init__(self, ):\n",
    "        super(MalwareClassifier, self).__init__()\n",
    "\n",
    "        self.layers = nn.Sequential(\n",
    "            nn.Conv2d(in_channels=1, out_channels=hidden_chnls, kernel_size=kernel_size, stride=stride, padding=1),\n",
    "            nn.BatchNorm2d(num_features=hidden_chnls),\n",
    "            nn.MaxPool2d(kernel_size=kernel_size, stride=stride, padding=1),\n",
    "            nn.Dropout(p=.5),\n",
    "\n",
    "            nn.Conv2d(in_channels=hidden_chnls, out_channels=hidden_chnls * 2, kernel_size=kernel_size, stride=stride, padding=1),\n",
    "            nn.BatchNorm2d(num_features=hidden_chnls * 2),\n",
    "            nn.MaxPool2d(kernel_size=kernel_size, stride=stride, padding=1),\n",
    "            nn.Dropout(p=.5),\n",
    "\n",
    "            nn.Flatten(start_dim=1),\n",
    "            nn.Linear(in_features=hidden_chnls * 8, out_features=256),\n",
    "            nn.Linear(in_features=256, out_features=1),\n",
    "            \n",
    "            nn.Sigmoid()\n",
    "        )\n",
    "        \n",
    "    def forward(self, x):\n",
    "        return self.layers(x)"
   ]
  },
  {
   "cell_type": "code",
   "execution_count": 22,
   "id": "ab2606bf",
   "metadata": {},
   "outputs": [
    {
     "data": {
      "text/plain": [
       "torch.Size([32, 1])"
      ]
     },
     "execution_count": 22,
     "metadata": {},
     "output_type": "execute_result"
    }
   ],
   "source": [
    "# Set the manual seed for reproducibility \n",
    "torch.manual_seed(seed=15)\n",
    "\n",
    "# Instantiate the classifier \n",
    "malware_classifier = MalwareClassifier().to(device=device)\n",
    "\n",
    "# Setup the optimizer\n",
    "optimizer = torch.optim.SGD(params=malware_classifier.parameters(), lr=0.001, weight_decay=0.01)\n",
    "\n",
    "# Setup the loss function\n",
    "loss_fn = nn.BCELoss(reduction='mean')\n",
    "\n",
    "malware_classifier(next(iter(train_loader))[0].to(device)).size()"
   ]
  },
  {
   "cell_type": "code",
   "execution_count": 23,
   "id": "342940e8",
   "metadata": {},
   "outputs": [],
   "source": [
    "#x_tmp = next(iter(train_loader))[0]\n",
    "#x_tmp"
   ]
  },
  {
   "cell_type": "code",
   "execution_count": 24,
   "id": "60bb19e5",
   "metadata": {},
   "outputs": [],
   "source": [
    "# Ensure the model works before attempting to build the training loop\n",
    "#torch.manual_seed(10)\n",
    "#tmp_preds = malware_classifier(x_tmp)\n",
    "#tmp_preds[:5]"
   ]
  },
  {
   "cell_type": "markdown",
   "id": "18c6cb4a",
   "metadata": {},
   "source": [
    "While there are many ways we can create adversarial examples. For this purpose, we will go with the Fast Gradient Sign Method (FGSM) approach.  You can see the FGSM notebooks to learn more about FGSM:  \n",
    "- fgsm_art.ipynb\n",
    "- fgsm_foolbox.ipynb\n",
    "- pgd_manual.ipynb\n",
    "\n",
    "### Step 7:  "
   ]
  },
  {
   "cell_type": "code",
   "execution_count": 25,
   "id": "e1bb60ae",
   "metadata": {},
   "outputs": [],
   "source": [
    "# use in this case the FGSM function to create the adversarial examples\n",
    "def fgsm_attack(model=None, X=None, y=None, eps=None):\n",
    "\n",
    "    model = model.to(device)\n",
    "    model.eval()\n",
    "\n",
    "    X, y  = X.to(device), y.to(device)\n",
    "    X.requires_grad_(True)\n",
    "\n",
    "    preds = model(X)\n",
    "    loss = F.binary_cross_entropy(input=preds, target=y)\n",
    "    model.zero_grad(set_to_none=True)\n",
    "    loss.backward()\n",
    "    gradients = X.grad.sign()\n",
    "    perturbations = eps * gradients\n",
    "    adv_examples = X + perturbations\n",
    "    adv_examples = torch.clamp(adv_examples, 0, 1)\n",
    "\n",
    "    return adv_examples"
   ]
  },
  {
   "cell_type": "markdown",
   "id": "0e35b755",
   "metadata": {},
   "source": [
    "With the FGSM attack and our model in place, we can go ahead and with performing the actual training. It is during this training process that the adversarial examples are generated and provided to the model as part of the training process.  \n",
    "\n",
    "We define a fit function to help us with our training. \n",
    "\n",
    "### Step 8:  "
   ]
  },
  {
   "cell_type": "code",
   "execution_count": null,
   "id": "e249145e",
   "metadata": {},
   "outputs": [],
   "source": [
    "# Define a training function\n",
    "def fit(model=None, epochs=10, optimizer=optimizer, loss_fn=loss_fn, eps=0.02):\n",
    "    train_loss_tracker = []\n",
    "    train_accuracy_tracker = []\n",
    "\n",
    "    test_loss_tracker = []\n",
    "    test_loss_accuracy = []\n",
    "    \n",
    "    for epoch in range(epochs):\n",
    "        n_train_batches = 0\n",
    "        train_loss = 0.\n",
    "        train_acc = 0.\n",
    "\n",
    "        for phase in ['train', 'test']:\n",
    "            if phase == 'train':\n",
    "                model.train()\n",
    "\n",
    "                for X_batch, y_label in tqdm(train_loader, desc=f'Epoch: {epoch + 1}/{epochs}'):\n",
    "\n",
    "                    X_batch, y_label = X_batch.to(device), y_label.to(device)\n",
    "\n",
    "                    # Let's use the FGSM to generate some adversarial examples\n",
    "                    # This is where the adversarial examples are generated  \n",
    "                    # https://github.com/peyman-paknezhad/Adversarial-Robustness-in-Neural-Networks-Implementation-and-Assessment-of-FGSM-BIM-and-PGD-Attacks/blob/main/Adversarial_Robustness_in_Neural_Networks_Implementation_and_Assessment_of_FGSM%2C_BIM%2C_and_PGD_Attacks.ipynb\n",
    "                    adv_examples = fgsm_attack(model=model, X=X_batch, y=y_label, eps=eps)\n",
    "\n",
    "                    # Combine the adversarial Xs with the true X\n",
    "                    combined_X = torch.cat(tensors=[X_batch, adv_examples], dim=0)\n",
    "                    combined_y = torch.cat(tensors=[y_label, y_label], dim=0)\n",
    "\n",
    "                    optimizer.zero_grad(set_to_none=True)\n",
    "                    train_batch_preds = model(combined_X)\n",
    "                    train_batch_loss = loss_fn(input=train_batch_preds, target=combined_y)\n",
    "                    \n",
    "                    # Perform backpropagation\n",
    "                    train_batch_loss.backward()\n",
    "\n",
    "                    # Update the model parameters\n",
    "                    optimizer.step()\n",
    "\n",
    "                    train_loss += train_batch_loss\n",
    "                    train_acc += (train_batch_preds.round() == combined_y).sum() / combined_y.size(dim=0)\n",
    "                    n_train_batches += 1\n",
    "\n",
    "                    #break\n",
    "\n",
    "            else:\n",
    "                # Evaluate the model during training\n",
    "                model.eval()\n",
    "                x_test = test_dataset[...][0]\n",
    "                x_test = x_test.to(device)\n",
    "\n",
    "                y_test = test_dataset[...][1]\n",
    "                y_test = y_test.to(device)\n",
    "\n",
    "                # Start the inference process\n",
    "                with torch.inference_mode(mode=True):\n",
    "                    test_preds = model(x_test)\n",
    "                    \n",
    "                    test_loss = loss_fn(input=test_preds, target=y_test)\n",
    "                    test_loss_tracker.append(test_loss.item())\n",
    "\n",
    "                    test_acc = (test_preds.round() == y_test).sum() / y_test.size(dim=0)\n",
    "                    test_loss_accuracy.append(test_acc.item())\n",
    "\n",
    "        train_loss_tracker.append(train_loss.item()/n_train_batches)\n",
    "        train_accuracy_tracker.append(train_acc.item()/n_train_batches)\n",
    "\n",
    "        if ( epoch + 1) % 10 == 0:\n",
    "            print(f'\\t train loss: {train_loss.item() / n_train_batches } \\t train accuracy: {train_acc.item() / n_train_batches} \\t test loss: {test_loss} \\t test accuracy: {test_acc.item()}')\n",
    "\n",
    "        #break\n",
    "            \n",
    "    return model"
   ]
  },
  {
   "cell_type": "code",
   "execution_count": 28,
   "id": "1e209e5b",
   "metadata": {},
   "outputs": [
    {
     "name": "stderr",
     "output_type": "stream",
     "text": [
      "Epoch: 1/10: 100%|██████████| 3571/3571 [00:26<00:00, 132.76it/s]\n",
      "Epoch: 2/10: 100%|██████████| 3571/3571 [00:30<00:00, 116.20it/s]\n",
      "Epoch: 3/10: 100%|██████████| 3571/3571 [00:27<00:00, 129.02it/s]\n",
      "Epoch: 4/10: 100%|██████████| 3571/3571 [00:27<00:00, 130.49it/s]\n",
      "Epoch: 5/10: 100%|██████████| 3571/3571 [00:29<00:00, 122.78it/s]\n",
      "Epoch: 6/10: 100%|██████████| 3571/3571 [00:26<00:00, 134.39it/s] \n",
      "Epoch: 7/10: 100%|██████████| 3571/3571 [00:26<00:00, 132.35it/s] \n",
      "Epoch: 8/10: 100%|██████████| 3571/3571 [00:29<00:00, 120.45it/s]\n",
      "Epoch: 9/10: 100%|██████████| 3571/3571 [00:25<00:00, 142.54it/s]\n",
      "Epoch: 10/10: 100%|██████████| 3571/3571 [00:26<00:00, 133.19it/s]\n"
     ]
    },
    {
     "name": "stdout",
     "output_type": "stream",
     "text": [
      "\t train loss: 0.6806172990758891 \t train accuracy: 0.5776399320262181 \t test loss: 42.13911819458008 \t test accuracy: 0.5681840777397156\n"
     ]
    }
   ],
   "source": [
    "torch.manual_seed(10)\n",
    "# Just using 10 epochs here to complete the training process\n",
    "# We definitely need to train longer than this to ensure our model is robust  \n",
    "model = fit(model=malware_classifier, optimizer=optimizer, loss_fn=loss_fn, epochs=10, eps=0.02)"
   ]
  },
  {
   "cell_type": "code",
   "execution_count": 29,
   "id": "27ca24c6",
   "metadata": {},
   "outputs": [
    {
     "name": "stdout",
     "output_type": "stream",
     "text": [
      "Cleaning cuda cache\n"
     ]
    }
   ],
   "source": [
    "# With the training finish clear the GPU cache\n",
    "# Setup the device to work with\n",
    "if torch.cuda.is_available():\n",
    "    # For CUDA GPU\n",
    "    print(f'Cleaning {device} cache')\n",
    "    torch.cuda.empty_cache()\n",
    "elif torch.backends.mps.is_available():\n",
    "    # For Apple devices\n",
    "    print(f'Cleaning {device} cache')\n",
    "    torch.mps.empty_cache()\n",
    "else:\n",
    "    # Default to cpu\n",
    "    pass"
   ]
  },
  {
   "cell_type": "markdown",
   "id": "6cda8837",
   "metadata": {},
   "source": [
    "### Lab Takeaways:  \n",
    "- We saw how to incorporate adversarial examples as part of our training process\n",
    "- In our scenario, we used FGSM. We could have used another method if needed.\n",
    "- This is just a method for assisting with adversarial robustness. It is not *the* solution, it is *a* solution. "
   ]
  },
  {
   "cell_type": "code",
   "execution_count": null,
   "id": "3edff3f8",
   "metadata": {},
   "outputs": [],
   "source": []
  }
 ],
 "metadata": {
  "kernelspec": {
   "display_name": "adversarial_ai",
   "language": "python",
   "name": "python3"
  },
  "language_info": {
   "codemirror_mode": {
    "name": "ipython",
    "version": 3
   },
   "file_extension": ".py",
   "mimetype": "text/x-python",
   "name": "python",
   "nbconvert_exporter": "python",
   "pygments_lexer": "ipython3",
   "version": "3.12.11"
  }
 },
 "nbformat": 4,
 "nbformat_minor": 5
}
